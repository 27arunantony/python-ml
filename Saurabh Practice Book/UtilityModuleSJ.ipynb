{
 "cells": [
  {
   "cell_type": "code",
   "execution_count": 1,
   "metadata": {},
   "outputs": [],
   "source": [
    "import pandas as pd\n",
    "import matplotlib.pyplot as plt\n",
    "import seaborn as sns"
   ]
  },
  {
   "cell_type": "code",
   "execution_count": 4,
   "metadata": {},
   "outputs": [],
   "source": [
    "def null_na_estimator_grph(df,limit_val=None,graphical=False,size=(None,None)):\n",
    "    \"\"\"will return the % amount of null in data frame\n",
    "       df: panda.DataFrame\n",
    "       limit_val= (default=None) threshold value, example if limit_val=7, the estimator will return na with >=7\n",
    "    \"\"\"\n",
    "    est_ser=est_ser= (round(df.isna().sum()/len(df.index)*100,2)).sort_values(ascending=False)\n",
    "    if limit_val!=None:\n",
    "        est_ser= est_ser[est_ser>=limit_val]\n",
    "    if graphical==True:\n",
    "        df=pd.DataFrame(est_ser).reset_index()\n",
    "        plt.figure(figsize=size)\n",
    "        plt.xticks(rotation=90)\n",
    "        fig=sns.barplot(data=df,x='index',y=0)\n",
    "        return fig\n",
    "    else:\n",
    "        return est_ser"
   ]
  },
  {
   "cell_type": "code",
   "execution_count": 89,
   "metadata": {},
   "outputs": [],
   "source": [
    "def data_loss(df_old,df_new):\n",
    "    \"\"\"will be calculating the data loss been made in the dataframe\"\"\"\n",
    "    df=pd.DataFrame({'Col loss':round(100*((len(df_old.columns)-len(df_new.columns))/len(df_old.columns)),2),\n",
    "                    'Row loss':round(100*((len(df_old.index)-len(df_new.index))/len(df_old.index)),2),\n",
    "                    'Data Retained':round(100*(len(df_new.columns)*len(df_new.index))/(len(df_old.columns)*len(df_old.index)),2)},index=['Percentage'])\n",
    "    return df\n",
    "    "
   ]
  },
  {
   "cell_type": "code",
   "execution_count": 90,
   "metadata": {},
   "outputs": [
    {
     "ename": "NameError",
     "evalue": "name 'non_num_col' is not defined",
     "output_type": "error",
     "traceback": [
      "\u001b[1;31m---------------------------------------------------------------------------\u001b[0m",
      "\u001b[1;31mNameError\u001b[0m                                 Traceback (most recent call last)",
      "\u001b[1;32m<ipython-input-90-a922ec6ff415>\u001b[0m in \u001b[0;36m<module>\u001b[1;34m()\u001b[0m\n\u001b[0;32m      1\u001b[0m \u001b[1;32mwith\u001b[0m \u001b[0mopen\u001b[0m\u001b[1;33m(\u001b[0m\u001b[1;34m'columns.txt'\u001b[0m\u001b[1;33m,\u001b[0m\u001b[1;34m'w'\u001b[0m\u001b[1;33m)\u001b[0m \u001b[1;32mas\u001b[0m \u001b[0mf\u001b[0m\u001b[1;33m:\u001b[0m\u001b[1;33m\u001b[0m\u001b[0m\n\u001b[1;32m----> 2\u001b[1;33m     \u001b[1;32mfor\u001b[0m \u001b[0mitem\u001b[0m \u001b[1;32min\u001b[0m \u001b[0mnon_num_col\u001b[0m\u001b[1;33m:\u001b[0m\u001b[1;33m\u001b[0m\u001b[0m\n\u001b[0m\u001b[0;32m      3\u001b[0m         \u001b[0mf\u001b[0m\u001b[1;33m.\u001b[0m\u001b[0mwrite\u001b[0m\u001b[1;33m(\u001b[0m\u001b[1;34m'%s\\n'\u001b[0m \u001b[1;33m%\u001b[0m\u001b[0mitem\u001b[0m\u001b[1;33m)\u001b[0m\u001b[1;33m\u001b[0m\u001b[0m\n\u001b[0;32m      4\u001b[0m     \u001b[1;32mfor\u001b[0m \u001b[0mitem\u001b[0m \u001b[1;32min\u001b[0m \u001b[0mnum_col\u001b[0m\u001b[1;33m:\u001b[0m\u001b[1;33m\u001b[0m\u001b[0m\n\u001b[0;32m      5\u001b[0m         \u001b[0mf\u001b[0m\u001b[1;33m.\u001b[0m\u001b[0mwrite\u001b[0m\u001b[1;33m(\u001b[0m\u001b[1;34m'%s\\n'\u001b[0m \u001b[1;33m%\u001b[0m\u001b[0mitem\u001b[0m\u001b[1;33m)\u001b[0m\u001b[1;33m\u001b[0m\u001b[0m\n",
      "\u001b[1;31mNameError\u001b[0m: name 'non_num_col' is not defined"
     ]
    }
   ],
   "source": [
    "with open('columns.txt','w') as f:\n",
    "    for item in non_num_col:\n",
    "        f.write('%s\\n' %item)\n",
    "    for item in num_col:\n",
    "        f.write('%s\\n' %item)"
   ]
  },
  {
   "cell_type": "code",
   "execution_count": 91,
   "metadata": {},
   "outputs": [],
   "source": [
    "def val_variance_estimator(dataFrame,graphical=True,size=(15,3),graph_filter_limit_max=0):\n",
    "    variance_graph={}\n",
    "    for i in range(0,len(dataFrame.columns)):\n",
    "        variance_graph[dataFrame.columns[i]]=len(dataFrame.loc[:,dataFrame.columns[i]].unique())\n",
    "    variance_graph_df=pd.DataFrame({'var':list(variance_graph.keys()),'count':list(variance_graph.values())})\n",
    "    plt.figure(figsize=size)\n",
    "    plt.xticks(rotation=90)\n",
    "    text_title='Value Variance Graph < '+str(graph_filter_limit_max)\n",
    "    plt.title(text_title)\n",
    "    fig=sns.barplot(x='var',y='count',data=variance_graph_df[variance_graph_df['count']<graph_filter_limit_max].sort_values(by='count',ascending=True))\n",
    "    if graphical==True:\n",
    "        return fig\n",
    "    else:\n",
    "        return variance_graph_df"
   ]
  },
  {
   "cell_type": "code",
   "execution_count": 93,
   "metadata": {},
   "outputs": [],
   "source": [
    "def data_set_structure(df,return_tuple=False):\n",
    "    \"\"\"It will return the structure of dataframe or columns tuple as list\n",
    "    out: tuple (non-num,num,month_6,month_7,month_8,month_9)\n",
    "       : datafram ->structuring the complete dataset bifurcation\n",
    "    \"\"\"\n",
    "    df_col=df.columns\n",
    "    if len(df.describe().columns)!=len(df_col):\n",
    "        non_num_col=df.describe(include=['object']).columns\n",
    "    else:\n",
    "        non_num_col=pd.Index([])\n",
    "    num_col=df_col.difference(non_num_col)\n",
    "    data_col_month=[x for x in df_col if re.search('_[0-9]$',x)!=None]\n",
    "    col_9=[x for x in df_col if re.search('_9',x)!=None]\n",
    "    col_8=[x for x in df_col if re.search('_8',x)!=None]\n",
    "    col_7=[x for x in df_col if re.search('_7',x)!=None]\n",
    "    col_6=[x for x in df_col if re.search('_6',x)!=None]\n",
    "    col_9_n=[x for x in num_col if re.search('_9',x)!=None]\n",
    "    col_8_n=[x for x in num_col if re.search('_8',x)!=None]\n",
    "    col_7_n=[x for x in num_col if re.search('_7',x)!=None]\n",
    "    col_6_n=[x for x in num_col if re.search('_6',x)!=None]\n",
    "    \n",
    "    if return_tuple==True:\n",
    "        return non_num_col.tolist(),num_col.tolist(),col_6,col_7,col_8,col_9\n",
    "    else:\n",
    "        result=pd.DataFrame({'Month 6':[abs(len(col_6_n)-len(col_6)),len(col_6_n)],\n",
    "                             'Month 7':[abs(len(col_7_n)-len(col_7)),len(col_7_n)],\n",
    "                             'Month 8':[abs(len(col_8_n)-len(col_8)),len(col_8_n)],\n",
    "                             'Month 9':[abs(len(col_9_n)-len(col_9)),len(col_9_n)]\n",
    "                    },index=['Non-Numeric','Numeric'])\n",
    "        result['Common']=[len(non_num_col)-(result.loc['Non-Numeric'].sum()),len(num_col)-(result.iloc[1,:].sum())]\n",
    "        result['Total']=[result.loc['Non-Numeric'].sum(),result.loc['Numeric'].sum()]\n",
    "        return result"
   ]
  },
  {
   "cell_type": "code",
   "execution_count": null,
   "metadata": {},
   "outputs": [],
   "source": []
  },
  {
   "cell_type": "code",
   "execution_count": null,
   "metadata": {},
   "outputs": [],
   "source": []
  },
  {
   "cell_type": "code",
   "execution_count": null,
   "metadata": {},
   "outputs": [],
   "source": []
  },
  {
   "cell_type": "code",
   "execution_count": null,
   "metadata": {},
   "outputs": [],
   "source": []
  }
 ],
 "metadata": {
  "kernelspec": {
   "display_name": "Python 3",
   "language": "python",
   "name": "python3"
  },
  "language_info": {
   "codemirror_mode": {
    "name": "ipython",
    "version": 3
   },
   "file_extension": ".py",
   "mimetype": "text/x-python",
   "name": "python",
   "nbconvert_exporter": "python",
   "pygments_lexer": "ipython3",
   "version": "3.5.5"
  }
 },
 "nbformat": 4,
 "nbformat_minor": 2
}
