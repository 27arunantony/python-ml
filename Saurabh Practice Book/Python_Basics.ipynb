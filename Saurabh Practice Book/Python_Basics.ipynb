{
 "cells": [
  {
   "cell_type": "markdown",
   "metadata": {},
   "source": [
    "# Functions"
   ]
  },
  {
   "cell_type": "code",
   "execution_count": 1,
   "metadata": {},
   "outputs": [
    {
     "name": "stdout",
     "output_type": "stream",
     "text": [
      "orignal string: saurabh reversed string hbaruas\n"
     ]
    }
   ],
   "source": [
    "def reverse_string(text):\n",
    "    \"\"\"The result will be returned at 1 index\"\"\"\n",
    "    rstr=text[::-1]\n",
    "    return (text, rstr)\n",
    "\n",
    "result=reverse_string(\"saurabh\")\n",
    "print(\"orignal string: {0} reversed string {1}\".format(result[0],result[1]))"
   ]
  },
  {
   "cell_type": "markdown",
   "metadata": {
    "collapsed": true
   },
   "source": [
    "# Nested functions"
   ]
  },
  {
   "cell_type": "code",
   "execution_count": 2,
   "metadata": {},
   "outputs": [
    {
     "name": "stdout",
     "output_type": "stream",
     "text": [
      "(6, 5, 6)\n"
     ]
    }
   ],
   "source": [
    "def mod2plus5(x1,x2,x3):\n",
    "    def inner(x):\n",
    "        return x%2+5\n",
    "    return (inner(x1),inner(x2),inner(x3))\n",
    "\n",
    "print(mod2plus5(1,2,3))"
   ]
  },
  {
   "cell_type": "markdown",
   "metadata": {},
   "source": [
    "# Nested Functions: returning functions\n",
    "\n",
    "## the below function raise_val can be used to calculate any power"
   ]
  },
  {
   "cell_type": "code",
   "execution_count": 3,
   "metadata": {},
   "outputs": [
    {
     "name": "stdout",
     "output_type": "stream",
     "text": [
      "4 8 2.0\n"
     ]
    }
   ],
   "source": [
    "def raise_val(n):\n",
    "    def inner(x):\n",
    "        return x**n\n",
    "    return inner\n",
    "\n",
    "#WE CAN CALL RAISE VALUE TO CALCULATE ANY POWER\n",
    "square=raise_val(2)\n",
    "cube=raise_val(3)\n",
    "sqrt=raise_val(1/2)\n",
    "print(square(2),cube(2),sqrt(4))"
   ]
  },
  {
   "cell_type": "code",
   "execution_count": 4,
   "metadata": {},
   "outputs": [
    {
     "name": "stdout",
     "output_type": "stream",
     "text": [
      "<class 'tuple'>\n",
      "<class 'dict'>\n"
     ]
    }
   ],
   "source": [
    "def test(**args):\n",
    "    print(type(args))\n",
    "def test1(*args):\n",
    "    print(type(args))\n",
    "test1(1,2,3,4,5,6,7)\n",
    "test(a=1,b=2)"
   ]
  },
  {
   "cell_type": "markdown",
   "metadata": {},
   "source": [
    "# below are declartion of dictionaries"
   ]
  },
  {
   "cell_type": "code",
   "execution_count": 1,
   "metadata": {},
   "outputs": [
    {
     "name": "stdout",
     "output_type": "stream",
     "text": [
      "{'a': 1, 'b': 2}\n",
      "{'a': 1, 'b': 2, 'c': 3, 'd': 4}\n",
      "<class 'dict'>\n",
      "dict_keys([(1, 2, 3)])\n",
      "tuple\n"
     ]
    }
   ],
   "source": [
    "t_dict={'a':1,'b':2}\n",
    "t_dict1=dict(a=1,b=2,c=3,d=4)\n",
    "print(t_dict)\n",
    "print(t_dict1)\n",
    "t_dict2={(1,2,3):\"tuple\"}\n",
    "print(type(t_dict2))\n",
    "print(t_dict2.keys())\n",
    "print(t_dict2[(1,2,3)])\n",
    "#the below will create an error as list is mutable and dictionaries key should be immutable\n",
    "#t_dict3={[1,2,3]:\"list\"}"
   ]
  },
  {
   "cell_type": "markdown",
   "metadata": {},
   "source": [
    "# Sets and its operations"
   ]
  },
  {
   "cell_type": "code",
   "execution_count": 6,
   "metadata": {},
   "outputs": [
    {
     "name": "stdout",
     "output_type": "stream",
     "text": [
      "<class 'set'>\n",
      "{1, 2, 3, 4}\n",
      "{1, 2, 3, 4, 5}\n",
      "{1, 2, 3, 4, 5, 6}\n"
     ]
    }
   ],
   "source": [
    "set_1=set() #empty set\n",
    "print(type(set_1))\n",
    "set_2=set((1,2,3,4)) #creating set with tuple\n",
    "print(set_2)\n",
    "set_3=set([1,2,3,4,5]) #creating set with list\n",
    "print(set_3)\n",
    "set_4={1,2,3,4,5,6} #creating set during initialization\n",
    "print(set_4)"
   ]
  },
  {
   "cell_type": "markdown",
   "metadata": {},
   "source": [
    "## Sets operations"
   ]
  },
  {
   "cell_type": "code",
   "execution_count": 7,
   "metadata": {},
   "outputs": [
    {
     "name": "stdout",
     "output_type": "stream",
     "text": [
      "set_2:  {1, 2, 3, 4}\n",
      "set_3:  {1, 2, 3, 4, 5}\n",
      "Set OR:  {1, 2, 3, 4, 5}\n",
      "Set AND:  {1, 2, 3, 4}\n",
      "Set -:  set()\n",
      "Set <=:  True\n",
      "set_2:  {1, 2, 3, 4}\n",
      "set_3:  {1, 2, 3, 4, 5}\n",
      "Set UNION:  {1, 2, 3, 4, 5}\n",
      "Set INTERSECT:  {1, 2, 3, 4}\n",
      "Set -:  set()\n",
      "Set <=:  True\n",
      "Is element 1 in set_2:  True\n"
     ]
    }
   ],
   "source": [
    "print(\"set_2: \",set_2)\n",
    "print(\"set_3: \",set_3)\n",
    "print(\"Set OR: \",set_2 | set_3)\n",
    "print(\"Set AND: \",set_2 & set_3)\n",
    "print(\"Set -: \",set_2 - set_3)\n",
    "print(\"Set <=: \",set_2 <=set_3)\n",
    "print(\"set_2: \",set_2)\n",
    "print(\"set_3: \",set_3)\n",
    "print(\"Set UNION: \",set_2.union(set_3))\n",
    "print(\"Set INTERSECT: \",set_2.intersection(set_3))\n",
    "print(\"Set -: \",set_2.difference(set_3))\n",
    "print(\"Set <=: \",set_2.issubset(set_3))\n",
    "print(\"Is element 1 in set_2: \",1 in set_2)"
   ]
  },
  {
   "cell_type": "code",
   "execution_count": null,
   "metadata": {
    "collapsed": true
   },
   "outputs": [],
   "source": []
  }
 ],
 "metadata": {
  "kernelspec": {
   "display_name": "Python 3",
   "language": "python",
   "name": "python3"
  },
  "language_info": {
   "codemirror_mode": {
    "name": "ipython",
    "version": 3
   },
   "file_extension": ".py",
   "mimetype": "text/x-python",
   "name": "python",
   "nbconvert_exporter": "python",
   "pygments_lexer": "ipython3",
   "version": "3.6.1"
  }
 },
 "nbformat": 4,
 "nbformat_minor": 2
}
