{
 "cells": [
  {
   "cell_type": "code",
   "execution_count": null,
   "metadata": {
    "collapsed": true
   },
   "outputs": [],
   "source": [
    "#dictionary creation \n",
    "dict1={'a':1,'b':2,3:'A'}\n",
    "dict2=dict(a=1,b=2,c='A')\n",
    "print(\" {0} \\n {1}\".format(dict1,dict2))\n",
    "\n",
    "for k,v in dict1.items():\n",
    "    print(\"key {0} : value {1} \".format(k,v))\n",
    "\n",
    "print([k for k in dict1.keys()])\n",
    "print([v for v in dict1.values()])\n",
    "\n",
    "#enumerate doesn't make sense in dictionary as order is of no menaning here\n",
    "for i,k in enumerate(dict1):\n",
    "    print(\"key {0} value {1} @ index {2}\".format(k, dict1[k],i))\n"
   ]
  },
  {
   "cell_type": "code",
   "execution_count": null,
   "metadata": {
    "collapsed": true
   },
   "outputs": [],
   "source": [
    "#list creation\n",
    "lst1=[1,2,3,4,\"A\",\"B\",\"C\",\"Saurabh\",\"Jain\"]\n",
    "print(lst1)\n",
    "\n",
    "#slicing of list\n",
    "print(lst1[::-1]) #reversing the list\n",
    "print(lst1[5:1:-1]) #negative steps up\n",
    "\n",
    "lst1.append(\"Research\")\n",
    "print(lst1)\n",
    "lst1.insert(len(lst1)-1,\"is learning\")\n",
    "print(lst1)\n",
    "lst1.remove(\"is learning\")\n",
    "print(lst1)\n",
    "\n",
    "#print(lst1.clear()) #clears the content of the list"
   ]
  },
  {
   "cell_type": "code",
   "execution_count": null,
   "metadata": {
    "collapsed": true
   },
   "outputs": [],
   "source": [
    "from functools import reduce\n",
    "sub_list=lst1[lst1.index(\"Saurabh\"):lst1.index(\"Research\")+1]\n",
    "print(sub_list)\n",
    "j_string=reduce(lambda x,y: x+\" \"+y, sub_list)\n",
    "j_string_reverse=reduce(lambda x,y: x+\" \"+y, sub_list[::-1])\n",
    "print(j_string)\n",
    "print(j_string_reverse)\n",
    "\n",
    "\n",
    "#Reduce is helpful when you want to reduce the large dataset\n",
    "\n",
    "num_arr=[1,2,3,4,5,6,7,8,99,101,22,33,34,5,6,98,77,66]\n",
    "xl_num=reduce(lambda x,y: x if x>y else y,num_arr)\n",
    "print(xl_num)\n",
    "xs_num=reduce(lambda x,y: x if x<y else y, num_arr)\n",
    "print(xs_num)\n"
   ]
  },
  {
   "cell_type": "code",
   "execution_count": null,
   "metadata": {
    "collapsed": true
   },
   "outputs": [],
   "source": [
    "word_lst=[\"saurabh\",\"Rahul\",\"jatin\",\"ashish\",\"lara\",\"sachin\",\"meha\",\"Arohan\",\"Upasana\"]\n",
    "fl_obj=filter(lambda x:x[0].upper()==\"S\",word_lst) #filter is useful when you want to filter dataset based on some criteria\n",
    "[print(x) for x in iter(fl_obj)] #list comprehension\n",
    "mp_obj=map(lambda x:x.upper(),word_lst) #map is useful when you want to apply some method to all element of data set\n",
    "[print(x) for x in iter(mp_obj)]"
   ]
  },
  {
   "cell_type": "code",
   "execution_count": null,
   "metadata": {
    "collapsed": true
   },
   "outputs": [],
   "source": [
    "generator_num=(num for num in range(2,10,2))\n",
    "even_gen=(num for num in range(10) if num%2==0)\n",
    "for x in generator_num:\n",
    "    print(x)\n",
    "for x in even_gen:\n",
    "    print(x)\n",
    "#generator function\n",
    "def num_sequence(n):\n",
    "    \"\"\"Generate values from 0 to n\"\"\"\n",
    "    i=0\n",
    "    while i<n:\n",
    "        yield i\n",
    "        i+=1\n",
    "print(num_sequence(3))\n",
    "for r in num_sequence(5):\n",
    "    print(r)\n"
   ]
  },
  {
   "cell_type": "code",
   "execution_count": null,
   "metadata": {
    "collapsed": true
   },
   "outputs": [],
   "source": [
    "#numpy \n",
    "import numpy as np\n",
    "sample=np.round(np.random.normal(10,4,5000),1)\n",
    "print(sample)"
   ]
  },
  {
   "cell_type": "code",
   "execution_count": null,
   "metadata": {
    "collapsed": true
   },
   "outputs": [],
   "source": [
    "import pandas as pd\n",
    "import matplotlib.pyplot as plt\n",
    "\n",
    "def getReports(*file_paths):\n",
    "    if len(file_paths)==0 or len(file_paths)>1:\n",
    "        raise ValueError(\"Invalid file paths, expecting 2 got \" + str(len(file_paths)))\n",
    "    else:\n",
    "        for f in file_paths:\n",
    "            data=pd.read_csv(f)\n",
    "        r_status=['Canceled','Succeeded','Failed','Active']\n",
    "        r_count=[]\n",
    "        for r in r_status:\n",
    "            r_count.append(len(data[data.releaseStatus==r]))\n",
    "        print(r_count)\n",
    "        fig, ax =plt.subplots(1,1,sharey=True)\n",
    "        ax.bar(r_status,r_count)\n",
    "        #plt.show()\n",
    "        \n",
    "getReports('C://Users//jaisa05//source//repos//RestClient//RestClient/all_release.csv')"
   ]
  },
  {
   "cell_type": "code",
   "execution_count": null,
   "metadata": {
    "collapsed": true
   },
   "outputs": [],
   "source": [
    "import numpy as np\n",
    "l1=[2,3,4,5]\n",
    "l2=[2,3,4,5]\n",
    "\n",
    "prod_l=list(map(lambda x,y: x*y, l1,l2))\n",
    "print(prod_l)\n",
    "\n",
    "np_a1=np.array(l1)\n",
    "np_a2=np.array(l2)\n",
    "prod_np=np_a1*np_a2\n",
    "print(prod_np)"
   ]
  },
  {
   "cell_type": "code",
   "execution_count": null,
   "metadata": {
    "collapsed": true
   },
   "outputs": [],
   "source": [
    "print(np.ones((5,4),dtype=np.int))\n",
    "print(np.zeros(4,dtype=np.int))\n",
    "print(np.random.random([3,4]))\n",
    "print(np.arange(1,100,3))\n",
    "print(np.linspace(15,20,25))\n",
    "print(float(5/25))"
   ]
  },
  {
   "cell_type": "code",
   "execution_count": null,
   "metadata": {
    "collapsed": true
   },
   "outputs": [],
   "source": [
    "l1=[1,2,3,5,4,6,7,8,5,3,2]\n",
    "t1=(1,2,3)\n",
    "n_array=np.array(l1)\n",
    "print(n_array[:3])\n",
    "print(n_array[0::2])\n",
    "print(np.array(l1))\n",
    "print(np.array(t1))"
   ]
  },
  {
   "cell_type": "code",
   "execution_count": null,
   "metadata": {
    "collapsed": true
   },
   "outputs": [],
   "source": [
    "lst=[[1,2,3,4,5],[6,7,8,9,10]]\n",
    "lst1=(lst[0:2])[0:3]\n",
    "print(lst1)"
   ]
  },
  {
   "cell_type": "code",
   "execution_count": null,
   "metadata": {
    "collapsed": true
   },
   "outputs": [],
   "source": [
    "import numpy as np\n",
    "#help(np.arange)\n",
    "array_3d=np.arange(48,step=2).reshape(2,3,4)\n",
    "print(array_3d)"
   ]
  },
  {
   "cell_type": "code",
   "execution_count": null,
   "metadata": {
    "collapsed": true
   },
   "outputs": [],
   "source": [
    "import time\n",
    "print(time.time())"
   ]
  },
  {
   "cell_type": "code",
   "execution_count": null,
   "metadata": {
    "collapsed": true
   },
   "outputs": [],
   "source": [
    "inp_str=[[1,2,3,4],[6,7,8,5],[4,5,3,5],[3,4,5,6]]\n",
    "list_1=inp_str[0:2]\n",
    "list_2=inp_str[2:4]\n",
    "a1=np.array(list_1)\n",
    "a2=np.array(list_2)\n",
    "help(np.hstack)\n",
    "np.hstack((a1,a2))\n",
    "print(a1)\n",
    "print(a1.T)"
   ]
  },
  {
   "cell_type": "code",
   "execution_count": null,
   "metadata": {
    "collapsed": true
   },
   "outputs": [],
   "source": [
    "import numpy as np\n",
    "a=np.arange(1,20)\n",
    "print(np.sin(a))\n",
    "def myfunc(a):\n",
    "    return (a/1+a)\n",
    "myfunc=np.vectorize(lambda x: x/(1+x))\n",
    "print(a)\n",
    "print(myfunc(a))"
   ]
  },
  {
   "cell_type": "code",
   "execution_count": null,
   "metadata": {
    "collapsed": true
   },
   "outputs": [],
   "source": [
    "a_m=np.array([4,7,2,6])\n",
    "a_m2=a_m.reshape(2,2)\n",
    "print(a_m)\n",
    "print(a_m2)\n",
    "a_im2=np.linalg.inv(a_m2)\n",
    "print(a_im2)\n",
    "#help(np.dot)\n",
    "print(np.dot(a_m2,a_im2))\n",
    "print(np.linalg.det(a_m2))"
   ]
  },
  {
   "cell_type": "code",
   "execution_count": null,
   "metadata": {
    "collapsed": true
   },
   "outputs": [],
   "source": [
    "a_3=np.array([3,0,2,2,0,-2,0,1,1]).reshape(3,3)\n",
    "print(a_3)\n",
    "print(np.linalg.inv(a_3))\n",
    "m1=np.array([1,2,3,4]).reshape(2,2)\n",
    "m2=np.array([2,2,2,2]).reshape(2,2)\n",
    "print(m1)\n",
    "print(m2)\n",
    "print(\"Multiplying matrix element\")\n",
    "print(m1*m2)\n",
    "print(\"Doing Matrix Multipication\")\n",
    "print(np.dot(m1,m2))"
   ]
  },
  {
   "cell_type": "code",
   "execution_count": null,
   "metadata": {
    "collapsed": true
   },
   "outputs": [],
   "source": [
    "x=1;\n",
    "y=2\n",
    "print(x,y)\n",
    "print(xy)"
   ]
  },
  {
   "cell_type": "code",
   "execution_count": null,
   "metadata": {
    "collapsed": true
   },
   "outputs": [],
   "source": [
    "def cat(cat):\n",
    "    print(cat)\n",
    "\n",
    "def rat(rat):\n",
    "    cat(rat)\n",
    "    print(rot)\n",
    "\n",
    "cat('Billy')\n",
    "rat('Billow')"
   ]
  },
  {
   "cell_type": "code",
   "execution_count": null,
   "metadata": {
    "collapsed": true
   },
   "outputs": [],
   "source": [
    "def right_justify(word):\n",
    "    w_l=len(word)\n",
    "    concat=lambda x: x+\" \"\n",
    "    for x in range(1,71-w_l):\n",
    "        word=\" \"+word\n",
    "    print(word)\n",
    "    print(len(word))\n",
    "\n",
    "right_justify('My Name is Saurabh Jain. I am working in CA Technologies')"
   ]
  },
  {
   "cell_type": "code",
   "execution_count": null,
   "metadata": {
    "collapsed": true
   },
   "outputs": [],
   "source": [
    "def draw_grid(size):\n",
    "    for x"
   ]
  },
  {
   "cell_type": "code",
   "execution_count": null,
   "metadata": {
    "collapsed": true
   },
   "outputs": [],
   "source": [
    "import pandas as pd\n",
    "import numpy as np\n",
    "ds=pd.Series(np.arange(1,10))\n",
    "print(type(ds))\n",
    "print(ds)\n",
    "print(ds.apply(lambda x: x**2))"
   ]
  },
  {
   "cell_type": "code",
   "execution_count": null,
   "metadata": {
    "collapsed": true
   },
   "outputs": [],
   "source": [
    "df = pd.DataFrame({'name': ['Vinay', 'Kushal', 'Aman', 'Saif'], \n",
    "                   'age': [22, 25, 24, 28], \n",
    "                    'occupation': ['engineer', 'doctor', 'data analyst', 'teacher']})\n",
    "df\n",
    "df_2=df.set_index('age',inplace=False)\n",
    "df_3=df.set_index('age',inplace=True)\n",
    "print(df_2.head())\n",
    "print(df.head())\n",
    "print(type(df_3))\n",
    "exr=df[2:4]\n",
    "type(exr)\n",
    "#type(exr['name'])\n",
    "print(exr[['name']])"
   ]
  },
  {
   "cell_type": "code",
   "execution_count": null,
   "metadata": {
    "collapsed": true
   },
   "outputs": [],
   "source": [
    "df.iloc[2,1]\n",
    "df.iloc[2]\n",
    "df.info()"
   ]
  },
  {
   "cell_type": "code",
   "execution_count": null,
   "metadata": {
    "collapsed": true
   },
   "outputs": [],
   "source": [
    "df.describe()"
   ]
  },
  {
   "cell_type": "code",
   "execution_count": null,
   "metadata": {
    "collapsed": true
   },
   "outputs": [],
   "source": [
    "df.columns"
   ]
  },
  {
   "cell_type": "code",
   "execution_count": null,
   "metadata": {
    "collapsed": true
   },
   "outputs": [],
   "source": [
    "df.shape"
   ]
  },
  {
   "cell_type": "code",
   "execution_count": null,
   "metadata": {
    "collapsed": true
   },
   "outputs": [],
   "source": [
    "df.iloc[[1,3],[0,1]]"
   ]
  },
  {
   "cell_type": "code",
   "execution_count": null,
   "metadata": {
    "collapsed": true
   },
   "outputs": [],
   "source": [
    "df.iloc[1:3,1]"
   ]
  },
  {
   "cell_type": "code",
   "execution_count": null,
   "metadata": {
    "collapsed": true
   },
   "outputs": [],
   "source": [
    "df.iloc[:,1]"
   ]
  },
  {
   "cell_type": "code",
   "execution_count": null,
   "metadata": {
    "collapsed": true
   },
   "outputs": [],
   "source": [
    "df.iloc[[True,False,True,False,True,False]]"
   ]
  },
  {
   "cell_type": "code",
   "execution_count": null,
   "metadata": {
    "collapsed": true
   },
   "outputs": [],
   "source": [
    "df.iloc[[True,False,True,False,False,False]]"
   ]
  },
  {
   "cell_type": "code",
   "execution_count": null,
   "metadata": {
    "collapsed": true
   },
   "outputs": [],
   "source": [
    "print(len(df.columns))\n",
    "print(len(df))"
   ]
  },
  {
   "cell_type": "code",
   "execution_count": null,
   "metadata": {
    "collapsed": true
   },
   "outputs": [],
   "source": [
    "bool_array=[True,False,True,True,True,True,True]\n",
    "temp_array=bool_array.copy()\n",
    "rc_df=len(df)\n",
    "print(rc_df)\n",
    "while rc_df!=len(temp_array):\n",
    "    temp_array.pop()\n",
    "    print(len(temp_array))\n",
    "print(temp_array)\n",
    "df.iloc[temp_array]\n",
    "    "
   ]
  },
  {
   "cell_type": "code",
   "execution_count": null,
   "metadata": {
    "collapsed": true
   },
   "outputs": [],
   "source": [
    "df"
   ]
  },
  {
   "cell_type": "code",
   "execution_count": null,
   "metadata": {
    "collapsed": true
   },
   "outputs": [],
   "source": [
    "df.loc[[22,28]]"
   ]
  },
  {
   "cell_type": "code",
   "execution_count": null,
   "metadata": {
    "collapsed": true
   },
   "outputs": [],
   "source": [
    "df.loc[25:28]"
   ]
  },
  {
   "cell_type": "code",
   "execution_count": null,
   "metadata": {
    "collapsed": true
   },
   "outputs": [],
   "source": [
    "df.loc[[23:28]]"
   ]
  },
  {
   "cell_type": "code",
   "execution_count": null,
   "metadata": {
    "collapsed": true
   },
   "outputs": [],
   "source": [
    "df.loc[24,['occupation']]"
   ]
  },
  {
   "cell_type": "code",
   "execution_count": null,
   "metadata": {
    "collapsed": true
   },
   "outputs": [],
   "source": [
    "market_df = pd.read_csv(\"./global_sales_data/market_fact.csv\")\n",
    "market_df.head()"
   ]
  },
  {
   "cell_type": "code",
   "execution_count": null,
   "metadata": {
    "collapsed": true
   },
   "outputs": [],
   "source": [
    "market_df.loc[(market_df.Sales>4000) & (market_df.Sales<4030)]"
   ]
  },
  {
   "cell_type": "code",
   "execution_count": null,
   "metadata": {
    "collapsed": true
   },
   "outputs": [],
   "source": [
    "market_df.loc[(market_df.Sales>4000) & (market_df.Sales<4030),['Prod_id','Profit']]"
   ]
  },
  {
   "cell_type": "code",
   "execution_count": null,
   "metadata": {
    "collapsed": true
   },
   "outputs": [],
   "source": [
    "market_df = pd.read_csv(\"./global_sales_data/market_fact.csv\")\n",
    "customer_df = pd.read_csv(\"./global_sales_data/cust_dimen.csv\")\n",
    "product_df = pd.read_csv(\"./global_sales_data/prod_dimen.csv\")\n",
    "shipping_df = pd.read_csv(\"./global_sales_data/shipping_dimen.csv\")\n",
    "orders_df = pd.read_csv(\"./global_sales_data/orders_dimen.csv\")"
   ]
  },
  {
   "cell_type": "code",
   "execution_count": null,
   "metadata": {
    "collapsed": true
   },
   "outputs": [],
   "source": [
    "print(market_df.head())\n",
    "print(customer_df.head())"
   ]
  },
  {
   "cell_type": "code",
   "execution_count": null,
   "metadata": {
    "collapsed": true
   },
   "outputs": [],
   "source": [
    "#help(pd.merge)\n",
    "df_mcm=pd.merge(customer_df,market_df,how=\"inner\",on='Cust_id')\n",
    "print(df_mcm.head())\n",
    "print(df_mcm.info())\n",
    "print(df_mcm.describe())"
   ]
  },
  {
   "cell_type": "code",
   "execution_count": null,
   "metadata": {
    "collapsed": true
   },
   "outputs": [],
   "source": [
    "df1 = pd.DataFrame({'Name': ['Aman', 'Joy', 'Rashmi', 'Saif'],\n",
    "                    'Age': ['34', '31', '22', '33'],\n",
    "                    'Gender': ['M', 'M', 'F', 'M']}\n",
    "                  )\n",
    "\n",
    "df2 = pd.DataFrame({'Name': ['Akhil', 'Asha', 'Preeti', 'Unknown'],\n",
    "                    'Age': ['31', '22', '23','33'],\n",
    "                    'Gender': ['M', 'F', 'F',None]}\n",
    "                  )"
   ]
  },
  {
   "cell_type": "code",
   "execution_count": null,
   "metadata": {
    "collapsed": true
   },
   "outputs": [],
   "source": [
    "print(df2.describe())\n",
    "print(df2.info())"
   ]
  },
  {
   "cell_type": "code",
   "execution_count": null,
   "metadata": {
    "collapsed": true
   },
   "outputs": [],
   "source": [
    "df_m=pd.merge(df1,df2,how='inner',on='Gender')"
   ]
  },
  {
   "cell_type": "code",
   "execution_count": null,
   "metadata": {
    "collapsed": true
   },
   "outputs": [],
   "source": [
    "print(df_m)"
   ]
  },
  {
   "cell_type": "code",
   "execution_count": null,
   "metadata": {
    "collapsed": true
   },
   "outputs": [],
   "source": [
    "df_c=pd.concat([df1,df2])"
   ]
  },
  {
   "cell_type": "code",
   "execution_count": null,
   "metadata": {
    "collapsed": true
   },
   "outputs": [],
   "source": [
    "print(df_c)"
   ]
  },
  {
   "cell_type": "code",
   "execution_count": null,
   "metadata": {
    "collapsed": true
   },
   "outputs": [],
   "source": [
    "df_c1=pd.concat([df1,df2],axis=2)"
   ]
  },
  {
   "cell_type": "code",
   "execution_count": null,
   "metadata": {
    "collapsed": true
   },
   "outputs": [],
   "source": [
    "df_1 = pd.merge(market_df, customer_df, how='inner', on='Cust_id')\n",
    "df_2 = pd.merge(df_1, product_df, how='inner', on='Prod_id')\n",
    "df_3 = pd.merge(df_2, shipping_df, how='inner', on='Ship_id')\n",
    "master_df = pd.merge(df_3, orders_df, how='inner', on='Ord_id')"
   ]
  },
  {
   "cell_type": "code",
   "execution_count": null,
   "metadata": {
    "collapsed": true
   },
   "outputs": [],
   "source": [
    "master_df.head()"
   ]
  },
  {
   "cell_type": "code",
   "execution_count": null,
   "metadata": {
    "collapsed": true
   },
   "outputs": [],
   "source": [
    "customer_seg_grp=master_df.groupby('Customer_Segment')"
   ]
  },
  {
   "cell_type": "code",
   "execution_count": null,
   "metadata": {
    "collapsed": true
   },
   "outputs": [],
   "source": [
    "customer_seg_grp['Profit'].sum()"
   ]
  },
  {
   "cell_type": "code",
   "execution_count": null,
   "metadata": {
    "collapsed": true
   },
   "outputs": [],
   "source": [
    "customer_seg_grp.Profit.sum()"
   ]
  },
  {
   "cell_type": "code",
   "execution_count": null,
   "metadata": {
    "collapsed": true
   },
   "outputs": [],
   "source": [
    "customer_seg_grp.Profit.sum().sort_values(ascending=False)"
   ]
  },
  {
   "cell_type": "code",
   "execution_count": null,
   "metadata": {
    "collapsed": true
   },
   "outputs": [],
   "source": [
    "print(master_df.columns)"
   ]
  },
  {
   "cell_type": "code",
   "execution_count": null,
   "metadata": {
    "collapsed": true
   },
   "outputs": [],
   "source": [
    "prod_grp=master_df.groupby('Product_Category')"
   ]
  },
  {
   "cell_type": "code",
   "execution_count": null,
   "metadata": {
    "collapsed": true
   },
   "outputs": [],
   "source": [
    "prod_grp.Profit.mean()"
   ]
  },
  {
   "cell_type": "code",
   "execution_count": null,
   "metadata": {
    "collapsed": true
   },
   "outputs": [],
   "source": [
    "by_prd_cat_subcat=master_df.groupby(['Product_Category','Product_Sub_Category'])"
   ]
  },
  {
   "cell_type": "code",
   "execution_count": null,
   "metadata": {
    "collapsed": true
   },
   "outputs": [],
   "source": [
    "type(by_prd_cat_subcat)"
   ]
  },
  {
   "cell_type": "code",
   "execution_count": null,
   "metadata": {
    "collapsed": true
   },
   "outputs": [],
   "source": [
    "by_prd_cat_subcat.head()"
   ]
  },
  {
   "cell_type": "code",
   "execution_count": null,
   "metadata": {
    "collapsed": true
   },
   "outputs": [],
   "source": [
    "by_prd_cat_subcat.Profit.mean()"
   ]
  },
  {
   "cell_type": "code",
   "execution_count": null,
   "metadata": {
    "collapsed": true
   },
   "outputs": [],
   "source": [
    "by_prd_cat_subcat.Profit.median()"
   ]
  },
  {
   "cell_type": "code",
   "execution_count": null,
   "metadata": {
    "collapsed": true
   },
   "outputs": [],
   "source": [
    "master_df.columns"
   ]
  },
  {
   "cell_type": "code",
   "execution_count": null,
   "metadata": {
    "collapsed": true
   },
   "outputs": [],
   "source": [
    "g_p_sc_df=pd.DataFrame(by_prd_cat_subcat[['Profit','Sales']].mean())"
   ]
  },
  {
   "cell_type": "code",
   "execution_count": null,
   "metadata": {
    "collapsed": true
   },
   "outputs": [],
   "source": [
    "by_prd_cat_subcat[['Profit','Sales']].describe()"
   ]
  },
  {
   "cell_type": "code",
   "execution_count": null,
   "metadata": {
    "collapsed": true
   },
   "outputs": [],
   "source": [
    "print(g_p_sc_df.head())\n",
    "print(g_p_sc_df.columns)"
   ]
  },
  {
   "cell_type": "code",
   "execution_count": null,
   "metadata": {
    "collapsed": true
   },
   "outputs": [],
   "source": [
    "print(master_df.columns)"
   ]
  },
  {
   "cell_type": "code",
   "execution_count": null,
   "metadata": {
    "collapsed": true
   },
   "outputs": [],
   "source": [
    "master_df['is_profitable']=master_df['Profit'].apply(lambda x: True if x > 0 else False)"
   ]
  },
  {
   "cell_type": "code",
   "execution_count": null,
   "metadata": {
    "collapsed": true
   },
   "outputs": [],
   "source": [
    "print(master_df.columns)"
   ]
  },
  {
   "cell_type": "code",
   "execution_count": null,
   "metadata": {
    "collapsed": true
   },
   "outputs": [],
   "source": [
    "master_df['is_profitable']=master_df['Profit'].apply(lambda x: x > 0)"
   ]
  },
  {
   "cell_type": "code",
   "execution_count": null,
   "metadata": {
    "collapsed": true
   },
   "outputs": [],
   "source": [
    "print(master_df.head())"
   ]
  },
  {
   "cell_type": "code",
   "execution_count": null,
   "metadata": {
    "collapsed": true
   },
   "outputs": [],
   "source": [
    "#help(master_df.pivot_table)\n",
    "#prd_cat_subcat=master_df.groupby(['Product_Category','Product_Sub_Category'])\n",
    "print(master_df.pivot_table(values=['Profit','Sales'],index='Product_Sub_Category',columns='Product_Category', aggfunc='mean'))\n",
    "print(master_df.pivot_table(values=['Profit','Sales'],index=['Product_Category','Product_Sub_Category'], aggfunc='mean'))"
   ]
  },
  {
   "cell_type": "code",
   "execution_count": null,
   "metadata": {
    "collapsed": true
   },
   "outputs": [],
   "source": [
    "by_prd_cat_subcat=master_df.groupby(['Product_Category','Product_Sub_Category'])\n",
    "print(by_prd_cat_subcat.head(5))\n",
    "g_p_sc_df=pd.DataFrame(by_prd_cat_subcat[['Profit','Sales']].mean())\n",
    "g_p_sc_df.head()"
   ]
  },
  {
   "cell_type": "code",
   "execution_count": null,
   "metadata": {
    "collapsed": true
   },
   "outputs": [],
   "source": [
    "help(pd.read_csv)"
   ]
  },
  {
   "cell_type": "code",
   "execution_count": null,
   "metadata": {
    "collapsed": true
   },
   "outputs": [],
   "source": [
    "import PyPDF2\n",
    "#help(PyPDF2)\n",
    "pdfFileObj=open('./pyFilereading/animal_farm.pdf','rb')\n",
    "pdfFileObj.close()\n",
    "with open('./pyFilereading/animal_farm.pdf','rb') as pdfFileObj:\n",
    "    pdfReader=PyPDF2.PdfFileReader(pdfFileObj)\n",
    "    print(pdfReader.numPages)\n",
    "    page1Obj=pdfReader.getPage(1)\n",
    "    print(page1Obj.extractText())\n"
   ]
  },
  {
   "cell_type": "code",
   "execution_count": null,
   "metadata": {
    "collapsed": true
   },
   "outputs": [],
   "source": [
    "melbourneObject=pd.read_csv('./pyFilereading/melbourne.csv')\n",
    "print(melbourneObject.head())"
   ]
  },
  {
   "cell_type": "code",
   "execution_count": null,
   "metadata": {
    "collapsed": true
   },
   "outputs": [],
   "source": [
    "melbourneObject.isnull().sum(axis=0)"
   ]
  },
  {
   "cell_type": "code",
   "execution_count": null,
   "metadata": {
    "collapsed": true
   },
   "outputs": [],
   "source": [
    "melbourneObject.isnull().any()"
   ]
  },
  {
   "cell_type": "code",
   "execution_count": null,
   "metadata": {
    "collapsed": true
   },
   "outputs": [],
   "source": [
    "melbourneObject.isnull().sum()"
   ]
  },
  {
   "cell_type": "code",
   "execution_count": null,
   "metadata": {
    "collapsed": true
   },
   "outputs": [],
   "source": [
    "melbourneObject.isnull().any(axis=1).sum()\n",
    "melbourneObject.describe()"
   ]
  },
  {
   "cell_type": "code",
   "execution_count": null,
   "metadata": {
    "collapsed": true
   },
   "outputs": [],
   "source": [
    "melbourneObject.isnull().all().sum()"
   ]
  },
  {
   "cell_type": "code",
   "execution_count": null,
   "metadata": {
    "collapsed": true
   },
   "outputs": [],
   "source": [
    "melbourneObject.isnull().all(axis=0).sum()"
   ]
  },
  {
   "cell_type": "code",
   "execution_count": null,
   "metadata": {
    "collapsed": true
   },
   "outputs": [],
   "source": [
    "type(melbourneObject.isnull().sum(axis=1))\n",
    "missing_row=melbourneObject.isnull().sum(axis=1)\n",
    "missing_row[missing_row>0]"
   ]
  },
  {
   "cell_type": "code",
   "execution_count": null,
   "metadata": {
    "collapsed": true
   },
   "outputs": [],
   "source": [
    "melbourneObject.isnull().sum()\n",
    "print(melbourneObject.index)\n",
    "round(100*(melbourneObject.isnull().sum()/len(melbourneObject.index)),2)\n",
    "#melbourneObject[melbourneObject.isnull().sum(axis=1)>5]\n"
   ]
  },
  {
   "cell_type": "code",
   "execution_count": 109,
   "metadata": {},
   "outputs": [
    {
     "ename": "NameError",
     "evalue": "name 'melbourneObject' is not defined",
     "output_type": "error",
     "traceback": [
      "\u001b[1;31m---------------------------------------------------------------------------\u001b[0m",
      "\u001b[1;31mNameError\u001b[0m                                 Traceback (most recent call last)",
      "\u001b[1;32m<ipython-input-109-1ee5f048e13b>\u001b[0m in \u001b[0;36m<module>\u001b[1;34m()\u001b[0m\n\u001b[1;32m----> 1\u001b[1;33m \u001b[0mmelbourneObject\u001b[0m\u001b[1;33m=\u001b[0m\u001b[0mmelbourneObject\u001b[0m\u001b[1;33m.\u001b[0m\u001b[0mdrop\u001b[0m\u001b[1;33m(\u001b[0m\u001b[1;34m'BuildingArea'\u001b[0m\u001b[1;33m,\u001b[0m\u001b[0maxis\u001b[0m\u001b[1;33m=\u001b[0m\u001b[1;36m1\u001b[0m\u001b[1;33m)\u001b[0m\u001b[1;33m\u001b[0m\u001b[0m\n\u001b[0m\u001b[0;32m      2\u001b[0m \u001b[0mmelbourneObject\u001b[0m\u001b[1;33m=\u001b[0m\u001b[0mmelbourneObject\u001b[0m\u001b[1;33m.\u001b[0m\u001b[0mdrop\u001b[0m\u001b[1;33m(\u001b[0m\u001b[1;34m'YearBuilt'\u001b[0m\u001b[1;33m,\u001b[0m\u001b[0maxis\u001b[0m\u001b[1;33m=\u001b[0m\u001b[1;36m1\u001b[0m\u001b[1;33m)\u001b[0m\u001b[1;33m\u001b[0m\u001b[0m\n\u001b[0;32m      3\u001b[0m \u001b[0mmelbourneObject\u001b[0m\u001b[1;33m=\u001b[0m\u001b[0mmelbourneObject\u001b[0m\u001b[1;33m.\u001b[0m\u001b[0mdrop\u001b[0m\u001b[1;33m(\u001b[0m\u001b[1;34m'CouncilArea'\u001b[0m\u001b[1;33m,\u001b[0m\u001b[0maxis\u001b[0m\u001b[1;33m=\u001b[0m\u001b[1;36m1\u001b[0m\u001b[1;33m)\u001b[0m\u001b[1;33m\u001b[0m\u001b[0m\n\u001b[0;32m      4\u001b[0m \u001b[0mround\u001b[0m\u001b[1;33m(\u001b[0m\u001b[1;36m100\u001b[0m\u001b[1;33m*\u001b[0m\u001b[1;33m(\u001b[0m\u001b[0mmelbourneObject\u001b[0m\u001b[1;33m.\u001b[0m\u001b[0misnull\u001b[0m\u001b[1;33m(\u001b[0m\u001b[1;33m)\u001b[0m\u001b[1;33m.\u001b[0m\u001b[0msum\u001b[0m\u001b[1;33m(\u001b[0m\u001b[1;33m)\u001b[0m\u001b[1;33m/\u001b[0m\u001b[0mlen\u001b[0m\u001b[1;33m(\u001b[0m\u001b[0mmelbourneObject\u001b[0m\u001b[1;33m.\u001b[0m\u001b[0mindex\u001b[0m\u001b[1;33m)\u001b[0m\u001b[1;33m)\u001b[0m\u001b[1;33m,\u001b[0m\u001b[1;36m2\u001b[0m\u001b[1;33m)\u001b[0m\u001b[1;33m\u001b[0m\u001b[0m\n",
      "\u001b[1;31mNameError\u001b[0m: name 'melbourneObject' is not defined"
     ]
    }
   ],
   "source": [
    "melbourneObject=melbourneObject.drop('BuildingArea',axis=1)\n",
    "melbourneObject=melbourneObject.drop('YearBuilt',axis=1)\n",
    "melbourneObject=melbourneObject.drop('CouncilArea',axis=1)\n",
    "round(100*(melbourneObject.isnull().sum()/len(melbourneObject.index)),2)"
   ]
  },
  {
   "cell_type": "code",
   "execution_count": null,
   "metadata": {
    "collapsed": true
   },
   "outputs": [],
   "source": [
    "#counting row which are having values greater than 5 with empty value\n",
    "len(melbourneObject[melbourneObject.isnull().sum(axis=1)>5].index)"
   ]
  },
  {
   "cell_type": "code",
   "execution_count": null,
   "metadata": {
    "collapsed": true
   },
   "outputs": [],
   "source": [
    "#percentage of dataset i.e. row with missing value for more than 5 columns\n",
    "100*(len(melbourneObject[melbourneObject.isnull().sum(axis=1)>5].index)/len(melbourneObject.index))"
   ]
  },
  {
   "cell_type": "code",
   "execution_count": null,
   "metadata": {
    "collapsed": true
   },
   "outputs": [],
   "source": [
    "#retaining the 80% of the value which are having less than 5 values missing\n",
    "melbourneObject=melbourneObject[melbourneObject.isnull().sum(axis=1)<=5]\n",
    "round(100*(melbourneObject.isnull().sum()/len(melbourneObject.index)),2)"
   ]
  },
  {
   "cell_type": "code",
   "execution_count": null,
   "metadata": {
    "collapsed": true
   },
   "outputs": [],
   "source": [
    "#removing rows with empty price\n",
    "melbourneObject=melbourneObject[~np.isnan(melbourneObject['Price'])]"
   ]
  },
  {
   "cell_type": "code",
   "execution_count": null,
   "metadata": {
    "collapsed": true
   },
   "outputs": [],
   "source": [
    "round(100*(melbourneObject.isnull().sum()/len(melbourneObject.index)),2)"
   ]
  },
  {
   "cell_type": "code",
   "execution_count": null,
   "metadata": {
    "collapsed": true
   },
   "outputs": [],
   "source": [
    "melbourneObject['Landsize'].describe()"
   ]
  },
  {
   "cell_type": "code",
   "execution_count": null,
   "metadata": {
    "collapsed": true
   },
   "outputs": [],
   "source": [
    "melbourneObject=melbourneObject[~np.isnan(melbourneObject['Landsize'])]"
   ]
  },
  {
   "cell_type": "code",
   "execution_count": null,
   "metadata": {
    "collapsed": true
   },
   "outputs": [],
   "source": [
    "round(100*(melbourneObject.isnull().sum()/len(melbourneObject.index)),2)"
   ]
  },
  {
   "cell_type": "markdown",
   "metadata": {},
   "source": [
    "#  Revision of Module 3 Date 16 April 2018"
   ]
  },
  {
   "cell_type": "markdown",
   "metadata": {},
   "source": [
    "## revision of Numpy\n",
    "\n"
   ]
  },
  {
   "cell_type": "code",
   "execution_count": 3,
   "metadata": {},
   "outputs": [
    {
     "name": "stdout",
     "output_type": "stream",
     "text": [
      "0\n",
      "<class 'numpy.ndarray'>\n"
     ]
    }
   ],
   "source": [
    "import numpy as np\n",
    "initialize_array=np.array([]) #creating an empty array\n",
    "print(len(initialize_array))\n",
    "print(type(initialize_array))"
   ]
  },
  {
   "cell_type": "markdown",
   "metadata": {},
   "source": [
    "##### Convenience of numpy array over list"
   ]
  },
  {
   "cell_type": "code",
   "execution_count": 12,
   "metadata": {},
   "outputs": [
    {
     "name": "stdout",
     "output_type": "stream",
     "text": [
      "[5, 12, 21, 32]\n",
      "Simplified using np.array\n",
      "[ 5 12 21 32]\n",
      "Squared element list using list comprehension \n",
      " [1, 4, 9, 16]\n",
      "Squared element using np array \n",
      " type: <class 'numpy.ndarray'> values: [ 1  4  9 16]\n"
     ]
    }
   ],
   "source": [
    "ls1=[1,2,3,4]\n",
    "ls2=[5,6,7,8]\n",
    "#help(map) : map syntax is (function, * iterables): ideally used to apply a function on all element of iterable\n",
    "product_list=list(map(lambda x,y: x*y,ls1,ls2))\n",
    "print(product_list)\n",
    "\n",
    "print('Simplified using np.array')\n",
    "np_a=np.array(ls1)\n",
    "np_b=np.array(ls2)\n",
    "np_p=np_a*np_b\n",
    "print(np_p)\n",
    "\n",
    "sq_l=[i**2 for i in ls1]\n",
    "print(\"Squared element list using list comprehension \\n {}\".format(sq_l))\n",
    "\n",
    "np_sql=np_a**2\n",
    "print(\"Squared element using np array \\n type: {} values: {}\".format(type(np_sql),np_sql))"
   ]
  },
  {
   "cell_type": "code",
   "execution_count": 27,
   "metadata": {},
   "outputs": [
    {
     "name": "stdout",
     "output_type": "stream",
     "text": [
      "2 Dimensional numpy array \n",
      "shape: (2, 4) \n",
      "values: [[1 2 3 4]\n",
      " [5 6 7 8]]\n",
      "2 Dimensional numpy array \n",
      "shape: (2, 3) \n",
      "values: [[1 2 3]\n",
      " [4 5 6]]\n",
      "2D array when elements are not equal mXn of shape n is left out      \n",
      "type: <class 'numpy.ndarray'> \n",
      "shape: (2,) \n",
      "values: [(1, 2, 3) (4, 5, 6, 7)]\n"
     ]
    }
   ],
   "source": [
    "np_2d=np.array([ls1,ls2],dtype=int)\n",
    "print(\"2 Dimensional numpy array \\nshape: {} \\nvalues: {}\".format(np_2d.shape,np_2d))\n",
    "np_2dt=np.array(((1,2,3),(4,5,6)))\n",
    "print(\"2 Dimensional numpy array \\nshape: {} \\nvalues: {}\".format(np_2dt.shape,np_2dt))\n",
    "np_2dtne=np.array(((1,2,3),(4,5,6,7)))\n",
    "print(\"2D array when elements are not equal mXn of shape n is left out\\\n",
    "      \\ntype: {} \\nshape: {} \\nvalues: {}\".format(type(np_2dtne),np_2dtne.shape,np_2dtne))"
   ]
  },
  {
   "cell_type": "markdown",
   "metadata": {},
   "source": [
    "### Sample data creation for testing can be done easily with numpy"
   ]
  },
  {
   "cell_type": "code",
   "execution_count": 30,
   "metadata": {},
   "outputs": [
    {
     "name": "stdout",
     "output_type": "stream",
     "text": [
      "np.ones((2,3),dtype=str, order='F')\n",
      "[['1' '1' '1']\n",
      " ['1' '1' '1']]\n",
      "[['1' '1' '1']\n",
      " ['1' '1' '1']]\n"
     ]
    }
   ],
   "source": [
    "np_a1=np.ones((2,3),dtype=str, order='F')\n",
    "np_a11=np.ones((2,3),dtype=str, order='C')\n",
    "print(\"np.ones((2,3),dtype=str, order='F')\")\n",
    "print(np_a1)\n",
    "#Order -C\n",
    "print(\"np.ones((2,3),dtype=str, order='C')\")\n",
    "print(np_a11)\n",
    "print(\"np.ones((2,3),dtype=str, order='F')\")"
   ]
  },
  {
   "cell_type": "code",
   "execution_count": 39,
   "metadata": {},
   "outputs": [
    {
     "name": "stdout",
     "output_type": "stream",
     "text": [
      "np.zeros((2,3),dtype=int, order='F')\n",
      "[[0 0 0]\n",
      " [0 0 0]]\n"
     ]
    }
   ],
   "source": [
    "print(\"np.zeros((2,3),dtype=int, order='F')\")\n",
    "print(np.zeros((2,3),dtype=int,order='F'))\n",
    "#help(np.zeros)"
   ]
  },
  {
   "cell_type": "code",
   "execution_count": 49,
   "metadata": {},
   "outputs": [
    {
     "name": "stdout",
     "output_type": "stream",
     "text": [
      "[[ 0.01675383  0.36028599  0.98461317]\n",
      " [ 0.64335793  0.01980404  0.1922666 ]]\n",
      "sampling between 5 -6\n",
      "[[ 5.62597646  5.69226094]\n",
      " [ 5.63706784  5.08470824]\n",
      " [ 5.44090856  5.33032442]\n",
      " [ 5.62878606  5.53127489]]\n",
      "sampling between 5 -7\n",
      "[[ 5.25041842  5.07652455  5.47762899]\n",
      " [ 5.64239719  5.01514423  5.96880698]\n",
      " [ 6.72714063  6.83495946  5.9884536 ]]\n"
     ]
    }
   ],
   "source": [
    "#help(np.random.random)\n",
    "print(np.random.random((2,3)))\n",
    "print('sampling between 5 -6')\n",
    "print(np.random.random([4,2])+5)\n",
    "print('sampling between 5 -7')\n",
    "print((7-5)*np.random.random([3,3])+5)"
   ]
  },
  {
   "cell_type": "code",
   "execution_count": 62,
   "metadata": {
    "collapsed": true
   },
   "outputs": [],
   "source": [
    "#help(np.arange)"
   ]
  },
  {
   "cell_type": "code",
   "execution_count": 59,
   "metadata": {},
   "outputs": [
    {
     "name": "stdout",
     "output_type": "stream",
     "text": [
      "<class 'numpy.ndarray'>\n",
      "8\n",
      "(2, 4)\n",
      "[[ 5 10 15 20]\n",
      " [10 20 30 40]]\n"
     ]
    }
   ],
   "source": [
    "t_ar=np.array((np.arange(5,25,5),np.arange(10,50,10)))\n",
    "print(type(t_ar))\n",
    "print(t_ar.size)\n",
    "print(t_ar.shape)\n",
    "print(t_ar)"
   ]
  },
  {
   "cell_type": "code",
   "execution_count": 73,
   "metadata": {},
   "outputs": [
    {
     "name": "stdout",
     "output_type": "stream",
     "text": [
      "[[[[  0   1   2   3   4]\n",
      "   [  5   6   7   8   9]\n",
      "   [ 10  11  12  13  14]\n",
      "   [ 15  16  17  18  19]]\n",
      "\n",
      "  [[ 20  21  22  23  24]\n",
      "   [ 25  26  27  28  29]\n",
      "   [ 30  31  32  33  34]\n",
      "   [ 35  36  37  38  39]]\n",
      "\n",
      "  [[ 40  41  42  43  44]\n",
      "   [ 45  46  47  48  49]\n",
      "   [ 50  51  52  53  54]\n",
      "   [ 55  56  57  58  59]]]\n",
      "\n",
      "\n",
      " [[[ 60  61  62  63  64]\n",
      "   [ 65  66  67  68  69]\n",
      "   [ 70  71  72  73  74]\n",
      "   [ 75  76  77  78  79]]\n",
      "\n",
      "  [[ 80  81  82  83  84]\n",
      "   [ 85  86  87  88  89]\n",
      "   [ 90  91  92  93  94]\n",
      "   [ 95  96  97  98  99]]\n",
      "\n",
      "  [[100 101 102 103 104]\n",
      "   [105 106 107 108 109]\n",
      "   [110 111 112 113 114]\n",
      "   [115 116 117 118 119]]]]\n",
      "[[[ 0  1  2  3]\n",
      "  [ 4  5  6  7]\n",
      "  [ 8  9 10 11]]\n",
      "\n",
      " [[12 13 14 15]\n",
      "  [16 17 18 19]\n",
      "  [20 21 22 23]]]\n"
     ]
    }
   ],
   "source": [
    "ar_4d=np.arange(120).reshape(2,3,4,5)\n",
    "print(ar_4d)\n",
    "ar_3d=np.arange(24).reshape(2,3,4)\n",
    "print(ar_3d)"
   ]
  },
  {
   "cell_type": "markdown",
   "metadata": {},
   "source": [
    "## Slicing, iterate and subset np array"
   ]
  },
  {
   "cell_type": "code",
   "execution_count": 84,
   "metadata": {},
   "outputs": [
    {
     "name": "stdout",
     "output_type": "stream",
     "text": [
      "[0 1 2 3 4 5 6 7 8 9]\n",
      "[[ 0  1  2]\n",
      " [ 3  4  5]\n",
      " [ 6  7  8]\n",
      " [ 9 10 11]]\n",
      "[[[  10.           13.91304348   17.82608696   21.73913043]\n",
      "  [  25.65217391   29.56521739   33.47826087   37.39130435]\n",
      "  [  41.30434783   45.2173913    49.13043478   53.04347826]]\n",
      "\n",
      " [[  56.95652174   60.86956522   64.7826087    68.69565217]\n",
      "  [  72.60869565   76.52173913   80.43478261   84.34782609]\n",
      "  [  88.26086957   92.17391304   96.08695652  100.        ]]]\n",
      "slicing on 1 D array\n",
      "[1 2]\n",
      "iterating on 1 D array\n",
      "[0, 1, 2, 3, 4, 5, 6, 7, 8, 9]\n",
      "subset on 1 D array\n",
      "[0 2 4 6 8]\n",
      "slicing on 2 D array\n",
      "5\n",
      "[3 4 5]\n",
      "iterating on 2 D array\n",
      "[0, 1, 2, 3, 4, 5, 6, 7, 8, 9]\n",
      "subset on 2 D array\n",
      "[0 2 4 6 8]\n"
     ]
    }
   ],
   "source": [
    "arr_1d=np.arange(10)\n",
    "print(arr_1d)\n",
    "arr_2d=np.arange(12).reshape(4,3)\n",
    "print(arr_2d)\n",
    "arr_3d=np.linspace(10,100,24).reshape(2,3,4)\n",
    "print(arr_3d)\n",
    "print('slicing on 1 D array')\n",
    "print(arr_1d[1:3])\n",
    "print('iterating on 1 D array')\n",
    "print([i for i in arr_1d])\n",
    "print('subset on 1 D array')\n",
    "print(arr_1d[::2])"
   ]
  },
  {
   "cell_type": "code",
   "execution_count": 93,
   "metadata": {},
   "outputs": [
    {
     "name": "stdout",
     "output_type": "stream",
     "text": [
      "[[ 0  1  2]\n",
      " [ 3  4  5]\n",
      " [ 6  7  8]\n",
      " [ 9 10 11]]\n",
      "slicing on 2 D array\n",
      "5\n",
      "[3 4 5]\n",
      "[[2]\n",
      " [5]]\n",
      "iterating on 2 D array\n",
      "[array([0, 1, 2]), array([3, 4, 5]), array([6, 7, 8]), array([ 9, 10, 11])]\n",
      "subset on 2 D array\n",
      "[[0 1 2]\n",
      " [6 7 8]]\n"
     ]
    }
   ],
   "source": [
    "print(arr_2d)\n",
    "print('slicing on 2 D array')\n",
    "print(arr_2d[1,2])\n",
    "print(arr_2d[1,])\n",
    "print(arr_2d[0:2,2:3])\n",
    "print('iterating on 2 D array')\n",
    "print([i for i in arr_2d])\n",
    "print('subset on 2 D array')\n",
    "print(arr_2d[::2])"
   ]
  },
  {
   "cell_type": "code",
   "execution_count": 99,
   "metadata": {},
   "outputs": [
    {
     "name": "stdout",
     "output_type": "stream",
     "text": [
      "[[[  10.           13.91304348   17.82608696   21.73913043]\n",
      "  [  25.65217391   29.56521739   33.47826087   37.39130435]\n",
      "  [  41.30434783   45.2173913    49.13043478   53.04347826]]\n",
      "\n",
      " [[  56.95652174   60.86956522   64.7826087    68.69565217]\n",
      "  [  72.60869565   76.52173913   80.43478261   84.34782609]\n",
      "  [  88.26086957   92.17391304   96.08695652  100.        ]]]\n",
      "slicing on 3 D array\n",
      "33.4782608696\n",
      "[[  56.95652174   60.86956522   64.7826087    68.69565217]\n",
      " [  72.60869565   76.52173913   80.43478261   84.34782609]\n",
      " [  88.26086957   92.17391304   96.08695652  100.        ]]\n",
      "[[[ 17.82608696]\n",
      "  [ 33.47826087]]\n",
      "\n",
      " [[ 64.7826087 ]\n",
      "  [ 80.43478261]]]\n",
      "iterating on 3 D array\n",
      "[array([[ 10.        ,  13.91304348,  17.82608696,  21.73913043],\n",
      "       [ 25.65217391,  29.56521739,  33.47826087,  37.39130435],\n",
      "       [ 41.30434783,  45.2173913 ,  49.13043478,  53.04347826]]), array([[  56.95652174,   60.86956522,   64.7826087 ,   68.69565217],\n",
      "       [  72.60869565,   76.52173913,   80.43478261,   84.34782609],\n",
      "       [  88.26086957,   92.17391304,   96.08695652,  100.        ]])]\n",
      "subset on 2 D array\n",
      "[[ 17.82608696  33.47826087  49.13043478]\n",
      " [ 64.7826087   80.43478261  96.08695652]]\n"
     ]
    }
   ],
   "source": [
    "print(arr_3d)\n",
    "print('slicing on 3 D array')\n",
    "print(arr_3d[0,1,2])\n",
    "print(arr_3d[1,])\n",
    "print(arr_3d[:,0:2,2:3])\n",
    "print('iterating on 3 D array')\n",
    "print([i for i in arr_3d])\n",
    "print('subset on 3 D array')\n",
    "print(arr_3d[:,:,2])"
   ]
  },
  {
   "cell_type": "code",
   "execution_count": 108,
   "metadata": {},
   "outputs": [
    {
     "name": "stdout",
     "output_type": "stream",
     "text": [
      "PERFORMANCE SPEED OF NUMPY ARRAY OVER LIST\n",
      " \t 1: numpy array take small size to store information      \n",
      " \t 2: numpy array store values whereas list store pointers      \n",
      " \t 3: numpy array store homogenous elements      \n",
      " \t 4: numpy array execute explicity looping pre-compiled code of C in background\n",
      "\n",
      "0.1549997329711914\n",
      "0.0025000572204589844\n",
      "The ratio of time taken is 61.99847415601755\n"
     ]
    }
   ],
   "source": [
    "print(\"PERFORMANCE SPEED OF NUMPY ARRAY OVER LIST\\n \\t 1: numpy array take small size to store information\\\n",
    "      \\n \\t 2: numpy array store values whereas list store pointers\\\n",
    "      \\n \\t 3: numpy array store homogenous elements\\\n",
    "      \\n \\t 4: numpy array execute explicity looping pre-compiled code of C in background\\n\")\n",
    "import numpy as np\n",
    "## Comparing time taken for computation\n",
    "list_1 = [i for i in range(1000000)]\n",
    "list_2 = [j**2 for j in range(1000000)]\n",
    "\n",
    "# list multiplication\n",
    "import time\n",
    "\n",
    "# store start time, time after computation, and take the difference\n",
    "t0 = time.time()\n",
    "product_list = list(map(lambda x, y: x*y, list_1, list_2))\n",
    "t1 = time.time()\n",
    "list_time = t1 - t0 \n",
    "print(t1-t0)\n",
    "\n",
    "\n",
    "# numpy array \n",
    "array_1 = np.array(list_1)\n",
    "array_2 = np.array(list_2)\n",
    "\n",
    "t0 = time.time()\n",
    "array_3 = array_1*array_2\n",
    "t1 = time.time()\n",
    "numpy_time = t1 - t0\n",
    "\n",
    "print(t1-t0)\n",
    "\n",
    "print(\"The ratio of time taken is {}\".format(list_time/numpy_time))"
   ]
  },
  {
   "cell_type": "code",
   "execution_count": 1,
   "metadata": {},
   "outputs": [
    {
     "data": {
      "text/plain": [
       "[<matplotlib.lines.Line2D at 0x9b67320>]"
      ]
     },
     "execution_count": 1,
     "metadata": {},
     "output_type": "execute_result"
    }
   ],
   "source": [
    "import numpy as np\n",
    "import pandas as pd\n",
    "import matplotlib.pyplot as plt\n",
    "\n",
    "# Plotting two 1-D numpy arrays\n",
    "x = np.linspace(5, 100, 100)\n",
    "y = np.linspace(10, 1000, 100)\n",
    "\n",
    "plt.plot(x, y)"
   ]
  },
  {
   "cell_type": "code",
   "execution_count": 8,
   "metadata": {},
   "outputs": [
    {
     "data": {
      "text/plain": [
       "[<matplotlib.lines.Line2D at 0x9cd6908>]"
      ]
     },
     "execution_count": 8,
     "metadata": {},
     "output_type": "execute_result"
    }
   ],
   "source": [
    "plt.plot(x,y,'g-.')"
   ]
  },
  {
   "cell_type": "code",
   "execution_count": 9,
   "metadata": {},
   "outputs": [
    {
     "data": {
      "image/png": "[encoded data removed]",
      "text/plain": [
       "<matplotlib.figure.Figure at 0x9c3ecc0>"
      ]
     },
     "metadata": {},
     "output_type": "display_data"
    }
   ],
   "source": [
    "plt.show()"
   ]
  },
  {
   "cell_type": "code",
   "execution_count": 4,
   "metadata": {},
   "outputs": [
    {
     "data": {
      "image/png": "[encoded data removed]",
      "text/plain": [
       "<matplotlib.figure.Figure at 0x9bcf470>"
      ]
     },
     "metadata": {},
     "output_type": "display_data"
    }
   ],
   "source": [
    "plt.plot(x,y,color='green',linestyle='dashdot')\n",
    "plt.show()"
   ]
  },
  {
   "cell_type": "code",
   "execution_count": 10,
   "metadata": {},
   "outputs": [
    {
     "data": {
      "image/png": "[encoded data removed]",
      "text/plain": [
       "<matplotlib.figure.Figure at 0xbc1e4a8>"
      ]
     },
     "metadata": {},
     "output_type": "display_data"
    }
   ],
   "source": [
    "import seaborn as sns \n",
    "import pandas as pd \n",
    "import matplotlib.pyplot as plt \n",
    "df = pd.read_csv(\"./global_sales_data/market_fact.csv\") \n",
    "sns.distplot(df['Sales'][:1000], rug=True) \n",
    "plt.show()"
   ]
  },
  {
   "cell_type": "code",
   "execution_count": 13,
   "metadata": {},
   "outputs": [
    {
     "data": {
      "image/png": "[encoded data removed]",
      "text/plain": [
       "<matplotlib.figure.Figure at 0xd3caef0>"
      ]
     },
     "metadata": {},
     "output_type": "display_data"
    }
   ],
   "source": [
    "import seaborn as sns \n",
    "import pandas as pd \n",
    "import matplotlib.pyplot as plt \n",
    "df = pd.read_csv(\"./global_sales_data/market_fact.csv\")\n",
    "df = df[(df.Profit < 10000) & (df.Sales < 20000)]\n",
    "df=df[(df.Profit>0)]\n",
    "sns.jointplot('Sales', 'Profit', df)\n",
    "plt.show()"
   ]
  },
  {
   "cell_type": "code",
   "execution_count": 12,
   "metadata": {},
   "outputs": [
    {
     "name": "stdout",
     "output_type": "stream",
     "text": [
      "  Name  Phone\n",
      "1    A      3\n",
      "3    A      1\n",
      "4    A      0\n",
      "5    A      4\n",
      "6    A      3\n",
      "7    A      2\n",
      "8    A      1\n",
      "9    A      0\n",
      "   Name  Phone\n",
      "10    A      4\n",
      "11    A      3\n",
      "27    A      2\n",
      "28    A      1\n",
      "29    A      0\n",
      "30    A      4\n",
      "31    A      3\n",
      "   Name  Phone\n",
      "0     A      4\n",
      "12    A      2\n",
      "13    A      1\n",
      "14    A      0\n",
      "15    A      4\n",
      "16    A      3\n",
      "17    A      2\n",
      "18    A      1\n",
      "19    A      0\n",
      "20    A      4\n",
      "21    A      3\n",
      "   Name  Phone\n",
      "2     A      2\n",
      "22    A      2\n",
      "23    A      1\n",
      "24    A      0\n",
      "25    A      4\n",
      "26    A      3\n"
     ]
    }
   ],
   "source": [
    "import pandas as pd\n",
    "thakurFile=pd.read_csv('Thakur.csv')\n",
    "groupByArea=thakurFile.groupby('Area')\n",
    "for name, group in groupByArea:\n",
    "    print(groupByArea.get_group(name)[['Name','Phone']])\n",
    "\n",
    "#thakurFile[(thakurFile['Area'].]\n",
    "#thakurFile[['Phone','Area']]"
   ]
  },
  {
   "cell_type": "code",
   "execution_count": null,
   "metadata": {
    "collapsed": true
   },
   "outputs": [],
   "source": []
  }
 ],
 "metadata": {
  "anaconda-cloud": {},
  "kernelspec": {
   "display_name": "Python 3",
   "language": "python",
   "name": "python3"
  },
  "language_info": {
   "codemirror_mode": {
    "name": "ipython",
    "version": 3
   },
   "file_extension": ".py",
   "mimetype": "text/x-python",
   "name": "python",
   "nbconvert_exporter": "python",
   "pygments_lexer": "ipython3",
   "version": "3.6.1"
  }
 },
 "nbformat": 4,
 "nbformat_minor": 1
}
