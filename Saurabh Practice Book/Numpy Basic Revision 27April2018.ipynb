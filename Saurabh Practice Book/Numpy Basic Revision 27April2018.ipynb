{
 "cells": [
  {
   "cell_type": "code",
   "execution_count": 67,
   "metadata": {
    "collapsed": true
   },
   "outputs": [],
   "source": [
    "import numpy as np"
   ]
  },
  {
   "cell_type": "markdown",
   "metadata": {},
   "source": [
    "## Initialization of numpy array\n",
    "    * Direct initialization using np.array()\n",
    "    * Converting list to an array np.array(list[])\n",
    "    * Converting tuple to an array np.array(tuple())"
   ]
  },
  {
   "cell_type": "code",
   "execution_count": 68,
   "metadata": {},
   "outputs": [
    {
     "name": "stdout",
     "output_type": "stream",
     "text": [
      "Type: <class 'numpy.ndarray'> value: [1 2 3 4 5]\n",
      "Type: <class 'numpy.ndarray'> value: ['6' '7' '8' '9' '10']\n"
     ]
    }
   ],
   "source": [
    "list_1=[1,2,3,4,5]\n",
    "tup_1=(6,7,8,9,'10')\n",
    "np_la=np.array(list_1)\n",
    "print(\"Type: {} value: {}\".format(type(np_la),np_la))\n",
    "np_ta=np.array(tup_1)\n",
    "print(\"Type: {} value: {}\".format(type(np_ta),np_ta))"
   ]
  },
  {
   "cell_type": "markdown",
   "metadata": {},
   "source": [
    "## Note \n",
    "### 1: As the data in ndarray is homogeneous, the data type of all the data is coverted to higher data type\n",
    "    * Example 1: np_a1=np.array([1,2,3,4,5.09])  --------> all will be converted to float\n",
    "    * Example 2: np_a1=np.array([1,2,3,4,'5'])  --------> all will be converted to string\n",
    "    * Example 3: np_a1=np.array([1,2,3,4,False])  --------> all will be converted to number"
   ]
  },
  {
   "cell_type": "code",
   "execution_count": 69,
   "metadata": {
    "collapsed": true
   },
   "outputs": [],
   "source": [
    "np_a1=np.array([1,2,3,4,5.09])\n",
    "np_a2=np.array([1,2,3,4,'5'])\n",
    "np_a3=np.array([1,2,3,4,False])\n",
    "np_a4=np.array([True,False,True,False,False])"
   ]
  },
  {
   "cell_type": "code",
   "execution_count": 70,
   "metadata": {},
   "outputs": [
    {
     "name": "stdout",
     "output_type": "stream",
     "text": [
      "Example 1- all float:  [ 1.    2.    3.    4.    5.09]\n",
      "Example 2- all string:  ['1' '2' '3' '4' '5']\n",
      "Example 3- all number:  [1 2 3 4 0]\n",
      "Example 4- all boolean:  [ True False  True False False]\n"
     ]
    }
   ],
   "source": [
    "print(\"Example 1- all float: \",np_a1)\n",
    "print(\"Example 2- all string: \",np_a2)\n",
    "print(\"Example 3- all number: \",np_a3)\n",
    "print(\"Example 4- all boolean: \",np_a4)"
   ]
  },
  {
   "cell_type": "markdown",
   "metadata": {},
   "source": [
    "## Numpy 2-D array and terminology\n",
    "    * In numpy dimensions are called **axes**\n",
    "        In Numpy terminology, for 2-D arrays:\n",
    "* ```axis = 0``` refers to the rows\n",
    "* ```axis = 1``` refers to the columns"
   ]
  },
  {
   "cell_type": "code",
   "execution_count": 71,
   "metadata": {},
   "outputs": [
    {
     "name": "stdout",
     "output_type": "stream",
     "text": [
      "2 Dimension Array: Examples\n",
      "[[1 2 3]\n",
      " [4 5 6]]\n",
      "Shape of array:  (2, 3)\n",
      "Size  of array:  6\n",
      "Average of row:  [ 2.  5.]\n",
      "Average of column:  [ 2.5  3.5  4.5]\n",
      "Average of 2D Array:  3.5\n",
      "mean 1st column:  2.5\n",
      "median 1st column:  2.5\n"
     ]
    }
   ],
   "source": [
    "print(\"2 Dimension Array: Examples\")\n",
    "np_2d=np.array([[1,2,3],[4,5,6]])\n",
    "print(np_2d)\n",
    "print(\"Shape of array: \",np.shape(np_2d))\n",
    "print(\"Size  of array: \",np.size(np_2d))\n",
    "print(\"Average of row: \",np.average(np_2d,axis=1))\n",
    "print(\"Average of column: \",np.average(np_2d,axis=0))\n",
    "print(\"Average of 2D Array: \",np.average(np_2d)) #Default axis=None\n",
    "print(\"mean 1st column: \",np.mean(np_2d[:,0])) \n",
    "print(\"median 1st column: \",np.median(np_2d[:,0])) "
   ]
  },
  {
   "cell_type": "markdown",
   "metadata": {},
   "source": [
    "### Custom dtype array"
   ]
  },
  {
   "cell_type": "code",
   "execution_count": 72,
   "metadata": {},
   "outputs": [
    {
     "name": "stdout",
     "output_type": "stream",
     "text": [
      "[('SaurabhJAIN', 180) ('Shilpa', 168) ('Meha',  93)]\n",
      "(3,)\n",
      "3\n",
      "168\n",
      "[('Meha',  93) ('Shilpa', 168) ('SaurabhJAIN', 180)]\n"
     ]
    }
   ],
   "source": [
    "dtype=[('name',np.str_,16),('height',int)]\n",
    "values=[('SaurabhJAIN',180),('Shilpa',168),('Meha',93)]\n",
    "np_family=np.array(values, dtype=dtype)\n",
    "print(np_family)\n",
    "print(np.shape(np_family))\n",
    "print(np.size(np_family))\n",
    "print(np_family[1][1])\n",
    "print(np.sort(np_family,order=['height','name']))"
   ]
  },
  {
   "cell_type": "code",
   "execution_count": 73,
   "metadata": {},
   "outputs": [
    {
     "name": "stdout",
     "output_type": "stream",
     "text": [
      "[   5.            8.95833333   12.91666667   16.875        20.83333333\n",
      "   24.79166667   28.75         32.70833333   36.66666667   40.625\n",
      "   44.58333333   48.54166667   52.5          56.45833333   60.41666667\n",
      "   64.375        68.33333333   72.29166667   76.25         80.20833333\n",
      "   84.16666667   88.125        92.08333333   96.04166667  100.        ]\n",
      "[  5   8  12  16  20  24  28  32  36  40  44  48  52  56  60  64  68  72\n",
      "  76  80  84  88  92  96 100]\n"
     ]
    }
   ],
   "source": [
    "#When we knwo the length of the array but not the step, we can use linspace.\n",
    "# Below 25 elements are generated between 5-100 both inclusive\n",
    "np_lin=np.linspace(5,100,25)\n",
    "print(np_lin)\n",
    "np_lin=np.linspace(5,100,25, dtype=int)\n",
    "print(np_lin)"
   ]
  },
  {
   "cell_type": "code",
   "execution_count": 74,
   "metadata": {},
   "outputs": [
    {
     "name": "stdout",
     "output_type": "stream",
     "text": [
      "[[ 0.09959682  0.98574288  0.8694249   0.70567708]\n",
      " [ 0.09005567  0.26466961  0.75942357  0.10407324]\n",
      " [ 0.53711062  0.82407109  0.89309174  0.01311065]]\n"
     ]
    }
   ],
   "source": [
    "# Array of random numbers with shape (3,4), ideally generate numbers between 0-1\n",
    "np_rnd=np.random.random([3,4])\n",
    "print(np_rnd)"
   ]
  },
  {
   "cell_type": "code",
   "execution_count": 75,
   "metadata": {},
   "outputs": [
    {
     "name": "stdout",
     "output_type": "stream",
     "text": [
      "[ 5 10 15]\n"
     ]
    }
   ],
   "source": [
    "# np.arange is equivalent on range method. Below the max is not included and step size is used to increment\n",
    "\n",
    "np_ar=np.arange(5,20,5)\n",
    "print(np_ar)"
   ]
  },
  {
   "cell_type": "markdown",
   "metadata": {},
   "source": [
    "## Inspecting content and structure of the array"
   ]
  },
  {
   "cell_type": "code",
   "execution_count": 76,
   "metadata": {},
   "outputs": [
    {
     "name": "stdout",
     "output_type": "stream",
     "text": [
      "[ 0.62004398  0.83818303  0.62855629  0.8598635   0.73383149  0.84129578\n",
      "  0.63043513  0.23365858  0.67526109  0.99383942  0.68627872  0.14285083\n",
      "  0.7632219   0.94620004  0.29695596  0.34090666  0.48511172  0.73785499\n",
      "  0.38219634  0.41957189  0.26592396  0.94073925  0.14590022  0.42672541\n",
      "  0.13288548  0.71996416  0.9845729   0.36214849  0.94338422  0.9232539\n",
      "  0.12655484  0.62685242  0.81239964  0.49271614  0.4944642   0.49397365\n",
      "  0.53983182  0.6510447   0.99161857  0.19577448  0.40852529  0.16589612\n",
      "  0.40937108  0.84738776  0.30399415  0.48042548  0.37221221  0.77493754\n",
      "  0.81497804  0.69467039  0.61427853  0.00829027  0.48207001  0.95470349\n",
      "  0.50150928  0.1821147   0.11904775  0.4520664   0.08577068  0.7713533\n",
      "  0.19514901  0.641435    0.87407803  0.41682367  0.69216698  0.54099305\n",
      "  0.27034688  0.48283476  0.72236087  0.16934978  0.25714227  0.09937765\n",
      "  0.35554111  0.13284078  0.29732536  0.10706869  0.2032048   0.48479434\n",
      "  0.5266878   0.10429042  0.36818483  0.11737002  0.06380901  0.22921953\n",
      "  0.83617228  0.13384492  0.44965437  0.38122573  0.56482051  0.31069851\n",
      "  0.29306037  0.86768772  0.16013391  0.396124    0.01077194  0.42432301\n",
      "  0.07684472  0.84140693  0.98670168  0.27405818  0.13648244  0.89046287\n",
      "  0.20709858  0.48910489  0.00901238  0.50906608  0.60573291  0.98947746\n",
      "  0.3105468   0.83316002  0.54520911  0.35461812  0.53574462  0.76265774\n",
      "  0.4412128   0.17062823  0.60274562  0.27932901  0.21654778  0.17871018\n",
      "  0.02412153  0.78696868  0.28766368  0.79743358  0.33823128  0.48936261\n",
      "  0.76329773  0.4798466   0.51586918  0.80047573  0.95606832  0.30826671\n",
      "  0.25444918  0.93596175  0.36964306  0.43446994  0.89292397  0.18395798\n",
      "  0.75281775  0.11181274  0.42355554  0.93002778  0.4185722   0.12357526\n",
      "  0.05504761  0.53348483  0.90969718  0.80772037  0.03195744  0.78917276\n",
      "  0.12885046  0.46213876  0.0986719   0.32671511  0.11188862  0.35789301\n",
      "  0.0850015   0.20067632  0.77135152  0.57923617  0.77252421  0.85225009\n",
      "  0.54162474  0.11016075  0.72770712  0.30933908  0.74020567  0.81470174\n",
      "  0.16507534  0.35963873  0.25197255  0.73896928  0.34048832  0.59934118\n",
      "  0.30732783  0.18763919  0.23015662  0.28194676  0.42254842  0.43354364\n",
      "  0.89902162  0.84355402  0.78198375  0.26764389  0.21648776  0.23104852\n",
      "  0.85027005  0.9008972   0.27324003  0.84684462  0.03925577  0.10084387\n",
      "  0.17903248  0.73758883  0.61174821  0.35331607  0.86817766  0.35988225\n",
      "  0.7926909   0.75018551  0.20792612  0.08533567  0.01810135  0.5086534\n",
      "  0.46959692  0.04889172  0.31165011  0.68406563  0.03135628  0.01277293\n",
      "  0.87871127  0.48329868  0.12466605  0.87525874  0.77027544  0.59887714\n",
      "  0.10577089  0.01912163  0.90145119  0.30321365  0.75642448  0.86624003\n",
      "  0.49217087  0.60780047  0.13468102  0.16094975  0.27110791  0.46295649\n",
      "  0.37054171  0.69881353  0.89787043  0.94290178  0.31691716  0.71295448\n",
      "  0.5296125   0.24014661  0.853453    0.52187251  0.87416282  0.17367988\n",
      "  0.95080997  0.93762586  0.87446513  0.41289088  0.29388769  0.26197922\n",
      "  0.56199449  0.15289383  0.6952987   0.32536917  0.51326254  0.49207533\n",
      "  0.95612664  0.67672524  0.23718228  0.6153151   0.58108209  0.63995295\n",
      "  0.9037929   0.55649171  0.1548028   0.0372647   0.77526252  0.72339797\n",
      "  0.19525562  0.87115796  0.986184    0.37295917  0.90155148  0.36501664\n",
      "  0.56226542  0.04889427  0.40072474  0.80416911  0.07428941  0.01374435\n",
      "  0.52004595  0.7164704   0.0051666   0.05823877  0.59349171  0.87820928\n",
      "  0.70676209  0.41132749  0.23697144  0.01479919  0.42900283  0.01100239\n",
      "  0.8064359   0.94916718  0.81831576  0.53110992  0.30137896  0.4327742\n",
      "  0.10048782  0.42473328  0.88038858  0.91298875  0.63618418  0.46447251\n",
      "  0.37704228  0.76956911  0.64122934  0.72022622  0.46670442  0.15898154\n",
      "  0.76523444  0.84102869  0.08612092  0.08282942  0.85928425  0.9093788\n",
      "  0.64568758  0.05995247  0.79698175  0.07545491  0.30735176  0.7902407\n",
      "  0.91957723  0.52733043  0.76162078  0.18969774  0.09578123  0.72025104\n",
      "  0.09870556  0.28105794  0.04021333  0.69543993  0.00664704  0.85095511\n",
      "  0.37497813  0.98482192  0.16777552  0.07902555  0.70824249  0.88450833\n",
      "  0.58644844  0.03217137  0.06879487  0.09976186  0.85543143  0.71864134\n",
      "  0.12158758  0.38996531  0.25860927  0.28558939  0.60427568  0.12572665\n",
      "  0.16819895  0.59764353  0.46158526  0.91991234  0.29338078  0.84538086\n",
      "  0.19226439  0.06818979  0.65253885  0.50317014  0.45625923  0.51136656\n",
      "  0.8796625   0.81937428  0.98047261  0.87718198  0.84293782  0.34208182\n",
      "  0.39805832  0.81208915  0.47443757  0.43897386  0.64286361  0.86227126\n",
      "  0.73292097  0.15986093  0.43003525  0.67169346  0.76658814  0.13124905\n",
      "  0.22711264  0.43440994  0.02531493  0.85629284  0.11047316  0.68412166\n",
      "  0.27575757  0.55071699  0.30186406  0.34673075  0.53296969  0.93144839\n",
      "  0.0347539   0.38180392  0.57096935  0.38240689  0.49596447  0.06393858\n",
      "  0.10630384  0.91514722  0.91846245  0.42846969  0.94978304  0.42394116\n",
      "  0.6372676   0.99374507  0.84395197  0.90180789  0.23365188  0.09497278\n",
      "  0.41263816  0.37058657  0.47836854  0.84248546  0.75878122  0.49003553\n",
      "  0.73939701  0.95125186  0.63209301  0.82956569  0.77793175  0.35168208\n",
      "  0.36223959  0.07016873  0.85668176  0.41293686  0.20624411  0.71377346\n",
      "  0.54735924  0.46031737  0.473377    0.36656918  0.11141457  0.26601917\n",
      "  0.72222028  0.71855875  0.47596288  0.62643124  0.74195234  0.41018149\n",
      "  0.48079608  0.20774406  0.07670445  0.4001428   0.85769958  0.11677309\n",
      "  0.94849393  0.14863241  0.15929752  0.85899753  0.20923323  0.03994052\n",
      "  0.30289302  0.62810927  0.10124725  0.33043959  0.10085835  0.68135514\n",
      "  0.32175591  0.93903877  0.95251539  0.48493139  0.36916127  0.48594516\n",
      "  0.72343845  0.28296656  0.24441816  0.63187882  0.5934575   0.33103354\n",
      "  0.52091298  0.90339821  0.42311092  0.19036827  0.4620609   0.8251638\n",
      "  0.39281545  0.47001334  0.78128657  0.18716222  0.86898887  0.98990317\n",
      "  0.37056597  0.08500031  0.97461769  0.14469226  0.02379758  0.94804614\n",
      "  0.26922578  0.94835075  0.7674047   0.10882794  0.48087696  0.43548178\n",
      "  0.66411686  0.77199611  0.40029473  0.25655575  0.69546131  0.65189424\n",
      "  0.27357175  0.33498523  0.96729462  0.70411281  0.47009734  0.0849476\n",
      "  0.56713537  0.74727185  0.82248429  0.20808664  0.74115782  0.9345317\n",
      "  0.18247822  0.95495971  0.16364333  0.43393055  0.66728719  0.25916928\n",
      "  0.14818891  0.36363527  0.3342028   0.32913142  0.70788344  0.56763249\n",
      "  0.14665924  0.42873458  0.6018562   0.62393993  0.3075978   0.07206544\n",
      "  0.2601503   0.78361599  0.11515231  0.36632959  0.07987519  0.72891319\n",
      "  0.82378595  0.55461142  0.12188588  0.65057483  0.55106301  0.86123741\n",
      "  0.88121113  0.34138094  0.20913796  0.72145837  0.27792867  0.66847199\n",
      "  0.62710701  0.14794868  0.20102059  0.05117506  0.27357658  0.32564979\n",
      "  0.80811466  0.88913916  0.59487418  0.78568786  0.97657667  0.268196\n",
      "  0.34468804  0.32166727  0.94148085  0.65439057  0.53398595  0.30823901\n",
      "  0.00836785  0.29241239  0.94189549  0.72288816  0.5064545   0.96344394\n",
      "  0.85842164  0.81762805  0.24155468  0.47511583  0.02130903  0.3561535\n",
      "  0.99404919  0.08956922  0.46314858  0.00990738  0.86769953  0.06172743\n",
      "  0.42186158  0.2316929   0.12713371  0.610177    0.29708992  0.38527721\n",
      "  0.24651213  0.83767025  0.91185451  0.68687707  0.71920914  0.27593095\n",
      "  0.45793795  0.65861845  0.93124116  0.73192862  0.19198403  0.4077817\n",
      "  0.09160869  0.47606586  0.84295042  0.36524058  0.42750588  0.68208963\n",
      "  0.25565519  0.51157925  0.83445843  0.21352091  0.59814981  0.75966753\n",
      "  0.9900487   0.41225373  0.85338639  0.65963105  0.72729545  0.86984672\n",
      "  0.41865739  0.25194002  0.32162177  0.427105    0.15626881  0.41878703\n",
      "  0.19656282  0.57042417  0.34001786  0.10853261  0.27635189  0.84574787\n",
      "  0.86649063  0.63828084  0.12202195  0.92240325  0.9514759   0.14548254\n",
      "  0.29952021  0.52697584  0.28991177  0.30500845  0.8225562   0.76181611\n",
      "  0.54837235  0.68425714  0.56753068  0.18970266  0.00881938  0.91313531\n",
      "  0.15442571  0.99784574  0.88978785  0.50485953  0.95232125  0.50426901\n",
      "  0.84105253  0.21470198  0.49583462  0.23420311  0.1471682   0.39778207\n",
      "  0.01828635  0.05770682  0.66685902  0.87325451  0.44290781  0.76024908\n",
      "  0.51035765  0.47361494  0.79369207  0.33499177  0.69477657  0.37547322\n",
      "  0.45446364  0.43945161  0.44861914  0.19543405  0.49183379  0.82592995\n",
      "  0.01496123  0.60515983  0.00402187  0.86698734  0.44752346  0.20860403\n",
      "  0.28147407  0.44995945  0.23367373  0.3229895   0.13306891  0.85103732\n",
      "  0.59973604  0.76104929  0.62455698  0.92324927  0.54852103  0.81340387\n",
      "  0.48315104  0.98122661  0.3329278   0.09733627  0.93489428  0.55118437\n",
      "  0.3888389   0.4392104   0.35316715  0.48533     0.1634059   0.76577833\n",
      "  0.4041165   0.71680438  0.41555562  0.94997251  0.6198629   0.43918988\n",
      "  0.69731498  0.3059567   0.15123637  0.07961946  0.15210543  0.07643334\n",
      "  0.26133995  0.08560504  0.28899082  0.55387018  0.41506511  0.2384014\n",
      "  0.04802285  0.58008005  0.44245926  0.54961313  0.11171683  0.33606807\n",
      "  0.22874832  0.66919259  0.87056149  0.87497991  0.86620873  0.78674781\n",
      "  0.58362173  0.0459898   0.88500468  0.30859782  0.68297082  0.66104465\n",
      "  0.92467698  0.5802521   0.96686119  0.36933817  0.97095838  0.27364256\n",
      "  0.10724006  0.85435392  0.9600742   0.47520956  0.25628788  0.06024198\n",
      "  0.59440008  0.61468642  0.3625809   0.62086046  0.67844307  0.09853299\n",
      "  0.79526073  0.18714745  0.80915962  0.55978839  0.91985959  0.92060464\n",
      "  0.11175426  0.40211365  0.33362508  0.95281187  0.1602746   0.70884762\n",
      "  0.48432963  0.83333671  0.30408702  0.82718442  0.8338891   0.85512102\n",
      "  0.37948636  0.48552731  0.89839524  0.76589445  0.88791671  0.11408735\n",
      "  0.69422359  0.11143528  0.09095961  0.38507349  0.47078012  0.4972867\n",
      "  0.8625859   0.33701294  0.45166858  0.21361418  0.75884724  0.95787165\n",
      "  0.20069335  0.51162021  0.59446628  0.54287667  0.27933967  0.1502864\n",
      "  0.61327595  0.86053188  0.49114742  0.68651051  0.41683843  0.40850993\n",
      "  0.23459567  0.71166163  0.84284169  0.49567669  0.9965517   0.17736814\n",
      "  0.67862993  0.89286802  0.56908139  0.66537462  0.99829869  0.34833978\n",
      "  0.88779042  0.58128717  0.93288565  0.08555637  0.72949613  0.41502476\n",
      "  0.46791793  0.08319699  0.3310854   0.82003549  0.16880106  0.82874569\n",
      "  0.77791708  0.09836119  0.70602976  0.94712064  0.8706973   0.93535947\n",
      "  0.34681225  0.84775767  0.56354323  0.78466552  0.45589833  0.25707637\n",
      "  0.08287097  0.44000265  0.53719677  0.60987116  0.45791974  0.28616833\n",
      "  0.47711547  0.44526682  0.13288557  0.19269513  0.84244495  0.90953768\n",
      "  0.83096093  0.56657501  0.09019721  0.51791649  0.02801227  0.3316384\n",
      "  0.59536985  0.43287348  0.75123107  0.77323266  0.49444724  0.93604389\n",
      "  0.21638514  0.01203305  0.92737503  0.22490304  0.71693157  0.40927587\n",
      "  0.33197846  0.14436306  0.1346485   0.53599888  0.34853433  0.85904485\n",
      "  0.48342857  0.1300554   0.69499715  0.26765721  0.62241106  0.18893397\n",
      "  0.31105063  0.39743947  0.2324246   0.54597154  0.80876722  0.8228986\n",
      "  0.61618365  0.72293652  0.47890614  0.15226718  0.1946942   0.48167147\n",
      "  0.54677916  0.96888208  0.48336837  0.20688001  0.39959364  0.47342608\n",
      "  0.23808471  0.23261727  0.30467447  0.07394272  0.71587277  0.28821224\n",
      "  0.10728006  0.37092982  0.72255593  0.11106577  0.22513903  0.25385074\n",
      "  0.65532563  0.37252955  0.14777554  0.92613212  0.85786238  0.64074862\n",
      "  0.20656388  0.32094009  0.2774457   0.00875806  0.32642856  0.4081637\n",
      "  0.40327038  0.83739187  0.13868822  0.6352593   0.85013629  0.10529816\n",
      "  0.27218749  0.79069607  0.75038063  0.48983474  0.81938174  0.70391372\n",
      "  0.16188366  0.05974207  0.94752617  0.95500291  0.00412193  0.3660637\n",
      "  0.22928062  0.54918151  0.2909635   0.25044023  0.80436676  0.47617754\n",
      "  0.76452478  0.05426522  0.32787357  0.48741398  0.47823117  0.52623154\n",
      "  0.58951379  0.52608871  0.97242898  0.33066635  0.10202138  0.99504805\n",
      "  0.43385883  0.10435534  0.07500974  0.49505064  0.37363755  0.83006513\n",
      "  0.73281433  0.68844132  0.25702261  0.71588722  0.49213459  0.23244885\n",
      "  0.57474594  0.50125941  0.93573795  0.28356993  0.00670442  0.57977873\n",
      "  0.81233806  0.75973486  0.14396887  0.18467683  0.2544724   0.74633773\n",
      "  0.65630849  0.6983548   0.230225    0.96770892  0.51982629  0.70977684\n"
     ]
    },
    {
     "name": "stdout",
     "output_type": "stream",
     "text": [
      "  0.56906888  0.86827038  0.53928249  0.46889176]\n"
     ]
    }
   ],
   "source": [
    "rand_array=np.random.random([300,1000])\n",
    "print(rand_array[1,])"
   ]
  },
  {
   "cell_type": "code",
   "execution_count": 77,
   "metadata": {},
   "outputs": [
    {
     "name": "stdout",
     "output_type": "stream",
     "text": [
      "300000\n",
      "(300, 1000)\n",
      "float64\n",
      "8\n",
      "2\n"
     ]
    }
   ],
   "source": [
    "print(np.size(rand_array)) # ->>>> print(rand_array.size)\n",
    "print(np.shape(rand_array)) # ->>>>> print(rand_array.shape)\n",
    "print(rand_array.dtype)\n",
    "print(rand_array.itemsize)\n",
    "print(rand_array.ndim)"
   ]
  },
  {
   "cell_type": "code",
   "execution_count": 78,
   "metadata": {},
   "outputs": [
    {
     "name": "stdout",
     "output_type": "stream",
     "text": [
      "1\n",
      "2\n"
     ]
    }
   ],
   "source": [
    "np_lin=np.linspace(5,100,25)\n",
    "print(np_lin.ndim)\n",
    "reshaped_np_lin=np_lin.reshape(5,5)\n",
    "print(reshaped_np_lin.ndim)"
   ]
  },
  {
   "cell_type": "code",
   "execution_count": 79,
   "metadata": {},
   "outputs": [
    {
     "name": "stdout",
     "output_type": "stream",
     "text": [
      "3\n",
      "4\n",
      "[[[ 0  1  2  3]\n",
      "  [ 4  5  6  7]\n",
      "  [ 8  9 10 11]]\n",
      "\n",
      " [[12 13 14 15]\n",
      "  [16 17 18 19]\n",
      "  [20 21 22 23]]]\n",
      "[[[[ 0  1]\n",
      "   [ 2  3]]\n",
      "\n",
      "  [[ 4  5]\n",
      "   [ 6  7]]\n",
      "\n",
      "  [[ 8  9]\n",
      "   [10 11]]]\n",
      "\n",
      "\n",
      " [[[12 13]\n",
      "   [14 15]]\n",
      "\n",
      "  [[16 17]\n",
      "   [18 19]]\n",
      "\n",
      "  [[20 21]\n",
      "   [22 23]]]]\n"
     ]
    }
   ],
   "source": [
    "dim_3_arr=np.arange(24).reshape(2,3,4)\n",
    "dim_4_arr=np.arange(24).reshape(2,3,2,2)\n",
    "print(dim_3_arr.ndim)\n",
    "print(dim_4_arr.ndim)\n",
    "print(dim_3_arr)\n",
    "print(dim_4_arr)"
   ]
  },
  {
   "cell_type": "markdown",
   "metadata": {},
   "source": [
    "## Subset, slice, indexing and iterating over arrays"
   ]
  },
  {
   "cell_type": "code",
   "execution_count": 80,
   "metadata": {},
   "outputs": [
    {
     "name": "stdout",
     "output_type": "stream",
     "text": [
      "[ 1  2  3  4  5  6  7  8  9 10]\n",
      "[[0 1 2]\n",
      " [3 4 5]\n",
      " [6 7 8]]\n"
     ]
    }
   ],
   "source": [
    "D1_arr=np.linspace(1,10,10,dtype=int)\n",
    "D2_arr=np.arange(9).reshape(3,3)\n",
    "print(D1_arr)\n",
    "print(D2_arr)"
   ]
  },
  {
   "cell_type": "code",
   "execution_count": 81,
   "metadata": {},
   "outputs": [
    {
     "name": "stdout",
     "output_type": "stream",
     "text": [
      "[ 1  2  3  4  5  6  7  8  9 10]\n",
      "[2 4 6]\n",
      "[ 2  4  6  8 10]\n",
      "1\n",
      "2\n",
      "3\n",
      "4\n",
      "5\n",
      "6\n",
      "7\n",
      "8\n",
      "9\n",
      "10\n"
     ]
    }
   ],
   "source": [
    "print(D1_arr[:]) # slice\n",
    "print(D1_arr[[1,3,5]]) # slice\n",
    "print(D1_arr[1::2]) #starting at index 1 printing even numbers (subset)\n",
    "#Iterating\n",
    "for i in D1_arr:\n",
    "    print(i)"
   ]
  },
  {
   "cell_type": "code",
   "execution_count": 82,
   "metadata": {},
   "outputs": [
    {
     "name": "stdout",
     "output_type": "stream",
     "text": [
      "[[0 1 2]\n",
      " [3 4 5]\n",
      " [6 7 8]]\n",
      "[[4 5]\n",
      " [7 8]]\n",
      "[[0 2]\n",
      " [3 5]\n",
      " [6 8]]\n"
     ]
    }
   ],
   "source": [
    "print(D2_arr[:])\n",
    "print(D2_arr[1:3,1:3]) #-->>>> print(D2_arr[1:3,[1,2]])\n",
    "print(D2_arr[:,(0,2)])"
   ]
  },
  {
   "cell_type": "code",
   "execution_count": 86,
   "metadata": {},
   "outputs": [
    {
     "name": "stdout",
     "output_type": "stream",
     "text": [
      "[[ 0  1  2]\n",
      " [ 3  4  5]\n",
      " [ 6  7  8]\n",
      " [ 9 10 11]]\n",
      "[[ 0  3  6  9]\n",
      " [ 1  4  7 10]\n",
      " [ 2  5  8 11]]\n"
     ]
    }
   ],
   "source": [
    "some_arr=np.arange(12).reshape(4,-1)\n",
    "print(some_arr)\n",
    "print(some_arr.T)"
   ]
  },
  {
   "cell_type": "markdown",
   "metadata": {},
   "source": [
    "## Vertical Stacking where columns of stacking elements should be same"
   ]
  },
  {
   "cell_type": "code",
   "execution_count": 92,
   "metadata": {},
   "outputs": [
    {
     "name": "stdout",
     "output_type": "stream",
     "text": [
      "[[ 0  1  2  3]\n",
      " [ 4  5  6  7]\n",
      " [ 8  9 10 11]]  : dimesnion 2  :Shape  (3, 4)\n",
      "[[ 0  1  2  3]\n",
      " [ 4  5  6  7]\n",
      " [ 8  9 10 11]\n",
      " [12 13 14 15]\n",
      " [16 17 18 19]]  : dimesnion 2  :Shape  (5, 4)\n",
      "[[ 0  1  2  3]\n",
      " [ 4  5  6  7]\n",
      " [ 8  9 10 11]\n",
      " [12 13 14 15]\n",
      " [16 17 18 19]\n",
      " [ 0  1  2  3]\n",
      " [ 4  5  6  7]\n",
      " [ 8  9 10 11]]  : dimesnion 2  :Shape  (8, 4)\n"
     ]
    }
   ],
   "source": [
    "D54_arr=np.arange(20).reshape(5,4)\n",
    "D34_arr=np.arange(12).reshape(3,4)\n",
    "D84_arr=np.vstack((D54_arr,D34_arr)) # Will be doing vertical stacking where columns need to be same size\n",
    "print(D34_arr, \" : dimesnion\", D34_arr.ndim, \" :Shape \", D34_arr.shape)\n",
    "print(D54_arr, \" : dimesnion\", D54_arr.ndim, \" :Shape \", D54_arr.shape)\n",
    "print(D84_arr, \" : dimesnion\", D84_arr.ndim, \" :Shape \", D84_arr.shape)"
   ]
  },
  {
   "cell_type": "markdown",
   "metadata": {},
   "source": [
    "# Horizontal Stacking where rows of stacking elements should be same"
   ]
  },
  {
   "cell_type": "code",
   "execution_count": 94,
   "metadata": {},
   "outputs": [
    {
     "name": "stdout",
     "output_type": "stream",
     "text": [
      "[[ 0  1  2  3]\n",
      " [ 4  5  6  7]\n",
      " [ 8  9 10 11]]  : dimesnion 2  :Shape  (3, 4)\n",
      "[[ 0  1  2  3  4]\n",
      " [ 5  6  7  8  9]\n",
      " [10 11 12 13 14]]  : dimesnion 2  :Shape  (3, 5)\n",
      "[[ 0  1  2  3  0  1  2  3  4]\n",
      " [ 4  5  6  7  5  6  7  8  9]\n",
      " [ 8  9 10 11 10 11 12 13 14]]  : dimesnion 2  :Shape  (3, 9)\n"
     ]
    }
   ],
   "source": [
    "D35_arr=np.arange(15).reshape(3,5)\n",
    "D34_arr=np.arange(12).reshape(3,4)\n",
    "D39_arr=np.hstack((D34_arr,D35_arr))\n",
    "print(D34_arr, \" : dimesnion\", D34_arr.ndim, \" :Shape \", D34_arr.shape)\n",
    "print(D35_arr, \" : dimesnion\", D35_arr.ndim, \" :Shape \", D35_arr.shape)\n",
    "print(D39_arr, \" : dimesnion\", D39_arr.ndim, \" :Shape \", D39_arr.shape)"
   ]
  },
  {
   "cell_type": "code",
   "execution_count": 102,
   "metadata": {},
   "outputs": [
    {
     "name": "stdout",
     "output_type": "stream",
     "text": [
      "<class 'numpy.ndarray'>\n",
      "[ 1  2  3  4  5  6  7  8  9 10 11 12 13 14 15 16 17 18 19]\n",
      "[0.5, 0.66666666666666663, 0.75, 0.80000000000000004, 0.83333333333333337, 0.8571428571428571, 0.875, 0.88888888888888884, 0.90000000000000002, 0.90909090909090906, 0.91666666666666663, 0.92307692307692313, 0.9285714285714286, 0.93333333333333335, 0.9375, 0.94117647058823528, 0.94444444444444442, 0.94736842105263153, 0.94999999999999996]\n",
      "[ 0.5         0.66666667  0.75        0.8         0.83333333  0.85714286\n",
      "  0.875       0.88888889  0.9         0.90909091  0.91666667  0.92307692\n",
      "  0.92857143  0.93333333  0.9375      0.94117647  0.94444444  0.94736842\n",
      "  0.95      ]\n"
     ]
    }
   ],
   "source": [
    "a=np.arange(1,20)\n",
    "print(type(a))\n",
    "print(a)\n",
    "\n",
    "a_list=[x/(1+x) for x in a]\n",
    "print(a_list)\n",
    "\n",
    "f=np.vectorize(lambda x: x/(1+x))\n",
    "print(f(a))"
   ]
  },
  {
   "cell_type": "code",
   "execution_count": 112,
   "metadata": {},
   "outputs": [
    {
     "name": "stdout",
     "output_type": "stream",
     "text": [
      "[[  1  10  19  28]\n",
      " [ 37  46  55  64]\n",
      " [ 73  82  91 100]]\n",
      "[[ 0.5         0.90909091  0.95        0.96551724]\n",
      " [ 0.97368421  0.9787234   0.98214286  0.98461538]\n",
      " [ 0.98648649  0.98795181  0.98913043  0.99009901]]\n",
      "[[ 1  3  6]\n",
      " [ 8 11 13]\n",
      " [16 18 21]]    :    [[ 0.04       -0.6         0.36      ]\n",
      " [-0.53333333  1.         -0.46666667]\n",
      " [ 0.42666667 -0.4         0.17333333]]\n",
      "[[  1.00000000e+00  -2.22044605e-16   0.00000000e+00]\n",
      " [  1.66533454e-16   1.00000000e+00  -4.44089210e-16]\n",
      " [ -2.77555756e-16  -1.11022302e-16   1.00000000e+00]]\n"
     ]
    }
   ],
   "source": [
    "d2_arr=np.linspace(1,100,12, dtype=int).reshape(3,4)\n",
    "print(d2_arr)\n",
    "print(f(d2_arr))\n",
    "\n",
    "d2_arr33=np.linspace(1,21,9, dtype=int).reshape(3,3)\n",
    "d2_arr33_inv=np.linalg.inv(d2_arr33)\n",
    "print(d2_arr33, \"   :   \",d2_arr33_inv)\n",
    "print(np.dot(d2_arr33,d2_arr33_inv))"
   ]
  },
  {
   "cell_type": "code",
   "execution_count": 120,
   "metadata": {},
   "outputs": [
    {
     "name": "stdout",
     "output_type": "stream",
     "text": [
      "[[1 2]\n",
      " [3 4]]\n",
      "-2.0\n",
      "[[-2.   1. ]\n",
      " [ 1.5 -0.5]]\n",
      "[[-2.   2. ]\n",
      " [ 4.5 -2. ]]\n",
      "MATRIX Mulitipication is done via np.dot(m1,m2)\n",
      "[[  1.00000000e+00   1.11022302e-16]\n",
      " [  0.00000000e+00   1.00000000e+00]]\n",
      "Help on built-in function dot in module numpy.core.multiarray:\n",
      "\n",
      "dot(...)\n",
      "    dot(a, b, out=None)\n",
      "    \n",
      "    Dot product of two arrays.\n",
      "    \n",
      "    For 2-D arrays it is equivalent to matrix multiplication, and for 1-D\n",
      "    arrays to inner product of vectors (without complex conjugation). For\n",
      "    N dimensions it is a sum product over the last axis of `a` and\n",
      "    the second-to-last of `b`::\n",
      "    \n",
      "        dot(a, b)[i,j,k,m] = sum(a[i,j,:] * b[k,:,m])\n",
      "    \n",
      "    Parameters\n",
      "    ----------\n",
      "    a : array_like\n",
      "        First argument.\n",
      "    b : array_like\n",
      "        Second argument.\n",
      "    out : ndarray, optional\n",
      "        Output argument. This must have the exact kind that would be returned\n",
      "        if it was not used. In particular, it must have the right type, must be\n",
      "        C-contiguous, and its dtype must be the dtype that would be returned\n",
      "        for `dot(a,b)`. This is a performance feature. Therefore, if these\n",
      "        conditions are not met, an exception is raised, instead of attempting\n",
      "        to be flexible.\n",
      "    \n",
      "    Returns\n",
      "    -------\n",
      "    output : ndarray\n",
      "        Returns the dot product of `a` and `b`.  If `a` and `b` are both\n",
      "        scalars or both 1-D arrays then a scalar is returned; otherwise\n",
      "        an array is returned.\n",
      "        If `out` is given, then it is returned.\n",
      "    \n",
      "    Raises\n",
      "    ------\n",
      "    ValueError\n",
      "        If the last dimension of `a` is not the same size as\n",
      "        the second-to-last dimension of `b`.\n",
      "    \n",
      "    See Also\n",
      "    --------\n",
      "    vdot : Complex-conjugating dot product.\n",
      "    tensordot : Sum products over arbitrary axes.\n",
      "    einsum : Einstein summation convention.\n",
      "    matmul : '@' operator as method with out parameter.\n",
      "    \n",
      "    Examples\n",
      "    --------\n",
      "    >>> np.dot(3, 4)\n",
      "    12\n",
      "    \n",
      "    Neither argument is complex-conjugated:\n",
      "    \n",
      "    >>> np.dot([2j, 3j], [2j, 3j])\n",
      "    (-13+0j)\n",
      "    \n",
      "    For 2-D arrays it is the matrix product:\n",
      "    \n",
      "    >>> a = [[1, 0], [0, 1]]\n",
      "    >>> b = [[4, 1], [2, 2]]\n",
      "    >>> np.dot(a, b)\n",
      "    array([[4, 1],\n",
      "           [2, 2]])\n",
      "    \n",
      "    >>> a = np.arange(3*4*5*6).reshape((3,4,5,6))\n",
      "    >>> b = np.arange(3*4*5*6)[::-1].reshape((5,4,6,3))\n",
      "    >>> np.dot(a, b)[2,3,2,1,2,2]\n",
      "    499128\n",
      "    >>> sum(a[2,3,2,:] * b[1,2,:,2])\n",
      "    499128\n",
      "\n"
     ]
    }
   ],
   "source": [
    "mat=np.array([[1,2],[3,4]],dtype=int)\n",
    "print(mat)\n",
    "print(np.linalg.det(mat))\n",
    "print(np.linalg.inv(mat))\n",
    "print(mat*np.linalg.inv(mat)) #element wise multipication this is not equivalent to MATRIX multipication\n",
    "\n",
    "print(\"MATRIX Mulitipication is done via np.dot(m1,m2)\")\n",
    "print(np.dot(mat,np.linalg.inv(mat)))\n",
    "help(np.dot)"
   ]
  },
  {
   "cell_type": "code",
   "execution_count": null,
   "metadata": {
    "collapsed": true
   },
   "outputs": [],
   "source": []
  }
 ],
 "metadata": {
  "kernelspec": {
   "display_name": "Python 3",
   "language": "python",
   "name": "python3"
  },
  "language_info": {
   "codemirror_mode": {
    "name": "ipython",
    "version": 3
   },
   "file_extension": ".py",
   "mimetype": "text/x-python",
   "name": "python",
   "nbconvert_exporter": "python",
   "pygments_lexer": "ipython3",
   "version": "3.6.1"
  }
 },
 "nbformat": 4,
 "nbformat_minor": 2
}
