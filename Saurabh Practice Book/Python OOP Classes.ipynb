{
 "cells": [
  {
   "cell_type": "markdown",
   "metadata": {},
   "source": [
    "### Functions and Functional Proramming\n",
    "\n",
    "    * reference: Python Essential Refernece (4) David M. Beazley"
   ]
  },
  {
   "cell_type": "markdown",
   "metadata": {},
   "source": [
    "#### Notes\n",
    "\n",
    "  - TypeError: When order of argument don't match in function\n",
    "  - SyntaxError: When all the parameter following optional parameters are not assigned with value"
   ]
  },
  {
   "cell_type": "code",
   "execution_count": 1,
   "metadata": {},
   "outputs": [],
   "source": [
    "def TypeErrorFunc(x,y):\n",
    "    return (x+y)\n",
    "# ---------------------------------------------------------------------------\n",
    "# TypeErrorFunc(1)\n",
    "# TypeError: TypeErrorFunc() missing 1 required positional argument: 'y'\n",
    "\n",
    "# def SyntaxErrorFunc(x=1,y):\n",
    "#     return x+y\n",
    "# SyntaxError: non-default argument follows default argument"
   ]
  },
  {
   "cell_type": "markdown",
   "metadata": {},
   "source": [
    "#### Mutable object as default parameter: Unintended behavior"
   ]
  },
  {
   "cell_type": "code",
   "execution_count": 2,
   "metadata": {},
   "outputs": [
    {
     "name": "stdout",
     "output_type": "stream",
     "text": [
      "[1]\n",
      "[1, 2]\n",
      "[1]\n",
      "[2]\n"
     ]
    }
   ],
   "source": [
    "def foo(x, items=[]):\n",
    "    items.append(x)\n",
    "    return items\n",
    "print(foo(1))\n",
    "print(foo(2))\n",
    "# Correcting implementation as we are expecting above to return [1] and [2]\n",
    "def foo(x, items=None):\n",
    "    if items is None:\n",
    "        items = []\n",
    "    items.append(x)\n",
    "    return items\n",
    "print(foo(1))\n",
    "print(foo(2))"
   ]
  },
  {
   "cell_type": "code",
   "execution_count": 3,
   "metadata": {},
   "outputs": [
    {
     "name": "stdout",
     "output_type": "stream",
     "text": [
      "42 hello 3.450000\n",
      "42 hello 3.45\n",
      "42 hello 3.45 0.33333\n",
      "42 hello 3.45 0.33333\n"
     ]
    }
   ],
   "source": [
    "# Any number of parameters\n",
    "def printf(fmt, *args):\n",
    "    print(fmt % args)\n",
    "    print(*args)\n",
    "    \n",
    "printf(\"%d %s %f\",42,'hello',3.45)\n",
    "printf(\"%d %s %.2f %.5f\",42,'hello',3.45,.33333)"
   ]
  },
  {
   "cell_type": "code",
   "execution_count": 4,
   "metadata": {},
   "outputs": [
    {
     "name": "stdout",
     "output_type": "stream",
     "text": [
      "6\n"
     ]
    }
   ],
   "source": [
    "def func(a,b,c):\n",
    "    print(a+b+c)\n",
    "def func1(*args):\n",
    "    func(*args[0:3]) #unwrapping of the tuple, in case of more parameters are passed TypeError\n",
    "func1(1,2,3,5)"
   ]
  },
  {
   "cell_type": "code",
   "execution_count": 5,
   "metadata": {},
   "outputs": [
    {
     "name": "stdout",
     "output_type": "stream",
     "text": [
      "1 2 3\n"
     ]
    }
   ],
   "source": [
    "tup=(1,2,3,4)\n",
    "print(*tup[0:3])\n",
    "dict={'fgcolor':'red',\n",
    "     'bgcolor':'white'}\n",
    "# for k in range(0,len(dict.keys())):\n",
    "#     print(dict.popitem())\n",
    "# lst=list(dict.items())\n",
    "lst=list(dict)\n",
    "# dict.pop()"
   ]
  },
  {
   "cell_type": "code",
   "execution_count": 6,
   "metadata": {},
   "outputs": [],
   "source": [
    "def config_getter(**configuration):\n",
    "    fgcolor=configuration.pop(\"fgcolor\",\"black\")\n",
    "    bgcolor=configuration.pop(\"bgcolor\",\"white\")\n",
    "    if configuration:\n",
    "        raise TypeError(\"Unsupported configuration options %s\" % list(configuration))\n",
    "    else:\n",
    "        print(fgcolor,bgcolor)"
   ]
  },
  {
   "cell_type": "code",
   "execution_count": 7,
   "metadata": {},
   "outputs": [
    {
     "name": "stdout",
     "output_type": "stream",
     "text": [
      "black purple\n"
     ]
    }
   ],
   "source": [
    "config_getter(bgcolor='purple')"
   ]
  },
  {
   "cell_type": "code",
   "execution_count": 8,
   "metadata": {},
   "outputs": [
    {
     "name": "stdout",
     "output_type": "stream",
     "text": [
      "13\n",
      "42\n",
      "T-minus 4\n",
      "T-minus 3\n",
      "T-minus 2\n",
      "T-minus 1\n",
      "T-minus 4\n",
      "T-minus 3\n",
      "T-minus 2\n",
      "T-minus 1\n"
     ]
    }
   ],
   "source": [
    "a=42\n",
    "def foo():\n",
    "#     global a\n",
    "    a=13\n",
    "    print(a)\n",
    "foo()\n",
    "print(a)\n",
    "\n",
    "# nested functions Lexical scoping\n",
    "def countdown(start):\n",
    "    n=start\n",
    "    def display():\n",
    "        print(\"T-minus %d\" % n)\n",
    "    while n>0:\n",
    "        display()\n",
    "        n-=1\n",
    "\n",
    "countdown(4)\n",
    "\n",
    "def countdown(start):\n",
    "    n=start\n",
    "    def display():\n",
    "        print(\"T-minus %d\" % n)\n",
    "    def decrement():\n",
    "        nonlocal n\n",
    "        n-=1\n",
    "    while n>0:\n",
    "        display()\n",
    "        decrement()\n",
    "countdown(4)"
   ]
  },
  {
   "cell_type": "code",
   "execution_count": 12,
   "metadata": {},
   "outputs": [
    {
     "data": {
      "text/plain": [
       "'Hello World! value of x is 37'"
      ]
     },
     "execution_count": 12,
     "metadata": {},
     "output_type": "execute_result"
    }
   ],
   "source": [
    "#closures IMPORTANT\n",
    "import foo\n",
    "helloworldx=37\n",
    "def helloworld():\n",
    "    return 'Hello World! value of x is %d' % helloworldx\n",
    "\n",
    "foo.callf(helloworld)\n",
    "# helloworld.__globals__"
   ]
  },
  {
   "cell_type": "code",
   "execution_count": 20,
   "metadata": {},
   "outputs": [
    {
     "name": "stdout",
     "output_type": "stream",
     "text": [
      "<function countdown.<locals>.next at 0x0000000004759D90>\n",
      "10\n",
      "9\n",
      "8\n",
      "7\n",
      "6\n",
      "5\n",
      "4\n",
      "3\n",
      "2\n",
      "1\n",
      "0\n"
     ]
    }
   ],
   "source": [
    "#closures IMPORTANT\n",
    "def countdown(n):\n",
    "    def next():\n",
    "        nonlocal n\n",
    "        r = n\n",
    "        n -= 1\n",
    "        return r\n",
    "    return next\n",
    "# Example use\n",
    "next = countdown(10)\n",
    "print(next)\n",
    "while True:\n",
    "    v = next() # Get the next value\n",
    "    print(v)\n",
    "    if not v: break"
   ]
  },
  {
   "cell_type": "code",
   "execution_count": 18,
   "metadata": {},
   "outputs": [
    {
     "data": {
      "text/plain": [
       "-3"
      ]
     },
     "execution_count": 18,
     "metadata": {},
     "output_type": "execute_result"
    }
   ],
   "source": [
    "next()"
   ]
  },
  {
   "cell_type": "code",
   "execution_count": null,
   "metadata": {},
   "outputs": [],
   "source": []
  }
 ],
 "metadata": {
  "kernelspec": {
   "display_name": "Python 3",
   "language": "python",
   "name": "python3"
  },
  "language_info": {
   "codemirror_mode": {
    "name": "ipython",
    "version": 3
   },
   "file_extension": ".py",
   "mimetype": "text/x-python",
   "name": "python",
   "nbconvert_exporter": "python",
   "pygments_lexer": "ipython3",
   "version": "3.5.5"
  }
 },
 "nbformat": 4,
 "nbformat_minor": 2
}
