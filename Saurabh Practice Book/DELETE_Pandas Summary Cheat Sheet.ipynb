{
 "cells": [
  {
   "cell_type": "code",
   "execution_count": 1,
   "metadata": {
    "collapsed": true
   },
   "outputs": [],
   "source": [
    "import pandas as pd # importing pandas module\n",
    "import numpy as np\n",
    "\n",
    "#MAJOR OPERATIONS\n",
    "\n",
    "# CRETAION\n",
    "# INDEXING\n",
    "# SLICING\n",
    "# SUBSETTING -> GROUPING & FILTERING"
   ]
  },
  {
   "cell_type": "code",
   "execution_count": 8,
   "metadata": {},
   "outputs": [
    {
     "name": "stdout",
     "output_type": "stream",
     "text": [
      "0    0\n",
      "1    1\n",
      "2    2\n",
      "3    3\n",
      "4    4\n",
      "5    5\n",
      "6    6\n",
      "7    7\n",
      "8    8\n",
      "9    9\n",
      "dtype: int32\n",
      "0    1\n",
      "1    2\n",
      "2    3\n",
      "3    4\n",
      "4    5\n",
      "dtype: object\n",
      "(0, 1)\n",
      "(1, 2)\n",
      "(2, 3)\n",
      "(3, '4')\n",
      "(4, 5)\n",
      " <class 'int'> 1\n",
      " <class 'int'> 2\n",
      " <class 'int'> 3\n",
      " <class 'str'> 4\n",
      " <class 'int'> 5\n",
      "5 : 5\n"
     ]
    },
    {
     "data": {
      "text/plain": [
       "count     5\n",
       "unique    5\n",
       "top       4\n",
       "freq      1\n",
       "dtype: object"
      ]
     },
     "execution_count": 8,
     "metadata": {},
     "output_type": "execute_result"
    }
   ],
   "source": [
    "# Two main Datastructure in Pandas \n",
    "# 1: Series 2: DataFrame\n",
    "\n",
    "# Creation of Panda Series (similar to numpy array prefers a single type)\n",
    "# NOTE: Series or dataframe both are indexed\n",
    "\n",
    "# CREATION OF SERIES\n",
    "pd_s1=pd.Series(np.arange(10))\n",
    "pd_s2=pd.Series([1,2,3,'4',5])\n",
    "print(pd_s1)\n",
    "print(pd_s2)\n",
    "#This is will be tuple with index and value\n",
    "for i in pd_s2.items():\n",
    "    print((i))\n",
    "\n",
    "# To Acess Values\n",
    "\n",
    "for i in pd_s2.values:\n",
    "    print(\" {} {}\".format(type(i),i))\n",
    "    \n",
    "#pd_s2.sum() #TypeError: unsupported operand type(s) for +: 'int' and 'str'\n",
    "\n",
    "# To know length of a series\n",
    "print(\"{} : {}\".format(len(pd_s2.index),len(pd_s2)))\n",
    "pd_s2.describe()"
   ]
  },
  {
   "cell_type": "code",
   "execution_count": 7,
   "metadata": {},
   "outputs": [
    {
     "name": "stdout",
     "output_type": "stream",
     "text": [
      "   age bgroup name\n",
      "0    1     A+    A\n",
      "1    2     B+    B\n",
      "2    3     O+    C\n",
      "3    4    AB+    D\n"
     ]
    },
    {
     "data": {
      "text/html": [
       "<div>\n",
       "<style>\n",
       "    .dataframe thead tr:only-child th {\n",
       "        text-align: right;\n",
       "    }\n",
       "\n",
       "    .dataframe thead th {\n",
       "        text-align: left;\n",
       "    }\n",
       "\n",
       "    .dataframe tbody tr th {\n",
       "        vertical-align: top;\n",
       "    }\n",
       "</style>\n",
       "<table border=\"1\" class=\"dataframe\">\n",
       "  <thead>\n",
       "    <tr style=\"text-align: right;\">\n",
       "      <th></th>\n",
       "      <th>age</th>\n",
       "    </tr>\n",
       "  </thead>\n",
       "  <tbody>\n",
       "    <tr>\n",
       "      <th>count</th>\n",
       "      <td>4.000000</td>\n",
       "    </tr>\n",
       "    <tr>\n",
       "      <th>mean</th>\n",
       "      <td>2.500000</td>\n",
       "    </tr>\n",
       "    <tr>\n",
       "      <th>std</th>\n",
       "      <td>1.290994</td>\n",
       "    </tr>\n",
       "    <tr>\n",
       "      <th>min</th>\n",
       "      <td>1.000000</td>\n",
       "    </tr>\n",
       "    <tr>\n",
       "      <th>25%</th>\n",
       "      <td>1.750000</td>\n",
       "    </tr>\n",
       "    <tr>\n",
       "      <th>50%</th>\n",
       "      <td>2.500000</td>\n",
       "    </tr>\n",
       "    <tr>\n",
       "      <th>75%</th>\n",
       "      <td>3.250000</td>\n",
       "    </tr>\n",
       "    <tr>\n",
       "      <th>max</th>\n",
       "      <td>4.000000</td>\n",
       "    </tr>\n",
       "  </tbody>\n",
       "</table>\n",
       "</div>"
      ],
      "text/plain": [
       "            age\n",
       "count  4.000000\n",
       "mean   2.500000\n",
       "std    1.290994\n",
       "min    1.000000\n",
       "25%    1.750000\n",
       "50%    2.500000\n",
       "75%    3.250000\n",
       "max    4.000000"
      ]
     },
     "execution_count": 7,
     "metadata": {},
     "output_type": "execute_result"
    }
   ],
   "source": [
    "## DATA FRAME\n",
    "       ## CREATION\n",
    "# from Dictionary\n",
    "pd_df=pd.DataFrame({\n",
    "    'name':['A','B','C','D']\n",
    "    ,'age':[1,2,3,4]\n",
    "    ,'bgroup':['A+','B+','O+','AB+']\n",
    "})\n",
    "\n",
    "# from CSV\n",
    "curr_df=pd.read_csv('currencies.csv')\n",
    "print(pd_df.head()) # first 5 elements\n",
    "curr_df.tail(2) # last 2\n",
    "pd_df.describe() # describe numerical values columns\n",
    "#NOTE: % defined are percentile each gives a quartile, median\n",
    "# FORMULAT: Percentile / 100 * (number of items + 1)"
   ]
  },
  {
   "cell_type": "code",
   "execution_count": null,
   "metadata": {
    "collapsed": true
   },
   "outputs": [],
   "source": []
  },
  {
   "cell_type": "code",
   "execution_count": null,
   "metadata": {},
   "outputs": [],
   "source": [
    "curr_df.describe()# described the numerical columns of dataframe"
   ]
  },
  {
   "cell_type": "code",
   "execution_count": null,
   "metadata": {},
   "outputs": [],
   "source": [
    "curr_df.info() # provide details around data type of columns"
   ]
  },
  {
   "cell_type": "code",
   "execution_count": null,
   "metadata": {
    "collapsed": true
   },
   "outputs": [],
   "source": []
  }
 ],
 "metadata": {
  "kernelspec": {
   "display_name": "Python 3",
   "language": "python",
   "name": "python3"
  },
  "language_info": {
   "codemirror_mode": {
    "name": "ipython",
    "version": 3
   },
   "file_extension": ".py",
   "mimetype": "text/x-python",
   "name": "python",
   "nbconvert_exporter": "python",
   "pygments_lexer": "ipython3",
   "version": "3.6.1"
  }
 },
 "nbformat": 4,
 "nbformat_minor": 2
}
