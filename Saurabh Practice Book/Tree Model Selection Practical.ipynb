{
 "cells": [
  {
   "cell_type": "code",
   "execution_count": 104,
   "metadata": {},
   "outputs": [],
   "source": [
    "%config IPComplete.greedy = True"
   ]
  },
  {
   "cell_type": "code",
   "execution_count": 105,
   "metadata": {},
   "outputs": [],
   "source": [
    "import pandas as pd\n",
    "from sklearn.linear_model import LogisticRegression\n",
    "from sklearn.feature_selection import RFE\n",
    "import statsmodels.api as sm"
   ]
  },
  {
   "cell_type": "code",
   "execution_count": 106,
   "metadata": {},
   "outputs": [
    {
     "name": "stdout",
     "output_type": "stream",
     "text": [
      "(200, 3)\n",
      "<class 'pandas.core.frame.DataFrame'>\n",
      "RangeIndex: 200 entries, 0 to 199\n",
      "Data columns (total 3 columns):\n",
      "ratio    200 non-null float64\n",
      "time     200 non-null float64\n",
      "label    200 non-null object\n",
      "dtypes: float64(2), object(1)\n",
      "memory usage: 4.8+ KB\n",
      "None\n",
      "   ratio  time   label\n",
      "0   0.54  17.2  female\n",
      "1   0.93  18.2    male\n",
      "2   0.84  13.6  female\n",
      "3   0.19   6.0    male\n",
      "4   0.89  13.2  female\n",
      "   ratio  time   label\n",
      "0   0.54  17.2  female\n",
      "1   0.93  18.2    male\n",
      "2   0.84  13.6  female\n",
      "3   0.19   6.0    male\n",
      "4   0.89  13.2  female\n",
      "<class 'pandas.core.frame.DataFrame'>\n",
      "RangeIndex: 200 entries, 0 to 199\n",
      "Data columns (total 3 columns):\n",
      "ratio    200 non-null float64\n",
      "time     200 non-null float64\n",
      "label    200 non-null category\n",
      "dtypes: category(1), float64(2)\n",
      "memory usage: 3.5 KB\n",
      "None\n",
      "   ratio  time  label\n",
      "0   0.54  17.2      0\n",
      "1   0.93  18.2      1\n",
      "2   0.84  13.6      0\n",
      "3   0.19   6.0      1\n",
      "4   0.89  13.2      0\n",
      "<class 'pandas.core.frame.DataFrame'>\n",
      "RangeIndex: 200 entries, 0 to 199\n",
      "Data columns (total 3 columns):\n",
      "ratio    200 non-null float64\n",
      "time     200 non-null float64\n",
      "label    200 non-null int8\n",
      "dtypes: float64(2), int8(1)\n",
      "memory usage: 3.4 KB\n",
      "None\n"
     ]
    }
   ],
   "source": [
    "# READING \n",
    "e_com=pd.read_csv('ecommerce_consumers.csv')\n",
    "print(e_com.shape)\n",
    "print(e_com.info())\n",
    "print(e_com.head())\n",
    "\n",
    "### CAETGORICAL CONVERSION IS REQIORED FOR LOGISTIC REGRESSION AS IT REQUIRES CONTINUOUS VARIABLE\n",
    "\n",
    "e_com['label']=e_com['label'].astype('category')\n",
    "print(e_com.head())\n",
    "print(e_com.info())\n",
    "e_com['label']=e_com['label'].cat.codes\n",
    "print(e_com.head())\n",
    "print(e_com.info())\n",
    "#e_com['label']=e_com['label'].astype('float')\n",
    "#print(e_com.head())\n",
    "#print(e_com.info())"
   ]
  },
  {
   "cell_type": "code",
   "execution_count": 107,
   "metadata": {},
   "outputs": [
    {
     "name": "stdout",
     "output_type": "stream",
     "text": [
      "   ratio  time\n",
      "0   0.54  17.2\n",
      "1   0.93  18.2\n",
      "2   0.84  13.6\n",
      "3   0.19   6.0\n",
      "4   0.89  13.2\n",
      "0    0\n",
      "1    1\n",
      "2    0\n",
      "3    1\n",
      "4    0\n",
      "Name: label, dtype: int8\n"
     ]
    }
   ],
   "source": [
    "## AS DATA IS NORMALIZED WE WILL JUST EXTRACT X AND Y FROM IT\n",
    "X=e_com.drop(['label'],axis=1)\n",
    "print(X.head())\n",
    "y=e_com['label']\n",
    "print(y.head())"
   ]
  },
  {
   "cell_type": "markdown",
   "metadata": {},
   "source": [
    "### Splitting datainto train and test"
   ]
  },
  {
   "cell_type": "code",
   "execution_count": 108,
   "metadata": {},
   "outputs": [
    {
     "name": "stdout",
     "output_type": "stream",
     "text": [
      "X:train- <class 'pandas.core.frame.DataFrame'>, X:test- <class 'pandas.core.frame.DataFrame'> | y:train- <class 'pandas.core.series.Series'>, y:test- <class 'pandas.core.series.Series'>\n",
      "X:train-      ratio  time\n",
      "74    0.35  14.4\n",
      "3     0.19   6.0\n",
      "185   0.38  20.0\n",
      "26    0.02  11.2\n",
      "90    0.60  13.6, X:test-      ratio  time\n",
      "126   0.15   9.8\n",
      "104   0.77   7.4\n",
      "99    0.19  20.0\n",
      "92    0.67  13.2\n",
      "111   0.12   9.4 | y:train- 74     0\n",
      "3      1\n",
      "185    1\n",
      "26     1\n",
      "90     0\n",
      "Name: label, dtype: int8, y:test- 126    1\n",
      "104    1\n",
      "99     1\n",
      "92     0\n",
      "111    1\n",
      "Name: label, dtype: int8\n",
      "X:train- <class 'pandas.core.frame.DataFrame'>, X:test- <class 'pandas.core.frame.DataFrame'> | y:train- <class 'pandas.core.series.Series'>, y:test- <class 'pandas.core.series.Series'>\n",
      "X:train-      ratio  time\n",
      "74    0.35  14.4\n",
      "3     0.19   6.0\n",
      "185   0.38  20.0\n",
      "26    0.02  11.2\n",
      "90    0.60  13.6, X:test-      ratio  time\n",
      "126   0.15   9.8\n",
      "104   0.77   7.4\n",
      "99    0.19  20.0\n",
      "92    0.67  13.2\n",
      "111   0.12   9.4 | y:train- 74     0\n",
      "3      1\n",
      "185    1\n",
      "26     1\n",
      "90     0\n",
      "Name: label, dtype: int8, y:test- 126    1\n",
      "104    1\n",
      "99     1\n",
      "92     0\n",
      "111    1\n",
      "Name: label, dtype: int8\n"
     ]
    }
   ],
   "source": [
    "from sklearn.cross_validation import train_test_split\n",
    "X_train,X_test,y_train,y_test=train_test_split(X,y,train_size=.7,random_state=100)\n",
    "print(\"X:train- {0}, X:test- {1} | y:train- {2}, y:test- {3}\".format(type(X_train),type(X_test),type(y_train),type(y_test)))\n",
    "print(\"X:train- {0}, X:test- {1} | y:train- {2}, y:test- {3}\".format(X_train.head(),X_test.head(),y_train[0:5],y_test[0:5]))\n",
    "\n",
    "#### TRAIN_TEST_SPLIT CAN BE DONE FROM EITHER OF PACAKAGE\n",
    "\n",
    "from sklearn.model_selection import train_test_split\n",
    "X_train,X_test,y_train,y_test=train_test_split(X,y,train_size=.7,random_state=100)\n",
    "print(\"X:train- {0}, X:test- {1} | y:train- {2}, y:test- {3}\".format(type(X_train),type(X_test),type(y_train),type(y_test)))\n",
    "print(\"X:train- {0}, X:test- {1} | y:train- {2}, y:test- {3}\".format(X_train.head(),X_test.head(),y_train[0:5],y_test[0:5]))"
   ]
  },
  {
   "cell_type": "code",
   "execution_count": 109,
   "metadata": {},
   "outputs": [
    {
     "data": {
      "text/html": [
       "<div>\n",
       "<style scoped>\n",
       "    .dataframe tbody tr th:only-of-type {\n",
       "        vertical-align: middle;\n",
       "    }\n",
       "\n",
       "    .dataframe tbody tr th {\n",
       "        vertical-align: top;\n",
       "    }\n",
       "\n",
       "    .dataframe thead th {\n",
       "        text-align: right;\n",
       "    }\n",
       "</style>\n",
       "<table border=\"1\" class=\"dataframe\">\n",
       "  <thead>\n",
       "    <tr style=\"text-align: right;\">\n",
       "      <th></th>\n",
       "      <th>ratio</th>\n",
       "      <th>time</th>\n",
       "    </tr>\n",
       "  </thead>\n",
       "  <tbody>\n",
       "    <tr>\n",
       "      <th>74</th>\n",
       "      <td>0.35</td>\n",
       "      <td>14.4</td>\n",
       "    </tr>\n",
       "    <tr>\n",
       "      <th>3</th>\n",
       "      <td>0.19</td>\n",
       "      <td>6.0</td>\n",
       "    </tr>\n",
       "    <tr>\n",
       "      <th>185</th>\n",
       "      <td>0.38</td>\n",
       "      <td>20.0</td>\n",
       "    </tr>\n",
       "    <tr>\n",
       "      <th>26</th>\n",
       "      <td>0.02</td>\n",
       "      <td>11.2</td>\n",
       "    </tr>\n",
       "    <tr>\n",
       "      <th>90</th>\n",
       "      <td>0.60</td>\n",
       "      <td>13.6</td>\n",
       "    </tr>\n",
       "  </tbody>\n",
       "</table>\n",
       "</div>"
      ],
      "text/plain": [
       "     ratio  time\n",
       "74    0.35  14.4\n",
       "3     0.19   6.0\n",
       "185   0.38  20.0\n",
       "26    0.02  11.2\n",
       "90    0.60  13.6"
      ]
     },
     "execution_count": 109,
     "metadata": {},
     "output_type": "execute_result"
    }
   ],
   "source": [
    "#X_test.reset_index(inplace=True)\n",
    "#X_test.drop('level_0',axis=1)\n",
    "X_train.head()"
   ]
  },
  {
   "cell_type": "markdown",
   "metadata": {},
   "source": [
    "### Logistic Regression Model\n",
    "\n",
    "#### TWO ways of building same\n",
    "      1: via statsmodel.api \n",
    "            1.1 GLM --> (Fit by maximum likelihood)(Generalized Linear Model)\n",
    "            1.2 logit -->The user can choose from among many common optimization methods, but the default is Newton-Raphson \n",
    "                        (which, it turns out, is equivalent to iteratively reweighted least squares for logistic regression).\n",
    "      2: via sklearn.linear_model LogisticRegression() ---> It penalizes and in some way regularized during model building.\n",
    "      \n",
    "#### http://www.kellieottoboni.com/posts/2017/07/logistic-regression-python/"
   ]
  },
  {
   "cell_type": "code",
   "execution_count": 110,
   "metadata": {},
   "outputs": [],
   "source": [
    "#import statsmodels.api as sm\n",
    "#lm1=sm.GLM(y_train,(sm.add_constant(X_train)),family=sm.families.Binomial())\n",
    "#lm1.fit().summary()\n",
    "\n",
    "\n",
    "#logm1 = sm.GLM(y_train,(sm.add_constant(X_train)), family = sm.families.Binomial())\n",
    "#logm1.fit().summary()"
   ]
  },
  {
   "cell_type": "code",
   "execution_count": 111,
   "metadata": {},
   "outputs": [
    {
     "data": {
      "text/plain": [
       "LogisticRegression(C=1.0, class_weight=None, dual=False, fit_intercept=True,\n",
       "          intercept_scaling=1, max_iter=100, multi_class='ovr', n_jobs=1,\n",
       "          penalty='l2', random_state=None, solver='liblinear', tol=0.0001,\n",
       "          verbose=0, warm_start=False)"
      ]
     },
     "execution_count": 111,
     "metadata": {},
     "output_type": "execute_result"
    }
   ],
   "source": [
    "#X_test.ratio=X_test.ratio.reshape(-1,1)\n",
    "from sklearn import metrics\n",
    "logsk = LogisticRegression()\n",
    "logsk.fit(X_train, y_train)"
   ]
  },
  {
   "cell_type": "code",
   "execution_count": 112,
   "metadata": {},
   "outputs": [
    {
     "data": {
      "text/plain": [
       "<matplotlib.axes._subplots.AxesSubplot at 0xdabc748>"
      ]
     },
     "execution_count": 112,
     "metadata": {},
     "output_type": "execute_result"
    },
    {
     "data": {
      "image/png": "[encoded data removed]",
      "text/plain": [
       "<Figure size 1440x720 with 2 Axes>"
      ]
     },
     "metadata": {},
     "output_type": "display_data"
    }
   ],
   "source": [
    "import matplotlib.pyplot as plt\n",
    "import seaborn as sns\n",
    "plt.figure(figsize = (20,10))\n",
    "sns.heatmap(X_train.corr(),annot = True)"
   ]
  },
  {
   "cell_type": "code",
   "execution_count": 113,
   "metadata": {},
   "outputs": [
    {
     "name": "stdout",
     "output_type": "stream",
     "text": [
      "0.7\n",
      "0.7\n",
      "0.3444840274986575\n",
      "0.6555159725013425\n"
     ]
    }
   ],
   "source": [
    "y_pred = logsk.predict_proba(X_test)\n",
    "y_pred[:,1]\n",
    "y_pred_df=pd.DataFrame(y_pred)\n",
    "y_pred_df.rename({0:'ratio',1:'time'},inplace=True,axis=1)\n",
    "y_pred_df['ratio_F']=y_pred_df.time.map(lambda x: 1 if x>0.5 else 0)\n",
    "print(metrics.accuracy_score(y_test,y_pred_df.ratio_F))\n",
    "#combined Probability\n",
    "y_pred_df['combined_prob']=(y_pred_df.ratio+y_pred_df.time)\n",
    "y_pred_df['combined_prob_F']=y_pred_df.combined_prob.map(lambda x: 1 if x>0.5 else 0)\n",
    "print(metrics.accuracy_score(y_test,y_pred_df.combined_prob_F))\n",
    "import numpy as np\n",
    "print(y_pred_df.ratio[2])\n",
    "print(y_pred_df.time[2])"
   ]
  },
  {
   "cell_type": "code",
   "execution_count": 114,
   "metadata": {},
   "outputs": [
    {
     "name": "stdout",
     "output_type": "stream",
     "text": [
      "Accuracy of logistic regression classifier on test set: 0.70\n"
     ]
    }
   ],
   "source": [
    "print('Accuracy of logistic regression classifier on test set: {:.2f}'.format(logsk.score(X_test, y_test)))"
   ]
  },
  {
   "cell_type": "code",
   "execution_count": 126,
   "metadata": {},
   "outputs": [
    {
     "name": "stdout",
     "output_type": "stream",
     "text": [
      "[[ 0 18]\n",
      " [ 0 42]]\n"
     ]
    }
   ],
   "source": [
    "from sklearn.metrics import confusion_matrix\n",
    "confusion = confusion_matrix(y_test, y_pred_df.ratio_F)\n",
    "print(confusion)"
   ]
  },
  {
   "cell_type": "code",
   "execution_count": 127,
   "metadata": {},
   "outputs": [
    {
     "name": "stdout",
     "output_type": "stream",
     "text": [
      "             precision    recall  f1-score   support\n",
      "\n",
      "          0       0.00      0.00      0.00        18\n",
      "          1       0.70      1.00      0.82        42\n",
      "\n",
      "avg / total       0.49      0.70      0.58        60\n",
      "\n"
     ]
    },
    {
     "name": "stderr",
     "output_type": "stream",
     "text": [
      "C:\\ProgramData\\Anaconda2\\lib\\site-packages\\sklearn\\metrics\\classification.py:1135: UndefinedMetricWarning: Precision and F-score are ill-defined and being set to 0.0 in labels with no predicted samples.\n",
      "  'precision', 'predicted', average, warn_for)\n"
     ]
    }
   ],
   "source": [
    "from sklearn.metrics import classification_report\n",
    "print(classification_report(y_test, y_pred_df.ratio_F))"
   ]
  },
  {
   "cell_type": "code",
   "execution_count": 128,
   "metadata": {},
   "outputs": [
    {
     "name": "stdout",
     "output_type": "stream",
     "text": [
      "('Accuracy of Logistic Regression Model: ', 0.7)\n",
      "('Sensitivity of the Logistic Regression Model: ', nan)\n",
      "('Specifity of the Logistic Regression Model: ', 0.0)\n",
      "('False Positive Ralte of the Logistic Regression Model: ', 0.3)\n"
     ]
    },
    {
     "name": "stderr",
     "output_type": "stream",
     "text": [
      "C:\\ProgramData\\Anaconda2\\lib\\site-packages\\ipykernel_launcher.py:8: RuntimeWarning: invalid value encountered in divide\n",
      "  \n"
     ]
    }
   ],
   "source": [
    "import sklearn.metrics as metrics\n",
    "print(\"Accuracy of Logistic Regression Model: \",metrics.accuracy_score(y_test,y_pred_df.ratio_F))\n",
    "TP = confusion[0,0] # true positive \n",
    "TN = confusion[1,1] # true negatives\n",
    "FP = confusion[0,1] # false positives\n",
    "FN = confusion[1,0] # false negatives\n",
    "# Let's see the sensitivity of our logistic regression model\n",
    "print(\"Sensitivity of the Logistic Regression Model: \",TP / float(TP+FN))\n",
    "print(\"Specifity of the Logistic Regression Model: \",TP / float(TP+FP))\n",
    "print(\"False Positive Ralte of the Logistic Regression Model: \",FP/ float(TN+FP))"
   ]
  },
  {
   "cell_type": "code",
   "execution_count": 35,
   "metadata": {},
   "outputs": [],
   "source": [
    "# https://towardsdatascience.com/building-a-logistic-regression-in-python-step-by-step-becd4d56c9c8"
   ]
  },
  {
   "cell_type": "markdown",
   "metadata": {},
   "source": [
    "### Building SVM Model (support vector Machine)"
   ]
  },
  {
   "cell_type": "code",
   "execution_count": 36,
   "metadata": {},
   "outputs": [
    {
     "name": "stdout",
     "output_type": "stream",
     "text": [
      "('Accuracy of Logistic Regression Model: ', 0.65)\n"
     ]
    }
   ],
   "source": [
    "from sklearn.svm import SVC\n",
    "model_linear = SVC(kernel='linear')\n",
    "model_linear.fit(X_train, y_train)\n",
    "\n",
    "# predict\n",
    "y_pred_svc = model_linear.predict(X_test)\n",
    "print(\"Accuracy of SVC  Model: \",metrics.accuracy_score(y_test,y_pred_svc))"
   ]
  },
  {
   "cell_type": "code",
   "execution_count": 42,
   "metadata": {},
   "outputs": [
    {
     "name": "stdout",
     "output_type": "stream",
     "text": [
      "('Accuracy of Logistic Regression Model: ', 0.8333333333333334)\n"
     ]
    }
   ],
   "source": [
    "model_linear = SVC(kernel='rbf')\n",
    "model_linear.fit(X_train, y_train)\n",
    "\n",
    "# predict\n",
    "y_pred_svc = model_linear.predict(X_test)\n",
    "print(\"Accuracy of SVC  Model: \",metrics.accuracy_score(y_test,y_pred_svc))"
   ]
  },
  {
   "cell_type": "code",
   "execution_count": 43,
   "metadata": {},
   "outputs": [
    {
     "name": "stdout",
     "output_type": "stream",
     "text": [
      "('Accuracy of Logistic Regression Model: ', 0.65)\n"
     ]
    }
   ],
   "source": [
    "model_linear = SVC(kernel='sigmoid')\n",
    "model_linear.fit(X_train, y_train)\n",
    "\n",
    "# predict\n",
    "y_pred_svc = model_linear.predict(X_test)\n",
    "print(\"Accuracy of SVC  Model: \",metrics.accuracy_score(y_test,y_pred_svc))"
   ]
  },
  {
   "cell_type": "code",
   "execution_count": 45,
   "metadata": {},
   "outputs": [
    {
     "name": "stdout",
     "output_type": "stream",
     "text": [
      "('Accuracy of Logistic Regression Model: ', 0.65)\n"
     ]
    }
   ],
   "source": [
    "model_linear = SVC(kernel='poly')\n",
    "model_linear.fit(X_train, y_train)\n",
    "\n",
    "# predict\n",
    "y_pred_svc = model_linear.predict(X_test)\n",
    "print(\"Accuracy of SVC  Model: \",metrics.accuracy_score(y_test,y_pred_svc))"
   ]
  },
  {
   "cell_type": "code",
   "execution_count": 37,
   "metadata": {},
   "outputs": [
    {
     "data": {
      "text/plain": [
       "DecisionTreeClassifier(class_weight=None, criterion='gini', max_depth=None,\n",
       "            max_features=None, max_leaf_nodes=None,\n",
       "            min_impurity_decrease=0.0, min_impurity_split=None,\n",
       "            min_samples_leaf=1, min_samples_split=2,\n",
       "            min_weight_fraction_leaf=0.0, presort=False, random_state=None,\n",
       "            splitter='best')"
      ]
     },
     "execution_count": 37,
     "metadata": {},
     "output_type": "execute_result"
    }
   ],
   "source": [
    "from sklearn.tree import DecisionTreeClassifier\n",
    "\n",
    "dt=DecisionTreeClassifier()\n",
    "from sklearn.tree import DecisionTreeClassifier\n",
    "dt.fit(X_train,y_train)"
   ]
  },
  {
   "cell_type": "code",
   "execution_count": 38,
   "metadata": {},
   "outputs": [],
   "source": [
    "y_pred_dt=dt.predict(X_test)"
   ]
  },
  {
   "cell_type": "code",
   "execution_count": 39,
   "metadata": {},
   "outputs": [
    {
     "data": {
      "text/plain": [
       "0.9833333333333333"
      ]
     },
     "execution_count": 39,
     "metadata": {},
     "output_type": "execute_result"
    }
   ],
   "source": [
    "metrics.accuracy_score(y_test,y_pred_dt)"
   ]
  },
  {
   "cell_type": "code",
   "execution_count": null,
   "metadata": {},
   "outputs": [],
   "source": []
  }
 ],
 "metadata": {
  "kernelspec": {
   "display_name": "Python 2",
   "language": "python",
   "name": "python2"
  },
  "language_info": {
   "codemirror_mode": {
    "name": "ipython",
    "version": 2
   },
   "file_extension": ".py",
   "mimetype": "text/x-python",
   "name": "python",
   "nbconvert_exporter": "python",
   "pygments_lexer": "ipython2",
   "version": "2.7.15"
  }
 },
 "nbformat": 4,
 "nbformat_minor": 2
}
