{
 "cells": [
  {
   "cell_type": "code",
   "execution_count": 1,
   "metadata": {},
   "outputs": [],
   "source": [
    "import nltk"
   ]
  },
  {
   "cell_type": "code",
   "execution_count": 2,
   "metadata": {},
   "outputs": [],
   "source": [
    "#define the grammar for pcfg\n",
    "pcfg_grammar = nltk.PCFG.fromstring(\"\"\"\n",
    "    S -> NP VP [1.0] \n",
    "    PP -> P NP [1.0]\n",
    "    VP -> V NP [0.7] | VP PP [0.3] \n",
    "    NP -> NP PP [0.4] \n",
    "    P -> 'with' [1.0]\n",
    "    V -> 'saw' [1.0]\n",
    "    NP -> 'astronomers' [0.1] | 'ears' [0.18] | 'saw' [0.04] | 'stars' [0.18] | 'telescopes' [0.1]\n",
    "    \"\"\")"
   ]
  },
  {
   "cell_type": "code",
   "execution_count": 3,
   "metadata": {},
   "outputs": [],
   "source": [
    "str = \"astronomers saw stars with ears\""
   ]
  },
  {
   "cell_type": "code",
   "execution_count": 4,
   "metadata": {},
   "outputs": [
    {
     "name": "stdout",
     "output_type": "stream",
     "text": [
      "(S\n",
      "  (NP astronomers)\n",
      "  (VP (V saw) (NP (NP stars) (PP (P with) (NP ears))))) (p=0.0009072)\n",
      "(S\n",
      "  (NP astronomers)\n",
      "  (VP (VP (V saw) (NP stars)) (PP (P with) (NP ears)))) (p=0.0006804)\n"
     ]
    }
   ],
   "source": [
    "from nltk.parse import pchart\n",
    "\n",
    "parser = pchart.InsideChartParser(pcfg_grammar)\n",
    "\n",
    "#print all possible trees, showing probability of each parse\n",
    "for t in parser.parse(str.split()):\n",
    "     print(t)"
   ]
  },
  {
   "cell_type": "code",
   "execution_count": 6,
   "metadata": {},
   "outputs": [
    {
     "name": "stdout",
     "output_type": "stream",
     "text": [
      "(S\n",
      "  (NP (Det the) (N man))\n",
      "  (VP\n",
      "    (V saw)\n",
      "    (NP\n",
      "      (Det a)\n",
      "      (N dog)\n",
      "      (PP (P in) (NP (Det the) (N park))))\n",
      "    (PP (P with) (NP (Det a) (N telescope))))) (p=4.26747e-07)\n",
      "(S\n",
      "  (NP (Det the) (N man))\n",
      "  (VP\n",
      "    (V saw)\n",
      "    (NP (Det a) (N dog))\n",
      "    (PP\n",
      "      (P in)\n",
      "      (NP\n",
      "        (Det the)\n",
      "        (N park)\n",
      "        (PP (P with) (NP (Det a) (N telescope))))))) (p=4.26747e-07)\n",
      "(S\n",
      "  (NP (Det the) (N man))\n",
      "  (VP\n",
      "    (V saw)\n",
      "    (NP\n",
      "      (Det a)\n",
      "      (N dog)\n",
      "      (PP\n",
      "        (P in)\n",
      "        (NP\n",
      "          (Det the)\n",
      "          (N park)\n",
      "          (PP (P with) (NP (Det a) (N telescope)))))))) (p=3.65783e-07)\n"
     ]
    }
   ],
   "source": [
    "# Question\n",
    "\n",
    "pcfg_gram=nltk.PCFG.fromstring(\"\"\"\n",
    "S -> NP VP [1.0]\n",
    "NP -> Det N [0.7] | Det N PP [0.3]\n",
    "VP -> V [0.4] | V NP [0.4] |V NP PP [0.2]\n",
    "PP -> P NP [1.0]\n",
    "\n",
    "Det -> 'a' [0.4]| 'the' [0.6]\n",
    "N -> 'man' [0.5] | 'dog'  [0.3]| 'park' [0.1]| 'telescope' [0.1]\n",
    "V -> 'saw' [1.0]\n",
    "P -> 'with' [0.6]| 'in' [0.4]\n",
    "\"\"\")\n",
    "text=\"the man saw a dog in the park with a telescope\"\n",
    "from nltk.parse import pchart\n",
    "parser=pchart.InsideChartParser(pcfg_gram)\n",
    "for t in parser.parse(text.split()):\n",
    "    print(t)"
   ]
  },
  {
   "cell_type": "code",
   "execution_count": 7,
   "metadata": {},
   "outputs": [
    {
     "name": "stdout",
     "output_type": "stream",
     "text": [
      "(S\n",
      "  (NP (DT the) (N lion))\n",
      "  (VP\n",
      "    (VP (V chased) (NP (DT the) (N deer)))\n",
      "    (PP (P until) (NP (N it) (V fell))))) (p=3.6864e-06)\n",
      "(S\n",
      "  (NP (DT the) (N lion))\n",
      "  (VP\n",
      "    (V chased)\n",
      "    (NP\n",
      "      (NP (DT the) (N deer))\n",
      "      (PP (P until) (NP (N it) (V fell)))))) (p=2.304e-06)\n"
     ]
    }
   ],
   "source": [
    "pcfg_gra=nltk.PCFG.fromstring(\"\"\"\n",
    "S -> NP VP [1.0]\n",
    "PP -> P NP [1.0]\n",
    "VP -> V NP [0.3]| VP PP [0.4] | V [0.3]\n",
    "NP -> DT N [0.4] | N [0.2] | NP PP [0.25] | N V [0.15]\n",
    "P -> 'until' [0.4] | 'with' [0.6]\n",
    "V -> 'chased' [0.4] | 'stumbled' [0.2] | 'fell' [0.4]\n",
    "N -> 'lion' [0.5]| 'deer' [0.4] | 'it' [0.1]\n",
    "DT -> 'the' [1.0]\n",
    "\"\"\")\n",
    "text=\"the lion chased the deer until it fell\"\n",
    "from nltk.parse import pchart\n",
    "parser=pchart.InsideChartParser(pcfg_gra)\n",
    "for t in parser.parse(text.split()):\n",
    "    print(t)"
   ]
  },
  {
   "cell_type": "code",
   "execution_count": null,
   "metadata": {},
   "outputs": [],
   "source": []
  }
 ],
 "metadata": {
  "kernelspec": {
   "display_name": "Python 3",
   "language": "python",
   "name": "python3"
  },
  "language_info": {
   "codemirror_mode": {
    "name": "ipython",
    "version": 3
   },
   "file_extension": ".py",
   "mimetype": "text/x-python",
   "name": "python",
   "nbconvert_exporter": "python",
   "pygments_lexer": "ipython3",
   "version": "3.5.5"
  }
 },
 "nbformat": 4,
 "nbformat_minor": 2
}
