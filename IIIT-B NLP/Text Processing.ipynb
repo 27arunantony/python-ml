{
 "cells": [
  {
   "cell_type": "markdown",
   "metadata": {},
   "source": [
    "#### Encoding"
   ]
  },
  {
   "cell_type": "code",
   "execution_count": 1,
   "metadata": {},
   "outputs": [
    {
     "name": "stdout",
     "output_type": "stream",
     "text": [
      "Default string:  ₹50 \n",
      " Type of string <class 'str'> \n",
      "\n",
      "Encoded to UTF-8:  b'\\xe2\\x82\\xb950' \n",
      " Type of string <class 'bytes'> \n",
      "\n",
      "Decoded from UTF-8:  ₹50 \n",
      " Type of string <class 'str'> \n",
      "\n",
      "\"₹50\"\n",
      "b'\\xff\\xfeM\\x00e\\x00h\\x00a\\x00 \\x00J\\x00a\\x00i\\x00n\\x00'\n",
      "<class 'bytes'>\n"
     ]
    },
    {
     "data": {
      "text/plain": [
       "b'Meha Jai'"
      ]
     },
     "execution_count": 1,
     "metadata": {},
     "output_type": "execute_result"
    }
   ],
   "source": [
    "# create a string\n",
    "amount = u\"₹50\"\n",
    "print('Default string: ', amount, '\\n', 'Type of string', type(amount), '\\n')\n",
    "\n",
    "# encode to UTF-8 byte format\n",
    "amount_encoded = amount.encode('utf-8')\n",
    "print('Encoded to UTF-8: ', amount_encoded, '\\n', 'Type of string', type(amount_encoded), '\\n')\n",
    "\n",
    "\n",
    "# sometime later in another computer...\n",
    "# decode from UTF-8 byte format\n",
    "amount_decoded = amount_encoded.decode('utf-8')\n",
    "print('Decoded from UTF-8: ', amount_decoded, '\\n', 'Type of string', type(amount_decoded), '\\n')\n",
    "ba=b'\\x22\\xE2\\x82\\xB9\\x35\\x30\\x22'\n",
    "print(ba.decode('utf-8'))\n",
    "\n",
    "print(\"Meha Jain\".encode('utf-16'))\n",
    "print(type(\"Meha Jain\".encode('utf-8')))\n",
    "\"Meha Jain\".encode('utf-8')[0:8]"
   ]
  },
  {
   "cell_type": "markdown",
   "metadata": {},
   "source": [
    "#### Regular Expressions"
   ]
  },
  {
   "cell_type": "code",
   "execution_count": 2,
   "metadata": {},
   "outputs": [],
   "source": [
    "# Find word education in the string and confirm it exisit\n",
    "import re"
   ]
  },
  {
   "cell_type": "code",
   "execution_count": 3,
   "metadata": {},
   "outputs": [],
   "source": [
    "def match_exist(pattern, text, span_required=False):\n",
    "    match=re.search(pattern,text.lower())\n",
    "    if match!=None:\n",
    "        if span_required:\n",
    "            return match.span()\n",
    "        else:\n",
    "            return match.string[match.start():match.end()]\n",
    "    return None"
   ]
  },
  {
   "cell_type": "code",
   "execution_count": 4,
   "metadata": {},
   "outputs": [
    {
     "name": "stdout",
     "output_type": "stream",
     "text": [
      "True\n"
     ]
    }
   ],
   "source": [
    "text=\"The roots of education are bitter, but the fruit is sweet.\"\n",
    "pattern='education'\n",
    "if re.search(pattern,text.lower()): # Catch if don't match the case of pattern to text we will not find match\n",
    "    print(True)\n",
    "else:\n",
    "    print(False)\n"
   ]
  },
  {
   "cell_type": "code",
   "execution_count": 5,
   "metadata": {},
   "outputs": [
    {
     "name": "stdout",
     "output_type": "stream",
     "text": [
      "education\n",
      "(13, 22)\n",
      "None\n"
     ]
    }
   ],
   "source": [
    "print(match_exist('education',text))\n",
    "print(match_exist('education',\"The roots of Education are bitter, but the fruit is sweet.\",span_required=True))\n",
    "print(match_exist('testing',text,span_required=True))"
   ]
  },
  {
   "cell_type": "markdown",
   "metadata": {},
   "source": [
    "###### Quantifiers allow you to mention and have control over how many times you want the character(s) in your pattern to occur\n",
    " - ? 0 or one\n",
    " - \\* 0 or more\n",
    " - \\+ 1 or more\n",
    " - {m,n} minimum m and max n"
   ]
  },
  {
   "cell_type": "code",
   "execution_count": 6,
   "metadata": {},
   "outputs": [
    {
     "name": "stdout",
     "output_type": "stream",
     "text": [
      "awesome\n",
      "awesome\n",
      "awesom\n",
      "None\n",
      "sj\n",
      "s.j\n",
      "s\n",
      "sj\n",
      "sjj\n"
     ]
    }
   ],
   "source": [
    "text=[\"Awesome\",\"Awesomee\",\"awesom\",'aweso','SJ','S.J','S','SJJ']\n",
    "print(match_exist('awesome?',text[0]))\n",
    "print(match_exist('awesome?',text[1]))\n",
    "print(match_exist('awesome?',text[2]))\n",
    "print(match_exist('awesome?',text[3]))\n",
    "print(match_exist('s\\.?j?',text[4])) #complex reg-ex, making either form of sj, s.j or s\n",
    "print(match_exist('s\\.?j?',text[5]))\n",
    "print(match_exist('s\\.?j?',text[6]))\n",
    "print(match_exist('s\\.?j?',text[7]))# -->sj\n",
    "print(match_exist('s\\.?j*',text[7])) #* matches 0 or more   -->sjj"
   ]
  },
  {
   "cell_type": "code",
   "execution_count": 7,
   "metadata": {},
   "outputs": [
    {
     "name": "stdout",
     "output_type": "stream",
     "text": [
      "None\n"
     ]
    },
    {
     "data": {
      "text/plain": [
       "'hurrrrray'"
      ]
     },
     "execution_count": 7,
     "metadata": {},
     "output_type": "execute_result"
    }
   ],
   "source": [
    "print(match_exist('hur{2,5}ay','hurrrrrray'))\n",
    "match_exist('hur{2,5}ay','hurrrrray')"
   ]
  },
  {
   "cell_type": "code",
   "execution_count": 8,
   "metadata": {},
   "outputs": [
    {
     "name": "stdout",
     "output_type": "stream",
     "text": [
      "3a*4b\n",
      "3*2\n",
      "4*5*6=120\n",
      "None\n",
      "None\n"
     ]
    }
   ],
   "source": [
    "lst=['3a*4b','3*2','4*5*6=120','1+2=20','1-2']\n",
    "pattern='.+\\*.+'\n",
    "print(match_exist(pattern,lst[0]))\n",
    "print(match_exist(pattern,lst[1]))\n",
    "print(match_exist(pattern,lst[2]))\n",
    "print(match_exist(pattern,lst[3]))\n",
    "print(match_exist(pattern,lst[4]))"
   ]
  },
  {
   "cell_type": "code",
   "execution_count": 9,
   "metadata": {},
   "outputs": [
    {
     "data": {
      "text/plain": [
       "<_sre.SRE_Match object; span=(0, 9), match='abcABCAbc'>"
      ]
     },
     "execution_count": 9,
     "metadata": {},
     "output_type": "execute_result"
    }
   ],
   "source": [
    "re.search('(abc)+','abcABCAbc',flags=re.I|re.M)"
   ]
  },
  {
   "cell_type": "code",
   "execution_count": 10,
   "metadata": {},
   "outputs": [
    {
     "data": {
      "text/plain": [
       "<_sre.SRE_Match object; span=(0, 3), match='abc'>"
      ]
     },
     "execution_count": 10,
     "metadata": {},
     "output_type": "execute_result"
    }
   ],
   "source": [
    "pattern=re.compile('(abc)+',flags=re.M)\n",
    "pattern.search('abcABCAbc')"
   ]
  },
  {
   "cell_type": "code",
   "execution_count": 11,
   "metadata": {},
   "outputs": [
    {
     "name": "stdout",
     "output_type": "stream",
     "text": [
      "None\n",
      "11000011000111\n"
     ]
    }
   ],
   "source": [
    "pattern='^1+0{3,}1*0{1,7}1{2,3}$'\n",
    "print(match_exist(pattern,'00001100011111'))\n",
    "print(match_exist(pattern,'11000011000111'))"
   ]
  },
  {
   "cell_type": "code",
   "execution_count": 12,
   "metadata": {},
   "outputs": [
    {
     "data": {
      "text/plain": [
       "'saurabh'"
      ]
     },
     "execution_count": 12,
     "metadata": {},
     "output_type": "execute_result"
    }
   ],
   "source": [
    "pattern='.[^\\s]{3,15}' #negating any space in between\n",
    "match_exist(pattern,'Saurabh Jain')"
   ]
  },
  {
   "cell_type": "code",
   "execution_count": 13,
   "metadata": {},
   "outputs": [
    {
     "data": {
      "text/plain": [
       "'sam2340'"
      ]
     },
     "execution_count": 13,
     "metadata": {},
     "output_type": "execute_result"
    }
   ],
   "source": [
    "# META Sequence \\d \\D(negate) \\s \\S \\w \\W\n",
    "pattern = '[A-z]{1,10}\\d{4}'\n",
    "match_exist(pattern,'sam2340')"
   ]
  },
  {
   "cell_type": "code",
   "execution_count": 14,
   "metadata": {},
   "outputs": [
    {
     "name": "stdout",
     "output_type": "stream",
     "text": [
      "<html><head><title> my amazing webpage </title></head> <body> welcome to my webpage! </body> </html>\n"
     ]
    },
    {
     "data": {
      "text/plain": [
       "'<html>'"
      ]
     },
     "execution_count": 14,
     "metadata": {},
     "output_type": "execute_result"
    }
   ],
   "source": [
    "#Greedy versus Non-greedy Search\n",
    "pattern='<.*>'# greedy\n",
    "print(match_exist(pattern,\"<html><head><title> My amazing webpage </title></head> <body> Welcome to my webpage! </body> </html>\"))\n",
    "pattern='<.*?>' # non-greedy\n",
    "match_exist(pattern,\"<html><head><title> My amazing webpage </title></head> <body> Welcome to my webpage! </body> </html>\")"
   ]
  },
  {
   "cell_type": "code",
   "execution_count": 15,
   "metadata": {},
   "outputs": [
    {
     "name": "stdout",
     "output_type": "stream",
     "text": [
      "<_sre.SRE_Match object; span=(0, 3), match='100'>\n",
      "None\n"
     ]
    }
   ],
   "source": [
    "#Commonly Used RE Functions\n",
    "print(re.match('\\d+',\"100_crores\"))\n",
    "print(re.match('\\d+',\"_crores\"))"
   ]
  },
  {
   "cell_type": "code",
   "execution_count": 16,
   "metadata": {},
   "outputs": [
    {
     "data": {
      "text/plain": [
       "<_sre.SRE_Match object; span=(0, 16), match='0101111101011111'>"
      ]
     },
     "execution_count": 16,
     "metadata": {},
     "output_type": "execute_result"
    }
   ],
   "source": [
    "re.match('(01+){2,}','0101111101011111')"
   ]
  },
  {
   "cell_type": "code",
   "execution_count": 17,
   "metadata": {},
   "outputs": [
    {
     "data": {
      "text/plain": [
       "'You can reach us at #### or ####'"
      ]
     },
     "execution_count": 17,
     "metadata": {},
     "output_type": "execute_result"
    }
   ],
   "source": [
    "pattern = '\\d{11}'\n",
    "re.sub(pattern, '####', \"You can reach us at 07400029954 or 02261562153\")"
   ]
  },
  {
   "cell_type": "code",
   "execution_count": 18,
   "metadata": {},
   "outputs": [
    {
     "data": {
      "text/plain": [
       "'$uilding careers of tomorrow'"
      ]
     },
     "execution_count": 18,
     "metadata": {},
     "output_type": "execute_result"
    }
   ],
   "source": [
    "pattern = '^\\w{1}'\n",
    "re.sub(pattern,'$',\"Building careers of tomorrow\")"
   ]
  },
  {
   "cell_type": "markdown",
   "metadata": {},
   "source": [
    "##### Write a regular expression to extract all the words from a given sentence. Then use the re.finditer() function and store all the matched words that are of length more than or equal to 5 letters in a separate list called result.\n",
    "\n",
    "Sample input:\n",
    "\"Do not compare apples with oranges. Compare apples with apples\""
   ]
  },
  {
   "cell_type": "code",
   "execution_count": 19,
   "metadata": {},
   "outputs": [
    {
     "name": "stdout",
     "output_type": "stream",
     "text": [
      "compare\n",
      "apples\n",
      "oranges\n",
      "Compare\n",
      "apples\n",
      "apples\n",
      "6\n"
     ]
    }
   ],
   "source": [
    "pattern='\\w{5,}'\n",
    "count=0\n",
    "for match in re.finditer(pattern,\"Do not compare apples with oranges. Compare apples with apples\"):\n",
    "    count+=1\n",
    "    print(match.group())\n",
    "print(count)"
   ]
  },
  {
   "cell_type": "markdown",
   "metadata": {},
   "source": [
    "##### Write a regular expression to extract all the words that have the suffix ‘ing’ using the re.findall() function. Store the matches in the variable ‘results’ and print its length.\n",
    "\n",
    "Sample input:\n",
    "\"Playing outdoor games when its raining outside is always fun!\""
   ]
  },
  {
   "cell_type": "code",
   "execution_count": 20,
   "metadata": {},
   "outputs": [
    {
     "data": {
      "text/plain": [
       "['Playing', 'raining']"
      ]
     },
     "execution_count": 20,
     "metadata": {},
     "output_type": "execute_result"
    }
   ],
   "source": [
    "pattern='\\w+ing'\n",
    "count=0\n",
    "re.findall(pattern,\"Playing outdoor games when its raining outside is always fun!\")\n",
    "# print(lst)"
   ]
  },
  {
   "cell_type": "markdown",
   "metadata": {},
   "source": [
    "##### Grouping"
   ]
  },
  {
   "cell_type": "code",
   "execution_count": 29,
   "metadata": {},
   "outputs": [
    {
     "name": "stdout",
     "output_type": "stream",
     "text": [
      "<_sre.SRE_Match object; span=(16, 26), match='18-05-2018'>\n",
      "2018\n"
     ]
    }
   ],
   "source": [
    "pattern='(\\d{1,2})-(\\d{1,2})-(\\d{4})'\n",
    "text=\"Today’s date is 18-05-2018.\"\n",
    "print(re.search(pattern,text))\n",
    "print(re.search(pattern,text).group(3))"
   ]
  },
  {
   "cell_type": "code",
   "execution_count": 30,
   "metadata": {},
   "outputs": [
    {
     "name": "stdout",
     "output_type": "stream",
     "text": [
      "<_sre.SRE_Match object; span=(13, 23), match='@gmail.com'>\n",
      "gmail.com\n"
     ]
    }
   ],
   "source": [
    "text='user_name_123@gmail.com'\n",
    "pattern='(@)(\\w+\\.\\w+)'\n",
    "print(re.search(pattern,text))\n",
    "print(re.search(pattern,text).group(2))"
   ]
  },
  {
   "cell_type": "code",
   "execution_count": 35,
   "metadata": {},
   "outputs": [
    {
     "data": {
      "text/plain": [
       "<_sre.SRE_Match object; span=(0, 2), match='1 '>"
      ]
     },
     "execution_count": 35,
     "metadata": {},
     "output_type": "execute_result"
    }
   ],
   "source": [
    "pattern='[\\d\\s]{2,}'\n",
    "re.search(pattern,'1 ')"
   ]
  },
  {
   "cell_type": "code",
   "execution_count": null,
   "metadata": {},
   "outputs": [],
   "source": []
  }
 ],
 "metadata": {
  "kernelspec": {
   "display_name": "Python 3",
   "language": "python",
   "name": "python3"
  },
  "language_info": {
   "codemirror_mode": {
    "name": "ipython",
    "version": 3
   },
   "file_extension": ".py",
   "mimetype": "text/x-python",
   "name": "python",
   "nbconvert_exporter": "python",
   "pygments_lexer": "ipython3",
   "version": "3.5.5"
  }
 },
 "nbformat": 4,
 "nbformat_minor": 2
}
