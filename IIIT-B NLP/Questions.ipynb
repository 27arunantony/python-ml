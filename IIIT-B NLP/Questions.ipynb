{
 "cells": [
  {
   "cell_type": "code",
   "execution_count": 8,
   "metadata": {},
   "outputs": [],
   "source": [
    "import nltk\n",
    "from nltk import word_tokenize\n",
    "from nltk.corpus import stopwords\n",
    "from sklearn.feature_extraction.text import CountVectorizer\n",
    "import pandas as pd"
   ]
  },
  {
   "cell_type": "code",
   "execution_count": 9,
   "metadata": {},
   "outputs": [
    {
     "data": {
      "text/plain": [
       "(5572, 2)"
      ]
     },
     "execution_count": 9,
     "metadata": {},
     "output_type": "execute_result"
    }
   ],
   "source": [
    "def preprocess(document):\n",
    "    'changes document to lower case and removes stopwords'\n",
    "\n",
    "    # change sentence to lower case\n",
    "    document = document.lower()\n",
    "\n",
    "    # tokenize into words\n",
    "    words = word_tokenize(document)\n",
    "\n",
    "    # remove stop words\n",
    "    words = [word for word in words if word not in stopwords.words(\"english\")]\n",
    "\n",
    "    # join words to make sentence\n",
    "    document = \" \".join(words)\n",
    "    \n",
    "    return document\n",
    "spam = pd.read_csv(\"SMSSpamCollection.txt\", sep = \"\\t\", names=[\"label\", \"message\"])\n",
    "spam.shape"
   ]
  },
  {
   "cell_type": "code",
   "execution_count": 11,
   "metadata": {},
   "outputs": [
    {
     "name": "stdout",
     "output_type": "stream",
     "text": [
      "   label                                            message\n",
      "0    ham  Go until jurong point, crazy.. Available only ...\n",
      "1    ham                      Ok lar... Joking wif u oni...\n",
      "2   spam  Free entry in 2 a wkly comp to win FA Cup fina...\n",
      "3    ham  U dun say so early hor... U c already then say...\n",
      "4    ham  Nah I don't think he goes to usf, he lives aro...\n",
      "5   spam  FreeMsg Hey there darling it's been 3 week's n...\n",
      "6    ham  Even my brother is not like to speak with me. ...\n",
      "7    ham  As per your request 'Melle Melle (Oru Minnamin...\n",
      "8   spam  WINNER!! As a valued network customer you have...\n",
      "9   spam  Had your mobile 11 months or more? U R entitle...\n",
      "10   ham  I'm gonna be home soon and i don't want to tal...\n",
      "11  spam  SIX chances to win CASH! From 100 to 20,000 po...\n",
      "12  spam  URGENT! You have won a 1 week FREE membership ...\n",
      "13   ham  I've been searching for the right words to tha...\n",
      "14   ham                I HAVE A DATE ON SUNDAY WITH WILL!!\n",
      "15  spam  XXXMobileMovieClub: To use your credit, click ...\n",
      "16   ham                         Oh k...i'm watching here:)\n",
      "17   ham  Eh u remember how 2 spell his name... Yes i di...\n",
      "18   ham  Fine if thats the way u feel. Thats the way ...\n",
      "19  spam  England v Macedonia - dont miss the goals/team...\n",
      "20   ham          Is that seriously how you spell his name?\n",
      "21   ham    I‘m going to try for 2 months ha ha only joking\n",
      "22   ham  So ü pay first lar... Then when is da stock co...\n",
      "23   ham  Aft i finish my lunch then i go str down lor. ...\n",
      "24   ham  Ffffffffff. Alright no way I can meet up with ...\n",
      "25   ham  Just forced myself to eat a slice. I'm really ...\n",
      "26   ham                     Lol your always so convincing.\n",
      "27   ham  Did you catch the bus ? Are you frying an egg ...\n",
      "28   ham  I'm back &amp; we're packing the car now, I'll...\n",
      "29   ham  Ahhh. Work. I vaguely remember that! What does...\n",
      "..   ...                                                ...\n",
      "70   ham     Wah lucky man... Then can save money... Hee...\n",
      "71   ham                      Finished class where are you.\n",
      "72   ham      HI BABE IM AT HOME NOW WANNA DO SOMETHING? XX\n",
      "73   ham         K..k:)where are you?how did you performed?\n",
      "74   ham                               U can call me now...\n",
      "75   ham        I am waiting machan. Call me once you free.\n",
      "76   ham  Thats cool. i am a gentleman and will treat yo...\n",
      "77   ham  I like you peoples very much:) but am very shy...\n",
      "78   ham         Does not operate after  &lt;#&gt;  or what\n",
      "79   ham  Its not the same here. Still looking for a job...\n",
      "80   ham                             Sorry, I'll call later\n",
      "81   ham                   K. Did you call me just now ah? \n",
      "82   ham                   Ok i am on the way to home hi hi\n",
      "83   ham               You will be in the place of that man\n",
      "84   ham                                     Yup next stop.\n",
      "85   ham  I call you later, don't have network. If urgnt...\n",
      "86   ham  For real when u getting on yo? I only need 2 m...\n",
      "87   ham  Yes I started to send requests to make it but ...\n",
      "88   ham         I'm really not up to it still tonight babe\n",
      "89   ham          Ela kano.,il download, come wen ur free..\n",
      "90   ham  Yeah do! Don‘t stand to close tho- you‘ll catc...\n",
      "91   ham  Sorry to be a pain. Is it ok if we meet anothe...\n",
      "92   ham  Smile in Pleasure Smile in Pain Smile when tro...\n",
      "93  spam  Please call our customer service representativ...\n",
      "94   ham  Havent planning to buy later. I check already ...\n",
      "95  spam  Your free ringtone is waiting to be collected....\n",
      "96   ham                  Watching telugu movie..wat abt u?\n",
      "97   ham  i see. When we finish we have loads of loans t...\n",
      "98   ham  Hi. Wk been ok - on hols now! Yes on for a bit...\n",
      "99   ham                    I see a cup of coffee animation\n",
      "\n",
      "[100 rows x 2 columns]\n"
     ]
    }
   ],
   "source": [
    "spam = spam.iloc[0:100,:]\n",
    "print(spam)"
   ]
  },
  {
   "cell_type": "code",
   "execution_count": 12,
   "metadata": {},
   "outputs": [],
   "source": [
    "messages=spam.message"
   ]
  },
  {
   "cell_type": "code",
   "execution_count": 13,
   "metadata": {},
   "outputs": [],
   "source": [
    "messages=[message for message in messages]"
   ]
  },
  {
   "cell_type": "code",
   "execution_count": 14,
   "metadata": {},
   "outputs": [],
   "source": [
    "documents = [preprocess(document) for document in messages]\n",
    "# print(documents)"
   ]
  },
  {
   "cell_type": "code",
   "execution_count": 16,
   "metadata": {},
   "outputs": [
    {
     "data": {
      "text/plain": [
       "(100, 640)"
      ]
     },
     "execution_count": 16,
     "metadata": {},
     "output_type": "execute_result"
    }
   ],
   "source": [
    "vectorizer=CountVectorizer()\n",
    "bow_model=vectorizer.fit_transform(documents)\n",
    "bow_model.shape"
   ]
  },
  {
   "cell_type": "code",
   "execution_count": 17,
   "metadata": {},
   "outputs": [
    {
     "data": {
      "text/plain": [
       "934"
      ]
     },
     "execution_count": 17,
     "metadata": {},
     "output_type": "execute_result"
    }
   ],
   "source": [
    "bow_model.sum()"
   ]
  },
  {
   "cell_type": "code",
   "execution_count": 2,
   "metadata": {},
   "outputs": [],
   "source": [
    "from nltk.stem.porter import PorterStemmer\n",
    "from nltk.stem.snowball import SnowballStemmer"
   ]
  },
  {
   "cell_type": "code",
   "execution_count": 3,
   "metadata": {},
   "outputs": [],
   "source": [
    "stemmer=PorterStemmer()\n",
    "snowball=SnowballStemmer('english')"
   ]
  },
  {
   "cell_type": "code",
   "execution_count": 6,
   "metadata": {},
   "outputs": [
    {
     "data": {
      "text/plain": [
       "['bash', 'cowardli', 'wors', 'sweep', 'happili']"
      ]
     },
     "execution_count": 6,
     "metadata": {},
     "output_type": "execute_result"
    }
   ],
   "source": [
    "lst=['Bashed','Cowardly','Worse','Sweeping','happily']\n",
    "[stemmer.stem(word) for word in lst]"
   ]
  },
  {
   "cell_type": "code",
   "execution_count": 5,
   "metadata": {},
   "outputs": [
    {
     "data": {
      "text/plain": [
       "['bash', 'coward', 'wors', 'sweep']"
      ]
     },
     "execution_count": 5,
     "metadata": {},
     "output_type": "execute_result"
    }
   ],
   "source": [
    "[snowball.stem(word) for word in lst]"
   ]
  },
  {
   "cell_type": "code",
   "execution_count": 7,
   "metadata": {},
   "outputs": [],
   "source": [
    "from nltk.metrics.distance import edit_distance"
   ]
  },
  {
   "cell_type": "code",
   "execution_count": 8,
   "metadata": {},
   "outputs": [
    {
     "data": {
      "text/plain": [
       "10"
      ]
     },
     "execution_count": 8,
     "metadata": {},
     "output_type": "execute_result"
    }
   ],
   "source": [
    "edit_distance('Damerau','Levenshtein',transpositions=False)"
   ]
  },
  {
   "cell_type": "code",
   "execution_count": 10,
   "metadata": {},
   "outputs": [
    {
     "data": {
      "text/plain": [
       "1"
      ]
     },
     "execution_count": 10,
     "metadata": {},
     "output_type": "execute_result"
    }
   ],
   "source": [
    "edit_distance('apple','appel',transpositions=True)"
   ]
  },
  {
   "cell_type": "code",
   "execution_count": 11,
   "metadata": {},
   "outputs": [
    {
     "data": {
      "text/plain": [
       "1"
      ]
     },
     "execution_count": 11,
     "metadata": {},
     "output_type": "execute_result"
    }
   ],
   "source": [
    "edit_distance('spark','park',transpositions=True)"
   ]
  },
  {
   "cell_type": "code",
   "execution_count": 12,
   "metadata": {},
   "outputs": [
    {
     "data": {
      "text/plain": [
       "2"
      ]
     },
     "execution_count": 12,
     "metadata": {},
     "output_type": "execute_result"
    }
   ],
   "source": [
    "edit_distance('perspective','prospective',transpositions=True)"
   ]
  },
  {
   "cell_type": "code",
   "execution_count": null,
   "metadata": {},
   "outputs": [],
   "source": []
  }
 ],
 "metadata": {
  "kernelspec": {
   "display_name": "Python 3",
   "language": "python",
   "name": "python3"
  },
  "language_info": {
   "codemirror_mode": {
    "name": "ipython",
    "version": 3
   },
   "file_extension": ".py",
   "mimetype": "text/x-python",
   "name": "python",
   "nbconvert_exporter": "python",
   "pygments_lexer": "ipython3",
   "version": "3.5.5"
  }
 },
 "nbformat": 4,
 "nbformat_minor": 2
}
