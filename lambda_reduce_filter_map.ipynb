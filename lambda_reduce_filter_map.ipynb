{
 "cells": [
  {
   "cell_type": "markdown",
   "metadata": {},
   "source": [
    "# Understading lambda fx, map, reduce and filter"
   ]
  },
  {
   "cell_type": "markdown",
   "metadata": {},
   "source": [
    "# Lambda\n",
    "## Lambda functions are just a anonymous functions"
   ]
  },
  {
   "cell_type": "code",
   "execution_count": 197,
   "metadata": {},
   "outputs": [
    {
     "name": "stdout",
     "output_type": "stream",
     "text": [
      "[4, 16, 25]\n",
      "smlist:  [4, 16, 25]\n"
     ]
    }
   ],
   "source": [
    "flist=[2,4,5]\n",
    "\n",
    "#creating new list using lambda and list expression\n",
    "#lamda expression\n",
    "sql=lambda x: x**2\n",
    "#list expression\n",
    "slist=[sql(e) for e in flist]\n",
    "print(slist)\n",
    "\n",
    "#smlist is second list created via map function of lamda\n",
    "smlist=list(map(lambda x: x**2,flist))\n",
    "print(\"smlist: \", smlist)"
   ]
  },
  {
   "cell_type": "markdown",
   "metadata": {},
   "source": [
    "# Map\n",
    "## Map gives a map object which can be cast to other iterable objects"
   ]
  },
  {
   "cell_type": "code",
   "execution_count": 1,
   "metadata": {},
   "outputs": [
    {
     "name": "stdout",
     "output_type": "stream",
     "text": [
      "<class 'map'>\n",
      "3\n"
     ]
    }
   ],
   "source": [
    "greater=lambda x,y: x if x>y else y\n",
    "startwiths=lambda x: x[0]=='S'\n",
    "print(type(map(startwiths,[\"Saurabh\",\"Jain\",\"Shilpa\"])))\n",
    "slist=list(map(startwiths,[\"Saurabh\",\"Jain\",\"Shilpa\"]))\n",
    "print(len(slist))\n",
    "#print(slist.count(1))"
   ]
  },
  {
   "cell_type": "markdown",
   "metadata": {},
   "source": [
    "## Problems\n",
    "#### Q1: Count numbers of element in list starting with S, using map"
   ]
  },
  {
   "cell_type": "code",
   "execution_count": 201,
   "metadata": {},
   "outputs": [
    {
     "name": "stdout",
     "output_type": "stream",
     "text": [
      "3\n"
     ]
    }
   ],
   "source": [
    "#count words starting with S using map\n",
    "word_list=['San Jose', 'San Francisco', 'Santa Fe', 'Houston']\n",
    "\n",
    "count=list(map(lambda x: 1 if x[0]=='S' else 0,word_list)).count(1)\n",
    "print(count)"
   ]
  },
  {
   "cell_type": "markdown",
   "metadata": {},
   "source": [
    "#### In lambda function if you are using if you need to use else"
   ]
  },
  {
   "cell_type": "code",
   "execution_count": 206,
   "metadata": {},
   "outputs": [
    {
     "name": "stdout",
     "output_type": "stream",
     "text": [
      "[0, 0, 0, 0]\n"
     ]
    }
   ],
   "source": [
    "t=lambda x: 1 if x.startswith('a') else 0\n",
    "# t=lambda x: 1 if x.startswith('a') # Will generate ERROR of invalid syntax\n",
    "print(list(map(t,word_list)))"
   ]
  },
  {
   "cell_type": "markdown",
   "metadata": {},
   "source": [
    "# Filters\n",
    "## Filters are use to give you a filtered iterable based on filter condition\n",
    "\n",
    "### When applied map with just a condition it is going to return a boolean iterable\n",
    "\n",
    "#### Problem: Find number divisible by 5"
   ]
  },
  {
   "cell_type": "code",
   "execution_count": 211,
   "metadata": {},
   "outputs": [
    {
     "name": "stdout",
     "output_type": "stream",
     "text": [
      "Filtered list:  [5, 10, 15, 20, 25, 30, 35, 40, 45, 50]\n",
      "Using map to filter [5, 10, 15, 20, 25, 30, 35, 40, 45, 50]\n"
     ]
    }
   ],
   "source": [
    "#find number divisible by 50 using filters\n",
    "num_list=[1, 2, 3, 4, 5, 6, 7, 8, 9, 10, 11, 12, 13, 14, 15, 16, 17, 18, 19, 20, 21, 22, 23, 24, 25, 26, 27, 28, 29, 30, 31, 32, 33, 34, 35, 36, 37, 38, 39, 40, 41, 42, 43, 44, 45, 46, 47, 48, 49, 50]\n",
    "filteredList=list(filter(lambda x:x%5==0,num_list))\n",
    "print(\"Filtered list: \",filteredList)\n",
    "\n",
    "## doing same with map\n",
    "mapList=list(map(lambda x:x%5==0,num_list))\n",
    "\n",
    "# FILTERING it with map which can easy be achieve by filter\n",
    "mfilteredlist=[]\n",
    "for i,x in enumerate(mapList):\n",
    "    if x==True:\n",
    "        mfilteredlist.append(num_list[i])\n",
    "print(\"Using map to filter\", mfilteredlist)"
   ]
  },
  {
   "cell_type": "code",
   "execution_count": 214,
   "metadata": {},
   "outputs": [
    {
     "name": "stdout",
     "output_type": "stream",
     "text": [
      "['soap', 'sharp', 'ship', 'sheep']\n"
     ]
    }
   ],
   "source": [
    "#finding name starts with s and ends with p\n",
    "name_list=['soap','sharp','shy','silent','ship','summer','sheep']\n",
    "sp_name_list=list(filter(lambda s:s[0]=='s' and s[-1]=='p',name_list))\n",
    "print(sp_name_list)"
   ]
  },
  {
   "cell_type": "markdown",
   "metadata": {},
   "source": [
    "# Reduce\n",
    "## it helps to do complex check on iterables reducing size. It keeps chaining last run result"
   ]
  },
  {
   "cell_type": "code",
   "execution_count": 1,
   "metadata": {},
   "outputs": [
    {
     "name": "stdout",
     "output_type": "stream",
     "text": [
      "All you have to fear is fear itself\n"
     ]
    }
   ],
   "source": [
    "# using the reduce concatinate the list\n",
    "from functools import reduce\n",
    "msg_list=['All','you','have','to','fear','is','fear','itself']\n",
    "msg=reduce(lambda m1,m2:m1+' '+m2,msg_list)\n",
    "print(msg)"
   ]
  },
  {
   "cell_type": "code",
   "execution_count": 2,
   "metadata": {
    "collapsed": true
   },
   "outputs": [],
   "source": [
    "#number list for below action is defined here\n",
    "numbers_list=[65,76,87,23,12,90,99]"
   ]
  },
  {
   "cell_type": "code",
   "execution_count": 3,
   "metadata": {},
   "outputs": [
    {
     "name": "stdout",
     "output_type": "stream",
     "text": [
      "99\n"
     ]
    }
   ],
   "source": [
    "#find largest number using reduce\n",
    "largest=reduce(lambda x,y: x if x>y else y,numbers_list)\n",
    "print(largest)"
   ]
  },
  {
   "cell_type": "code",
   "execution_count": null,
   "metadata": {
    "collapsed": true
   },
   "outputs": [],
   "source": [
    "#find smallest number using reduce\n",
    "smallest=reduce(lambda x,y: x if x<y else y, numbers_list)\n",
    "print(smallest)"
   ]
  },
  {
   "cell_type": "code",
   "execution_count": 50,
   "metadata": {},
   "outputs": [
    {
     "name": "stdout",
     "output_type": "stream",
     "text": [
      "Word list with capitalize:  ['A', 'B', 'Rajeev', 'Priyank', 'Exact', 'To', 'An', 'Style', 'Paris', 'Taj mahal']\n",
      "List of positive integers:  [1, 2, 3, 4, 5, 6, 7, 100, 4, 9, 2]\n",
      "Concatenated string:  A B Rajeev Priyank exact to an style Paris Taj Mahal\n",
      "Sum of integers:  142\n"
     ]
    }
   ],
   "source": [
    "#understanding concept of map, reduce and filter\n",
    "num_list=[1,2,3,4,5,6,7,100,-1,4,9,2]\n",
    "str_list=['A','B',\"Rajeev\",\"Priyank\",\"exact\",\"to\",\"an\",\"style\",\"Paris\",\"Taj Mahal\"]\n",
    "#map: convert all the list elements to capital form\n",
    "#print(num_list)\n",
    "print(\"Word list with capitalize: \",list(map(lambda x:x.capitalize(),str_list)))\n",
    "\n",
    "#filter: get the list of positive integers\n",
    "print(\"List of positive integers: \",list(filter(lambda x: x>0,num_list)))\n",
    "\n",
    "#reduce: join all the words in the string list\n",
    "print(\"Concatenated string: \",reduce(lambda x,y: x+\" \"+y,str_list))\n",
    "#reduce: get the sum of all the integers \n",
    "print(\"Sum of integers: \",reduce(lambda x,y: x+y,num_list))"
   ]
  },
  {
   "cell_type": "code",
   "execution_count": null,
   "metadata": {
    "collapsed": true
   },
   "outputs": [],
   "source": []
  }
 ],
 "metadata": {
  "kernelspec": {
   "display_name": "Python 3",
   "language": "python",
   "name": "python3"
  },
  "language_info": {
   "codemirror_mode": {
    "name": "ipython",
    "version": 3
   },
   "file_extension": ".py",
   "mimetype": "text/x-python",
   "name": "python",
   "nbconvert_exporter": "python",
   "pygments_lexer": "ipython3",
   "version": "3.5.5"
  }
 },
 "nbformat": 4,
 "nbformat_minor": 2
}
