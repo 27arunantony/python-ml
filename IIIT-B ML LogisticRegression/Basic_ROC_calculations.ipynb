{
 "cells": [
  {
   "cell_type": "code",
   "execution_count": 1,
   "metadata": {
    "collapsed": true
   },
   "outputs": [],
   "source": [
    "import numpy as np\n",
    "actual = np.array([ 1.,1.,0.,1.,1.,1.,0.,0.,1.,0.,1.,0.,1.,0.,0.,0.,1.,0.,1.,0.])\n",
    "score = np.array([ 0.9,0.8,0.7,0.6,0.55,0.54,0.53,0.52,0.51,0.505,0.4,0.39,0.38,0.37,0.35,0.3,0.25,0.22,0.18,0.1])"
   ]
  },
  {
   "cell_type": "code",
   "execution_count": 2,
   "metadata": {},
   "outputs": [],
   "source": [
    "def roc_curve(actual,score,n_thresholds):\n",
    "    #thresholds = np.linspace(1,0,n_thresholds)\n",
    "    #thresholds= score\n",
    "    thresholds =np.concatenate([score,np.array([0.],float)])\n",
    "    fpr = np.zeros((n_thresholds+1))\n",
    "    tpr = np.zeros((n_thresholds+1))\n",
    "    for i in range(n_thresholds+1):\n",
    "        t = thresholds[i]\n",
    "            \n",
    "        # Create Confusion Matrix for current threshold.\n",
    "    \n",
    "        TruePositive_t = np.logical_and( score > t, actual==1 ).sum()\n",
    "        TrueNegative_t = np.logical_and( score <=t, actual==0 ).sum()\n",
    "        FalsePositive_t = np.logical_and( score > t, actual==0 ).sum()\n",
    "        FalseNegative_t = np.logical_and( score <=t, actual==1 ).sum()\n",
    "\n",
    "        # Compute false positive rate for current threshold and insert into fpr array.\n",
    "        fpr[i] = FalsePositive_t / float(FalsePositive_t + TrueNegative_t)\n",
    "\n",
    "        # Compute true  positive rate for current threshold and insert into tpr array..\n",
    "        tpr[i] = TruePositive_t / float(TruePositive_t + FalseNegative_t)\n",
    "        \n",
    "    return fpr,tpr, thresholds\n",
    "def auc(fpr,tpr):\n",
    "    AreaUnderCurve = 0.\n",
    "    for i in range(len(fpr)-1):\n",
    "        AreaUnderCurve += (fpr[i+1]-fpr[i]) * (tpr[i+1]+tpr[i])\n",
    "    AreaUnderCurve *= 0.5\n",
    "    return AreaUnderCurve\n"
   ]
  },
  {
   "cell_type": "code",
   "execution_count": 3,
   "metadata": {},
   "outputs": [],
   "source": [
    "fpr , tpr , thresholds = roc_curve(actual,score,len(score))\n",
    "auc = auc(fpr,tpr)"
   ]
  },
  {
   "cell_type": "code",
   "execution_count": 4,
   "metadata": {},
   "outputs": [
    {
     "data": {
      "text/plain": [
       "array([ 0.9  ,  0.8  ,  0.7  ,  0.6  ,  0.55 ,  0.54 ,  0.53 ,  0.52 ,\n",
       "        0.51 ,  0.505,  0.4  ,  0.39 ,  0.38 ,  0.37 ,  0.35 ,  0.3  ,\n",
       "        0.25 ,  0.22 ,  0.18 ,  0.1  ,  0.   ])"
      ]
     },
     "execution_count": 4,
     "metadata": {},
     "output_type": "execute_result"
    }
   ],
   "source": [
    "thresholds"
   ]
  },
  {
   "cell_type": "code",
   "execution_count": 5,
   "metadata": {},
   "outputs": [
    {
     "data": {
      "text/plain": [
       "array([ 0. ,  0. ,  0. ,  0.1,  0.1,  0.1,  0.1,  0.2,  0.3,  0.3,  0.4,\n",
       "        0.4,  0.5,  0.5,  0.6,  0.7,  0.8,  0.8,  0.9,  0.9,  1. ])"
      ]
     },
     "execution_count": 5,
     "metadata": {},
     "output_type": "execute_result"
    }
   ],
   "source": [
    "fpr"
   ]
  },
  {
   "cell_type": "code",
   "execution_count": 6,
   "metadata": {},
   "outputs": [
    {
     "data": {
      "text/plain": [
       "array([ 0. ,  0.1,  0.2,  0.2,  0.3,  0.4,  0.5,  0.5,  0.5,  0.6,  0.6,\n",
       "        0.7,  0.7,  0.8,  0.8,  0.8,  0.8,  0.9,  0.9,  1. ,  1. ])"
      ]
     },
     "execution_count": 6,
     "metadata": {},
     "output_type": "execute_result"
    }
   ],
   "source": [
    "tpr"
   ]
  },
  {
   "cell_type": "code",
   "execution_count": 7,
   "metadata": {},
   "outputs": [
    {
     "data": {
      "text/plain": [
       "0.67999999999999994"
      ]
     },
     "execution_count": 7,
     "metadata": {},
     "output_type": "execute_result"
    }
   ],
   "source": [
    "auc"
   ]
  },
  {
   "cell_type": "code",
   "execution_count": 8,
   "metadata": {},
   "outputs": [
    {
     "data": {
      "text/html": [
       "<div>\n",
       "<style>\n",
       "    .dataframe thead tr:only-child th {\n",
       "        text-align: right;\n",
       "    }\n",
       "\n",
       "    .dataframe thead th {\n",
       "        text-align: left;\n",
       "    }\n",
       "\n",
       "    .dataframe tbody tr th {\n",
       "        vertical-align: top;\n",
       "    }\n",
       "</style>\n",
       "<table border=\"1\" class=\"dataframe\">\n",
       "  <thead>\n",
       "    <tr style=\"text-align: right;\">\n",
       "      <th></th>\n",
       "      <th>Threshold</th>\n",
       "      <th>FPR</th>\n",
       "      <th>TPR</th>\n",
       "    </tr>\n",
       "  </thead>\n",
       "  <tbody>\n",
       "    <tr>\n",
       "      <th>0</th>\n",
       "      <td>0.900</td>\n",
       "      <td>0.0</td>\n",
       "      <td>0.0</td>\n",
       "    </tr>\n",
       "    <tr>\n",
       "      <th>1</th>\n",
       "      <td>0.800</td>\n",
       "      <td>0.0</td>\n",
       "      <td>0.1</td>\n",
       "    </tr>\n",
       "    <tr>\n",
       "      <th>2</th>\n",
       "      <td>0.700</td>\n",
       "      <td>0.0</td>\n",
       "      <td>0.2</td>\n",
       "    </tr>\n",
       "    <tr>\n",
       "      <th>3</th>\n",
       "      <td>0.600</td>\n",
       "      <td>0.1</td>\n",
       "      <td>0.2</td>\n",
       "    </tr>\n",
       "    <tr>\n",
       "      <th>4</th>\n",
       "      <td>0.550</td>\n",
       "      <td>0.1</td>\n",
       "      <td>0.3</td>\n",
       "    </tr>\n",
       "    <tr>\n",
       "      <th>5</th>\n",
       "      <td>0.540</td>\n",
       "      <td>0.1</td>\n",
       "      <td>0.4</td>\n",
       "    </tr>\n",
       "    <tr>\n",
       "      <th>6</th>\n",
       "      <td>0.530</td>\n",
       "      <td>0.1</td>\n",
       "      <td>0.5</td>\n",
       "    </tr>\n",
       "    <tr>\n",
       "      <th>7</th>\n",
       "      <td>0.520</td>\n",
       "      <td>0.2</td>\n",
       "      <td>0.5</td>\n",
       "    </tr>\n",
       "    <tr>\n",
       "      <th>8</th>\n",
       "      <td>0.510</td>\n",
       "      <td>0.3</td>\n",
       "      <td>0.5</td>\n",
       "    </tr>\n",
       "    <tr>\n",
       "      <th>9</th>\n",
       "      <td>0.505</td>\n",
       "      <td>0.3</td>\n",
       "      <td>0.6</td>\n",
       "    </tr>\n",
       "    <tr>\n",
       "      <th>10</th>\n",
       "      <td>0.400</td>\n",
       "      <td>0.4</td>\n",
       "      <td>0.6</td>\n",
       "    </tr>\n",
       "    <tr>\n",
       "      <th>11</th>\n",
       "      <td>0.390</td>\n",
       "      <td>0.4</td>\n",
       "      <td>0.7</td>\n",
       "    </tr>\n",
       "    <tr>\n",
       "      <th>12</th>\n",
       "      <td>0.380</td>\n",
       "      <td>0.5</td>\n",
       "      <td>0.7</td>\n",
       "    </tr>\n",
       "    <tr>\n",
       "      <th>13</th>\n",
       "      <td>0.370</td>\n",
       "      <td>0.5</td>\n",
       "      <td>0.8</td>\n",
       "    </tr>\n",
       "    <tr>\n",
       "      <th>14</th>\n",
       "      <td>0.350</td>\n",
       "      <td>0.6</td>\n",
       "      <td>0.8</td>\n",
       "    </tr>\n",
       "    <tr>\n",
       "      <th>15</th>\n",
       "      <td>0.300</td>\n",
       "      <td>0.7</td>\n",
       "      <td>0.8</td>\n",
       "    </tr>\n",
       "    <tr>\n",
       "      <th>16</th>\n",
       "      <td>0.250</td>\n",
       "      <td>0.8</td>\n",
       "      <td>0.8</td>\n",
       "    </tr>\n",
       "    <tr>\n",
       "      <th>17</th>\n",
       "      <td>0.220</td>\n",
       "      <td>0.8</td>\n",
       "      <td>0.9</td>\n",
       "    </tr>\n",
       "    <tr>\n",
       "      <th>18</th>\n",
       "      <td>0.180</td>\n",
       "      <td>0.9</td>\n",
       "      <td>0.9</td>\n",
       "    </tr>\n",
       "    <tr>\n",
       "      <th>19</th>\n",
       "      <td>0.100</td>\n",
       "      <td>0.9</td>\n",
       "      <td>1.0</td>\n",
       "    </tr>\n",
       "    <tr>\n",
       "      <th>20</th>\n",
       "      <td>0.000</td>\n",
       "      <td>1.0</td>\n",
       "      <td>1.0</td>\n",
       "    </tr>\n",
       "  </tbody>\n",
       "</table>\n",
       "</div>"
      ],
      "text/plain": [
       "    Threshold  FPR  TPR\n",
       "0       0.900  0.0  0.0\n",
       "1       0.800  0.0  0.1\n",
       "2       0.700  0.0  0.2\n",
       "3       0.600  0.1  0.2\n",
       "4       0.550  0.1  0.3\n",
       "5       0.540  0.1  0.4\n",
       "6       0.530  0.1  0.5\n",
       "7       0.520  0.2  0.5\n",
       "8       0.510  0.3  0.5\n",
       "9       0.505  0.3  0.6\n",
       "10      0.400  0.4  0.6\n",
       "11      0.390  0.4  0.7\n",
       "12      0.380  0.5  0.7\n",
       "13      0.370  0.5  0.8\n",
       "14      0.350  0.6  0.8\n",
       "15      0.300  0.7  0.8\n",
       "16      0.250  0.8  0.8\n",
       "17      0.220  0.8  0.9\n",
       "18      0.180  0.9  0.9\n",
       "19      0.100  0.9  1.0\n",
       "20      0.000  1.0  1.0"
      ]
     },
     "execution_count": 8,
     "metadata": {},
     "output_type": "execute_result"
    }
   ],
   "source": [
    "import pandas as pd\n",
    "df=pd.DataFrame({'Threshold': thresholds, \n",
    "              'TPR': tpr, \n",
    "              'FPR':fpr,\n",
    "              \n",
    "             })\n",
    "df=df[['Threshold','FPR','TPR']]\n",
    "df"
   ]
  },
  {
   "cell_type": "code",
   "execution_count": 9,
   "metadata": {},
   "outputs": [
    {
     "data": {
      "text/plain": [
       "<matplotlib.figure.Figure at 0x1e94bc727b8>"
      ]
     },
     "metadata": {},
     "output_type": "display_data"
    },
    {
     "data": {
      "image/png": "[encoded data removed]",
      "text/plain": [
       "<matplotlib.figure.Figure at 0x1e94c60f048>"
      ]
     },
     "metadata": {},
     "output_type": "display_data"
    }
   ],
   "source": [
    "import matplotlib.pyplot as plt\n",
    "%matplotlib inline  \n",
    "fig = plt.figure()\n",
    "fig = plt.figure(figsize=(8,8))\n",
    "ax = fig.add_subplot(111)\n",
    "\n",
    "X_diag=([0.,1.])\n",
    "Y_diag=([0.,1.])\n",
    "plt.ylabel('True Positive Rate -->')\n",
    "plt.xlabel('False Positive Rate -->')\n",
    "plt.plot(fpr, tpr, lw=2)\n",
    "plt.plot(X_diag, Y_diag, lw=2)\n",
    "plt.title('ROC curve, AUC = %.4f'%auc)\n",
    "\n",
    "for xy in zip(fpr, tpr):                                     \n",
    "    ax.annotate('(%s, %s)' % xy, xy=xy, textcoords='data') \n",
    "\n",
    "plt.grid()\n",
    "plt.show()"
   ]
  },
  {
   "cell_type": "code",
   "execution_count": 10,
   "metadata": {},
   "outputs": [],
   "source": [
    "X=(0.,0., 1/7, 1/7, 2/7, 3/7,  3/7,4/7,5/7,6/7,7/7)\n",
    "Y=(0.,1/3,1/3, 2/3, 2/3, 2/3,  3/3,3/3,3/3,3/3,3/3)"
   ]
  },
  {
   "cell_type": "code",
   "execution_count": 11,
   "metadata": {},
   "outputs": [
    {
     "data": {
      "text/plain": [
       "<matplotlib.figure.Figure at 0x1e94bf04160>"
      ]
     },
     "metadata": {},
     "output_type": "display_data"
    },
    {
     "data": {
      "image/png": "[encoded data removed]",
      "text/plain": [
       "<matplotlib.figure.Figure at 0x1e94bf04080>"
      ]
     },
     "metadata": {},
     "output_type": "display_data"
    }
   ],
   "source": [
    "import matplotlib.pyplot as plt\n",
    "%matplotlib inline  \n",
    "fig = plt.figure()\n",
    "fig = plt.figure(figsize=(5,5))\n",
    "ax = fig.add_subplot(111)\n",
    "y_tick = np.array([0,1/3,2/3,3/3])\n",
    "x_tick = np.array([0,1/7,2/7,3/7,4/7,5/7,6/7,7/7])\n",
    "my_xticks = ['0','1/7', '2/7', '3/7', '4/7','5/7','6/7']\n",
    "my_yticks = ['0','1/3', '2/3', '3/3']\n",
    "plt.xticks(x_tick, my_xticks)\n",
    "plt.yticks(y_tick,my_yticks)\n",
    "#plt.plot(x, y)\n",
    "plt.grid(axis='y_tick', linestyle='-')\n",
    "X_diag=([0.,1.])\n",
    "Y_diag=([0.,1.])\n",
    "plt.ylabel('True Positive Rate -->')\n",
    "plt.xlabel('False Positive Rate -->')\n",
    "plt.plot(X_diag, Y_diag, lw=2)\n",
    "plt.plot(X, Y, lw=2)\n",
    "#plt.title('ROC curve, AUC = %.4f'%auc)\n",
    "#for xy in zip(A, B):\n",
    "#for xy in zip(X,Y):                                     \n",
    "   #  ax.annotate('(%s, %s)' % xy, xy=xy, textcoords='data') \n",
    "\n",
    "plt.grid()\n",
    "plt.show()"
   ]
  },
  {
   "cell_type": "code",
   "execution_count": null,
   "metadata": {
    "collapsed": true
   },
   "outputs": [],
   "source": []
  },
  {
   "cell_type": "code",
   "execution_count": null,
   "metadata": {
    "collapsed": true
   },
   "outputs": [],
   "source": []
  }
 ],
 "metadata": {
  "anaconda-cloud": {},
  "kernelspec": {
   "display_name": "Python 2",
   "language": "python",
   "name": "python2"
  },
  "language_info": {
   "codemirror_mode": {
    "name": "ipython",
    "version": 2
   },
   "file_extension": ".py",
   "mimetype": "text/x-python",
   "name": "python",
   "nbconvert_exporter": "python",
   "pygments_lexer": "ipython2",
   "version": "2.7.15"
  }
 },
 "nbformat": 4,
 "nbformat_minor": 2
}
