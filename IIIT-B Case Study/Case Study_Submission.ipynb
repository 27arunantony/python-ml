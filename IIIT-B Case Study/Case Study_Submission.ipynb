{
 "cells": [
  {
   "cell_type": "code",
   "execution_count": 50,
   "metadata": {
    "collapsed": true
   },
   "outputs": [],
   "source": [
    "# importing respective panda modules which will be used for analysis\n",
    "import numpy as np\n",
    "import pandas as pd"
   ]
  },
  {
   "cell_type": "markdown",
   "metadata": {},
   "source": [
    "# Utility Functions\n",
    "### Convert string to lower case letters"
   ]
  },
  {
   "cell_type": "code",
   "execution_count": 51,
   "metadata": {
    "collapsed": true
   },
   "outputs": [],
   "source": [
    "# A convert_to_lower function which will conver string to its lower letter equivalent\n",
    "convert_to_lower=lambda x: str(x).lower()"
   ]
  },
  {
   "cell_type": "markdown",
   "metadata": {},
   "source": [
    "### splits on pipe and return the first item"
   ]
  },
  {
   "cell_type": "code",
   "execution_count": 52,
   "metadata": {
    "collapsed": true
   },
   "outputs": [],
   "source": [
    "splitter_on_pipe_return_first=lambda x: str(x).split('|')[0]"
   ]
  },
  {
   "cell_type": "markdown",
   "metadata": {},
   "source": [
    "## Business Constraints\n",
    "\n",
    "     * Spark Funds investment range is 5 million to 15 million USD\n",
    "     * In case of mulitple category_list separated by | the first one will be considered as primary sector"
   ]
  },
  {
   "cell_type": "markdown",
   "metadata": {},
   "source": [
    "## DATA Understanding\n",
    "\n",
    "### permalink and company_permalink are used as unique identification key in companies and rounds2 dataset"
   ]
  },
  {
   "cell_type": "markdown",
   "metadata": {},
   "source": [
    "### Reading data files with encoding \"palmos\""
   ]
  },
  {
   "cell_type": "code",
   "execution_count": 53,
   "metadata": {
    "collapsed": true
   },
   "outputs": [],
   "source": [
    "# Reading companies.txt file into dataframe companies\n",
    "companies = pd.read_csv(\"companies.txt\", sep=\"\\t\", encoding = \"palmos\")\n",
    "\n",
    "# Reading rounds2.csv file into dataframe rounds2\n",
    "rounds2=pd.read_csv('rounds2.csv',encoding=\"palmos\")"
   ]
  },
  {
   "cell_type": "markdown",
   "metadata": {},
   "source": [
    "### Downloading English speaking countries PDF"
   ]
  },
  {
   "cell_type": "code",
   "execution_count": 54,
   "metadata": {
    "collapsed": true
   },
   "outputs": [],
   "source": [
    "import requests\n",
    "url='http://www.emmir.org/fileadmin/user_upload/admission/Countries_where_English_is_an_official_language.pdf'\n",
    "r = requests.get(url)  \n",
    "with open(\"Countries_where_English_is_an_official_language.pdf\", 'wb') as f:\n",
    "    f.write(r.content)"
   ]
  },
  {
   "cell_type": "markdown",
   "metadata": {},
   "source": [
    "### Reading pdf to build a list of countries"
   ]
  },
  {
   "cell_type": "code",
   "execution_count": 55,
   "metadata": {
    "collapsed": true
   },
   "outputs": [],
   "source": [
    "import PyPDF2\n",
    "import re\n",
    "\n",
    "\n",
    "# reading the pdf file\n",
    "pdf_object = open('Countries_where_English_is_an_official_language.pdf', 'rb')\n",
    "pdf_reader = PyPDF2.PdfFileReader(pdf_object)\n",
    "\n",
    "# get a certain page's text\n",
    "page_object = pdf_reader.getPage(0)\n",
    "# Extract text from the page_object\n",
    "pdf_text=page_object.extractText()\n",
    "pdf_filter_text=['ListofcountrieswhereEnglishisanofficiallanguage','Africa','Asia','Americas','Australia/Oceania','Europe','\\n']\n",
    "for r in pdf_filter_text:\n",
    "    pdf_text=pdf_text.replace(r,'')\n",
    "lst_2_more_word_countries={'SierraLeone':'Sierra leone','SouthAfrica':'South africa','SouthSudan':'South sudan',\n",
    "                           'FederatedStatesofMicronesia':'Federated states of micronesia','MarshallIslands':'Marshall islands'\n",
    "                          ,'NewZealand':'New zealand','PapuaNewGuinea':'Papua new guinea','SolomonIslands':'Solomon islands',\n",
    "                           'UnitedKingdom':'United kingdom','AntiguaandBarbuda':'Antigua and barbuda','TheBahamas':'The bahamas',\n",
    "                          'SaintKittsandNevis':'Saint kitts and nevis','SaintLucia':'Saint lucia',\n",
    "                           'SaintVincentandtheGrenadines':'Saint vincent and the grenadines','TrinidadandTobago':'Trinidad and tobago',\n",
    "                          'UnitedStates':'United states'}\n",
    "for k,v in lst_2_more_word_countries.items():\n",
    "    pdf_text=pdf_text.replace(k,v)\n",
    "\n",
    "english_speaking_countries=re.findall('[A-Z][^A-Z]*', pdf_text)\n",
    "english_speaking_countries=list(map(convert_to_lower,english_speaking_countries))"
   ]
  },
  {
   "cell_type": "markdown",
   "metadata": {},
   "source": [
    "## Inspecting the dataframe by structure and value"
   ]
  },
  {
   "cell_type": "code",
   "execution_count": 56,
   "metadata": {},
   "outputs": [
    {
     "name": "stdout",
     "output_type": "stream",
     "text": [
      "Number of null values in unique id i.e. permalink of companies  0\n"
     ]
    }
   ],
   "source": [
    "print(\"Number of null values in unique id i.e. permalink of companies \",companies.isnull().sum()['permalink'])"
   ]
  },
  {
   "cell_type": "code",
   "execution_count": 57,
   "metadata": {},
   "outputs": [
    {
     "name": "stdout",
     "output_type": "stream",
     "text": [
      "Number of null values in unique id i.e. permalink of companies  0\n"
     ]
    }
   ],
   "source": [
    "print(\"Number of null values in unique id i.e. permalink of companies \",rounds2.isnull().sum()['company_permalink'])"
   ]
  },
  {
   "cell_type": "markdown",
   "metadata": {},
   "source": [
    "### Normalizing the case-sensitivity in companies and rounds2 dataframe"
   ]
  },
  {
   "cell_type": "code",
   "execution_count": 58,
   "metadata": {
    "collapsed": true
   },
   "outputs": [],
   "source": [
    "# Now we will normalize the values in dataframe companies and rounds2\n",
    "companies['permalink']=companies['permalink'].apply(convert_to_lower)\n",
    "rounds2['company_permalink']=rounds2['company_permalink'].apply(convert_to_lower)"
   ]
  },
  {
   "cell_type": "markdown",
   "metadata": {},
   "source": [
    "### Number of unqiue companies in companies dataset"
   ]
  },
  {
   "cell_type": "code",
   "execution_count": 59,
   "metadata": {},
   "outputs": [
    {
     "name": "stdout",
     "output_type": "stream",
     "text": [
      "Number of unique companies in companies dataframe:  66368\n"
     ]
    }
   ],
   "source": [
    "print(\"Number of unique companies in companies dataframe: \",len(companies.groupby('permalink')) )"
   ]
  },
  {
   "cell_type": "markdown",
   "metadata": {},
   "source": [
    "### Number of unique companies in rounds2 dataset"
   ]
  },
  {
   "cell_type": "code",
   "execution_count": 60,
   "metadata": {},
   "outputs": [
    {
     "name": "stdout",
     "output_type": "stream",
     "text": [
      "Number of unique companies in companies dataframe:  66368\n"
     ]
    }
   ],
   "source": [
    "print(\"Number of unique companies in companies dataframe: \", len(rounds2['company_permalink'].unique()))\n"
   ]
  },
  {
   "cell_type": "markdown",
   "metadata": {},
   "source": [
    "### Is there any companies in rounds2 not in companies dataset"
   ]
  },
  {
   "cell_type": "code",
   "execution_count": 61,
   "metadata": {},
   "outputs": [
    {
     "name": "stdout",
     "output_type": "stream",
     "text": [
      "Number of companies in rounds2 not in companies dataset : 0\n"
     ]
    }
   ],
   "source": [
    "round2_only_comp=rounds2.loc[~rounds2['company_permalink'].isin(companies['permalink'])]\n",
    "print(\"Number of companies in rounds2 not in companies dataset :\",len(round2_only_comp))"
   ]
  },
  {
   "cell_type": "markdown",
   "metadata": {},
   "source": [
    "### Dataset Identification\n",
    "\n",
    "#### Unique Identification: permalink & company_permalink will be unique id in dataset companies and rounds2\n",
    "#### Data Normalization: raised_amount_usd, funding_round_type, category_list & country_code are an important attribute for computation and can't be null"
   ]
  },
  {
   "cell_type": "markdown",
   "metadata": {},
   "source": [
    "## DATA PREPARATION"
   ]
  },
  {
   "cell_type": "markdown",
   "metadata": {},
   "source": [
    "### Merging dataframe companies and rounds2"
   ]
  },
  {
   "cell_type": "code",
   "execution_count": 62,
   "metadata": {},
   "outputs": [
    {
     "name": "stdout",
     "output_type": "stream",
     "text": [
      "<class 'pandas.core.frame.DataFrame'>\n",
      "Index: 114949 entries, 0 to 114948\n",
      "Data columns (total 6 columns):\n",
      "permalink                  114949 non-null object\n",
      "funding_round_permalink    114949 non-null object\n",
      "funding_round_type         114949 non-null object\n",
      "funding_round_code         31140 non-null object\n",
      "funded_at                  114949 non-null object\n",
      "raised_amount_usd          94959 non-null float64\n",
      "dtypes: float64(1), object(5)\n",
      "memory usage: 6.1+ MB\n"
     ]
    }
   ],
   "source": [
    "#As the two dataset doesn't have column name in common\n",
    "# We are renaming the column company_permalink to permalink of rounds2 dataframe\n",
    "rounds2=rounds2.rename(index=str,columns={\"company_permalink\":\"permalink\"})\n",
    "rounds2.info()"
   ]
  },
  {
   "cell_type": "markdown",
   "metadata": {},
   "source": [
    "### Total number of observation in merged dataframe"
   ]
  },
  {
   "cell_type": "code",
   "execution_count": 63,
   "metadata": {},
   "outputs": [
    {
     "name": "stdout",
     "output_type": "stream",
     "text": [
      "Number of observation in master_frame:  (114949, 15)\n"
     ]
    }
   ],
   "source": [
    "master_frame=pd.merge(companies,rounds2, how='inner',on='permalink')\n",
    "print(\"Number of observation in master_frame: \",master_frame.shape)"
   ]
  },
  {
   "cell_type": "markdown",
   "metadata": {},
   "source": [
    "### Data cleaning"
   ]
  },
  {
   "cell_type": "code",
   "execution_count": 64,
   "metadata": {},
   "outputs": [
    {
     "name": "stdout",
     "output_type": "stream",
     "text": [
      "\t\tmaster_frame \n",
      " permalink                      0\n",
      "name                           1\n",
      "homepage_url                6134\n",
      "category_list               3410\n",
      "status                         0\n",
      "country_code                8678\n",
      "state_code                 10946\n",
      "region                     10167\n",
      "city                       10164\n",
      "founded_at                 20521\n",
      "funding_round_permalink        0\n",
      "funding_round_type             0\n",
      "funding_round_code         83809\n",
      "funded_at                      0\n",
      "raised_amount_usd          19990\n",
      "dtype: int64\n"
     ]
    }
   ],
   "source": [
    "print(\"\\t\\tmaster_frame \\n\",master_frame.isnull().sum())"
   ]
  },
  {
   "cell_type": "markdown",
   "metadata": {},
   "source": [
    "#### As we can see we have null values country_code with 8678 , category_list with 3410 and raised_amount_usd with 19990"
   ]
  },
  {
   "cell_type": "code",
   "execution_count": 65,
   "metadata": {},
   "outputs": [
    {
     "data": {
      "text/plain": [
       "permalink                      0\n",
       "name                           1\n",
       "homepage_url                3251\n",
       "category_list                  0\n",
       "status                         0\n",
       "country_code                   0\n",
       "state_code                  1731\n",
       "region                      1184\n",
       "city                        1181\n",
       "founded_at                 13369\n",
       "funding_round_permalink        0\n",
       "funding_round_type             0\n",
       "funding_round_code         61753\n",
       "funded_at                      0\n",
       "raised_amount_usd              0\n",
       "dtype: int64"
      ]
     },
     "execution_count": 65,
     "metadata": {},
     "output_type": "execute_result"
    }
   ],
   "source": [
    "#cleaning country_code with null value \n",
    "master_frame=master_frame[~master_frame['country_code'].isnull()]\n",
    "\n",
    "#cleaning rows having category_list as null\n",
    "master_frame=master_frame[~master_frame['category_list'].isnull()]\n",
    "#cleaning rows having raised_amount_usd as ul\n",
    "master_frame=master_frame[~master_frame['raised_amount_usd'].isnull()]\n",
    "master_frame.reset_index()\n",
    "master_frame.isnull().sum()"
   ]
  },
  {
   "cell_type": "code",
   "execution_count": 66,
   "metadata": {},
   "outputs": [
    {
     "data": {
      "text/html": [
       "<div>\n",
       "<style>\n",
       "    .dataframe thead tr:only-child th {\n",
       "        text-align: right;\n",
       "    }\n",
       "\n",
       "    .dataframe thead th {\n",
       "        text-align: left;\n",
       "    }\n",
       "\n",
       "    .dataframe tbody tr th {\n",
       "        vertical-align: top;\n",
       "    }\n",
       "</style>\n",
       "<table border=\"1\" class=\"dataframe\">\n",
       "  <thead>\n",
       "    <tr style=\"text-align: right;\">\n",
       "      <th></th>\n",
       "      <th>raised_amount_usd</th>\n",
       "    </tr>\n",
       "  </thead>\n",
       "  <tbody>\n",
       "    <tr>\n",
       "      <th>count</th>\n",
       "      <td>8.852900e+04</td>\n",
       "    </tr>\n",
       "    <tr>\n",
       "      <th>mean</th>\n",
       "      <td>1.047385e+07</td>\n",
       "    </tr>\n",
       "    <tr>\n",
       "      <th>std</th>\n",
       "      <td>1.118118e+08</td>\n",
       "    </tr>\n",
       "    <tr>\n",
       "      <th>min</th>\n",
       "      <td>0.000000e+00</td>\n",
       "    </tr>\n",
       "    <tr>\n",
       "      <th>25%</th>\n",
       "      <td>3.705180e+05</td>\n",
       "    </tr>\n",
       "    <tr>\n",
       "      <th>50%</th>\n",
       "      <td>1.800000e+06</td>\n",
       "    </tr>\n",
       "    <tr>\n",
       "      <th>75%</th>\n",
       "      <td>7.100000e+06</td>\n",
       "    </tr>\n",
       "    <tr>\n",
       "      <th>max</th>\n",
       "      <td>2.127194e+10</td>\n",
       "    </tr>\n",
       "  </tbody>\n",
       "</table>\n",
       "</div>"
      ],
      "text/plain": [
       "       raised_amount_usd\n",
       "count       8.852900e+04\n",
       "mean        1.047385e+07\n",
       "std         1.118118e+08\n",
       "min         0.000000e+00\n",
       "25%         3.705180e+05\n",
       "50%         1.800000e+06\n",
       "75%         7.100000e+06\n",
       "max         2.127194e+10"
      ]
     },
     "execution_count": 66,
     "metadata": {},
     "output_type": "execute_result"
    }
   ],
   "source": [
    "#Revalidating the max value in master_frame\n",
    "master_frame.describe()"
   ]
  },
  {
   "cell_type": "code",
   "execution_count": 67,
   "metadata": {},
   "outputs": [
    {
     "data": {
      "text/html": [
       "<div>\n",
       "<style>\n",
       "    .dataframe thead tr:only-child th {\n",
       "        text-align: right;\n",
       "    }\n",
       "\n",
       "    .dataframe thead th {\n",
       "        text-align: left;\n",
       "    }\n",
       "\n",
       "    .dataframe tbody tr th {\n",
       "        vertical-align: top;\n",
       "    }\n",
       "</style>\n",
       "<table border=\"1\" class=\"dataframe\">\n",
       "  <thead>\n",
       "    <tr>\n",
       "      <th></th>\n",
       "      <th colspan=\"8\" halign=\"left\">raised_amount_usd</th>\n",
       "    </tr>\n",
       "    <tr>\n",
       "      <th></th>\n",
       "      <th>count</th>\n",
       "      <th>mean</th>\n",
       "      <th>std</th>\n",
       "      <th>min</th>\n",
       "      <th>25%</th>\n",
       "      <th>50%</th>\n",
       "      <th>75%</th>\n",
       "      <th>max</th>\n",
       "    </tr>\n",
       "    <tr>\n",
       "      <th>funding_round_type</th>\n",
       "      <th></th>\n",
       "      <th></th>\n",
       "      <th></th>\n",
       "      <th></th>\n",
       "      <th></th>\n",
       "      <th></th>\n",
       "      <th></th>\n",
       "      <th></th>\n",
       "    </tr>\n",
       "  </thead>\n",
       "  <tbody>\n",
       "    <tr>\n",
       "      <th>angel</th>\n",
       "      <td>4400.0</td>\n",
       "      <td>9.715739e+05</td>\n",
       "      <td>7.710904e+06</td>\n",
       "      <td>0.0</td>\n",
       "      <td>152756.50</td>\n",
       "      <td>414906.0</td>\n",
       "      <td>1000000.00</td>\n",
       "      <td>4.945120e+08</td>\n",
       "    </tr>\n",
       "    <tr>\n",
       "      <th>convertible_note</th>\n",
       "      <td>1320.0</td>\n",
       "      <td>1.337187e+06</td>\n",
       "      <td>5.994593e+06</td>\n",
       "      <td>0.0</td>\n",
       "      <td>83863.75</td>\n",
       "      <td>300000.0</td>\n",
       "      <td>1000000.00</td>\n",
       "      <td>1.500000e+08</td>\n",
       "    </tr>\n",
       "    <tr>\n",
       "      <th>debt_financing</th>\n",
       "      <td>6506.0</td>\n",
       "      <td>1.716765e+07</td>\n",
       "      <td>2.840317e+08</td>\n",
       "      <td>0.0</td>\n",
       "      <td>337625.00</td>\n",
       "      <td>1096653.0</td>\n",
       "      <td>4000000.00</td>\n",
       "      <td>2.127194e+10</td>\n",
       "    </tr>\n",
       "    <tr>\n",
       "      <th>equity_crowdfunding</th>\n",
       "      <td>1128.0</td>\n",
       "      <td>5.098980e+05</td>\n",
       "      <td>1.750626e+06</td>\n",
       "      <td>0.0</td>\n",
       "      <td>5000.00</td>\n",
       "      <td>85000.0</td>\n",
       "      <td>340105.75</td>\n",
       "      <td>2.740000e+07</td>\n",
       "    </tr>\n",
       "    <tr>\n",
       "      <th>grant</th>\n",
       "      <td>1939.0</td>\n",
       "      <td>4.512698e+06</td>\n",
       "      <td>2.664946e+07</td>\n",
       "      <td>0.0</td>\n",
       "      <td>50579.00</td>\n",
       "      <td>225000.0</td>\n",
       "      <td>1715427.00</td>\n",
       "      <td>7.500000e+08</td>\n",
       "    </tr>\n",
       "    <tr>\n",
       "      <th>non_equity_assistance</th>\n",
       "      <td>60.0</td>\n",
       "      <td>4.807534e+05</td>\n",
       "      <td>1.948883e+06</td>\n",
       "      <td>0.0</td>\n",
       "      <td>29250.00</td>\n",
       "      <td>60000.0</td>\n",
       "      <td>189150.50</td>\n",
       "      <td>1.500000e+07</td>\n",
       "    </tr>\n",
       "    <tr>\n",
       "      <th>post_ipo_debt</th>\n",
       "      <td>151.0</td>\n",
       "      <td>1.694518e+08</td>\n",
       "      <td>6.044080e+08</td>\n",
       "      <td>70000.0</td>\n",
       "      <td>4000000.00</td>\n",
       "      <td>19900000.0</td>\n",
       "      <td>60000000.00</td>\n",
       "      <td>5.800000e+09</td>\n",
       "    </tr>\n",
       "    <tr>\n",
       "      <th>post_ipo_equity</th>\n",
       "      <td>598.0</td>\n",
       "      <td>6.607706e+07</td>\n",
       "      <td>2.075119e+08</td>\n",
       "      <td>77.0</td>\n",
       "      <td>3855282.00</td>\n",
       "      <td>12262852.5</td>\n",
       "      <td>39442072.75</td>\n",
       "      <td>3.200000e+09</td>\n",
       "    </tr>\n",
       "    <tr>\n",
       "      <th>private_equity</th>\n",
       "      <td>1820.0</td>\n",
       "      <td>7.393849e+07</td>\n",
       "      <td>2.017765e+08</td>\n",
       "      <td>0.0</td>\n",
       "      <td>5000000.00</td>\n",
       "      <td>20000000.0</td>\n",
       "      <td>75762572.00</td>\n",
       "      <td>4.745460e+09</td>\n",
       "    </tr>\n",
       "    <tr>\n",
       "      <th>product_crowdfunding</th>\n",
       "      <td>330.0</td>\n",
       "      <td>1.353227e+06</td>\n",
       "      <td>4.333771e+06</td>\n",
       "      <td>0.0</td>\n",
       "      <td>50828.75</td>\n",
       "      <td>211500.0</td>\n",
       "      <td>795762.25</td>\n",
       "      <td>5.200000e+07</td>\n",
       "    </tr>\n",
       "    <tr>\n",
       "      <th>secondary_market</th>\n",
       "      <td>28.0</td>\n",
       "      <td>8.443853e+07</td>\n",
       "      <td>1.439256e+08</td>\n",
       "      <td>2323.0</td>\n",
       "      <td>5675000.00</td>\n",
       "      <td>45850000.0</td>\n",
       "      <td>88750000.00</td>\n",
       "      <td>6.806116e+08</td>\n",
       "    </tr>\n",
       "    <tr>\n",
       "      <th>seed</th>\n",
       "      <td>21095.0</td>\n",
       "      <td>7.477937e+05</td>\n",
       "      <td>2.288318e+06</td>\n",
       "      <td>0.0</td>\n",
       "      <td>68816.50</td>\n",
       "      <td>300000.0</td>\n",
       "      <td>1000000.00</td>\n",
       "      <td>2.000000e+08</td>\n",
       "    </tr>\n",
       "    <tr>\n",
       "      <th>undisclosed</th>\n",
       "      <td>1345.0</td>\n",
       "      <td>1.589166e+07</td>\n",
       "      <td>1.653383e+08</td>\n",
       "      <td>0.0</td>\n",
       "      <td>253000.00</td>\n",
       "      <td>1100000.0</td>\n",
       "      <td>4672932.00</td>\n",
       "      <td>4.630000e+09</td>\n",
       "    </tr>\n",
       "    <tr>\n",
       "      <th>venture</th>\n",
       "      <td>47809.0</td>\n",
       "      <td>1.172422e+07</td>\n",
       "      <td>8.821571e+07</td>\n",
       "      <td>0.0</td>\n",
       "      <td>1600000.00</td>\n",
       "      <td>5000000.0</td>\n",
       "      <td>12000000.00</td>\n",
       "      <td>1.760000e+10</td>\n",
       "    </tr>\n",
       "  </tbody>\n",
       "</table>\n",
       "</div>"
      ],
      "text/plain": [
       "                      raised_amount_usd                                       \\\n",
       "                                  count          mean           std      min   \n",
       "funding_round_type                                                             \n",
       "angel                            4400.0  9.715739e+05  7.710904e+06      0.0   \n",
       "convertible_note                 1320.0  1.337187e+06  5.994593e+06      0.0   \n",
       "debt_financing                   6506.0  1.716765e+07  2.840317e+08      0.0   \n",
       "equity_crowdfunding              1128.0  5.098980e+05  1.750626e+06      0.0   \n",
       "grant                            1939.0  4.512698e+06  2.664946e+07      0.0   \n",
       "non_equity_assistance              60.0  4.807534e+05  1.948883e+06      0.0   \n",
       "post_ipo_debt                     151.0  1.694518e+08  6.044080e+08  70000.0   \n",
       "post_ipo_equity                   598.0  6.607706e+07  2.075119e+08     77.0   \n",
       "private_equity                   1820.0  7.393849e+07  2.017765e+08      0.0   \n",
       "product_crowdfunding              330.0  1.353227e+06  4.333771e+06      0.0   \n",
       "secondary_market                   28.0  8.443853e+07  1.439256e+08   2323.0   \n",
       "seed                            21095.0  7.477937e+05  2.288318e+06      0.0   \n",
       "undisclosed                      1345.0  1.589166e+07  1.653383e+08      0.0   \n",
       "venture                         47809.0  1.172422e+07  8.821571e+07      0.0   \n",
       "\n",
       "                                                                          \n",
       "                              25%         50%          75%           max  \n",
       "funding_round_type                                                        \n",
       "angel                   152756.50    414906.0   1000000.00  4.945120e+08  \n",
       "convertible_note         83863.75    300000.0   1000000.00  1.500000e+08  \n",
       "debt_financing          337625.00   1096653.0   4000000.00  2.127194e+10  \n",
       "equity_crowdfunding       5000.00     85000.0    340105.75  2.740000e+07  \n",
       "grant                    50579.00    225000.0   1715427.00  7.500000e+08  \n",
       "non_equity_assistance    29250.00     60000.0    189150.50  1.500000e+07  \n",
       "post_ipo_debt          4000000.00  19900000.0  60000000.00  5.800000e+09  \n",
       "post_ipo_equity        3855282.00  12262852.5  39442072.75  3.200000e+09  \n",
       "private_equity         5000000.00  20000000.0  75762572.00  4.745460e+09  \n",
       "product_crowdfunding     50828.75    211500.0    795762.25  5.200000e+07  \n",
       "secondary_market       5675000.00  45850000.0  88750000.00  6.806116e+08  \n",
       "seed                     68816.50    300000.0   1000000.00  2.000000e+08  \n",
       "undisclosed             253000.00   1100000.0   4672932.00  4.630000e+09  \n",
       "venture                1600000.00   5000000.0  12000000.00  1.760000e+10  "
      ]
     },
     "execution_count": 67,
     "metadata": {},
     "output_type": "execute_result"
    }
   ],
   "source": [
    "fund_type=master_frame.groupby('funding_round_type')\n",
    "fund_type.describe()"
   ]
  },
  {
   "cell_type": "code",
   "execution_count": 68,
   "metadata": {},
   "outputs": [
    {
     "name": "stdout",
     "output_type": "stream",
     "text": [
      "Average Funding amount for venture type       :  11724222.690204773\n",
      "Average Funding amount for angel type         :  971573.8911363636\n",
      "Average Funding amount for seed type          :  747793.6824840009\n",
      "Average Funding amount for private equity type:  73938486.27527472\n"
     ]
    }
   ],
   "source": [
    "print(\"Average Funding amount for venture type       : \",master_frame.loc[master_frame.funding_round_type=='venture'].raised_amount_usd.mean())\n",
    "print(\"Average Funding amount for angel type         : \",master_frame.loc[master_frame.funding_round_type=='angel'].raised_amount_usd.mean())\n",
    "print(\"Average Funding amount for seed type          : \",master_frame.loc[master_frame.funding_round_type=='seed'].raised_amount_usd.mean())\n",
    "print(\"Average Funding amount for private equity type: \",master_frame.loc[master_frame.funding_round_type=='private_equity'].raised_amount_usd.mean())"
   ]
  },
  {
   "cell_type": "markdown",
   "metadata": {},
   "source": [
    "#### As we have identified that funding type is venture: filtering dataframe with that dataset only"
   ]
  },
  {
   "cell_type": "code",
   "execution_count": 69,
   "metadata": {
    "collapsed": true
   },
   "outputs": [],
   "source": [
    "# Creating a backup of master_frame as master_frame_root\n",
    "master_frame_root=master_frame.copy()"
   ]
  },
  {
   "cell_type": "code",
   "execution_count": 70,
   "metadata": {},
   "outputs": [
    {
     "data": {
      "text/html": [
       "<div>\n",
       "<style>\n",
       "    .dataframe thead tr:only-child th {\n",
       "        text-align: right;\n",
       "    }\n",
       "\n",
       "    .dataframe thead th {\n",
       "        text-align: left;\n",
       "    }\n",
       "\n",
       "    .dataframe tbody tr th {\n",
       "        vertical-align: top;\n",
       "    }\n",
       "</style>\n",
       "<table border=\"1\" class=\"dataframe\">\n",
       "  <thead>\n",
       "    <tr style=\"text-align: right;\">\n",
       "      <th></th>\n",
       "      <th>raised_amount_usd</th>\n",
       "    </tr>\n",
       "    <tr>\n",
       "      <th>funding_round_type</th>\n",
       "      <th></th>\n",
       "    </tr>\n",
       "  </thead>\n",
       "  <tbody>\n",
       "    <tr>\n",
       "      <th>venture</th>\n",
       "      <td>5.605234e+11</td>\n",
       "    </tr>\n",
       "  </tbody>\n",
       "</table>\n",
       "</div>"
      ],
      "text/plain": [
       "                    raised_amount_usd\n",
       "funding_round_type                   \n",
       "venture                  5.605234e+11"
      ]
     },
     "execution_count": 70,
     "metadata": {},
     "output_type": "execute_result"
    }
   ],
   "source": [
    "## removing records of investment type not belonging to venture type\n",
    "master_frame=master_frame.loc[master_frame['funding_round_type'].isin(['venture']), :]\n",
    "\n",
    "#Validating that we only left with one type of funding\n",
    "master_frame.groupby('funding_round_type').sum()"
   ]
  },
  {
   "cell_type": "markdown",
   "metadata": {},
   "source": [
    "### Checkpoint 3"
   ]
  },
  {
   "cell_type": "code",
   "execution_count": 71,
   "metadata": {},
   "outputs": [
    {
     "name": "stdout",
     "output_type": "stream",
     "text": [
      "----------------------------------------------------------------------------------------------------\n",
      "\t\tTOP 9 Countries received most investment\n",
      "----------------------------------------------------------------------------------------------------\n",
      "  country_code  raised_amount_usd\n",
      "0          USA       4.200680e+11\n",
      "1          CHN       3.933892e+10\n",
      "2          GBR       2.007281e+10\n",
      "3          IND       1.426151e+10\n",
      "4          CAN       9.482218e+09\n",
      "5          FRA       7.226851e+09\n",
      "6          ISR       6.854350e+09\n",
      "7          DEU       6.306922e+09\n",
      "8          JPN       3.167647e+09\n"
     ]
    }
   ],
   "source": [
    "group_by_country=master_frame.groupby('country_code')\n",
    "investment_sorted_list=pd.DataFrame(group_by_country.raised_amount_usd.sum().sort_values(ascending = False))\n",
    "investment_sorted_list=investment_sorted_list.reset_index()\n",
    "top9=investment_sorted_list[0:9]\n",
    "print(\"-\"*100)\n",
    "print(\"\\t\\tTOP 9 Countries received most investment\")\n",
    "print(\"-\"*100)\n",
    "print(top9)"
   ]
  },
  {
   "cell_type": "code",
   "execution_count": 72,
   "metadata": {},
   "outputs": [
    {
     "name": "stdout",
     "output_type": "stream",
     "text": [
      "----------------------------------------------------------------------------------------------------\n",
      "\t\tTOP 3 English Speaking Countries\n",
      "----------------------------------------------------------------------------------------------------\n",
      "[['USA', 'United States'], ['GBR', 'United Kingdom'], ['IND', 'India']]\n"
     ]
    }
   ],
   "source": [
    "import pycountry\n",
    "top3_english_speaking_countries=[]\n",
    "for cc in top9['country_code']:\n",
    "    country_name=pycountry.countries.get(alpha_3=cc).name\n",
    "    try:\n",
    "        english_speaking_countries.index(country_name.lower())\n",
    "        if len(top3_english_speaking_countries)<3:\n",
    "            top3_english_speaking_countries.append([cc,country_name])\n",
    "        else:\n",
    "            break\n",
    "    except ValueError:\n",
    "        continue\n",
    "print(\"-\"*100)\n",
    "print(\"\\t\\tTOP 3 English Speaking Countries\")\n",
    "print(\"-\"*100)\n",
    "print(top3_english_speaking_countries)\n"
   ]
  },
  {
   "cell_type": "markdown",
   "metadata": {},
   "source": [
    "### Checkpoint 4"
   ]
  },
  {
   "cell_type": "markdown",
   "metadata": {},
   "source": [
    "#### Assumption\n",
    "    *‘Other’ is one of the eight main sectors; \n",
    "    * Consider the category 'Blanks' as a missing value."
   ]
  },
  {
   "cell_type": "markdown",
   "metadata": {},
   "source": [
    "#### Applying business constraint of considering 1st element before pipe under category_list as primary_sector"
   ]
  },
  {
   "cell_type": "code",
   "execution_count": 73,
   "metadata": {},
   "outputs": [
    {
     "name": "stderr",
     "output_type": "stream",
     "text": [
      "SettingWithCopyWarning: \n",
      "A value is trying to be set on a copy of a slice from a DataFrame.\n",
      "Try using .loc[row_indexer,col_indexer] = value instead\n",
      "\n",
      "See the caveats in the documentation: http://pandas.pydata.org/pandas-docs/stable/indexing.html#indexing-view-versus-copy [ipykernel_launcher.py:2]\n"
     ]
    },
    {
     "data": {
      "text/html": [
       "<div>\n",
       "<style>\n",
       "    .dataframe thead tr:only-child th {\n",
       "        text-align: right;\n",
       "    }\n",
       "\n",
       "    .dataframe thead th {\n",
       "        text-align: left;\n",
       "    }\n",
       "\n",
       "    .dataframe tbody tr th {\n",
       "        vertical-align: top;\n",
       "    }\n",
       "</style>\n",
       "<table border=\"1\" class=\"dataframe\">\n",
       "  <thead>\n",
       "    <tr style=\"text-align: right;\">\n",
       "      <th></th>\n",
       "      <th>permalink</th>\n",
       "      <th>name</th>\n",
       "      <th>homepage_url</th>\n",
       "      <th>category_list</th>\n",
       "      <th>status</th>\n",
       "      <th>country_code</th>\n",
       "      <th>state_code</th>\n",
       "      <th>region</th>\n",
       "      <th>city</th>\n",
       "      <th>founded_at</th>\n",
       "      <th>funding_round_permalink</th>\n",
       "      <th>funding_round_type</th>\n",
       "      <th>funding_round_code</th>\n",
       "      <th>funded_at</th>\n",
       "      <th>raised_amount_usd</th>\n",
       "      <th>primary_sector</th>\n",
       "    </tr>\n",
       "  </thead>\n",
       "  <tbody>\n",
       "    <tr>\n",
       "      <th>0</th>\n",
       "      <td>/organization/-fame</td>\n",
       "      <td>#fame</td>\n",
       "      <td>http://livfame.com</td>\n",
       "      <td>Media</td>\n",
       "      <td>operating</td>\n",
       "      <td>IND</td>\n",
       "      <td>16</td>\n",
       "      <td>Mumbai</td>\n",
       "      <td>Mumbai</td>\n",
       "      <td>NaN</td>\n",
       "      <td>/funding-round/9a01d05418af9f794eebff7ace91f638</td>\n",
       "      <td>venture</td>\n",
       "      <td>B</td>\n",
       "      <td>05-01-2015</td>\n",
       "      <td>10000000.0</td>\n",
       "      <td>Media</td>\n",
       "    </tr>\n",
       "    <tr>\n",
       "      <th>4</th>\n",
       "      <td>/organization/0-6-com</td>\n",
       "      <td>0-6.com</td>\n",
       "      <td>http://www.0-6.com</td>\n",
       "      <td>Curated Web</td>\n",
       "      <td>operating</td>\n",
       "      <td>CHN</td>\n",
       "      <td>22</td>\n",
       "      <td>Beijing</td>\n",
       "      <td>Beijing</td>\n",
       "      <td>01-01-2007</td>\n",
       "      <td>/funding-round/5727accaeaa57461bd22a9bdd945382d</td>\n",
       "      <td>venture</td>\n",
       "      <td>A</td>\n",
       "      <td>19-03-2008</td>\n",
       "      <td>2000000.0</td>\n",
       "      <td>Curated Web</td>\n",
       "    </tr>\n",
       "    <tr>\n",
       "      <th>8</th>\n",
       "      <td>/organization/0ndine-biomedical-inc</td>\n",
       "      <td>Ondine Biomedical Inc.</td>\n",
       "      <td>http://ondinebio.com</td>\n",
       "      <td>Biotechnology</td>\n",
       "      <td>operating</td>\n",
       "      <td>CAN</td>\n",
       "      <td>BC</td>\n",
       "      <td>Vancouver</td>\n",
       "      <td>Vancouver</td>\n",
       "      <td>01-01-1997</td>\n",
       "      <td>/funding-round/954b9499724b946ad8c396a57a5f3b72</td>\n",
       "      <td>venture</td>\n",
       "      <td>NaN</td>\n",
       "      <td>21-12-2009</td>\n",
       "      <td>719491.0</td>\n",
       "      <td>Biotechnology</td>\n",
       "    </tr>\n",
       "    <tr>\n",
       "      <th>10</th>\n",
       "      <td>/organization/0xdata</td>\n",
       "      <td>H2O.ai</td>\n",
       "      <td>http://h2o.ai/</td>\n",
       "      <td>Analytics</td>\n",
       "      <td>operating</td>\n",
       "      <td>USA</td>\n",
       "      <td>CA</td>\n",
       "      <td>SF Bay Area</td>\n",
       "      <td>Mountain View</td>\n",
       "      <td>01-01-2011</td>\n",
       "      <td>/funding-round/3bb2ee4a2d89251a10aaa735b1180e44</td>\n",
       "      <td>venture</td>\n",
       "      <td>B</td>\n",
       "      <td>09-11-2015</td>\n",
       "      <td>20000000.0</td>\n",
       "      <td>Analytics</td>\n",
       "    </tr>\n",
       "    <tr>\n",
       "      <th>11</th>\n",
       "      <td>/organization/0xdata</td>\n",
       "      <td>H2O.ai</td>\n",
       "      <td>http://h2o.ai/</td>\n",
       "      <td>Analytics</td>\n",
       "      <td>operating</td>\n",
       "      <td>USA</td>\n",
       "      <td>CA</td>\n",
       "      <td>SF Bay Area</td>\n",
       "      <td>Mountain View</td>\n",
       "      <td>01-01-2011</td>\n",
       "      <td>/funding-round/ae2a174c06517c2394aed45006322a7e</td>\n",
       "      <td>venture</td>\n",
       "      <td>NaN</td>\n",
       "      <td>03-01-2013</td>\n",
       "      <td>1700000.0</td>\n",
       "      <td>Analytics</td>\n",
       "    </tr>\n",
       "  </tbody>\n",
       "</table>\n",
       "</div>"
      ],
      "text/plain": [
       "                              permalink                    name  \\\n",
       "0                   /organization/-fame                   #fame   \n",
       "4                 /organization/0-6-com                 0-6.com   \n",
       "8   /organization/0ndine-biomedical-inc  Ondine Biomedical Inc.   \n",
       "10                 /organization/0xdata                  H2O.ai   \n",
       "11                 /organization/0xdata                  H2O.ai   \n",
       "\n",
       "            homepage_url  category_list     status country_code state_code  \\\n",
       "0     http://livfame.com          Media  operating          IND         16   \n",
       "4     http://www.0-6.com    Curated Web  operating          CHN         22   \n",
       "8   http://ondinebio.com  Biotechnology  operating          CAN         BC   \n",
       "10        http://h2o.ai/      Analytics  operating          USA         CA   \n",
       "11        http://h2o.ai/      Analytics  operating          USA         CA   \n",
       "\n",
       "         region           city  founded_at  \\\n",
       "0        Mumbai         Mumbai         NaN   \n",
       "4       Beijing        Beijing  01-01-2007   \n",
       "8     Vancouver      Vancouver  01-01-1997   \n",
       "10  SF Bay Area  Mountain View  01-01-2011   \n",
       "11  SF Bay Area  Mountain View  01-01-2011   \n",
       "\n",
       "                            funding_round_permalink funding_round_type  \\\n",
       "0   /funding-round/9a01d05418af9f794eebff7ace91f638            venture   \n",
       "4   /funding-round/5727accaeaa57461bd22a9bdd945382d            venture   \n",
       "8   /funding-round/954b9499724b946ad8c396a57a5f3b72            venture   \n",
       "10  /funding-round/3bb2ee4a2d89251a10aaa735b1180e44            venture   \n",
       "11  /funding-round/ae2a174c06517c2394aed45006322a7e            venture   \n",
       "\n",
       "   funding_round_code   funded_at  raised_amount_usd primary_sector  \n",
       "0                   B  05-01-2015         10000000.0          Media  \n",
       "4                   A  19-03-2008          2000000.0    Curated Web  \n",
       "8                 NaN  21-12-2009           719491.0  Biotechnology  \n",
       "10                  B  09-11-2015         20000000.0      Analytics  \n",
       "11                NaN  03-01-2013          1700000.0      Analytics  "
      ]
     },
     "execution_count": 73,
     "metadata": {},
     "output_type": "execute_result"
    }
   ],
   "source": [
    "#splitter_on_pipe_return_first is a utility function defined at start\n",
    "master_frame['primary_sector']=(master_frame['category_list'].apply(splitter_on_pipe_return_first)).copy()\n",
    "master_frame.head()"
   ]
  },
  {
   "cell_type": "code",
   "execution_count": 74,
   "metadata": {
    "collapsed": true
   },
   "outputs": [],
   "source": [
    "# Reading mapping.csv file \n",
    "# mapping.csc file contains the mapping of sector to there main sector.\n",
    "# This dataset will be merged with master_frame to have mapping of respective primary_sector to its main sector\n",
    "mapping=pd.read_csv('mapping.csv',encoding=\"palmos\")"
   ]
  },
  {
   "cell_type": "code",
   "execution_count": 75,
   "metadata": {},
   "outputs": [
    {
     "data": {
      "text/html": [
       "<div>\n",
       "<style>\n",
       "    .dataframe thead tr:only-child th {\n",
       "        text-align: right;\n",
       "    }\n",
       "\n",
       "    .dataframe thead th {\n",
       "        text-align: left;\n",
       "    }\n",
       "\n",
       "    .dataframe tbody tr th {\n",
       "        vertical-align: top;\n",
       "    }\n",
       "</style>\n",
       "<table border=\"1\" class=\"dataframe\">\n",
       "  <thead>\n",
       "    <tr style=\"text-align: right;\">\n",
       "      <th></th>\n",
       "      <th>category_list</th>\n",
       "      <th>Automotive &amp; Sports</th>\n",
       "      <th>Blanks</th>\n",
       "      <th>Cleantech / Semiconductors</th>\n",
       "      <th>Entertainment</th>\n",
       "      <th>Health</th>\n",
       "      <th>Manufacturing</th>\n",
       "      <th>News, Search and Messaging</th>\n",
       "      <th>Others</th>\n",
       "      <th>Social, Finance, Analytics, Advertising</th>\n",
       "    </tr>\n",
       "  </thead>\n",
       "  <tbody>\n",
       "    <tr>\n",
       "      <th>0</th>\n",
       "      <td>NaN</td>\n",
       "      <td>0</td>\n",
       "      <td>1</td>\n",
       "      <td>0</td>\n",
       "      <td>0</td>\n",
       "      <td>0</td>\n",
       "      <td>0</td>\n",
       "      <td>0</td>\n",
       "      <td>0</td>\n",
       "      <td>0</td>\n",
       "    </tr>\n",
       "    <tr>\n",
       "      <th>1</th>\n",
       "      <td>3D</td>\n",
       "      <td>0</td>\n",
       "      <td>0</td>\n",
       "      <td>0</td>\n",
       "      <td>0</td>\n",
       "      <td>0</td>\n",
       "      <td>1</td>\n",
       "      <td>0</td>\n",
       "      <td>0</td>\n",
       "      <td>0</td>\n",
       "    </tr>\n",
       "    <tr>\n",
       "      <th>2</th>\n",
       "      <td>3D Printing</td>\n",
       "      <td>0</td>\n",
       "      <td>0</td>\n",
       "      <td>0</td>\n",
       "      <td>0</td>\n",
       "      <td>0</td>\n",
       "      <td>1</td>\n",
       "      <td>0</td>\n",
       "      <td>0</td>\n",
       "      <td>0</td>\n",
       "    </tr>\n",
       "    <tr>\n",
       "      <th>3</th>\n",
       "      <td>3D Technology</td>\n",
       "      <td>0</td>\n",
       "      <td>0</td>\n",
       "      <td>0</td>\n",
       "      <td>0</td>\n",
       "      <td>0</td>\n",
       "      <td>1</td>\n",
       "      <td>0</td>\n",
       "      <td>0</td>\n",
       "      <td>0</td>\n",
       "    </tr>\n",
       "    <tr>\n",
       "      <th>4</th>\n",
       "      <td>Accounting</td>\n",
       "      <td>0</td>\n",
       "      <td>0</td>\n",
       "      <td>0</td>\n",
       "      <td>0</td>\n",
       "      <td>0</td>\n",
       "      <td>0</td>\n",
       "      <td>0</td>\n",
       "      <td>0</td>\n",
       "      <td>1</td>\n",
       "    </tr>\n",
       "  </tbody>\n",
       "</table>\n",
       "</div>"
      ],
      "text/plain": [
       "   category_list  Automotive & Sports  Blanks  Cleantech / Semiconductors  \\\n",
       "0            NaN                    0       1                           0   \n",
       "1             3D                    0       0                           0   \n",
       "2    3D Printing                    0       0                           0   \n",
       "3  3D Technology                    0       0                           0   \n",
       "4     Accounting                    0       0                           0   \n",
       "\n",
       "   Entertainment  Health  Manufacturing  News, Search and Messaging  Others  \\\n",
       "0              0       0              0                           0       0   \n",
       "1              0       0              1                           0       0   \n",
       "2              0       0              1                           0       0   \n",
       "3              0       0              1                           0       0   \n",
       "4              0       0              0                           0       0   \n",
       "\n",
       "   Social, Finance, Analytics, Advertising  \n",
       "0                                        0  \n",
       "1                                        0  \n",
       "2                                        0  \n",
       "3                                        0  \n",
       "4                                        1  "
      ]
     },
     "execution_count": 75,
     "metadata": {},
     "output_type": "execute_result"
    }
   ],
   "source": [
    "mapping.head()"
   ]
  },
  {
   "cell_type": "code",
   "execution_count": 76,
   "metadata": {},
   "outputs": [
    {
     "data": {
      "text/plain": [
       "category_list                              1\n",
       "Automotive & Sports                        0\n",
       "Blanks                                     0\n",
       "Cleantech / Semiconductors                 0\n",
       "Entertainment                              0\n",
       "Health                                     0\n",
       "Manufacturing                              0\n",
       "News, Search and Messaging                 0\n",
       "Others                                     0\n",
       "Social, Finance, Analytics, Advertising    0\n",
       "dtype: int64"
      ]
     },
     "execution_count": 76,
     "metadata": {},
     "output_type": "execute_result"
    }
   ],
   "source": [
    "# Inspecting null values in mapping dataframe\n",
    "mapping.isnull().sum()"
   ]
  },
  {
   "cell_type": "code",
   "execution_count": 77,
   "metadata": {},
   "outputs": [
    {
     "data": {
      "text/html": [
       "<div>\n",
       "<style>\n",
       "    .dataframe thead tr:only-child th {\n",
       "        text-align: right;\n",
       "    }\n",
       "\n",
       "    .dataframe thead th {\n",
       "        text-align: left;\n",
       "    }\n",
       "\n",
       "    .dataframe tbody tr th {\n",
       "        vertical-align: top;\n",
       "    }\n",
       "</style>\n",
       "<table border=\"1\" class=\"dataframe\">\n",
       "  <thead>\n",
       "    <tr style=\"text-align: right;\">\n",
       "      <th></th>\n",
       "      <th>category_list</th>\n",
       "      <th>Automotive &amp; Sports</th>\n",
       "      <th>Blanks</th>\n",
       "      <th>Cleantech / Semiconductors</th>\n",
       "      <th>Entertainment</th>\n",
       "      <th>Health</th>\n",
       "      <th>Manufacturing</th>\n",
       "      <th>News, Search and Messaging</th>\n",
       "      <th>Others</th>\n",
       "      <th>Social, Finance, Analytics, Advertising</th>\n",
       "    </tr>\n",
       "  </thead>\n",
       "  <tbody>\n",
       "    <tr>\n",
       "      <th>1</th>\n",
       "      <td>3D</td>\n",
       "      <td>0</td>\n",
       "      <td>0</td>\n",
       "      <td>0</td>\n",
       "      <td>0</td>\n",
       "      <td>0</td>\n",
       "      <td>1</td>\n",
       "      <td>0</td>\n",
       "      <td>0</td>\n",
       "      <td>0</td>\n",
       "    </tr>\n",
       "    <tr>\n",
       "      <th>2</th>\n",
       "      <td>3D Printing</td>\n",
       "      <td>0</td>\n",
       "      <td>0</td>\n",
       "      <td>0</td>\n",
       "      <td>0</td>\n",
       "      <td>0</td>\n",
       "      <td>1</td>\n",
       "      <td>0</td>\n",
       "      <td>0</td>\n",
       "      <td>0</td>\n",
       "    </tr>\n",
       "    <tr>\n",
       "      <th>3</th>\n",
       "      <td>3D Technology</td>\n",
       "      <td>0</td>\n",
       "      <td>0</td>\n",
       "      <td>0</td>\n",
       "      <td>0</td>\n",
       "      <td>0</td>\n",
       "      <td>1</td>\n",
       "      <td>0</td>\n",
       "      <td>0</td>\n",
       "      <td>0</td>\n",
       "    </tr>\n",
       "    <tr>\n",
       "      <th>4</th>\n",
       "      <td>Accounting</td>\n",
       "      <td>0</td>\n",
       "      <td>0</td>\n",
       "      <td>0</td>\n",
       "      <td>0</td>\n",
       "      <td>0</td>\n",
       "      <td>0</td>\n",
       "      <td>0</td>\n",
       "      <td>0</td>\n",
       "      <td>1</td>\n",
       "    </tr>\n",
       "    <tr>\n",
       "      <th>5</th>\n",
       "      <td>Active Lifestyle</td>\n",
       "      <td>0</td>\n",
       "      <td>0</td>\n",
       "      <td>0</td>\n",
       "      <td>0</td>\n",
       "      <td>1</td>\n",
       "      <td>0</td>\n",
       "      <td>0</td>\n",
       "      <td>0</td>\n",
       "      <td>0</td>\n",
       "    </tr>\n",
       "  </tbody>\n",
       "</table>\n",
       "</div>"
      ],
      "text/plain": [
       "      category_list  Automotive & Sports  Blanks  Cleantech / Semiconductors  \\\n",
       "1                3D                    0       0                           0   \n",
       "2       3D Printing                    0       0                           0   \n",
       "3     3D Technology                    0       0                           0   \n",
       "4        Accounting                    0       0                           0   \n",
       "5  Active Lifestyle                    0       0                           0   \n",
       "\n",
       "   Entertainment  Health  Manufacturing  News, Search and Messaging  Others  \\\n",
       "1              0       0              1                           0       0   \n",
       "2              0       0              1                           0       0   \n",
       "3              0       0              1                           0       0   \n",
       "4              0       0              0                           0       0   \n",
       "5              0       1              0                           0       0   \n",
       "\n",
       "   Social, Finance, Analytics, Advertising  \n",
       "1                                        0  \n",
       "2                                        0  \n",
       "3                                        0  \n",
       "4                                        1  \n",
       "5                                        0  "
      ]
     },
     "execution_count": 77,
     "metadata": {},
     "output_type": "execute_result"
    }
   ],
   "source": [
    "#Cleaning null values in category_list of mapping dataframe\n",
    "mapping=mapping[~(mapping['category_list'].isnull())]\n",
    "# Revalidating null values in mapping dataframe\n",
    "mapping.isnull().sum()\n",
    "mapping.reset_index()\n",
    "mapping.head()"
   ]
  },
  {
   "cell_type": "code",
   "execution_count": 78,
   "metadata": {
    "scrolled": true
   },
   "outputs": [
    {
     "data": {
      "text/html": [
       "<div>\n",
       "<style>\n",
       "    .dataframe thead tr:only-child th {\n",
       "        text-align: right;\n",
       "    }\n",
       "\n",
       "    .dataframe thead th {\n",
       "        text-align: left;\n",
       "    }\n",
       "\n",
       "    .dataframe tbody tr th {\n",
       "        vertical-align: top;\n",
       "    }\n",
       "</style>\n",
       "<table border=\"1\" class=\"dataframe\">\n",
       "  <thead>\n",
       "    <tr style=\"text-align: right;\">\n",
       "      <th></th>\n",
       "      <th>level_0</th>\n",
       "      <th>category_list</th>\n",
       "      <th>0</th>\n",
       "    </tr>\n",
       "  </thead>\n",
       "  <tbody>\n",
       "    <tr>\n",
       "      <th>0</th>\n",
       "      <td>Automotive &amp; Sports</td>\n",
       "      <td>3D</td>\n",
       "      <td>0</td>\n",
       "    </tr>\n",
       "    <tr>\n",
       "      <th>1</th>\n",
       "      <td>Automotive &amp; Sports</td>\n",
       "      <td>3D Printing</td>\n",
       "      <td>0</td>\n",
       "    </tr>\n",
       "    <tr>\n",
       "      <th>2</th>\n",
       "      <td>Automotive &amp; Sports</td>\n",
       "      <td>3D Technology</td>\n",
       "      <td>0</td>\n",
       "    </tr>\n",
       "    <tr>\n",
       "      <th>3</th>\n",
       "      <td>Automotive &amp; Sports</td>\n",
       "      <td>Accounting</td>\n",
       "      <td>0</td>\n",
       "    </tr>\n",
       "    <tr>\n",
       "      <th>4</th>\n",
       "      <td>Automotive &amp; Sports</td>\n",
       "      <td>Active Lifestyle</td>\n",
       "      <td>0</td>\n",
       "    </tr>\n",
       "    <tr>\n",
       "      <th>5</th>\n",
       "      <td>Automotive &amp; Sports</td>\n",
       "      <td>Ad Targeting</td>\n",
       "      <td>0</td>\n",
       "    </tr>\n",
       "    <tr>\n",
       "      <th>6</th>\n",
       "      <td>Automotive &amp; Sports</td>\n",
       "      <td>Advanced Materials</td>\n",
       "      <td>0</td>\n",
       "    </tr>\n",
       "    <tr>\n",
       "      <th>7</th>\n",
       "      <td>Automotive &amp; Sports</td>\n",
       "      <td>Adventure Travel</td>\n",
       "      <td>1</td>\n",
       "    </tr>\n",
       "    <tr>\n",
       "      <th>8</th>\n",
       "      <td>Automotive &amp; Sports</td>\n",
       "      <td>Advertising</td>\n",
       "      <td>0</td>\n",
       "    </tr>\n",
       "    <tr>\n",
       "      <th>9</th>\n",
       "      <td>Automotive &amp; Sports</td>\n",
       "      <td>Advertising Exchanges</td>\n",
       "      <td>0</td>\n",
       "    </tr>\n",
       "    <tr>\n",
       "      <th>10</th>\n",
       "      <td>Automotive &amp; Sports</td>\n",
       "      <td>Advertising Networks</td>\n",
       "      <td>0</td>\n",
       "    </tr>\n",
       "    <tr>\n",
       "      <th>11</th>\n",
       "      <td>Automotive &amp; Sports</td>\n",
       "      <td>Advertising Platforms</td>\n",
       "      <td>0</td>\n",
       "    </tr>\n",
       "    <tr>\n",
       "      <th>12</th>\n",
       "      <td>Automotive &amp; Sports</td>\n",
       "      <td>Advice</td>\n",
       "      <td>0</td>\n",
       "    </tr>\n",
       "    <tr>\n",
       "      <th>13</th>\n",
       "      <td>Automotive &amp; Sports</td>\n",
       "      <td>Aerospace</td>\n",
       "      <td>1</td>\n",
       "    </tr>\n",
       "    <tr>\n",
       "      <th>14</th>\n",
       "      <td>Automotive &amp; Sports</td>\n",
       "      <td>Agriculture</td>\n",
       "      <td>0</td>\n",
       "    </tr>\n",
       "    <tr>\n",
       "      <th>15</th>\n",
       "      <td>Automotive &amp; Sports</td>\n",
       "      <td>Air Pollution Control</td>\n",
       "      <td>0</td>\n",
       "    </tr>\n",
       "    <tr>\n",
       "      <th>16</th>\n",
       "      <td>Automotive &amp; Sports</td>\n",
       "      <td>Algorithms</td>\n",
       "      <td>0</td>\n",
       "    </tr>\n",
       "    <tr>\n",
       "      <th>17</th>\n",
       "      <td>Automotive &amp; Sports</td>\n",
       "      <td>All Markets</td>\n",
       "      <td>0</td>\n",
       "    </tr>\n",
       "    <tr>\n",
       "      <th>18</th>\n",
       "      <td>Automotive &amp; Sports</td>\n",
       "      <td>All Students</td>\n",
       "      <td>0</td>\n",
       "    </tr>\n",
       "    <tr>\n",
       "      <th>19</th>\n",
       "      <td>Automotive &amp; Sports</td>\n",
       "      <td>Alter0tive Medicine</td>\n",
       "      <td>0</td>\n",
       "    </tr>\n",
       "    <tr>\n",
       "      <th>20</th>\n",
       "      <td>Automotive &amp; Sports</td>\n",
       "      <td>Alumni</td>\n",
       "      <td>0</td>\n",
       "    </tr>\n",
       "    <tr>\n",
       "      <th>21</th>\n",
       "      <td>Automotive &amp; Sports</td>\n",
       "      <td>A0lytics</td>\n",
       "      <td>0</td>\n",
       "    </tr>\n",
       "    <tr>\n",
       "      <th>22</th>\n",
       "      <td>Automotive &amp; Sports</td>\n",
       "      <td>Android</td>\n",
       "      <td>0</td>\n",
       "    </tr>\n",
       "    <tr>\n",
       "      <th>23</th>\n",
       "      <td>Automotive &amp; Sports</td>\n",
       "      <td>Angels</td>\n",
       "      <td>0</td>\n",
       "    </tr>\n",
       "    <tr>\n",
       "      <th>24</th>\n",
       "      <td>Automotive &amp; Sports</td>\n",
       "      <td>Animal Feed</td>\n",
       "      <td>0</td>\n",
       "    </tr>\n",
       "    <tr>\n",
       "      <th>25</th>\n",
       "      <td>Automotive &amp; Sports</td>\n",
       "      <td>Anything Capital Intensive</td>\n",
       "      <td>0</td>\n",
       "    </tr>\n",
       "    <tr>\n",
       "      <th>26</th>\n",
       "      <td>Automotive &amp; Sports</td>\n",
       "      <td>App Discovery</td>\n",
       "      <td>0</td>\n",
       "    </tr>\n",
       "    <tr>\n",
       "      <th>27</th>\n",
       "      <td>Automotive &amp; Sports</td>\n",
       "      <td>App Marketing</td>\n",
       "      <td>0</td>\n",
       "    </tr>\n",
       "    <tr>\n",
       "      <th>28</th>\n",
       "      <td>Automotive &amp; Sports</td>\n",
       "      <td>App Stores</td>\n",
       "      <td>0</td>\n",
       "    </tr>\n",
       "    <tr>\n",
       "      <th>29</th>\n",
       "      <td>Automotive &amp; Sports</td>\n",
       "      <td>Application Performance Monitoring</td>\n",
       "      <td>0</td>\n",
       "    </tr>\n",
       "    <tr>\n",
       "      <th>...</th>\n",
       "      <td>...</td>\n",
       "      <td>...</td>\n",
       "      <td>...</td>\n",
       "    </tr>\n",
       "    <tr>\n",
       "      <th>6153</th>\n",
       "      <td>Social, Finance, Analytics, Advertising</td>\n",
       "      <td>Usability</td>\n",
       "      <td>0</td>\n",
       "    </tr>\n",
       "    <tr>\n",
       "      <th>6154</th>\n",
       "      <td>Social, Finance, Analytics, Advertising</td>\n",
       "      <td>User Experience Design</td>\n",
       "      <td>0</td>\n",
       "    </tr>\n",
       "    <tr>\n",
       "      <th>6155</th>\n",
       "      <td>Social, Finance, Analytics, Advertising</td>\n",
       "      <td>User Interface</td>\n",
       "      <td>0</td>\n",
       "    </tr>\n",
       "    <tr>\n",
       "      <th>6156</th>\n",
       "      <td>Social, Finance, Analytics, Advertising</td>\n",
       "      <td>Utilities</td>\n",
       "      <td>0</td>\n",
       "    </tr>\n",
       "    <tr>\n",
       "      <th>6157</th>\n",
       "      <td>Social, Finance, Analytics, Advertising</td>\n",
       "      <td>Vending and Concessions</td>\n",
       "      <td>0</td>\n",
       "    </tr>\n",
       "    <tr>\n",
       "      <th>6158</th>\n",
       "      <td>Social, Finance, Analytics, Advertising</td>\n",
       "      <td>Venture Capital</td>\n",
       "      <td>1</td>\n",
       "    </tr>\n",
       "    <tr>\n",
       "      <th>6159</th>\n",
       "      <td>Social, Finance, Analytics, Advertising</td>\n",
       "      <td>Veteri0ry</td>\n",
       "      <td>0</td>\n",
       "    </tr>\n",
       "    <tr>\n",
       "      <th>6160</th>\n",
       "      <td>Social, Finance, Analytics, Advertising</td>\n",
       "      <td>Video</td>\n",
       "      <td>0</td>\n",
       "    </tr>\n",
       "    <tr>\n",
       "      <th>6161</th>\n",
       "      <td>Social, Finance, Analytics, Advertising</td>\n",
       "      <td>Video Conferencing</td>\n",
       "      <td>0</td>\n",
       "    </tr>\n",
       "    <tr>\n",
       "      <th>6162</th>\n",
       "      <td>Social, Finance, Analytics, Advertising</td>\n",
       "      <td>Video Games</td>\n",
       "      <td>0</td>\n",
       "    </tr>\n",
       "    <tr>\n",
       "      <th>6163</th>\n",
       "      <td>Social, Finance, Analytics, Advertising</td>\n",
       "      <td>Video on Demand</td>\n",
       "      <td>0</td>\n",
       "    </tr>\n",
       "    <tr>\n",
       "      <th>6164</th>\n",
       "      <td>Social, Finance, Analytics, Advertising</td>\n",
       "      <td>Video Streaming</td>\n",
       "      <td>0</td>\n",
       "    </tr>\n",
       "    <tr>\n",
       "      <th>6165</th>\n",
       "      <td>Social, Finance, Analytics, Advertising</td>\n",
       "      <td>Virtual Workforces</td>\n",
       "      <td>0</td>\n",
       "    </tr>\n",
       "    <tr>\n",
       "      <th>6166</th>\n",
       "      <td>Social, Finance, Analytics, Advertising</td>\n",
       "      <td>VoIP</td>\n",
       "      <td>0</td>\n",
       "    </tr>\n",
       "    <tr>\n",
       "      <th>6167</th>\n",
       "      <td>Social, Finance, Analytics, Advertising</td>\n",
       "      <td>Waste Ma0gement</td>\n",
       "      <td>0</td>\n",
       "    </tr>\n",
       "    <tr>\n",
       "      <th>6168</th>\n",
       "      <td>Social, Finance, Analytics, Advertising</td>\n",
       "      <td>Watch</td>\n",
       "      <td>0</td>\n",
       "    </tr>\n",
       "    <tr>\n",
       "      <th>6169</th>\n",
       "      <td>Social, Finance, Analytics, Advertising</td>\n",
       "      <td>Water</td>\n",
       "      <td>0</td>\n",
       "    </tr>\n",
       "    <tr>\n",
       "      <th>6170</th>\n",
       "      <td>Social, Finance, Analytics, Advertising</td>\n",
       "      <td>Water Purification</td>\n",
       "      <td>0</td>\n",
       "    </tr>\n",
       "    <tr>\n",
       "      <th>6171</th>\n",
       "      <td>Social, Finance, Analytics, Advertising</td>\n",
       "      <td>Wearables</td>\n",
       "      <td>0</td>\n",
       "    </tr>\n",
       "    <tr>\n",
       "      <th>6172</th>\n",
       "      <td>Social, Finance, Analytics, Advertising</td>\n",
       "      <td>Web Browsers</td>\n",
       "      <td>0</td>\n",
       "    </tr>\n",
       "    <tr>\n",
       "      <th>6173</th>\n",
       "      <td>Social, Finance, Analytics, Advertising</td>\n",
       "      <td>Web Design</td>\n",
       "      <td>0</td>\n",
       "    </tr>\n",
       "    <tr>\n",
       "      <th>6174</th>\n",
       "      <td>Social, Finance, Analytics, Advertising</td>\n",
       "      <td>Web Development</td>\n",
       "      <td>0</td>\n",
       "    </tr>\n",
       "    <tr>\n",
       "      <th>6175</th>\n",
       "      <td>Social, Finance, Analytics, Advertising</td>\n",
       "      <td>Web Hosting</td>\n",
       "      <td>0</td>\n",
       "    </tr>\n",
       "    <tr>\n",
       "      <th>6176</th>\n",
       "      <td>Social, Finance, Analytics, Advertising</td>\n",
       "      <td>Web Tools</td>\n",
       "      <td>0</td>\n",
       "    </tr>\n",
       "    <tr>\n",
       "      <th>6177</th>\n",
       "      <td>Social, Finance, Analytics, Advertising</td>\n",
       "      <td>Weddings</td>\n",
       "      <td>0</td>\n",
       "    </tr>\n",
       "    <tr>\n",
       "      <th>6178</th>\n",
       "      <td>Social, Finance, Analytics, Advertising</td>\n",
       "      <td>Wholesale</td>\n",
       "      <td>0</td>\n",
       "    </tr>\n",
       "    <tr>\n",
       "      <th>6179</th>\n",
       "      <td>Social, Finance, Analytics, Advertising</td>\n",
       "      <td>Wine And Spirits</td>\n",
       "      <td>0</td>\n",
       "    </tr>\n",
       "    <tr>\n",
       "      <th>6180</th>\n",
       "      <td>Social, Finance, Analytics, Advertising</td>\n",
       "      <td>Wireless</td>\n",
       "      <td>0</td>\n",
       "    </tr>\n",
       "    <tr>\n",
       "      <th>6181</th>\n",
       "      <td>Social, Finance, Analytics, Advertising</td>\n",
       "      <td>Women</td>\n",
       "      <td>0</td>\n",
       "    </tr>\n",
       "    <tr>\n",
       "      <th>6182</th>\n",
       "      <td>Social, Finance, Analytics, Advertising</td>\n",
       "      <td>Young Adults</td>\n",
       "      <td>0</td>\n",
       "    </tr>\n",
       "  </tbody>\n",
       "</table>\n",
       "<p>6183 rows × 3 columns</p>\n",
       "</div>"
      ],
      "text/plain": [
       "                                      level_0  \\\n",
       "0                         Automotive & Sports   \n",
       "1                         Automotive & Sports   \n",
       "2                         Automotive & Sports   \n",
       "3                         Automotive & Sports   \n",
       "4                         Automotive & Sports   \n",
       "5                         Automotive & Sports   \n",
       "6                         Automotive & Sports   \n",
       "7                         Automotive & Sports   \n",
       "8                         Automotive & Sports   \n",
       "9                         Automotive & Sports   \n",
       "10                        Automotive & Sports   \n",
       "11                        Automotive & Sports   \n",
       "12                        Automotive & Sports   \n",
       "13                        Automotive & Sports   \n",
       "14                        Automotive & Sports   \n",
       "15                        Automotive & Sports   \n",
       "16                        Automotive & Sports   \n",
       "17                        Automotive & Sports   \n",
       "18                        Automotive & Sports   \n",
       "19                        Automotive & Sports   \n",
       "20                        Automotive & Sports   \n",
       "21                        Automotive & Sports   \n",
       "22                        Automotive & Sports   \n",
       "23                        Automotive & Sports   \n",
       "24                        Automotive & Sports   \n",
       "25                        Automotive & Sports   \n",
       "26                        Automotive & Sports   \n",
       "27                        Automotive & Sports   \n",
       "28                        Automotive & Sports   \n",
       "29                        Automotive & Sports   \n",
       "...                                       ...   \n",
       "6153  Social, Finance, Analytics, Advertising   \n",
       "6154  Social, Finance, Analytics, Advertising   \n",
       "6155  Social, Finance, Analytics, Advertising   \n",
       "6156  Social, Finance, Analytics, Advertising   \n",
       "6157  Social, Finance, Analytics, Advertising   \n",
       "6158  Social, Finance, Analytics, Advertising   \n",
       "6159  Social, Finance, Analytics, Advertising   \n",
       "6160  Social, Finance, Analytics, Advertising   \n",
       "6161  Social, Finance, Analytics, Advertising   \n",
       "6162  Social, Finance, Analytics, Advertising   \n",
       "6163  Social, Finance, Analytics, Advertising   \n",
       "6164  Social, Finance, Analytics, Advertising   \n",
       "6165  Social, Finance, Analytics, Advertising   \n",
       "6166  Social, Finance, Analytics, Advertising   \n",
       "6167  Social, Finance, Analytics, Advertising   \n",
       "6168  Social, Finance, Analytics, Advertising   \n",
       "6169  Social, Finance, Analytics, Advertising   \n",
       "6170  Social, Finance, Analytics, Advertising   \n",
       "6171  Social, Finance, Analytics, Advertising   \n",
       "6172  Social, Finance, Analytics, Advertising   \n",
       "6173  Social, Finance, Analytics, Advertising   \n",
       "6174  Social, Finance, Analytics, Advertising   \n",
       "6175  Social, Finance, Analytics, Advertising   \n",
       "6176  Social, Finance, Analytics, Advertising   \n",
       "6177  Social, Finance, Analytics, Advertising   \n",
       "6178  Social, Finance, Analytics, Advertising   \n",
       "6179  Social, Finance, Analytics, Advertising   \n",
       "6180  Social, Finance, Analytics, Advertising   \n",
       "6181  Social, Finance, Analytics, Advertising   \n",
       "6182  Social, Finance, Analytics, Advertising   \n",
       "\n",
       "                           category_list  0  \n",
       "0                                     3D  0  \n",
       "1                            3D Printing  0  \n",
       "2                          3D Technology  0  \n",
       "3                             Accounting  0  \n",
       "4                       Active Lifestyle  0  \n",
       "5                           Ad Targeting  0  \n",
       "6                     Advanced Materials  0  \n",
       "7                       Adventure Travel  1  \n",
       "8                            Advertising  0  \n",
       "9                  Advertising Exchanges  0  \n",
       "10                  Advertising Networks  0  \n",
       "11                 Advertising Platforms  0  \n",
       "12                                Advice  0  \n",
       "13                             Aerospace  1  \n",
       "14                           Agriculture  0  \n",
       "15                 Air Pollution Control  0  \n",
       "16                            Algorithms  0  \n",
       "17                           All Markets  0  \n",
       "18                          All Students  0  \n",
       "19                   Alter0tive Medicine  0  \n",
       "20                                Alumni  0  \n",
       "21                              A0lytics  0  \n",
       "22                               Android  0  \n",
       "23                                Angels  0  \n",
       "24                           Animal Feed  0  \n",
       "25            Anything Capital Intensive  0  \n",
       "26                         App Discovery  0  \n",
       "27                         App Marketing  0  \n",
       "28                            App Stores  0  \n",
       "29    Application Performance Monitoring  0  \n",
       "...                                  ... ..  \n",
       "6153                           Usability  0  \n",
       "6154              User Experience Design  0  \n",
       "6155                      User Interface  0  \n",
       "6156                           Utilities  0  \n",
       "6157             Vending and Concessions  0  \n",
       "6158                     Venture Capital  1  \n",
       "6159                           Veteri0ry  0  \n",
       "6160                               Video  0  \n",
       "6161                  Video Conferencing  0  \n",
       "6162                         Video Games  0  \n",
       "6163                     Video on Demand  0  \n",
       "6164                     Video Streaming  0  \n",
       "6165                  Virtual Workforces  0  \n",
       "6166                                VoIP  0  \n",
       "6167                     Waste Ma0gement  0  \n",
       "6168                               Watch  0  \n",
       "6169                               Water  0  \n",
       "6170                  Water Purification  0  \n",
       "6171                           Wearables  0  \n",
       "6172                        Web Browsers  0  \n",
       "6173                          Web Design  0  \n",
       "6174                     Web Development  0  \n",
       "6175                         Web Hosting  0  \n",
       "6176                           Web Tools  0  \n",
       "6177                            Weddings  0  \n",
       "6178                           Wholesale  0  \n",
       "6179                    Wine And Spirits  0  \n",
       "6180                            Wireless  0  \n",
       "6181                               Women  0  \n",
       "6182                        Young Adults  0  \n",
       "\n",
       "[6183 rows x 3 columns]"
      ]
     },
     "execution_count": 78,
     "metadata": {},
     "output_type": "execute_result"
    }
   ],
   "source": [
    "## As we don't want to add all the columns of mapping to master_frame but only main_sector with correct value\n",
    "## We are going to change the order of row and column on mapping dataframe and store it in row_col_inverse\n",
    "row_col_inverse = mapping.set_index('category_list').unstack().reset_index()\n",
    "row_col_inverse"
   ]
  },
  {
   "cell_type": "code",
   "execution_count": 79,
   "metadata": {},
   "outputs": [
    {
     "data": {
      "text/html": [
       "<div>\n",
       "<style>\n",
       "    .dataframe thead tr:only-child th {\n",
       "        text-align: right;\n",
       "    }\n",
       "\n",
       "    .dataframe thead th {\n",
       "        text-align: left;\n",
       "    }\n",
       "\n",
       "    .dataframe tbody tr th {\n",
       "        vertical-align: top;\n",
       "    }\n",
       "</style>\n",
       "<table border=\"1\" class=\"dataframe\">\n",
       "  <thead>\n",
       "    <tr style=\"text-align: right;\">\n",
       "      <th></th>\n",
       "      <th>main_sector</th>\n",
       "      <th>primary_sector</th>\n",
       "      <th>value</th>\n",
       "    </tr>\n",
       "  </thead>\n",
       "  <tbody>\n",
       "    <tr>\n",
       "      <th>7</th>\n",
       "      <td>Automotive &amp; Sports</td>\n",
       "      <td>Adventure Travel</td>\n",
       "      <td>1</td>\n",
       "    </tr>\n",
       "    <tr>\n",
       "      <th>13</th>\n",
       "      <td>Automotive &amp; Sports</td>\n",
       "      <td>Aerospace</td>\n",
       "      <td>1</td>\n",
       "    </tr>\n",
       "    <tr>\n",
       "      <th>44</th>\n",
       "      <td>Automotive &amp; Sports</td>\n",
       "      <td>Auto</td>\n",
       "      <td>1</td>\n",
       "    </tr>\n",
       "    <tr>\n",
       "      <th>45</th>\n",
       "      <td>Automotive &amp; Sports</td>\n",
       "      <td>Automated Kiosk</td>\n",
       "      <td>1</td>\n",
       "    </tr>\n",
       "    <tr>\n",
       "      <th>46</th>\n",
       "      <td>Automotive &amp; Sports</td>\n",
       "      <td>Automotive</td>\n",
       "      <td>1</td>\n",
       "    </tr>\n",
       "  </tbody>\n",
       "</table>\n",
       "</div>"
      ],
      "text/plain": [
       "            main_sector    primary_sector  value\n",
       "7   Automotive & Sports  Adventure Travel      1\n",
       "13  Automotive & Sports         Aerospace      1\n",
       "44  Automotive & Sports              Auto      1\n",
       "45  Automotive & Sports   Automated Kiosk      1\n",
       "46  Automotive & Sports        Automotive      1"
      ]
     },
     "execution_count": 79,
     "metadata": {},
     "output_type": "execute_result"
    }
   ],
   "source": [
    "#renaming columns in row_col_inverse to label level_0 as main_sector and 0 as value and also category_list as primary_sector\n",
    "row_col_inverse=row_col_inverse.rename(columns= {'level_0': 'main_sector',0 : 'value','category_list':'primary_sector'})\n",
    "#removing all rows where value is zero which means for that category list the respevtive value of main_sector is not correct\n",
    "row_col_inverse = row_col_inverse[row_col_inverse['value'] != 0]\n",
    "\n",
    "#mapping back row_col_inverse to mapping\n",
    "mapping=row_col_inverse.copy()\n",
    "mapping.reset_index()\n",
    "mapping.head()"
   ]
  },
  {
   "cell_type": "markdown",
   "metadata": {},
   "source": [
    "### There is an erroneous data in mapping dataset where 'na' is replace by '0'.\n",
    "    * example: Predictive A0lytics, Promotio0l,Property Ma0gement"
   ]
  },
  {
   "cell_type": "code",
   "execution_count": 80,
   "metadata": {
    "collapsed": true
   },
   "outputs": [],
   "source": [
    "# Correcting dataset replace '0' by 'na'\n",
    "mapping.category_list=mapping.primary_sector.apply(lambda x: str(x).replace('0','na'))"
   ]
  },
  {
   "cell_type": "markdown",
   "metadata": {},
   "source": [
    "### Merging mapping to master_frame to make a mapping of primary_sector to respective main_sector"
   ]
  },
  {
   "cell_type": "code",
   "execution_count": 81,
   "metadata": {
    "scrolled": true
   },
   "outputs": [
    {
     "data": {
      "text/html": [
       "<div>\n",
       "<style>\n",
       "    .dataframe thead tr:only-child th {\n",
       "        text-align: right;\n",
       "    }\n",
       "\n",
       "    .dataframe thead th {\n",
       "        text-align: left;\n",
       "    }\n",
       "\n",
       "    .dataframe tbody tr th {\n",
       "        vertical-align: top;\n",
       "    }\n",
       "</style>\n",
       "<table border=\"1\" class=\"dataframe\">\n",
       "  <thead>\n",
       "    <tr style=\"text-align: right;\">\n",
       "      <th></th>\n",
       "      <th>permalink</th>\n",
       "      <th>name</th>\n",
       "      <th>homepage_url</th>\n",
       "      <th>category_list</th>\n",
       "      <th>status</th>\n",
       "      <th>country_code</th>\n",
       "      <th>state_code</th>\n",
       "      <th>region</th>\n",
       "      <th>city</th>\n",
       "      <th>founded_at</th>\n",
       "      <th>funding_round_permalink</th>\n",
       "      <th>funding_round_type</th>\n",
       "      <th>funding_round_code</th>\n",
       "      <th>funded_at</th>\n",
       "      <th>raised_amount_usd</th>\n",
       "      <th>primary_sector</th>\n",
       "      <th>main_sector</th>\n",
       "      <th>value</th>\n",
       "    </tr>\n",
       "  </thead>\n",
       "  <tbody>\n",
       "    <tr>\n",
       "      <th>0</th>\n",
       "      <td>/organization/-fame</td>\n",
       "      <td>#fame</td>\n",
       "      <td>http://livfame.com</td>\n",
       "      <td>Media</td>\n",
       "      <td>operating</td>\n",
       "      <td>IND</td>\n",
       "      <td>16</td>\n",
       "      <td>Mumbai</td>\n",
       "      <td>Mumbai</td>\n",
       "      <td>NaN</td>\n",
       "      <td>/funding-round/9a01d05418af9f794eebff7ace91f638</td>\n",
       "      <td>venture</td>\n",
       "      <td>B</td>\n",
       "      <td>05-01-2015</td>\n",
       "      <td>10000000.0</td>\n",
       "      <td>Media</td>\n",
       "      <td>Entertainment</td>\n",
       "      <td>1</td>\n",
       "    </tr>\n",
       "    <tr>\n",
       "      <th>1</th>\n",
       "      <td>/organization/90min</td>\n",
       "      <td>90min</td>\n",
       "      <td>http://www.90min.com</td>\n",
       "      <td>Media|News|Publishing|Soccer|Sports</td>\n",
       "      <td>operating</td>\n",
       "      <td>GBR</td>\n",
       "      <td>H9</td>\n",
       "      <td>London</td>\n",
       "      <td>London</td>\n",
       "      <td>01-01-2011</td>\n",
       "      <td>/funding-round/21a2cbf6f2fb2a1c2a61e04bf930dfe6</td>\n",
       "      <td>venture</td>\n",
       "      <td>NaN</td>\n",
       "      <td>06-10-2015</td>\n",
       "      <td>15000000.0</td>\n",
       "      <td>Media</td>\n",
       "      <td>Entertainment</td>\n",
       "      <td>1</td>\n",
       "    </tr>\n",
       "    <tr>\n",
       "      <th>2</th>\n",
       "      <td>/organization/90min</td>\n",
       "      <td>90min</td>\n",
       "      <td>http://www.90min.com</td>\n",
       "      <td>Media|News|Publishing|Soccer|Sports</td>\n",
       "      <td>operating</td>\n",
       "      <td>GBR</td>\n",
       "      <td>H9</td>\n",
       "      <td>London</td>\n",
       "      <td>London</td>\n",
       "      <td>01-01-2011</td>\n",
       "      <td>/funding-round/bd626ed022f5c66574b1afe234f3c90d</td>\n",
       "      <td>venture</td>\n",
       "      <td>NaN</td>\n",
       "      <td>07-05-2013</td>\n",
       "      <td>5800000.0</td>\n",
       "      <td>Media</td>\n",
       "      <td>Entertainment</td>\n",
       "      <td>1</td>\n",
       "    </tr>\n",
       "    <tr>\n",
       "      <th>3</th>\n",
       "      <td>/organization/90min</td>\n",
       "      <td>90min</td>\n",
       "      <td>http://www.90min.com</td>\n",
       "      <td>Media|News|Publishing|Soccer|Sports</td>\n",
       "      <td>operating</td>\n",
       "      <td>GBR</td>\n",
       "      <td>H9</td>\n",
       "      <td>London</td>\n",
       "      <td>London</td>\n",
       "      <td>01-01-2011</td>\n",
       "      <td>/funding-round/fd4b15e8c97ee2ffc0acccdbe1a98810</td>\n",
       "      <td>venture</td>\n",
       "      <td>NaN</td>\n",
       "      <td>26-03-2014</td>\n",
       "      <td>18000000.0</td>\n",
       "      <td>Media</td>\n",
       "      <td>Entertainment</td>\n",
       "      <td>1</td>\n",
       "    </tr>\n",
       "    <tr>\n",
       "      <th>4</th>\n",
       "      <td>/organization/all-def-digital</td>\n",
       "      <td>All Def Digital</td>\n",
       "      <td>http://alldefdigital.com</td>\n",
       "      <td>Media</td>\n",
       "      <td>operating</td>\n",
       "      <td>USA</td>\n",
       "      <td>CA</td>\n",
       "      <td>Los Angeles</td>\n",
       "      <td>Los Angeles</td>\n",
       "      <td>NaN</td>\n",
       "      <td>/funding-round/452a2342fe720285c3b92e9bd927d9ba</td>\n",
       "      <td>venture</td>\n",
       "      <td>A</td>\n",
       "      <td>06-08-2014</td>\n",
       "      <td>5000000.0</td>\n",
       "      <td>Media</td>\n",
       "      <td>Entertainment</td>\n",
       "      <td>1</td>\n",
       "    </tr>\n",
       "  </tbody>\n",
       "</table>\n",
       "</div>"
      ],
      "text/plain": [
       "                       permalink             name              homepage_url  \\\n",
       "0            /organization/-fame            #fame        http://livfame.com   \n",
       "1            /organization/90min            90min      http://www.90min.com   \n",
       "2            /organization/90min            90min      http://www.90min.com   \n",
       "3            /organization/90min            90min      http://www.90min.com   \n",
       "4  /organization/all-def-digital  All Def Digital  http://alldefdigital.com   \n",
       "\n",
       "                         category_list     status country_code state_code  \\\n",
       "0                                Media  operating          IND         16   \n",
       "1  Media|News|Publishing|Soccer|Sports  operating          GBR         H9   \n",
       "2  Media|News|Publishing|Soccer|Sports  operating          GBR         H9   \n",
       "3  Media|News|Publishing|Soccer|Sports  operating          GBR         H9   \n",
       "4                                Media  operating          USA         CA   \n",
       "\n",
       "        region         city  founded_at  \\\n",
       "0       Mumbai       Mumbai         NaN   \n",
       "1       London       London  01-01-2011   \n",
       "2       London       London  01-01-2011   \n",
       "3       London       London  01-01-2011   \n",
       "4  Los Angeles  Los Angeles         NaN   \n",
       "\n",
       "                           funding_round_permalink funding_round_type  \\\n",
       "0  /funding-round/9a01d05418af9f794eebff7ace91f638            venture   \n",
       "1  /funding-round/21a2cbf6f2fb2a1c2a61e04bf930dfe6            venture   \n",
       "2  /funding-round/bd626ed022f5c66574b1afe234f3c90d            venture   \n",
       "3  /funding-round/fd4b15e8c97ee2ffc0acccdbe1a98810            venture   \n",
       "4  /funding-round/452a2342fe720285c3b92e9bd927d9ba            venture   \n",
       "\n",
       "  funding_round_code   funded_at  raised_amount_usd primary_sector  \\\n",
       "0                  B  05-01-2015         10000000.0          Media   \n",
       "1                NaN  06-10-2015         15000000.0          Media   \n",
       "2                NaN  07-05-2013          5800000.0          Media   \n",
       "3                NaN  26-03-2014         18000000.0          Media   \n",
       "4                  A  06-08-2014          5000000.0          Media   \n",
       "\n",
       "     main_sector  value  \n",
       "0  Entertainment      1  \n",
       "1  Entertainment      1  \n",
       "2  Entertainment      1  \n",
       "3  Entertainment      1  \n",
       "4  Entertainment      1  "
      ]
     },
     "execution_count": 81,
     "metadata": {},
     "output_type": "execute_result"
    }
   ],
   "source": [
    "master_frame=pd.merge(master_frame,row_col_inverse,on='primary_sector',how='inner')\n",
    "master_frame.head()"
   ]
  },
  {
   "cell_type": "markdown",
   "metadata": {},
   "source": [
    "### Checkpoint 5"
   ]
  },
  {
   "cell_type": "code",
   "execution_count": 82,
   "metadata": {},
   "outputs": [
    {
     "name": "stdout",
     "output_type": "stream",
     "text": [
      "       raised_amount_usd    value\n",
      "count       4.469200e+04  44692.0\n",
      "mean        1.172898e+07      1.0\n",
      "std         9.096335e+07      0.0\n",
      "min         0.000000e+00      1.0\n",
      "25%         1.600000e+06      1.0\n",
      "50%         5.000000e+06      1.0\n",
      "75%         1.200000e+07      1.0\n",
      "max         1.760000e+10      1.0\n",
      "       raised_amount_usd    value\n",
      "count       1.461300e+04  14613.0\n",
      "mean        8.894127e+06      1.0\n",
      "std         3.057812e+06      0.0\n",
      "min         5.000000e+06      1.0\n",
      "25%         6.000000e+06      1.0\n",
      "50%         8.300000e+06      1.0\n",
      "75%         1.100000e+07      1.0\n",
      "max         1.500000e+07      1.0\n"
     ]
    }
   ],
   "source": [
    "#Applying business constraint of filtering data between range of 5 million to 15 million USD\n",
    "print(master_frame.describe())\n",
    "master_frame=master_frame[(master_frame.raised_amount_usd>=5000000) & (master_frame.raised_amount_usd<=15000000)].copy()\n",
    "print(master_frame.describe())"
   ]
  },
  {
   "cell_type": "markdown",
   "metadata": {},
   "source": [
    "#### Creating a dataframe for country USA"
   ]
  },
  {
   "cell_type": "code",
   "execution_count": 83,
   "metadata": {
    "collapsed": true
   },
   "outputs": [],
   "source": [
    "D1=master_frame[(master_frame.country_code=='USA') &(master_frame.raised_amount_usd>=5000000) & (master_frame.raised_amount_usd<=15000000)].copy()"
   ]
  },
  {
   "cell_type": "code",
   "execution_count": 84,
   "metadata": {},
   "outputs": [
    {
     "name": "stdout",
     "output_type": "stream",
     "text": [
      "permalink                   0.00\n",
      "name                        0.00\n",
      "homepage_url                4.88\n",
      "category_list               0.00\n",
      "status                      0.00\n",
      "country_code                0.00\n",
      "state_code                  0.02\n",
      "region                      0.08\n",
      "city                        0.08\n",
      "founded_at                 14.24\n",
      "funding_round_permalink     0.00\n",
      "funding_round_type          0.00\n",
      "funding_round_code         29.20\n",
      "funded_at                   0.00\n",
      "raised_amount_usd           0.00\n",
      "primary_sector              0.00\n",
      "main_sector                 0.00\n",
      "value                       0.00\n",
      "dtype: float64\n"
     ]
    }
   ],
   "source": [
    "#checking data integrity in dataframe D1\n",
    "D1.isnull().any()\n",
    "print(round(100*(D1.isnull().sum()/len(D1.index)), 2))\n",
    "D1=D1[(D1['main_sector']!='Blanks')]\n",
    "\n",
    "# Grouping by main_sector\n",
    "grouppedD1=D1.groupby('main_sector')\n",
    "grouppedD1['main_sector'].count()\n",
    "# applying total_investment_count on groupped by main_sector column and setting value of sector_count\n",
    "D1['number_of_investment']=grouppedD1['main_sector'].transform('count')\n",
    "D1['total_investment_value']=grouppedD1['raised_amount_usd'].transform('sum')\n"
   ]
  },
  {
   "cell_type": "markdown",
   "metadata": {},
   "source": [
    "#### Creating a dataframe for country GBR"
   ]
  },
  {
   "cell_type": "code",
   "execution_count": 85,
   "metadata": {
    "collapsed": true
   },
   "outputs": [],
   "source": [
    "D2=master_frame[(master_frame.country_code=='GBR') &(master_frame.raised_amount_usd>=5000000) & (master_frame.raised_amount_usd<=15000000)].copy()\n",
    "D2=D2[(D2['main_sector']!='Blanks')]\n",
    "grouppedD2=D2.groupby('main_sector')\n",
    "D2.loc[:,'number_of_investment']=grouppedD2['main_sector'].transform('count')\n",
    "D2.loc[:,'total_investment_value']=grouppedD2['raised_amount_usd'].transform('sum')"
   ]
  },
  {
   "cell_type": "markdown",
   "metadata": {},
   "source": [
    "#### Creating a dataframe for country IND"
   ]
  },
  {
   "cell_type": "code",
   "execution_count": 86,
   "metadata": {
    "collapsed": true
   },
   "outputs": [],
   "source": [
    "D3=master_frame[(master_frame.country_code=='IND') &(master_frame.raised_amount_usd>=5000000) & (master_frame.raised_amount_usd<=15000000)].copy()\n",
    "D3=D3[(D3['main_sector']!='Blanks')]\n",
    "grouppedD3=D3.groupby('main_sector')\n",
    "D3['number_of_investment']=grouppedD3['main_sector'].transform('count')\n",
    "D3['total_investment_value']=grouppedD3['raised_amount_usd'].transform('sum')"
   ]
  },
  {
   "cell_type": "code",
   "execution_count": 87,
   "metadata": {},
   "outputs": [
    {
     "name": "stdout",
     "output_type": "stream",
     "text": [
      "main_sector\n",
      "Automotive & Sports                         167\n",
      "Cleantech / Semiconductors                 2297\n",
      "Entertainment                               580\n",
      "Health                                      908\n",
      "Manufacturing                               799\n",
      "News, Search and Messaging                 1563\n",
      "Others                                     2923\n",
      "Social, Finance, Analytics, Advertising    1912\n",
      "Name: main_sector, dtype: int64\n",
      "main_sector\n",
      "Automotive & Sports                         16\n",
      "Cleantech / Semiconductors                 127\n",
      "Entertainment                               54\n",
      "Health                                      24\n",
      "Manufacturing                               42\n",
      "News, Search and Messaging                  73\n",
      "Others                                     143\n",
      "Social, Finance, Analytics, Advertising     98\n",
      "Name: main_sector, dtype: int64\n",
      "main_sector\n",
      "Automotive & Sports                         13\n",
      "Cleantech / Semiconductors                  20\n",
      "Entertainment                               33\n",
      "Health                                      19\n",
      "Manufacturing                               21\n",
      "News, Search and Messaging                  52\n",
      "Others                                     109\n",
      "Social, Finance, Analytics, Advertising     32\n",
      "Name: main_sector, dtype: int64\n"
     ]
    }
   ],
   "source": [
    "print(grouppedD1['main_sector'].count())\n",
    "print(grouppedD2['main_sector'].count())\n",
    "print(grouppedD3['main_sector'].count())"
   ]
  },
  {
   "cell_type": "code",
   "execution_count": 88,
   "metadata": {
    "scrolled": true
   },
   "outputs": [
    {
     "name": "stdout",
     "output_type": "stream",
     "text": [
      "Total number of investment made in USA:  11149\n",
      "Total number of investment made in GBR:  577\n",
      "Total number of investment made in IND:  299\n"
     ]
    }
   ],
   "source": [
    "print(\"Total number of investment made in USA: \",D1['main_sector'].count())\n",
    "print(\"Total number of investment made in GBR: \",D2['main_sector'].count())\n",
    "print(\"Total number of investment made in IND: \",D3['main_sector'].count())"
   ]
  },
  {
   "cell_type": "markdown",
   "metadata": {},
   "source": [
    "##### Checkpoint 5.1.2"
   ]
  },
  {
   "cell_type": "code",
   "execution_count": 89,
   "metadata": {},
   "outputs": [
    {
     "name": "stdout",
     "output_type": "stream",
     "text": [
      "Total amount invested in USD in USA:  99661524549.0\n",
      "Total amount invested in USD in GBR:  5028704358.0\n",
      "Total amount invested in USD in IND:  2683537552.0\n"
     ]
    }
   ],
   "source": [
    "print(\"Total amount invested in USD in USA: \",D1['raised_amount_usd'].sum())\n",
    "print(\"Total amount invested in USD in GBR: \",D2['raised_amount_usd'].sum())\n",
    "print(\"Total amount invested in USD in IND: \",D3['raised_amount_usd'].sum())"
   ]
  },
  {
   "cell_type": "markdown",
   "metadata": {},
   "source": [
    "##### Checkpoint 5.1 (3,4,5,6,7 & 8)"
   ]
  },
  {
   "cell_type": "code",
   "execution_count": 90,
   "metadata": {},
   "outputs": [
    {
     "data": {
      "text/plain": [
       "main_sector\n",
       "Others                        109\n",
       "News, Search and Messaging     52\n",
       "Entertainment                  33\n",
       "Name: raised_amount_usd, dtype: int64"
      ]
     },
     "execution_count": 90,
     "metadata": {},
     "output_type": "execute_result"
    }
   ],
   "source": [
    "grouppedD3['raised_amount_usd'].count().sort_values(ascending=False)[0:3]"
   ]
  },
  {
   "cell_type": "code",
   "execution_count": 91,
   "metadata": {},
   "outputs": [
    {
     "name": "stdout",
     "output_type": "stream",
     "text": [
      "USA: Top 3 sectors by number of investment:  main_sector\n",
      "Others                                     2923\n",
      "Cleantech / Semiconductors                 2297\n",
      "Social, Finance, Analytics, Advertising    1912\n",
      "Name: raised_amount_usd, dtype: int64\n",
      "\n",
      "GBR: Top 3 sectors by number of investment:  main_sector\n",
      "Others                                     143\n",
      "Cleantech / Semiconductors                 127\n",
      "Social, Finance, Analytics, Advertising     98\n",
      "Name: raised_amount_usd, dtype: int64\n",
      "\n",
      "IND: Top 3 sectors by number of investment:  main_sector\n",
      "Others                        109\n",
      "News, Search and Messaging     52\n",
      "Entertainment                  33\n",
      "Name: raised_amount_usd, dtype: int64\n"
     ]
    }
   ],
   "source": [
    "print(\"USA: Top 3 sectors by number of investment: \",grouppedD1['raised_amount_usd'].count().sort_values(ascending=False)[0:3])\n",
    "print(\"\\nGBR: Top 3 sectors by number of investment: \",grouppedD2['raised_amount_usd'].count().sort_values(ascending=False)[0:3])\n",
    "print(\"\\nIND: Top 3 sectors by number of investment: \",grouppedD3['raised_amount_usd'].count().sort_values(ascending=False)[0:3])"
   ]
  },
  {
   "cell_type": "markdown",
   "metadata": {},
   "source": [
    "#### Checkpoint 5.9"
   ]
  },
  {
   "cell_type": "code",
   "execution_count": 92,
   "metadata": {},
   "outputs": [
    {
     "name": "stdout",
     "output_type": "stream",
     "text": [
      "USA, sector Others Highest Inv. receiving Company:-  Virtustream\n",
      "GBR, sector Others Highest Inv. receiving Company:-  Electric Cloud\n",
      "IND, sector Others Highest Inv. receiving Company:-  FirstCry.com\n"
     ]
    }
   ],
   "source": [
    "print(\"USA, sector Others Highest Inv. receiving Company:- \", D1[(D1.main_sector=='Others')].groupby('name')['raised_amount_usd'].sum().sort_values(ascending=False)[0:1].index.values[0])\n",
    "print(\"GBR, sector Others Highest Inv. receiving Company:- \", D2[(D2.main_sector=='Others')].groupby('name')['raised_amount_usd'].sum().sort_values(ascending=False)[0:1].index.values[0])\n",
    "print(\"IND, sector Others Highest Inv. receiving Company:- \", D3[(D3.main_sector=='Others')].groupby('name')['raised_amount_usd'].sum().sort_values(ascending=False)[0:1].index.values[0])"
   ]
  },
  {
   "cell_type": "markdown",
   "metadata": {},
   "source": [
    "#### Checkpoint 5.10"
   ]
  },
  {
   "cell_type": "code",
   "execution_count": 93,
   "metadata": {},
   "outputs": [
    {
     "name": "stdout",
     "output_type": "stream",
     "text": [
      "USA, 2nd best sector Highest Inv. receiving Company:-  Biodesix\n",
      "GBR, 2nd best sector Highest Inv. receiving Company:-  EUSA Pharma\n",
      "IND, 2nd best sector Highest Inv. receiving Company:-  GupShup\n"
     ]
    }
   ],
   "source": [
    "print(\"USA, 2nd best sector Highest Inv. receiving Company:- \", D1[(D1.main_sector=='Cleantech / Semiconductors')].groupby('name')['raised_amount_usd'].sum().sort_values(ascending=False)[0:1].index.values[0])\n",
    "print(\"GBR, 2nd best sector Highest Inv. receiving Company:- \", D2[(D2.main_sector=='Cleantech / Semiconductors')].groupby('name')['raised_amount_usd'].sum().sort_values(ascending=False)[0:1].index.values[0])\n",
    "print(\"IND, 2nd best sector Highest Inv. receiving Company:- \", D3[(D3.main_sector=='News, Search and Messaging')].groupby('name')['raised_amount_usd'].sum().sort_values(ascending=False)[0:1].index.values[0])"
   ]
  },
  {
   "cell_type": "markdown",
   "metadata": {},
   "source": [
    "### Checkpoint 6"
   ]
  },
  {
   "cell_type": "code",
   "execution_count": 94,
   "metadata": {
    "collapsed": true
   },
   "outputs": [],
   "source": [
    "import matplotlib.pyplot as plt\n",
    "import seaborn as sns"
   ]
  },
  {
   "cell_type": "markdown",
   "metadata": {},
   "source": [
    "#### Checkpoint 6.1"
   ]
  },
  {
   "cell_type": "code",
   "execution_count": 95,
   "metadata": {},
   "outputs": [
    {
     "name": "stdout",
     "output_type": "stream",
     "text": [
      "  funding_round_type  total_investment  average_investment  total_investment%\n",
      "0     private_equity      3.722570e+09        9.260123e+06           2.564062\n",
      "1               seed      1.233263e+09        6.594991e+06           0.849457\n",
      "2            venture      1.402267e+11        8.891425e+06          96.586480\n"
     ]
    },
    {
     "data": {
      "image/png": "[encoded data removed]",
      "text/plain": [
       "<matplotlib.figure.Figure at 0xc076f28>"
      ]
     },
     "metadata": {},
     "output_type": "display_data"
    }
   ],
   "source": [
    "master_frame_root=master_frame_root[(master_frame_root.raised_amount_usd>=5000000) & (master_frame_root.raised_amount_usd<=15000000)].copy()\n",
    "master_frame_root=master_frame_root.loc[master_frame_root['funding_round_type'].isin(['venture','seed','private_equity']), :]\n",
    "\n",
    "plot61_df=master_frame_root.pivot_table(values = ['raised_amount_usd'], index = 'funding_round_type', aggfunc = [np.sum,np.mean])\n",
    "plot61_df.columns=['_'.join(col) for col in plot61_df.columns]\n",
    "plot61_df.rename(columns={'sum_raised_amount_usd':'total_investment','mean_raised_amount_usd':'average_investment'},inplace=True)\n",
    "\n",
    "total_investments=plot61_df['total_investment'].sum()\n",
    "\n",
    "\n",
    "plot61_df['total_investment%']=plot61_df['total_investment'].apply(lambda x: (x/float(total_investments)*100))\n",
    "plot61_df.reset_index(inplace=True)\n",
    "print(plot61_df.head())\n",
    "plt.figure(figsize=(16, 6))\n",
    "\n",
    "# subplot 1: Total Investment Fraction\n",
    "plt.subplot(1, 2, 1)\n",
    "sns.barplot(x='funding_round_type', y='total_investment%', data=plot61_df)\n",
    "plt.title(\"Global Investment Trends\")\n",
    "plt.xlabel('Fund Type')\n",
    "plt.ylabel('Total Investment in %')\n",
    "\n",
    "# subplot 2: \n",
    "plt.subplot(1, 2, 2)\n",
    "\n",
    "sns.barplot(x='funding_round_type', y='average_investment', data=plot61_df)\n",
    "plt.title(\"Average Investment\")\n",
    "plt.xlabel('Fund Type')\n",
    "plt.ylabel('Average Invement (million $)')\n",
    "plt.show()"
   ]
  },
  {
   "cell_type": "markdown",
   "metadata": {},
   "source": [
    "#### Checkpoint 6.2"
   ]
  },
  {
   "cell_type": "code",
   "execution_count": 96,
   "metadata": {},
   "outputs": [
    {
     "data": {
      "image/png": "[encoded data removed]",
      "text/plain": [
       "<matplotlib.figure.Figure at 0x11732358>"
      ]
     },
     "metadata": {},
     "output_type": "display_data"
    }
   ],
   "source": [
    "#A plot showing the top 9 countries against the total amount of investments of funding type FT. \n",
    "#This should make the top 3 countries (Country 1, Country 2, and Country 3) very clear.\n",
    "\n",
    "english_country_code_list=[]\n",
    "for r in top3_english_speaking_countries:\n",
    "    english_country_code_list.append(r[0])\n",
    "\n",
    "top9_graphdf=top9.copy()\n",
    "top9_graphdf['Top 3 english speaking']=top9_graphdf['country_code'].apply(lambda x: x in english_country_code_list)\n",
    "#print(top9_graphdf.head())\n",
    "plt.figure(num=None, figsize=(15, 8), dpi=80, facecolor='w', edgecolor='k')\n",
    "palette ={True:\"C1\",False:\"C2\"}\n",
    "plt.title('Investment in Venture Type: top 9 countries')\n",
    "graphobj=sns.barplot(x=\"country_code\",y='raised_amount_usd', data=top9_graphdf,hue='Top 3 english speaking',palette=palette)\n",
    "graphobj.set(xlabel='Countries', ylabel='Invested amount(USD)')\n",
    "plt.show()"
   ]
  },
  {
   "cell_type": "markdown",
   "metadata": {},
   "source": [
    "#### Checkpoint 6.3"
   ]
  },
  {
   "cell_type": "code",
   "execution_count": 97,
   "metadata": {},
   "outputs": [
    {
     "data": {
      "text/html": [
       "<div>\n",
       "<style>\n",
       "    .dataframe thead tr:only-child th {\n",
       "        text-align: right;\n",
       "    }\n",
       "\n",
       "    .dataframe thead th {\n",
       "        text-align: left;\n",
       "    }\n",
       "\n",
       "    .dataframe tbody tr th {\n",
       "        vertical-align: top;\n",
       "    }\n",
       "</style>\n",
       "<table border=\"1\" class=\"dataframe\">\n",
       "  <thead>\n",
       "    <tr style=\"text-align: right;\">\n",
       "      <th></th>\n",
       "      <th>country_code</th>\n",
       "      <th>main_sector</th>\n",
       "      <th>number_of_investment</th>\n",
       "    </tr>\n",
       "  </thead>\n",
       "  <tbody>\n",
       "    <tr>\n",
       "      <th>0</th>\n",
       "      <td>USA</td>\n",
       "      <td>Others</td>\n",
       "      <td>2923</td>\n",
       "    </tr>\n",
       "    <tr>\n",
       "      <th>1</th>\n",
       "      <td>USA</td>\n",
       "      <td>Cleantech / Semiconductors</td>\n",
       "      <td>2297</td>\n",
       "    </tr>\n",
       "    <tr>\n",
       "      <th>2</th>\n",
       "      <td>USA</td>\n",
       "      <td>Social, Finance, Analytics, Advertising</td>\n",
       "      <td>1912</td>\n",
       "    </tr>\n",
       "    <tr>\n",
       "      <th>0</th>\n",
       "      <td>GBR</td>\n",
       "      <td>Others</td>\n",
       "      <td>143</td>\n",
       "    </tr>\n",
       "    <tr>\n",
       "      <th>1</th>\n",
       "      <td>GBR</td>\n",
       "      <td>Cleantech / Semiconductors</td>\n",
       "      <td>127</td>\n",
       "    </tr>\n",
       "    <tr>\n",
       "      <th>2</th>\n",
       "      <td>GBR</td>\n",
       "      <td>Social, Finance, Analytics, Advertising</td>\n",
       "      <td>98</td>\n",
       "    </tr>\n",
       "    <tr>\n",
       "      <th>0</th>\n",
       "      <td>IND</td>\n",
       "      <td>Others</td>\n",
       "      <td>109</td>\n",
       "    </tr>\n",
       "    <tr>\n",
       "      <th>1</th>\n",
       "      <td>IND</td>\n",
       "      <td>News, Search and Messaging</td>\n",
       "      <td>52</td>\n",
       "    </tr>\n",
       "    <tr>\n",
       "      <th>2</th>\n",
       "      <td>IND</td>\n",
       "      <td>Entertainment</td>\n",
       "      <td>33</td>\n",
       "    </tr>\n",
       "  </tbody>\n",
       "</table>\n",
       "</div>"
      ],
      "text/plain": [
       "  country_code                              main_sector  number_of_investment\n",
       "0          USA                                   Others                  2923\n",
       "1          USA               Cleantech / Semiconductors                  2297\n",
       "2          USA  Social, Finance, Analytics, Advertising                  1912\n",
       "0          GBR                                   Others                   143\n",
       "1          GBR               Cleantech / Semiconductors                   127\n",
       "2          GBR  Social, Finance, Analytics, Advertising                    98\n",
       "0          IND                                   Others                   109\n",
       "1          IND               News, Search and Messaging                    52\n",
       "2          IND                            Entertainment                    33"
      ]
     },
     "execution_count": 97,
     "metadata": {},
     "output_type": "execute_result"
    }
   ],
   "source": [
    "#A plot showing the number of investments in the top 3 sectors of the top 3 countries on one chart \n",
    "#(for the chosen investment type FT).\n",
    "\n",
    "country1_frame=D1.groupby(['country_code','main_sector'])['raised_amount_usd'].count().sort_values(ascending=False)[0:3].to_frame().reset_index()\n",
    "country2_frame=D2.groupby(['country_code','main_sector'])['raised_amount_usd'].count().sort_values(ascending=False)[0:3].to_frame().reset_index()\n",
    "country3_frame=D3.groupby(['country_code','main_sector'])['raised_amount_usd'].count().sort_values(ascending=False)[0:3].to_frame().reset_index()\n",
    "\n",
    "plot_frame=country1_frame.append(country2_frame)\n",
    "plot_frame=plot_frame.append(country3_frame)\n",
    "plot_frame.reset_index()\n",
    "plot_frame.rename(columns={'raised_amount_usd':'number_of_investment'},inplace=True)\n",
    "plot_frame"
   ]
  },
  {
   "cell_type": "code",
   "execution_count": 98,
   "metadata": {},
   "outputs": [
    {
     "data": {
      "image/png": "[encoded data removed]",
      "text/plain": [
       "<matplotlib.figure.Figure at 0xa2ce0f0>"
      ]
     },
     "metadata": {},
     "output_type": "display_data"
    }
   ],
   "source": [
    "plt.figure(num=None, figsize=(15, 8), dpi=80, facecolor='w', edgecolor='k')\n",
    "# specify hue=\"categorical_variable\"\n",
    "plt.title('Sector wise investments')\n",
    "graphobj=sns.barplot(x='country_code', y='number_of_investment', hue='main_sector', data=plot_frame)\n",
    "graphobj.set(xlabel='Countries',ylabel='Number of Investment')\n",
    "plt.show()"
   ]
  }
 ],
 "metadata": {
  "kernelspec": {
   "display_name": "Python 3",
   "language": "python",
   "name": "python3"
  },
  "language_info": {
   "codemirror_mode": {
    "name": "ipython",
    "version": 3
   },
   "file_extension": ".py",
   "mimetype": "text/x-python",
   "name": "python",
   "nbconvert_exporter": "python",
   "pygments_lexer": "ipython3",
   "version": "3.6.1"
  }
 },
 "nbformat": 4,
 "nbformat_minor": 2
}
