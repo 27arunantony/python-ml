{
 "cells": [
  {
   "cell_type": "code",
   "execution_count": 53,
   "metadata": {},
   "outputs": [],
   "source": [
    "import pandas as pd\n",
    "import matplotlib.pyplot as plt\n",
    "import seaborn as sns\n",
    "import numpy as np\n",
    "import re"
   ]
  },
  {
   "cell_type": "code",
   "execution_count": 54,
   "metadata": {},
   "outputs": [
    {
     "name": "stdout",
     "output_type": "stream",
     "text": [
      "(99999, 226)\n"
     ]
    }
   ],
   "source": [
    "telecom_df_base=pd.read_csv('telecom_churn_data.csv', encoding='iso-8859-1')\n",
    "telecom_plot_base=telecom_df_base.reset_index()\n",
    "master_df=telecom_df_base.copy()\n",
    "print(telecom_df_base.shape)"
   ]
  },
  {
   "cell_type": "markdown",
   "metadata": {},
   "source": [
    "### Utilities method"
   ]
  },
  {
   "cell_type": "code",
   "execution_count": 55,
   "metadata": {},
   "outputs": [],
   "source": [
    "def null_na_estimator_grph(data_f,limit_val=None,graphical=False,size=(None,None)):\n",
    "    \"\"\"will return the % amount of null in data frame\n",
    "       df: panda.DataFrame\n",
    "       limit_val= (default=None) threshold value, example if limit_val=7, the estimator will return na with >=7\n",
    "    \"\"\"\n",
    "    df=data_f.copy()\n",
    "    est_ser=est_ser= (round(df.isna().sum()/len(df.index)*100,2)).sort_values(ascending=False)\n",
    "    if limit_val!=None:\n",
    "        est_ser= est_ser[est_ser>=limit_val]\n",
    "    if graphical==True:\n",
    "        df=pd.DataFrame(est_ser).reset_index()\n",
    "        plt.figure(figsize=size)\n",
    "        plt.xticks(rotation=90)\n",
    "        fig=sns.barplot(data=df,x='index',y=0)\n",
    "        fig.set_ylabel('Percentage')\n",
    "        return fig\n",
    "    else:\n",
    "        return est_ser\n",
    "\n",
    "def data_set_structure(df,return_tuple=False):\n",
    "    \"\"\"It will return the structure of dataframe or columns tuple as list\n",
    "    out: tuple (non-num,num,month_6,month_7,month_8,month_9)\n",
    "       : datafram ->structuring the complete dataset bifurcation\n",
    "    \"\"\"\n",
    "    df_col=df.columns\n",
    "    if len(df.describe().columns)!=len(df_col):\n",
    "        non_num_col=df.describe(include=['object']).columns\n",
    "    else:\n",
    "        non_num_col=pd.Index([])\n",
    "    num_col=df_col.difference(non_num_col)\n",
    "    data_col_month=[x for x in df_col if re.search('_[0-9]$',x)!=None]\n",
    "    col_9=[x for x in df_col if re.search('_9',x)!=None]\n",
    "    col_8=[x for x in df_col if re.search('_8',x)!=None]\n",
    "    col_7=[x for x in df_col if re.search('_7',x)!=None]\n",
    "    col_6=[x for x in df_col if re.search('_6',x)!=None]\n",
    "    col_9_n=[x for x in num_col if re.search('_9',x)!=None]\n",
    "    col_8_n=[x for x in num_col if re.search('_8',x)!=None]\n",
    "    col_7_n=[x for x in num_col if re.search('_7',x)!=None]\n",
    "    col_6_n=[x for x in num_col if re.search('_6',x)!=None]\n",
    "    \n",
    "    if return_tuple==True:\n",
    "        return non_num_col.tolist(),num_col.tolist(),col_6,col_7,col_8,col_9\n",
    "    else:\n",
    "        result=pd.DataFrame({'Month 6':[abs(len(col_6_n)-len(col_6)),len(col_6_n)],\n",
    "                             'Month 7':[abs(len(col_7_n)-len(col_7)),len(col_7_n)],\n",
    "                             'Month 8':[abs(len(col_8_n)-len(col_8)),len(col_8_n)],\n",
    "                             'Month 9':[abs(len(col_9_n)-len(col_9)),len(col_9_n)]\n",
    "                    },index=['Non-Numeric','Numeric'])\n",
    "        result['Common']=[len(non_num_col)-(result.loc['Non-Numeric'].sum()),len(num_col)-(result.iloc[1,:].sum())]\n",
    "        result['Total']=[result.loc['Non-Numeric'].sum(),result.loc['Numeric'].sum()]\n",
    "        return result\n",
    "\n",
    "def data_loss(df_old,df_new):\n",
    "    \"\"\"will be calculating the data loss been made in the dataframe\"\"\"\n",
    "    df=pd.DataFrame({'Col loss':round(100*((len(df_old.columns)-len(df_new.columns))/len(df_old.columns)),2),\n",
    "                    'Row loss':round(100*((len(df_old.index)-len(df_new.index))/len(df_old.index)),2),\n",
    "                    'Data Retained':round(100*(len(df_new.columns)*len(df_new.index))/(len(df_old.columns)*len(df_old.index)),2)},index=['Percentage'])\n",
    "    return df\n",
    "\n",
    "def val_variance_estimator(dataFrame,graphical=False,size=(None,None),graph_filter_limit_max=0):\n",
    "    variance_graph={}\n",
    "    for i in range(0,len(dataFrame.columns)):\n",
    "        variance_graph[dataFrame.columns[i]]=len(dataFrame.loc[:,dataFrame.columns[i]].unique())\n",
    "    variance_graph_df=pd.DataFrame({'var':list(variance_graph.keys()),'count':list(variance_graph.values())})\n",
    "    if graphical==True:\n",
    "        plt.figure(figsize=size)\n",
    "        plt.xticks(rotation=90)\n",
    "        text_title='Value Variance Graph < '+str(graph_filter_limit_max)\n",
    "        plt.title(text_title)\n",
    "        fig=sns.barplot(x='var',y='count',data=variance_graph_df[variance_graph_df['count']<graph_filter_limit_max].sort_values(by='count',ascending=True))\n",
    "        return fig\n",
    "    else:\n",
    "        return variance_graph_df\n"
   ]
  },
  {
   "cell_type": "markdown",
   "metadata": {},
   "source": [
    "##### Fixing structural Error"
   ]
  },
  {
   "cell_type": "code",
   "execution_count": 56,
   "metadata": {},
   "outputs": [
    {
     "data": {
      "text/html": [
       "<div>\n",
       "<style scoped>\n",
       "    .dataframe tbody tr th:only-of-type {\n",
       "        vertical-align: middle;\n",
       "    }\n",
       "\n",
       "    .dataframe tbody tr th {\n",
       "        vertical-align: top;\n",
       "    }\n",
       "\n",
       "    .dataframe thead th {\n",
       "        text-align: right;\n",
       "    }\n",
       "</style>\n",
       "<table border=\"1\" class=\"dataframe\">\n",
       "  <thead>\n",
       "    <tr style=\"text-align: right;\">\n",
       "      <th></th>\n",
       "      <th>vbc_3g_6</th>\n",
       "      <th>vbc_3g_7</th>\n",
       "      <th>vbc_3g_8</th>\n",
       "      <th>vbc_3g_9</th>\n",
       "    </tr>\n",
       "  </thead>\n",
       "  <tbody>\n",
       "    <tr>\n",
       "      <th>0</th>\n",
       "      <td>101.20</td>\n",
       "      <td>0.0</td>\n",
       "      <td>30.4</td>\n",
       "      <td>3.58</td>\n",
       "    </tr>\n",
       "    <tr>\n",
       "      <th>1</th>\n",
       "      <td>0.00</td>\n",
       "      <td>0.0</td>\n",
       "      <td>0.0</td>\n",
       "      <td>0.00</td>\n",
       "    </tr>\n",
       "    <tr>\n",
       "      <th>2</th>\n",
       "      <td>4.17</td>\n",
       "      <td>0.0</td>\n",
       "      <td>0.0</td>\n",
       "      <td>0.00</td>\n",
       "    </tr>\n",
       "    <tr>\n",
       "      <th>3</th>\n",
       "      <td>0.00</td>\n",
       "      <td>0.0</td>\n",
       "      <td>0.0</td>\n",
       "      <td>0.00</td>\n",
       "    </tr>\n",
       "    <tr>\n",
       "      <th>4</th>\n",
       "      <td>0.00</td>\n",
       "      <td>0.0</td>\n",
       "      <td>0.0</td>\n",
       "      <td>0.00</td>\n",
       "    </tr>\n",
       "  </tbody>\n",
       "</table>\n",
       "</div>"
      ],
      "text/plain": [
       "   vbc_3g_6  vbc_3g_7  vbc_3g_8  vbc_3g_9\n",
       "0    101.20       0.0      30.4      3.58\n",
       "1      0.00       0.0       0.0      0.00\n",
       "2      4.17       0.0       0.0      0.00\n",
       "3      0.00       0.0       0.0      0.00\n",
       "4      0.00       0.0       0.0      0.00"
      ]
     },
     "execution_count": 56,
     "metadata": {},
     "output_type": "execute_result"
    }
   ],
   "source": [
    "telecom_df_base.rename(columns={'jun_vbc_3g':'vbc_3g_6','jul_vbc_3g':'vbc_3g_7','aug_vbc_3g':'vbc_3g_8','sep_vbc_3g':'vbc_3g_9'},inplace=True)\n",
    "telecom_df_base[['vbc_3g_6','vbc_3g_7','vbc_3g_8','vbc_3g_9']].head()"
   ]
  },
  {
   "cell_type": "code",
   "execution_count": 57,
   "metadata": {},
   "outputs": [
    {
     "data": {
      "text/html": [
       "<div>\n",
       "<style scoped>\n",
       "    .dataframe tbody tr th:only-of-type {\n",
       "        vertical-align: middle;\n",
       "    }\n",
       "\n",
       "    .dataframe tbody tr th {\n",
       "        vertical-align: top;\n",
       "    }\n",
       "\n",
       "    .dataframe thead th {\n",
       "        text-align: right;\n",
       "    }\n",
       "</style>\n",
       "<table border=\"1\" class=\"dataframe\">\n",
       "  <thead>\n",
       "    <tr style=\"text-align: right;\">\n",
       "      <th></th>\n",
       "      <th>Month 6</th>\n",
       "      <th>Month 7</th>\n",
       "      <th>Month 8</th>\n",
       "      <th>Month 9</th>\n",
       "      <th>Common</th>\n",
       "      <th>Total</th>\n",
       "    </tr>\n",
       "  </thead>\n",
       "  <tbody>\n",
       "    <tr>\n",
       "      <th>Non-Numeric</th>\n",
       "      <td>3</td>\n",
       "      <td>3</td>\n",
       "      <td>3</td>\n",
       "      <td>3</td>\n",
       "      <td>0</td>\n",
       "      <td>12</td>\n",
       "    </tr>\n",
       "    <tr>\n",
       "      <th>Numeric</th>\n",
       "      <td>52</td>\n",
       "      <td>52</td>\n",
       "      <td>52</td>\n",
       "      <td>52</td>\n",
       "      <td>6</td>\n",
       "      <td>214</td>\n",
       "    </tr>\n",
       "  </tbody>\n",
       "</table>\n",
       "</div>"
      ],
      "text/plain": [
       "             Month 6  Month 7  Month 8  Month 9  Common  Total\n",
       "Non-Numeric        3        3        3        3       0     12\n",
       "Numeric           52       52       52       52       6    214"
      ]
     },
     "execution_count": 57,
     "metadata": {},
     "output_type": "execute_result"
    }
   ],
   "source": [
    "non_num_col,num_col,col_6,col_7,col_8,col_9=data_set_structure(telecom_df_base,return_tuple=True)\n",
    "data_set_structure(telecom_df_base).head()"
   ]
  },
  {
   "cell_type": "code",
   "execution_count": 58,
   "metadata": {},
   "outputs": [
    {
     "data": {
      "text/plain": [
       "<matplotlib.axes._subplots.AxesSubplot at 0x1c9efeb8>"
      ]
     },
     "execution_count": 58,
     "metadata": {},
     "output_type": "execute_result"
    },
    {
     "data": {
      "image/png": "[encoded data removed]",
      "text/plain": [
       "<Figure size 1080x216 with 1 Axes>"
      ]
     },
     "metadata": {},
     "output_type": "display_data"
    }
   ],
   "source": [
    "variance_graph_df=val_variance_estimator(telecom_df_base)\n",
    "val_variance_estimator(telecom_df_base,True,(15,3),graph_filter_limit_max=10)"
   ]
  },
  {
   "cell_type": "markdown",
   "metadata": {},
   "source": [
    "##### Dropping columns not having more than 2 values"
   ]
  },
  {
   "cell_type": "code",
   "execution_count": 59,
   "metadata": {},
   "outputs": [
    {
     "name": "stdout",
     "output_type": "stream",
     "text": [
      "std_og_t2c_mou_7  : [nan  0.]\n",
      "last_date_of_month_8  : ['8/31/2014' nan]\n",
      "std_og_t2c_mou_6  : [nan  0.]\n",
      "std_og_t2c_mou_9  : [nan  0.]\n",
      "loc_ic_t2o_mou  : [ 0. nan]\n",
      "loc_og_t2o_mou  : [ 0. nan]\n",
      "circle_id  : [109]\n",
      "last_date_of_month_6  : ['6/30/2014']\n",
      "std_ic_t2o_mou_9  : [nan  0.]\n",
      "last_date_of_month_9  : ['9/30/2014' nan]\n",
      "std_og_t2o_mou  : [ 0. nan]\n",
      "std_ic_t2o_mou_7  : [nan  0.]\n",
      "std_ic_t2o_mou_8  : [ 0. nan]\n",
      "std_og_t2c_mou_8  : [ 0. nan]\n",
      "std_ic_t2o_mou_6  : [nan  0.]\n",
      "last_date_of_month_7  : ['7/31/2014' nan]\n",
      "As the value of these columns just have 2 values, which is not adding any information, we are going to drop them. As imputing them doesn't make sense\n"
     ]
    }
   ],
   "source": [
    "#Revisiting the data which don't have variance equal to 1 or 2\n",
    "variance_graph_df[variance_graph_df['count']<=2]['var']\n",
    "for i in variance_graph_df[variance_graph_df['count']<=2]['var']:\n",
    "    print(i,\" :\",telecom_df_base.loc[:,i].unique())\n",
    "drop_col=list(variance_graph_df[variance_graph_df['count']<=2]['var'])\n",
    "#Dropping columns with just 2 values\n",
    "print(\"As the value of these columns just have 2 values, which is not adding any information, we are going to drop them. As imputing them doesn't make sense\")\n",
    "telecom_df_base.drop(columns=drop_col,inplace=True)"
   ]
  },
  {
   "cell_type": "code",
   "execution_count": 60,
   "metadata": {},
   "outputs": [
    {
     "name": "stdout",
     "output_type": "stream",
     "text": [
      "            Col loss  Data Retained  Row loss\n",
      "Percentage      7.08          92.92       0.0\n"
     ]
    },
    {
     "data": {
      "text/html": [
       "<div>\n",
       "<style scoped>\n",
       "    .dataframe tbody tr th:only-of-type {\n",
       "        vertical-align: middle;\n",
       "    }\n",
       "\n",
       "    .dataframe tbody tr th {\n",
       "        vertical-align: top;\n",
       "    }\n",
       "\n",
       "    .dataframe thead th {\n",
       "        text-align: right;\n",
       "    }\n",
       "</style>\n",
       "<table border=\"1\" class=\"dataframe\">\n",
       "  <thead>\n",
       "    <tr style=\"text-align: right;\">\n",
       "      <th></th>\n",
       "      <th>Month 6</th>\n",
       "      <th>Month 7</th>\n",
       "      <th>Month 8</th>\n",
       "      <th>Month 9</th>\n",
       "      <th>Common</th>\n",
       "      <th>Total</th>\n",
       "    </tr>\n",
       "  </thead>\n",
       "  <tbody>\n",
       "    <tr>\n",
       "      <th>Non-Numeric</th>\n",
       "      <td>2</td>\n",
       "      <td>2</td>\n",
       "      <td>2</td>\n",
       "      <td>2</td>\n",
       "      <td>0</td>\n",
       "      <td>8</td>\n",
       "    </tr>\n",
       "    <tr>\n",
       "      <th>Numeric</th>\n",
       "      <td>50</td>\n",
       "      <td>50</td>\n",
       "      <td>50</td>\n",
       "      <td>50</td>\n",
       "      <td>2</td>\n",
       "      <td>202</td>\n",
       "    </tr>\n",
       "  </tbody>\n",
       "</table>\n",
       "</div>"
      ],
      "text/plain": [
       "             Month 6  Month 7  Month 8  Month 9  Common  Total\n",
       "Non-Numeric        2        2        2        2       0      8\n",
       "Numeric           50       50       50       50       2    202"
      ]
     },
     "execution_count": 60,
     "metadata": {},
     "output_type": "execute_result"
    }
   ],
   "source": [
    "print(data_loss(master_df,telecom_df_base))\n",
    "data_set_structure(telecom_df_base).head()"
   ]
  },
  {
   "cell_type": "markdown",
   "metadata": {},
   "source": [
    "#### Imputing values for important columns"
   ]
  },
  {
   "cell_type": "code",
   "execution_count": 61,
   "metadata": {},
   "outputs": [
    {
     "name": "stdout",
     "output_type": "stream",
     "text": [
      "night_pck_user_8  : [ 0. nan  1.]\n",
      "fb_user_8  : [ 1. nan  0.]\n",
      "fb_user_7  : [ 1. nan  0.]\n",
      "fb_user_9  : [nan  1.  0.]\n",
      "night_pck_user_6  : [ 0. nan  1.]\n",
      "fb_user_6  : [ 1. nan  0.]\n",
      "night_pck_user_7  : [ 0. nan  1.]\n",
      "night_pck_user_9  : [nan  0.  1.]\n",
      "Imputing a new category of -1 reprsenting a miss:  ['night_pck_user_8', 'fb_user_8', 'fb_user_7', 'fb_user_9', 'night_pck_user_6', 'fb_user_6', 'night_pck_user_7', 'night_pck_user_9']\n",
      "Imputing 0 for missing values:  ['av_rech_amt_data_6', 'av_rech_amt_data_7', 'av_rech_amt_data_8', 'av_rech_amt_data_9', 'total_rech_data_6', 'total_rech_data_7', 'total_rech_data_8', 'total_rech_data_9', 'max_rech_data_6', 'max_rech_data_7', 'max_rech_data_8', 'max_rech_data_9']\n"
     ]
    }
   ],
   "source": [
    "#As some columns will be used in analysis and the value range is only between 0,1,na, we are going to impute them with a new class i.e. -1 for na\n",
    "\n",
    "for i in variance_graph_df.loc[(variance_graph_df['count']==3)]['var']:\n",
    "    print(i,\" :\",telecom_df_base.loc[:,i].unique())\n",
    "impute_col=list(variance_graph_df[variance_graph_df['count']==3]['var'])\n",
    "\n",
    "print(\"Imputing a new category of -1 reprsenting a miss: \",impute_col)\n",
    "\n",
    "telecom_df_base[impute_col]=telecom_df_base[impute_col].fillna(-1)\n",
    "impute_col=['av_rech_amt_data_6','av_rech_amt_data_7','av_rech_amt_data_8','av_rech_amt_data_9',\n",
    "            'total_rech_data_6','total_rech_data_7','total_rech_data_8','total_rech_data_9',\n",
    "            'max_rech_data_6','max_rech_data_7','max_rech_data_8','max_rech_data_9']\n",
    "\n",
    "print(\"Imputing 0 for missing values: \",impute_col)\n",
    "telecom_df_base[impute_col]=telecom_df_base[impute_col].fillna(0)"
   ]
  },
  {
   "cell_type": "code",
   "execution_count": 62,
   "metadata": {},
   "outputs": [
    {
     "data": {
      "text/plain": [
       "<matplotlib.axes._subplots.AxesSubplot at 0x1ca14828>"
      ]
     },
     "execution_count": 62,
     "metadata": {},
     "output_type": "execute_result"
    },
    {
     "data": {
      "image/png": "[encoded data removed]",
      "text/plain": [
       "<Figure size 1440x360 with 1 Axes>"
      ]
     },
     "metadata": {},
     "output_type": "display_data"
    }
   ],
   "source": [
    "null_na_estimator_grph(telecom_df_base,5,graphical=True,size=(20,5))"
   ]
  },
  {
   "cell_type": "markdown",
   "metadata": {},
   "source": [
    "#### Determining Churn for complete data-set"
   ]
  },
  {
   "cell_type": "code",
   "execution_count": 63,
   "metadata": {},
   "outputs": [],
   "source": [
    "telecom_df_base['churn']=((telecom_df_base['total_ic_mou_9']+telecom_df_base['total_og_mou_9']>0) & (telecom_df_base['vol_2g_mb_9']+telecom_df_base['vol_3g_mb_9'])>0)\n",
    "telecom_df_base.loc[:,'churn'].replace({True:1,False:0},inplace=True)"
   ]
  },
  {
   "cell_type": "markdown",
   "metadata": {},
   "source": [
    "#### Feature Extraction : Date Columns"
   ]
  },
  {
   "cell_type": "code",
   "execution_count": 64,
   "metadata": {},
   "outputs": [
    {
     "data": {
      "text/plain": [
       "date_of_last_rech_data_6    74.85\n",
       "date_of_last_rech_data_7    74.43\n",
       "date_of_last_rech_data_9    74.08\n",
       "date_of_last_rech_data_8    73.66\n",
       "date_of_last_rech_9          4.76\n",
       "date_of_last_rech_8          3.62\n",
       "date_of_last_rech_7          1.77\n",
       "date_of_last_rech_6          1.61\n",
       "dtype: float64"
      ]
     },
     "execution_count": 64,
     "metadata": {},
     "output_type": "execute_result"
    }
   ],
   "source": [
    "date_col=[x for x in telecom_df_base.columns if re.search('date',x)!=None]\n",
    "null_date_col=null_na_estimator_grph(telecom_df_base[date_col],limit_val=0)\n",
    "null_date_col"
   ]
  },
  {
   "cell_type": "markdown",
   "metadata": {},
   "source": [
    "#### Now from above it looks like the date_of_last_rech_data_6/7/8/9 having 64 % of data as empty. Instead of impueting these variables at random the best opted way is to impute it wil date_of_last_rech which will result in duplication of the data, so we go ahead and drop these 4 cols and will focus on date_of_last_rech_6/7/8/9"
   ]
  },
  {
   "cell_type": "code",
   "execution_count": 65,
   "metadata": {},
   "outputs": [
    {
     "name": "stdout",
     "output_type": "stream",
     "text": [
      "We can validate that for the data where date_of_last_rech_6/7/8/9 is having null the respective data column is also null\n",
      "1.61\n",
      "1.77\n",
      "3.62\n",
      "4.76\n"
     ]
    }
   ],
   "source": [
    "print(\"We can validate that for the data where date_of_last_rech_6/7/8/9 is having null the respective data column is also null\")\n",
    "print(round(len(telecom_df_base[telecom_df_base['date_of_last_rech_6'].isnull() & telecom_df_base['date_of_last_rech_data_6'].isnull()])/len(telecom_df_base.index)*100,2))\n",
    "print(round(len(telecom_df_base[telecom_df_base['date_of_last_rech_7'].isnull() & telecom_df_base['date_of_last_rech_data_7'].isnull()])/len(telecom_df_base.index)*100,2))\n",
    "print(round(len(telecom_df_base[telecom_df_base['date_of_last_rech_8'].isnull() & telecom_df_base['date_of_last_rech_data_8'].isnull()])/len(telecom_df_base.index)*100,2))\n",
    "print(round(len(telecom_df_base[telecom_df_base['date_of_last_rech_9'].isnull() & telecom_df_base['date_of_last_rech_data_9'].isnull()])/len(telecom_df_base.index)*100,2))"
   ]
  },
  {
   "cell_type": "code",
   "execution_count": 66,
   "metadata": {},
   "outputs": [],
   "source": [
    "drop_col=['date_of_last_rech_data_6','date_of_last_rech_data_7','date_of_last_rech_data_8','date_of_last_rech_data_9']"
   ]
  },
  {
   "cell_type": "code",
   "execution_count": 67,
   "metadata": {},
   "outputs": [
    {
     "name": "stdout",
     "output_type": "stream",
     "text": [
      "(99999, 5)\n"
     ]
    }
   ],
   "source": [
    "date_df=telecom_df_base[['date_of_last_rech_6','date_of_last_rech_7','date_of_last_rech_8','date_of_last_rech_9','churn']]\n",
    "print(date_df.shape)"
   ]
  },
  {
   "cell_type": "markdown",
   "metadata": {},
   "source": [
    "#### Dropping null rows where dates are not there"
   ]
  },
  {
   "cell_type": "code",
   "execution_count": 68,
   "metadata": {},
   "outputs": [
    {
     "name": "stdout",
     "output_type": "stream",
     "text": [
      "date_of_last_rech_9    4.76\n",
      "date_of_last_rech_8    3.62\n",
      "date_of_last_rech_7    1.77\n",
      "date_of_last_rech_6    1.61\n",
      "dtype: float64\n",
      "(99999, 5)\n"
     ]
    }
   ],
   "source": [
    "print(null_na_estimator_grph(date_df,limit_val=.2))\n",
    "#date_df.dropna(subset=['date_of_last_rech_6','date_of_last_rech_7','date_of_last_rech_8','date_of_last_rech_9'],inplace=True)\n",
    "print(date_df.shape)"
   ]
  },
  {
   "cell_type": "code",
   "execution_count": 69,
   "metadata": {
    "scrolled": true
   },
   "outputs": [
    {
     "name": "stderr",
     "output_type": "stream",
     "text": [
      "C:\\ProgramData\\Anaconda2\\envs\\DS_3_6\\lib\\site-packages\\ipykernel_launcher.py:2: SettingWithCopyWarning: \n",
      "A value is trying to be set on a copy of a slice from a DataFrame.\n",
      "Try using .loc[row_indexer,col_indexer] = value instead\n",
      "\n",
      "See the caveats in the documentation: http://pandas.pydata.org/pandas-docs/stable/indexing.html#indexing-view-versus-copy\n",
      "  \n",
      "C:\\ProgramData\\Anaconda2\\envs\\DS_3_6\\lib\\site-packages\\ipykernel_launcher.py:3: SettingWithCopyWarning: \n",
      "A value is trying to be set on a copy of a slice from a DataFrame.\n",
      "Try using .loc[row_indexer,col_indexer] = value instead\n",
      "\n",
      "See the caveats in the documentation: http://pandas.pydata.org/pandas-docs/stable/indexing.html#indexing-view-versus-copy\n",
      "  This is separate from the ipykernel package so we can avoid doing imports until\n",
      "C:\\ProgramData\\Anaconda2\\envs\\DS_3_6\\lib\\site-packages\\ipykernel_launcher.py:4: SettingWithCopyWarning: \n",
      "A value is trying to be set on a copy of a slice from a DataFrame.\n",
      "Try using .loc[row_indexer,col_indexer] = value instead\n",
      "\n",
      "See the caveats in the documentation: http://pandas.pydata.org/pandas-docs/stable/indexing.html#indexing-view-versus-copy\n",
      "  after removing the cwd from sys.path.\n",
      "C:\\ProgramData\\Anaconda2\\envs\\DS_3_6\\lib\\site-packages\\ipykernel_launcher.py:5: SettingWithCopyWarning: \n",
      "A value is trying to be set on a copy of a slice from a DataFrame.\n",
      "Try using .loc[row_indexer,col_indexer] = value instead\n",
      "\n",
      "See the caveats in the documentation: http://pandas.pydata.org/pandas-docs/stable/indexing.html#indexing-view-versus-copy\n",
      "  \"\"\"\n",
      "C:\\ProgramData\\Anaconda2\\envs\\DS_3_6\\lib\\site-packages\\ipykernel_launcher.py:6: SettingWithCopyWarning: \n",
      "A value is trying to be set on a copy of a slice from a DataFrame.\n",
      "Try using .loc[row_indexer,col_indexer] = value instead\n",
      "\n",
      "See the caveats in the documentation: http://pandas.pydata.org/pandas-docs/stable/indexing.html#indexing-view-versus-copy\n",
      "  \n"
     ]
    }
   ],
   "source": [
    "for col in date_df.columns.drop('churn'):\n",
    "    date_df[col]=pd.to_datetime(date_df[col],format=\"%m/%d/%Y\")\n",
    "date_df['rech_day_6']=date_df['date_of_last_rech_6'].apply(lambda x: x.day)\n",
    "date_df['rech_day_7']=date_df['date_of_last_rech_7'].apply(lambda x: x.day)\n",
    "date_df['rech_day_8']=date_df['date_of_last_rech_8'].apply(lambda x: x.day)\n",
    "date_df['rech_day_9']=date_df['date_of_last_rech_9'].apply(lambda x: x.day)"
   ]
  },
  {
   "cell_type": "code",
   "execution_count": 70,
   "metadata": {},
   "outputs": [
    {
     "data": {
      "text/plain": [
       "Text(0.5,1,'August churn rate')"
      ]
     },
     "execution_count": 70,
     "metadata": {},
     "output_type": "execute_result"
    },
    {
     "data": {
      "image/png": "[encoded data removed]",
      "text/plain": [
       "<Figure size 2160x1440 with 3 Axes>"
      ]
     },
     "metadata": {},
     "output_type": "display_data"
    }
   ],
   "source": [
    "plt.figure(figsize=(30,20))\n",
    "plt.subplot(221)\n",
    "plt.xticks(rotation=45)\n",
    "plt.title(\"June churn rate\",fontsize=18)\n",
    "sns.countplot(x='rech_day_6',hue='churn',data=date_df.sort_values(by='rech_day_6'))\n",
    "plt.xlabel('Days of month')\n",
    "#plt.figure(figsize=(10,5))\n",
    "plt.subplot(222)\n",
    "plt.xticks(rotation=45)\n",
    "sns.countplot(x='rech_day_7',hue='churn',data=date_df.sort_values(by='rech_day_7'))\n",
    "plt.xlabel('Days of month')\n",
    "plt.title(\"July churn rate\",fontsize=18)\n",
    "plt.subplot(223)\n",
    "#plt.figure(figsize=(20,5))\n",
    "plt.xticks(rotation=45)\n",
    "sns.countplot(x='rech_day_8',hue='churn',data=date_df.sort_values(by='rech_day_8'))\n",
    "plt.xlabel('Days of month')\n",
    "plt.title(\"August churn rate\",fontsize=18)"
   ]
  },
  {
   "cell_type": "code",
   "execution_count": 71,
   "metadata": {},
   "outputs": [],
   "source": [
    "drop_col.extend(['date_of_last_rech_6','date_of_last_rech_7','date_of_last_rech_8','date_of_last_rech_9'])"
   ]
  },
  {
   "cell_type": "code",
   "execution_count": 72,
   "metadata": {},
   "outputs": [],
   "source": [
    "drop_col\n",
    "telecom_df_base=pd.concat([telecom_df_base,date_df[['rech_day_6','rech_day_7','rech_day_8','rech_day_9']]],axis=1)"
   ]
  },
  {
   "cell_type": "markdown",
   "metadata": {},
   "source": [
    "### Capturing behavioral metrics - Data Users, Facebook Users, Call usage"
   ]
  },
  {
   "cell_type": "markdown",
   "metadata": {},
   "source": [
    "#### Data Usage"
   ]
  },
  {
   "cell_type": "code",
   "execution_count": 73,
   "metadata": {},
   "outputs": [],
   "source": [
    "data_cols=['sachet_2g_6','sachet_3g_6','monthly_3g_6','monthly_2g_6','sachet_2g_7','sachet_3g_7','monthly_3g_7','monthly_2g_7',\n",
    "           'sachet_2g_8','sachet_3g_8','monthly_3g_8','monthly_2g_8','sachet_2g_9','sachet_3g_9','monthly_3g_9','monthly_2g_9']"
   ]
  },
  {
   "cell_type": "code",
   "execution_count": 74,
   "metadata": {},
   "outputs": [
    {
     "data": {
      "text/plain": [
       "monthly_2g_9    0.0\n",
       "monthly_3g_9    0.0\n",
       "sachet_3g_9     0.0\n",
       "sachet_2g_9     0.0\n",
       "monthly_2g_8    0.0\n",
       "monthly_3g_8    0.0\n",
       "sachet_3g_8     0.0\n",
       "sachet_2g_8     0.0\n",
       "monthly_2g_7    0.0\n",
       "monthly_3g_7    0.0\n",
       "sachet_3g_7     0.0\n",
       "sachet_2g_7     0.0\n",
       "monthly_2g_6    0.0\n",
       "monthly_3g_6    0.0\n",
       "sachet_3g_6     0.0\n",
       "sachet_2g_6     0.0\n",
       "dtype: float64"
      ]
     },
     "execution_count": 74,
     "metadata": {},
     "output_type": "execute_result"
    }
   ],
   "source": [
    "null_na_estimator_grph(telecom_df_base[data_cols],limit_val=0)"
   ]
  },
  {
   "cell_type": "code",
   "execution_count": 75,
   "metadata": {},
   "outputs": [
    {
     "data": {
      "text/html": [
       "<div>\n",
       "<style scoped>\n",
       "    .dataframe tbody tr th:only-of-type {\n",
       "        vertical-align: middle;\n",
       "    }\n",
       "\n",
       "    .dataframe tbody tr th {\n",
       "        vertical-align: top;\n",
       "    }\n",
       "\n",
       "    .dataframe thead th {\n",
       "        text-align: right;\n",
       "    }\n",
       "</style>\n",
       "<table border=\"1\" class=\"dataframe\">\n",
       "  <thead>\n",
       "    <tr style=\"text-align: right;\">\n",
       "      <th></th>\n",
       "      <th>count</th>\n",
       "      <th>var</th>\n",
       "    </tr>\n",
       "  </thead>\n",
       "  <tbody>\n",
       "    <tr>\n",
       "      <th>0</th>\n",
       "      <td>6</td>\n",
       "      <td>monthly_2g_7</td>\n",
       "    </tr>\n",
       "    <tr>\n",
       "      <th>1</th>\n",
       "      <td>27</td>\n",
       "      <td>sachet_3g_9</td>\n",
       "    </tr>\n",
       "    <tr>\n",
       "      <th>2</th>\n",
       "      <td>6</td>\n",
       "      <td>monthly_2g_8</td>\n",
       "    </tr>\n",
       "    <tr>\n",
       "      <th>3</th>\n",
       "      <td>32</td>\n",
       "      <td>sachet_2g_6</td>\n",
       "    </tr>\n",
       "    <tr>\n",
       "      <th>4</th>\n",
       "      <td>25</td>\n",
       "      <td>sachet_3g_6</td>\n",
       "    </tr>\n",
       "    <tr>\n",
       "      <th>5</th>\n",
       "      <td>35</td>\n",
       "      <td>sachet_2g_7</td>\n",
       "    </tr>\n",
       "    <tr>\n",
       "      <th>6</th>\n",
       "      <td>5</td>\n",
       "      <td>monthly_2g_6</td>\n",
       "    </tr>\n",
       "    <tr>\n",
       "      <th>7</th>\n",
       "      <td>27</td>\n",
       "      <td>sachet_3g_7</td>\n",
       "    </tr>\n",
       "    <tr>\n",
       "      <th>8</th>\n",
       "      <td>12</td>\n",
       "      <td>monthly_3g_8</td>\n",
       "    </tr>\n",
       "    <tr>\n",
       "      <th>9</th>\n",
       "      <td>29</td>\n",
       "      <td>sachet_3g_8</td>\n",
       "    </tr>\n",
       "    <tr>\n",
       "      <th>10</th>\n",
       "      <td>12</td>\n",
       "      <td>monthly_3g_6</td>\n",
       "    </tr>\n",
       "    <tr>\n",
       "      <th>11</th>\n",
       "      <td>5</td>\n",
       "      <td>monthly_2g_9</td>\n",
       "    </tr>\n",
       "    <tr>\n",
       "      <th>12</th>\n",
       "      <td>11</td>\n",
       "      <td>monthly_3g_9</td>\n",
       "    </tr>\n",
       "    <tr>\n",
       "      <th>13</th>\n",
       "      <td>15</td>\n",
       "      <td>monthly_3g_7</td>\n",
       "    </tr>\n",
       "    <tr>\n",
       "      <th>14</th>\n",
       "      <td>32</td>\n",
       "      <td>sachet_2g_9</td>\n",
       "    </tr>\n",
       "    <tr>\n",
       "      <th>15</th>\n",
       "      <td>34</td>\n",
       "      <td>sachet_2g_8</td>\n",
       "    </tr>\n",
       "  </tbody>\n",
       "</table>\n",
       "</div>"
      ],
      "text/plain": [
       "    count           var\n",
       "0       6  monthly_2g_7\n",
       "1      27   sachet_3g_9\n",
       "2       6  monthly_2g_8\n",
       "3      32   sachet_2g_6\n",
       "4      25   sachet_3g_6\n",
       "5      35   sachet_2g_7\n",
       "6       5  monthly_2g_6\n",
       "7      27   sachet_3g_7\n",
       "8      12  monthly_3g_8\n",
       "9      29   sachet_3g_8\n",
       "10     12  monthly_3g_6\n",
       "11      5  monthly_2g_9\n",
       "12     11  monthly_3g_9\n",
       "13     15  monthly_3g_7\n",
       "14     32   sachet_2g_9\n",
       "15     34   sachet_2g_8"
      ]
     },
     "execution_count": 75,
     "metadata": {},
     "output_type": "execute_result"
    }
   ],
   "source": [
    "val_variance_estimator(telecom_df_base[data_cols])"
   ]
  },
  {
   "cell_type": "code",
   "execution_count": 76,
   "metadata": {},
   "outputs": [
    {
     "data": {
      "text/html": [
       "<div>\n",
       "<style scoped>\n",
       "    .dataframe tbody tr th:only-of-type {\n",
       "        vertical-align: middle;\n",
       "    }\n",
       "\n",
       "    .dataframe tbody tr th {\n",
       "        vertical-align: top;\n",
       "    }\n",
       "\n",
       "    .dataframe thead th {\n",
       "        text-align: right;\n",
       "    }\n",
       "</style>\n",
       "<table border=\"1\" class=\"dataframe\">\n",
       "  <thead>\n",
       "    <tr style=\"text-align: right;\">\n",
       "      <th></th>\n",
       "      <th>Month 6</th>\n",
       "      <th>Month 7</th>\n",
       "      <th>Month 8</th>\n",
       "      <th>Month 9</th>\n",
       "      <th>Common</th>\n",
       "      <th>Total</th>\n",
       "    </tr>\n",
       "  </thead>\n",
       "  <tbody>\n",
       "    <tr>\n",
       "      <th>Non-Numeric</th>\n",
       "      <td>2</td>\n",
       "      <td>2</td>\n",
       "      <td>2</td>\n",
       "      <td>2</td>\n",
       "      <td>0</td>\n",
       "      <td>8</td>\n",
       "    </tr>\n",
       "    <tr>\n",
       "      <th>Numeric</th>\n",
       "      <td>51</td>\n",
       "      <td>51</td>\n",
       "      <td>51</td>\n",
       "      <td>51</td>\n",
       "      <td>3</td>\n",
       "      <td>207</td>\n",
       "    </tr>\n",
       "  </tbody>\n",
       "</table>\n",
       "</div>"
      ],
      "text/plain": [
       "             Month 6  Month 7  Month 8  Month 9  Common  Total\n",
       "Non-Numeric        2        2        2        2       0      8\n",
       "Numeric           51       51       51       51       3    207"
      ]
     },
     "execution_count": 76,
     "metadata": {},
     "output_type": "execute_result"
    }
   ],
   "source": [
    "data_set_structure(telecom_df_base)"
   ]
  },
  {
   "cell_type": "code",
   "execution_count": 77,
   "metadata": {},
   "outputs": [],
   "source": [
    "data_cols.append('churn')\n",
    "data_usage=telecom_df_base[data_cols]\n",
    "data_cols.remove('churn')"
   ]
  },
  {
   "cell_type": "code",
   "execution_count": 78,
   "metadata": {},
   "outputs": [
    {
     "name": "stderr",
     "output_type": "stream",
     "text": [
      "C:\\ProgramData\\Anaconda2\\envs\\DS_3_6\\lib\\site-packages\\ipykernel_launcher.py:1: SettingWithCopyWarning: \n",
      "A value is trying to be set on a copy of a slice from a DataFrame.\n",
      "Try using .loc[row_indexer,col_indexer] = value instead\n",
      "\n",
      "See the caveats in the documentation: http://pandas.pydata.org/pandas-docs/stable/indexing.html#indexing-view-versus-copy\n",
      "  \"\"\"Entry point for launching an IPython kernel.\n",
      "C:\\ProgramData\\Anaconda2\\envs\\DS_3_6\\lib\\site-packages\\ipykernel_launcher.py:2: SettingWithCopyWarning: \n",
      "A value is trying to be set on a copy of a slice from a DataFrame.\n",
      "Try using .loc[row_indexer,col_indexer] = value instead\n",
      "\n",
      "See the caveats in the documentation: http://pandas.pydata.org/pandas-docs/stable/indexing.html#indexing-view-versus-copy\n",
      "  \n",
      "C:\\ProgramData\\Anaconda2\\envs\\DS_3_6\\lib\\site-packages\\ipykernel_launcher.py:3: SettingWithCopyWarning: \n",
      "A value is trying to be set on a copy of a slice from a DataFrame.\n",
      "Try using .loc[row_indexer,col_indexer] = value instead\n",
      "\n",
      "See the caveats in the documentation: http://pandas.pydata.org/pandas-docs/stable/indexing.html#indexing-view-versus-copy\n",
      "  This is separate from the ipykernel package so we can avoid doing imports until\n",
      "C:\\ProgramData\\Anaconda2\\envs\\DS_3_6\\lib\\site-packages\\ipykernel_launcher.py:4: SettingWithCopyWarning: \n",
      "A value is trying to be set on a copy of a slice from a DataFrame.\n",
      "Try using .loc[row_indexer,col_indexer] = value instead\n",
      "\n",
      "See the caveats in the documentation: http://pandas.pydata.org/pandas-docs/stable/indexing.html#indexing-view-versus-copy\n",
      "  after removing the cwd from sys.path.\n"
     ]
    }
   ],
   "source": [
    "data_usage['Data_user_6']=(data_usage['monthly_3g_6']>0)|(data_usage['monthly_2g_6']>0)|(data_usage['sachet_3g_6']>0)|(data_usage['sachet_2g_6']>0)\n",
    "data_usage['Data_user_7']=(data_usage['monthly_3g_7']>0)|(data_usage['monthly_2g_7']>0)|(data_usage['sachet_3g_7']>0)|(data_usage['sachet_2g_7']>0)\n",
    "data_usage['Data_user_8']=(data_usage['monthly_3g_8']>0)|(data_usage['monthly_2g_8']>0)|(data_usage['sachet_3g_8']>0)|(data_usage['sachet_2g_8']>0)\n",
    "data_usage['Data_user_9']=(data_usage['monthly_3g_9']>0)|(data_usage['monthly_2g_9']>0)|(data_usage['sachet_3g_9']>0)|(data_usage['sachet_2g_9']>0)"
   ]
  },
  {
   "cell_type": "code",
   "execution_count": 79,
   "metadata": {},
   "outputs": [
    {
     "data": {
      "text/html": [
       "<div>\n",
       "<style scoped>\n",
       "    .dataframe tbody tr th:only-of-type {\n",
       "        vertical-align: middle;\n",
       "    }\n",
       "\n",
       "    .dataframe tbody tr th {\n",
       "        vertical-align: top;\n",
       "    }\n",
       "\n",
       "    .dataframe thead th {\n",
       "        text-align: right;\n",
       "    }\n",
       "</style>\n",
       "<table border=\"1\" class=\"dataframe\">\n",
       "  <thead>\n",
       "    <tr style=\"text-align: right;\">\n",
       "      <th></th>\n",
       "      <th>sachet_2g_6</th>\n",
       "      <th>sachet_3g_6</th>\n",
       "      <th>monthly_3g_6</th>\n",
       "      <th>monthly_2g_6</th>\n",
       "      <th>sachet_2g_7</th>\n",
       "      <th>sachet_3g_7</th>\n",
       "      <th>monthly_3g_7</th>\n",
       "      <th>monthly_2g_7</th>\n",
       "      <th>sachet_2g_8</th>\n",
       "      <th>sachet_3g_8</th>\n",
       "      <th>...</th>\n",
       "      <th>monthly_2g_8</th>\n",
       "      <th>sachet_2g_9</th>\n",
       "      <th>sachet_3g_9</th>\n",
       "      <th>monthly_3g_9</th>\n",
       "      <th>monthly_2g_9</th>\n",
       "      <th>churn</th>\n",
       "      <th>Data_user_6</th>\n",
       "      <th>Data_user_7</th>\n",
       "      <th>Data_user_8</th>\n",
       "      <th>Data_user_9</th>\n",
       "    </tr>\n",
       "  </thead>\n",
       "  <tbody>\n",
       "    <tr>\n",
       "      <th>0</th>\n",
       "      <td>0</td>\n",
       "      <td>0</td>\n",
       "      <td>1</td>\n",
       "      <td>0</td>\n",
       "      <td>0</td>\n",
       "      <td>0</td>\n",
       "      <td>1</td>\n",
       "      <td>0</td>\n",
       "      <td>0</td>\n",
       "      <td>0</td>\n",
       "      <td>...</td>\n",
       "      <td>0</td>\n",
       "      <td>0</td>\n",
       "      <td>0</td>\n",
       "      <td>0</td>\n",
       "      <td>0</td>\n",
       "      <td>0</td>\n",
       "      <td>True</td>\n",
       "      <td>True</td>\n",
       "      <td>True</td>\n",
       "      <td>False</td>\n",
       "    </tr>\n",
       "    <tr>\n",
       "      <th>1</th>\n",
       "      <td>0</td>\n",
       "      <td>0</td>\n",
       "      <td>0</td>\n",
       "      <td>0</td>\n",
       "      <td>0</td>\n",
       "      <td>0</td>\n",
       "      <td>0</td>\n",
       "      <td>1</td>\n",
       "      <td>2</td>\n",
       "      <td>0</td>\n",
       "      <td>...</td>\n",
       "      <td>0</td>\n",
       "      <td>0</td>\n",
       "      <td>0</td>\n",
       "      <td>0</td>\n",
       "      <td>0</td>\n",
       "      <td>0</td>\n",
       "      <td>False</td>\n",
       "      <td>True</td>\n",
       "      <td>True</td>\n",
       "      <td>False</td>\n",
       "    </tr>\n",
       "    <tr>\n",
       "      <th>2</th>\n",
       "      <td>0</td>\n",
       "      <td>0</td>\n",
       "      <td>0</td>\n",
       "      <td>0</td>\n",
       "      <td>0</td>\n",
       "      <td>0</td>\n",
       "      <td>0</td>\n",
       "      <td>0</td>\n",
       "      <td>0</td>\n",
       "      <td>0</td>\n",
       "      <td>...</td>\n",
       "      <td>0</td>\n",
       "      <td>1</td>\n",
       "      <td>0</td>\n",
       "      <td>0</td>\n",
       "      <td>0</td>\n",
       "      <td>1</td>\n",
       "      <td>False</td>\n",
       "      <td>False</td>\n",
       "      <td>False</td>\n",
       "      <td>True</td>\n",
       "    </tr>\n",
       "    <tr>\n",
       "      <th>3</th>\n",
       "      <td>0</td>\n",
       "      <td>0</td>\n",
       "      <td>0</td>\n",
       "      <td>0</td>\n",
       "      <td>0</td>\n",
       "      <td>0</td>\n",
       "      <td>0</td>\n",
       "      <td>0</td>\n",
       "      <td>0</td>\n",
       "      <td>0</td>\n",
       "      <td>...</td>\n",
       "      <td>0</td>\n",
       "      <td>0</td>\n",
       "      <td>0</td>\n",
       "      <td>0</td>\n",
       "      <td>0</td>\n",
       "      <td>0</td>\n",
       "      <td>False</td>\n",
       "      <td>False</td>\n",
       "      <td>False</td>\n",
       "      <td>False</td>\n",
       "    </tr>\n",
       "    <tr>\n",
       "      <th>4</th>\n",
       "      <td>1</td>\n",
       "      <td>0</td>\n",
       "      <td>0</td>\n",
       "      <td>0</td>\n",
       "      <td>0</td>\n",
       "      <td>0</td>\n",
       "      <td>0</td>\n",
       "      <td>0</td>\n",
       "      <td>0</td>\n",
       "      <td>0</td>\n",
       "      <td>...</td>\n",
       "      <td>0</td>\n",
       "      <td>0</td>\n",
       "      <td>0</td>\n",
       "      <td>0</td>\n",
       "      <td>0</td>\n",
       "      <td>0</td>\n",
       "      <td>True</td>\n",
       "      <td>False</td>\n",
       "      <td>False</td>\n",
       "      <td>False</td>\n",
       "    </tr>\n",
       "  </tbody>\n",
       "</table>\n",
       "<p>5 rows × 21 columns</p>\n",
       "</div>"
      ],
      "text/plain": [
       "   sachet_2g_6  sachet_3g_6  monthly_3g_6  monthly_2g_6  sachet_2g_7  \\\n",
       "0            0            0             1             0            0   \n",
       "1            0            0             0             0            0   \n",
       "2            0            0             0             0            0   \n",
       "3            0            0             0             0            0   \n",
       "4            1            0             0             0            0   \n",
       "\n",
       "   sachet_3g_7  monthly_3g_7  monthly_2g_7  sachet_2g_8  sachet_3g_8  \\\n",
       "0            0             1             0            0            0   \n",
       "1            0             0             1            2            0   \n",
       "2            0             0             0            0            0   \n",
       "3            0             0             0            0            0   \n",
       "4            0             0             0            0            0   \n",
       "\n",
       "      ...       monthly_2g_8  sachet_2g_9  sachet_3g_9  monthly_3g_9  \\\n",
       "0     ...                  0            0            0             0   \n",
       "1     ...                  0            0            0             0   \n",
       "2     ...                  0            1            0             0   \n",
       "3     ...                  0            0            0             0   \n",
       "4     ...                  0            0            0             0   \n",
       "\n",
       "   monthly_2g_9  churn  Data_user_6  Data_user_7  Data_user_8  Data_user_9  \n",
       "0             0      0         True         True         True        False  \n",
       "1             0      0        False         True         True        False  \n",
       "2             0      1        False        False        False         True  \n",
       "3             0      0        False        False        False        False  \n",
       "4             0      0         True        False        False        False  \n",
       "\n",
       "[5 rows x 21 columns]"
      ]
     },
     "execution_count": 79,
     "metadata": {},
     "output_type": "execute_result"
    }
   ],
   "source": [
    "data_usage.head()"
   ]
  },
  {
   "cell_type": "code",
   "execution_count": 80,
   "metadata": {},
   "outputs": [
    {
     "name": "stderr",
     "output_type": "stream",
     "text": [
      "C:\\ProgramData\\Anaconda2\\envs\\DS_3_6\\lib\\site-packages\\ipykernel_launcher.py:1: SettingWithCopyWarning: \n",
      "A value is trying to be set on a copy of a slice from a DataFrame.\n",
      "Try using .loc[row_indexer,col_indexer] = value instead\n",
      "\n",
      "See the caveats in the documentation: http://pandas.pydata.org/pandas-docs/stable/indexing.html#indexing-view-versus-copy\n",
      "  \"\"\"Entry point for launching an IPython kernel.\n",
      "C:\\ProgramData\\Anaconda2\\envs\\DS_3_6\\lib\\site-packages\\ipykernel_launcher.py:2: SettingWithCopyWarning: \n",
      "A value is trying to be set on a copy of a slice from a DataFrame.\n",
      "Try using .loc[row_indexer,col_indexer] = value instead\n",
      "\n",
      "See the caveats in the documentation: http://pandas.pydata.org/pandas-docs/stable/indexing.html#indexing-view-versus-copy\n",
      "  \n"
     ]
    }
   ],
   "source": [
    "data_usage['Data_user_goodPhase']=(data_usage['Data_user_6'])|(data_usage['Data_user_7'])\n",
    "data_usage['Data_user_complete']=(data_usage['Data_user_6'])|(data_usage['Data_user_7'])|(data_usage['Data_user_8'])"
   ]
  },
  {
   "cell_type": "code",
   "execution_count": 81,
   "metadata": {
    "scrolled": false
   },
   "outputs": [
    {
     "data": {
      "text/plain": [
       "Text(0.5,1,'Churn -June + July + August')"
      ]
     },
     "execution_count": 81,
     "metadata": {},
     "output_type": "execute_result"
    },
    {
     "data": {
      "image/png": "[encoded data removed]",
      "text/plain": [
       "<Figure size 1440x720 with 4 Axes>"
      ]
     },
     "metadata": {},
     "output_type": "display_data"
    },
    {
     "data": {
      "image/png": "[encoded data removed]",
      "text/plain": [
       "<Figure size 1440x720 with 2 Axes>"
      ]
     },
     "metadata": {},
     "output_type": "display_data"
    }
   ],
   "source": [
    "plt.figure(figsize=(20,10))\n",
    "plt.subplot(2,2,1)\n",
    "sns.countplot(data=data_usage,x='Data_user_6',hue='churn')\n",
    "plt.title('Churn : Data Usage -June')\n",
    "plt.subplot(2,2,2)\n",
    "sns.countplot(data=data_usage,x='Data_user_7',hue='churn')\n",
    "plt.title('Churn : Data Usage -July')\n",
    "plt.subplot(2,2,3)\n",
    "sns.countplot(data=data_usage,x='Data_user_8',hue='churn')\n",
    "plt.title('Churn : Data Usage -August')\n",
    "plt.subplot(2,2,4)\n",
    "sns.countplot(data=data_usage,x='Data_user_9',hue='churn')\n",
    "plt.title('Churn : Data Usage -September')\n",
    "plt.figure(figsize=(20,10))\n",
    "plt.subplot(1,2,1)\n",
    "sns.countplot(data=data_usage,x='Data_user_goodPhase',hue='churn')\n",
    "plt.title('Good Phase Churn -June + July')\n",
    "plt.subplot(1,2,2)\n",
    "sns.countplot(data=data_usage,x='Data_user_complete',hue='churn')\n",
    "plt.title('Churn -June + July + August')"
   ]
  },
  {
   "cell_type": "code",
   "execution_count": 82,
   "metadata": {},
   "outputs": [
    {
     "name": "stderr",
     "output_type": "stream",
     "text": [
      "C:\\ProgramData\\Anaconda2\\envs\\DS_3_6\\lib\\site-packages\\ipykernel_launcher.py:1: SettingWithCopyWarning: \n",
      "A value is trying to be set on a copy of a slice from a DataFrame.\n",
      "Try using .loc[row_indexer,col_indexer] = value instead\n",
      "\n",
      "See the caveats in the documentation: http://pandas.pydata.org/pandas-docs/stable/indexing.html#indexing-view-versus-copy\n",
      "  \"\"\"Entry point for launching an IPython kernel.\n",
      "C:\\ProgramData\\Anaconda2\\envs\\DS_3_6\\lib\\site-packages\\ipykernel_launcher.py:2: SettingWithCopyWarning: \n",
      "A value is trying to be set on a copy of a slice from a DataFrame.\n",
      "Try using .loc[row_indexer,col_indexer] = value instead\n",
      "\n",
      "See the caveats in the documentation: http://pandas.pydata.org/pandas-docs/stable/indexing.html#indexing-view-versus-copy\n",
      "  \n",
      "C:\\ProgramData\\Anaconda2\\envs\\DS_3_6\\lib\\site-packages\\ipykernel_launcher.py:3: SettingWithCopyWarning: \n",
      "A value is trying to be set on a copy of a slice from a DataFrame.\n",
      "Try using .loc[row_indexer,col_indexer] = value instead\n",
      "\n",
      "See the caveats in the documentation: http://pandas.pydata.org/pandas-docs/stable/indexing.html#indexing-view-versus-copy\n",
      "  This is separate from the ipykernel package so we can avoid doing imports until\n",
      "C:\\ProgramData\\Anaconda2\\envs\\DS_3_6\\lib\\site-packages\\ipykernel_launcher.py:4: SettingWithCopyWarning: \n",
      "A value is trying to be set on a copy of a slice from a DataFrame.\n",
      "Try using .loc[row_indexer,col_indexer] = value instead\n",
      "\n",
      "See the caveats in the documentation: http://pandas.pydata.org/pandas-docs/stable/indexing.html#indexing-view-versus-copy\n",
      "  after removing the cwd from sys.path.\n",
      "C:\\ProgramData\\Anaconda2\\envs\\DS_3_6\\lib\\site-packages\\ipykernel_launcher.py:5: SettingWithCopyWarning: \n",
      "A value is trying to be set on a copy of a slice from a DataFrame.\n",
      "Try using .loc[row_indexer,col_indexer] = value instead\n",
      "\n",
      "See the caveats in the documentation: http://pandas.pydata.org/pandas-docs/stable/indexing.html#indexing-view-versus-copy\n",
      "  \"\"\"\n",
      "C:\\ProgramData\\Anaconda2\\envs\\DS_3_6\\lib\\site-packages\\ipykernel_launcher.py:6: SettingWithCopyWarning: \n",
      "A value is trying to be set on a copy of a slice from a DataFrame.\n",
      "Try using .loc[row_indexer,col_indexer] = value instead\n",
      "\n",
      "See the caveats in the documentation: http://pandas.pydata.org/pandas-docs/stable/indexing.html#indexing-view-versus-copy\n",
      "  \n"
     ]
    }
   ],
   "source": [
    "data_usage['Data_user_6']=data_usage['Data_user_6'].replace({True:1,False:0})\n",
    "data_usage['Data_user_7']=data_usage['Data_user_7'].replace({True:1,False:0})\n",
    "data_usage['Data_user_8']=data_usage['Data_user_8'].replace({True:1,False:0})\n",
    "data_usage['Data_user_9']=data_usage['Data_user_9'].replace({True:1,False:0})\n",
    "data_usage['Data_user_goodPhase']=data_usage['Data_user_goodPhase'].replace({True:1,False:0})\n",
    "data_usage['Data_user_complete']=data_usage['Data_user_complete'].replace({True:1,False:0})"
   ]
  },
  {
   "cell_type": "code",
   "execution_count": 83,
   "metadata": {},
   "outputs": [
    {
     "data": {
      "text/plain": [
       "['date_of_last_rech_data_6',\n",
       " 'date_of_last_rech_data_7',\n",
       " 'date_of_last_rech_data_8',\n",
       " 'date_of_last_rech_data_9',\n",
       " 'date_of_last_rech_6',\n",
       " 'date_of_last_rech_7',\n",
       " 'date_of_last_rech_8',\n",
       " 'date_of_last_rech_9',\n",
       " 'sachet_2g_6',\n",
       " 'sachet_3g_6',\n",
       " 'monthly_3g_6',\n",
       " 'monthly_2g_6',\n",
       " 'sachet_2g_7',\n",
       " 'sachet_3g_7',\n",
       " 'monthly_3g_7',\n",
       " 'monthly_2g_7',\n",
       " 'sachet_2g_8',\n",
       " 'sachet_3g_8',\n",
       " 'monthly_3g_8',\n",
       " 'monthly_2g_8',\n",
       " 'sachet_2g_9',\n",
       " 'sachet_3g_9',\n",
       " 'monthly_3g_9',\n",
       " 'monthly_2g_9']"
      ]
     },
     "execution_count": 83,
     "metadata": {},
     "output_type": "execute_result"
    }
   ],
   "source": [
    "drop_col.extend(data_cols)\n",
    "drop_col"
   ]
  },
  {
   "cell_type": "code",
   "execution_count": 84,
   "metadata": {},
   "outputs": [
    {
     "data": {
      "text/html": [
       "<div>\n",
       "<style scoped>\n",
       "    .dataframe tbody tr th:only-of-type {\n",
       "        vertical-align: middle;\n",
       "    }\n",
       "\n",
       "    .dataframe tbody tr th {\n",
       "        vertical-align: top;\n",
       "    }\n",
       "\n",
       "    .dataframe thead th {\n",
       "        text-align: right;\n",
       "    }\n",
       "</style>\n",
       "<table border=\"1\" class=\"dataframe\">\n",
       "  <thead>\n",
       "    <tr style=\"text-align: right;\">\n",
       "      <th></th>\n",
       "      <th>Month 6</th>\n",
       "      <th>Month 7</th>\n",
       "      <th>Month 8</th>\n",
       "      <th>Month 9</th>\n",
       "      <th>Common</th>\n",
       "      <th>Total</th>\n",
       "    </tr>\n",
       "  </thead>\n",
       "  <tbody>\n",
       "    <tr>\n",
       "      <th>Non-Numeric</th>\n",
       "      <td>2</td>\n",
       "      <td>2</td>\n",
       "      <td>2</td>\n",
       "      <td>2</td>\n",
       "      <td>0</td>\n",
       "      <td>8</td>\n",
       "    </tr>\n",
       "    <tr>\n",
       "      <th>Numeric</th>\n",
       "      <td>52</td>\n",
       "      <td>52</td>\n",
       "      <td>52</td>\n",
       "      <td>52</td>\n",
       "      <td>5</td>\n",
       "      <td>213</td>\n",
       "    </tr>\n",
       "  </tbody>\n",
       "</table>\n",
       "</div>"
      ],
      "text/plain": [
       "             Month 6  Month 7  Month 8  Month 9  Common  Total\n",
       "Non-Numeric        2        2        2        2       0      8\n",
       "Numeric           52       52       52       52       5    213"
      ]
     },
     "execution_count": 84,
     "metadata": {},
     "output_type": "execute_result"
    }
   ],
   "source": [
    "telecom_df_base=pd.concat([telecom_df_base,data_usage[['Data_user_6','Data_user_7','Data_user_8','Data_user_9','Data_user_goodPhase','Data_user_complete']]],axis=1)\n",
    "data_set_structure(telecom_df_base)"
   ]
  },
  {
   "cell_type": "code",
   "execution_count": 85,
   "metadata": {},
   "outputs": [
    {
     "name": "stdout",
     "output_type": "stream",
     "text": [
      "(99999, 221)\n"
     ]
    }
   ],
   "source": [
    "print(telecom_df_base.shape)"
   ]
  },
  {
   "cell_type": "markdown",
   "metadata": {},
   "source": [
    "##### Facebook Users"
   ]
  },
  {
   "cell_type": "code",
   "execution_count": 86,
   "metadata": {},
   "outputs": [],
   "source": [
    "#telecom_df_base[['fb_user_6','fb_user_7','fb_user_8']]"
   ]
  },
  {
   "cell_type": "code",
   "execution_count": 87,
   "metadata": {},
   "outputs": [
    {
     "data": {
      "text/plain": [
       "count_rech_3g_6    74.85\n",
       "count_rech_2g_6    74.85\n",
       "count_rech_3g_7    74.43\n",
       "count_rech_2g_7    74.43\n",
       "count_rech_3g_9    74.08\n",
       "count_rech_2g_9    74.08\n",
       "count_rech_3g_8    73.66\n",
       "count_rech_2g_8    73.66\n",
       "max_rech_data_9     0.00\n",
       "max_rech_data_8     0.00\n",
       "max_rech_data_7     0.00\n",
       "max_rech_data_6     0.00\n",
       "dtype: float64"
      ]
     },
     "execution_count": 87,
     "metadata": {},
     "output_type": "execute_result"
    }
   ],
   "source": [
    "null_na_estimator_grph(telecom_df_base[['count_rech_2g_6','count_rech_2g_7','count_rech_2g_8','count_rech_2g_9','count_rech_3g_6','count_rech_3g_7','count_rech_3g_8','count_rech_3g_9','max_rech_data_6','max_rech_data_7','max_rech_data_8','max_rech_data_9']],limit_val=0)"
   ]
  },
  {
   "cell_type": "code",
   "execution_count": 88,
   "metadata": {},
   "outputs": [],
   "source": [
    "mrd_7=pd.DataFrame(telecom_df_base.groupby(['max_rech_data_7'])['churn'].count())\n",
    "mrd_6=pd.DataFrame(telecom_df_base.groupby(['max_rech_data_6'])['churn'].count())\n",
    "mrd_8=pd.DataFrame(telecom_df_base.groupby(['max_rech_data_8'])['churn'].count())"
   ]
  },
  {
   "cell_type": "code",
   "execution_count": 89,
   "metadata": {},
   "outputs": [],
   "source": [
    "mrd_7.reset_index(inplace=True)\n",
    "mrd_7.rename(columns={'max_rech_data_7':'Data_Plans','churn':'bought'},inplace=True)\n",
    "mrd_8.reset_index(inplace=True)\n",
    "mrd_8.rename(columns={'max_rech_data_8':'Data_Plans','churn':'bought'},inplace=True)\n",
    "mrd_6.reset_index(inplace=True)\n",
    "mrd_6.rename(columns={'max_rech_data_6':'Data_Plans','churn':'bought'},inplace=True)\n",
    "merged_mrd=pd.concat([mrd_6,mrd_7,mrd_8],axis=0)\n",
    "data_plan_popularity=pd.DataFrame(merged_mrd.groupby('Data_Plans')['bought'].sum())"
   ]
  },
  {
   "cell_type": "code",
   "execution_count": 90,
   "metadata": {},
   "outputs": [],
   "source": [
    "data_plan_popularity.reset_index(inplace=True)"
   ]
  },
  {
   "cell_type": "code",
   "execution_count": 91,
   "metadata": {},
   "outputs": [
    {
     "data": {
      "text/plain": [
       "(array([ 0,  1,  2,  3,  4,  5,  6,  7,  8,  9, 10, 11, 12, 13, 14, 15, 16,\n",
       "        17, 18, 19, 20, 21, 22, 23, 24, 25, 26, 27, 28, 29, 30, 31, 32, 33,\n",
       "        34, 35, 36, 37, 38, 39, 40, 41, 42, 43, 44, 45, 46, 47, 48, 49, 50,\n",
       "        51, 52]), <a list of 53 Text xticklabel objects>)"
      ]
     },
     "execution_count": 91,
     "metadata": {},
     "output_type": "execute_result"
    },
    {
     "data": {
      "image/png": "[encoded data removed]",
      "text/plain": [
       "<Figure size 1080x504 with 1 Axes>"
      ]
     },
     "metadata": {},
     "output_type": "display_data"
    }
   ],
   "source": [
    "from sklearn.preprocessing import scale\n",
    "#print(scale(data_plan_popularity['bought'],axis=0))\n",
    "data_plan_popularity.sort_values(by='Data_Plans',inplace=True,ascending=True)\n",
    "plt.figure(figsize=(15,7))\n",
    "sns.barplot(data_plan_popularity['Data_Plans'][1:],data_plan_popularity['bought'][1:])\n",
    "plt.title('Data Plans popularity')\n",
    "plt.xticks(rotation=90)"
   ]
  },
  {
   "cell_type": "code",
   "execution_count": 92,
   "metadata": {},
   "outputs": [
    {
     "data": {
      "text/html": [
       "<div>\n",
       "<style scoped>\n",
       "    .dataframe tbody tr th:only-of-type {\n",
       "        vertical-align: middle;\n",
       "    }\n",
       "\n",
       "    .dataframe tbody tr th {\n",
       "        vertical-align: top;\n",
       "    }\n",
       "\n",
       "    .dataframe thead th {\n",
       "        text-align: right;\n",
       "    }\n",
       "</style>\n",
       "<table border=\"1\" class=\"dataframe\">\n",
       "  <thead>\n",
       "    <tr style=\"text-align: right;\">\n",
       "      <th></th>\n",
       "      <th>Data_Plans</th>\n",
       "      <th>bought</th>\n",
       "    </tr>\n",
       "  </thead>\n",
       "  <tbody>\n",
       "    <tr>\n",
       "      <th>0</th>\n",
       "      <td>0.0</td>\n",
       "      <td>222934</td>\n",
       "    </tr>\n",
       "  </tbody>\n",
       "</table>\n",
       "</div>"
      ],
      "text/plain": [
       "   Data_Plans  bought\n",
       "0         0.0  222934"
      ]
     },
     "execution_count": 92,
     "metadata": {},
     "output_type": "execute_result"
    }
   ],
   "source": [
    "data_plan_popularity[data_plan_popularity['Data_Plans']==0.0]"
   ]
  },
  {
   "cell_type": "code",
   "execution_count": 93,
   "metadata": {},
   "outputs": [],
   "source": [
    "# We can see that many of the data is missing in the columns and for max_data_* columns 0 is having maximum value\n",
    "# as we can't determine if this is as part of base plan data is given or not\n",
    "# We should consider dropping variable 'count_rech_2g_6','count_rech_2g_7','count_rech_2g_8','count_rech_2g_9','count_rech_3g_6','count_rech_3g_7','count_rech_3g_8','count_rech_3g_9'\n",
    "# and leave columns 'max_rech_data_6','max_rech_data_7','max_rech_data_8','max_rech_data_9'\n",
    "drop_col.extend(['count_rech_2g_6','count_rech_2g_7','count_rech_2g_8','count_rech_2g_9','count_rech_3g_6','count_rech_3g_7','count_rech_3g_8','count_rech_3g_9'])"
   ]
  },
  {
   "cell_type": "code",
   "execution_count": 94,
   "metadata": {},
   "outputs": [
    {
     "data": {
      "text/html": [
       "<div>\n",
       "<style scoped>\n",
       "    .dataframe tbody tr th:only-of-type {\n",
       "        vertical-align: middle;\n",
       "    }\n",
       "\n",
       "    .dataframe tbody tr th {\n",
       "        vertical-align: top;\n",
       "    }\n",
       "\n",
       "    .dataframe thead th {\n",
       "        text-align: right;\n",
       "    }\n",
       "</style>\n",
       "<table border=\"1\" class=\"dataframe\">\n",
       "  <thead>\n",
       "    <tr style=\"text-align: right;\">\n",
       "      <th></th>\n",
       "      <th>count</th>\n",
       "      <th>var</th>\n",
       "    </tr>\n",
       "  </thead>\n",
       "  <tbody>\n",
       "    <tr>\n",
       "      <th>0</th>\n",
       "      <td>2451</td>\n",
       "      <td>std_og_t2f_mou_6</td>\n",
       "    </tr>\n",
       "    <tr>\n",
       "      <th>1</th>\n",
       "      <td>5845</td>\n",
       "      <td>isd_ic_mou_8</td>\n",
       "    </tr>\n",
       "    <tr>\n",
       "      <th>2</th>\n",
       "      <td>40074</td>\n",
       "      <td>total_og_mou_8</td>\n",
       "    </tr>\n",
       "    <tr>\n",
       "      <th>3</th>\n",
       "      <td>27698</td>\n",
       "      <td>loc_ic_mou_9</td>\n",
       "    </tr>\n",
       "    <tr>\n",
       "      <th>4</th>\n",
       "      <td>51</td>\n",
       "      <td>max_rech_data_8</td>\n",
       "    </tr>\n",
       "    <tr>\n",
       "      <th>5</th>\n",
       "      <td>20019</td>\n",
       "      <td>std_og_t2m_mou_7</td>\n",
       "    </tr>\n",
       "    <tr>\n",
       "      <th>6</th>\n",
       "      <td>27952</td>\n",
       "      <td>std_og_mou_7</td>\n",
       "    </tr>\n",
       "    <tr>\n",
       "      <th>7</th>\n",
       "      <td>8064</td>\n",
       "      <td>arpu_3g_9</td>\n",
       "    </tr>\n",
       "    <tr>\n",
       "      <th>8</th>\n",
       "      <td>3966</td>\n",
       "      <td>spl_og_mou_6</td>\n",
       "    </tr>\n",
       "    <tr>\n",
       "      <th>9</th>\n",
       "      <td>20545</td>\n",
       "      <td>loc_og_t2m_mou_8</td>\n",
       "    </tr>\n",
       "    <tr>\n",
       "      <th>10</th>\n",
       "      <td>26554</td>\n",
       "      <td>std_og_mou_9</td>\n",
       "    </tr>\n",
       "    <tr>\n",
       "      <th>11</th>\n",
       "      <td>3489</td>\n",
       "      <td>aon</td>\n",
       "    </tr>\n",
       "    <tr>\n",
       "      <th>12</th>\n",
       "      <td>31</td>\n",
       "      <td>rech_day_9</td>\n",
       "    </tr>\n",
       "    <tr>\n",
       "      <th>13</th>\n",
       "      <td>14676</td>\n",
       "      <td>vbc_3g_8</td>\n",
       "    </tr>\n",
       "    <tr>\n",
       "      <th>14</th>\n",
       "      <td>13412</td>\n",
       "      <td>loc_og_t2t_mou_7</td>\n",
       "    </tr>\n",
       "    <tr>\n",
       "      <th>15</th>\n",
       "      <td>18568</td>\n",
       "      <td>std_og_t2t_mou_7</td>\n",
       "    </tr>\n",
       "    <tr>\n",
       "      <th>16</th>\n",
       "      <td>185</td>\n",
       "      <td>last_day_rch_amt_9</td>\n",
       "    </tr>\n",
       "    <tr>\n",
       "      <th>17</th>\n",
       "      <td>2333</td>\n",
       "      <td>loc_og_t2c_mou_9</td>\n",
       "    </tr>\n",
       "    <tr>\n",
       "      <th>18</th>\n",
       "      <td>17935</td>\n",
       "      <td>std_og_t2t_mou_9</td>\n",
       "    </tr>\n",
       "    <tr>\n",
       "      <th>19</th>\n",
       "      <td>22066</td>\n",
       "      <td>loc_ic_t2m_mou_6</td>\n",
       "    </tr>\n",
       "    <tr>\n",
       "      <th>20</th>\n",
       "      <td>8039</td>\n",
       "      <td>roam_og_mou_6</td>\n",
       "    </tr>\n",
       "    <tr>\n",
       "      <th>21</th>\n",
       "      <td>5558</td>\n",
       "      <td>isd_ic_mou_9</td>\n",
       "    </tr>\n",
       "    <tr>\n",
       "      <th>22</th>\n",
       "      <td>24337</td>\n",
       "      <td>onnet_mou_7</td>\n",
       "    </tr>\n",
       "    <tr>\n",
       "      <th>23</th>\n",
       "      <td>5316</td>\n",
       "      <td>roam_ic_mou_8</td>\n",
       "    </tr>\n",
       "    <tr>\n",
       "      <th>24</th>\n",
       "      <td>2305</td>\n",
       "      <td>total_rech_amt_6</td>\n",
       "    </tr>\n",
       "    <tr>\n",
       "      <th>25</th>\n",
       "      <td>32</td>\n",
       "      <td>rech_day_8</td>\n",
       "    </tr>\n",
       "    <tr>\n",
       "      <th>26</th>\n",
       "      <td>19787</td>\n",
       "      <td>std_og_t2m_mou_8</td>\n",
       "    </tr>\n",
       "    <tr>\n",
       "      <th>27</th>\n",
       "      <td>25377</td>\n",
       "      <td>loc_og_mou_9</td>\n",
       "    </tr>\n",
       "    <tr>\n",
       "      <th>28</th>\n",
       "      <td>217</td>\n",
       "      <td>og_others_8</td>\n",
       "    </tr>\n",
       "    <tr>\n",
       "      <th>29</th>\n",
       "      <td>11267</td>\n",
       "      <td>std_ic_mou_9</td>\n",
       "    </tr>\n",
       "    <tr>\n",
       "      <th>...</th>\n",
       "      <td>...</td>\n",
       "      <td>...</td>\n",
       "    </tr>\n",
       "    <tr>\n",
       "      <th>159</th>\n",
       "      <td>3</td>\n",
       "      <td>night_pck_user_7</td>\n",
       "    </tr>\n",
       "    <tr>\n",
       "      <th>160</th>\n",
       "      <td>3052</td>\n",
       "      <td>std_ic_t2f_mou_8</td>\n",
       "    </tr>\n",
       "    <tr>\n",
       "      <th>161</th>\n",
       "      <td>18292</td>\n",
       "      <td>std_og_t2t_mou_8</td>\n",
       "    </tr>\n",
       "    <tr>\n",
       "      <th>162</th>\n",
       "      <td>2003</td>\n",
       "      <td>ic_others_7</td>\n",
       "    </tr>\n",
       "    <tr>\n",
       "      <th>163</th>\n",
       "      <td>2</td>\n",
       "      <td>Data_user_goodPhase</td>\n",
       "    </tr>\n",
       "    <tr>\n",
       "      <th>164</th>\n",
       "      <td>6640</td>\n",
       "      <td>roam_og_mou_7</td>\n",
       "    </tr>\n",
       "    <tr>\n",
       "      <th>165</th>\n",
       "      <td>1019</td>\n",
       "      <td>og_others_6</td>\n",
       "    </tr>\n",
       "    <tr>\n",
       "      <th>166</th>\n",
       "      <td>9305</td>\n",
       "      <td>std_ic_t2m_mou_8</td>\n",
       "    </tr>\n",
       "    <tr>\n",
       "      <th>167</th>\n",
       "      <td>18245</td>\n",
       "      <td>std_og_t2t_mou_6</td>\n",
       "    </tr>\n",
       "    <tr>\n",
       "      <th>168</th>\n",
       "      <td>13337</td>\n",
       "      <td>loc_og_t2t_mou_8</td>\n",
       "    </tr>\n",
       "    <tr>\n",
       "      <th>169</th>\n",
       "      <td>30909</td>\n",
       "      <td>offnet_mou_8</td>\n",
       "    </tr>\n",
       "    <tr>\n",
       "      <th>170</th>\n",
       "      <td>85</td>\n",
       "      <td>spl_ic_mou_6</td>\n",
       "    </tr>\n",
       "    <tr>\n",
       "      <th>171</th>\n",
       "      <td>9465</td>\n",
       "      <td>std_ic_t2m_mou_7</td>\n",
       "    </tr>\n",
       "    <tr>\n",
       "      <th>172</th>\n",
       "      <td>6482</td>\n",
       "      <td>std_ic_t2t_mou_7</td>\n",
       "    </tr>\n",
       "    <tr>\n",
       "      <th>173</th>\n",
       "      <td>6587</td>\n",
       "      <td>arpu_2g_7</td>\n",
       "    </tr>\n",
       "    <tr>\n",
       "      <th>174</th>\n",
       "      <td>7247</td>\n",
       "      <td>arpu_3g_7</td>\n",
       "    </tr>\n",
       "    <tr>\n",
       "      <th>175</th>\n",
       "      <td>946</td>\n",
       "      <td>av_rech_amt_data_9</td>\n",
       "    </tr>\n",
       "    <tr>\n",
       "      <th>176</th>\n",
       "      <td>213</td>\n",
       "      <td>max_rech_amt_8</td>\n",
       "    </tr>\n",
       "    <tr>\n",
       "      <th>177</th>\n",
       "      <td>102</td>\n",
       "      <td>total_rech_num_6</td>\n",
       "    </tr>\n",
       "    <tr>\n",
       "      <th>178</th>\n",
       "      <td>13773</td>\n",
       "      <td>vol_3g_mb_6</td>\n",
       "    </tr>\n",
       "    <tr>\n",
       "      <th>179</th>\n",
       "      <td>5883</td>\n",
       "      <td>roam_og_mou_9</td>\n",
       "    </tr>\n",
       "    <tr>\n",
       "      <th>180</th>\n",
       "      <td>7396</td>\n",
       "      <td>loc_ic_t2f_mou_7</td>\n",
       "    </tr>\n",
       "    <tr>\n",
       "      <th>181</th>\n",
       "      <td>9309</td>\n",
       "      <td>std_ic_t2m_mou_6</td>\n",
       "    </tr>\n",
       "    <tr>\n",
       "      <th>182</th>\n",
       "      <td>30078</td>\n",
       "      <td>offnet_mou_9</td>\n",
       "    </tr>\n",
       "    <tr>\n",
       "      <th>183</th>\n",
       "      <td>3861</td>\n",
       "      <td>loc_og_t2f_mou_6</td>\n",
       "    </tr>\n",
       "    <tr>\n",
       "      <th>184</th>\n",
       "      <td>13312</td>\n",
       "      <td>vbc_3g_6</td>\n",
       "    </tr>\n",
       "    <tr>\n",
       "      <th>185</th>\n",
       "      <td>1924</td>\n",
       "      <td>ic_others_9</td>\n",
       "    </tr>\n",
       "    <tr>\n",
       "      <th>186</th>\n",
       "      <td>2</td>\n",
       "      <td>Data_user_7</td>\n",
       "    </tr>\n",
       "    <tr>\n",
       "      <th>187</th>\n",
       "      <td>99999</td>\n",
       "      <td>mobile_number</td>\n",
       "    </tr>\n",
       "    <tr>\n",
       "      <th>188</th>\n",
       "      <td>3</td>\n",
       "      <td>night_pck_user_9</td>\n",
       "    </tr>\n",
       "  </tbody>\n",
       "</table>\n",
       "<p>189 rows × 2 columns</p>\n",
       "</div>"
      ],
      "text/plain": [
       "     count                  var\n",
       "0     2451     std_og_t2f_mou_6\n",
       "1     5845         isd_ic_mou_8\n",
       "2    40074       total_og_mou_8\n",
       "3    27698         loc_ic_mou_9\n",
       "4       51      max_rech_data_8\n",
       "5    20019     std_og_t2m_mou_7\n",
       "6    27952         std_og_mou_7\n",
       "7     8064            arpu_3g_9\n",
       "8     3966         spl_og_mou_6\n",
       "9    20545     loc_og_t2m_mou_8\n",
       "10   26554         std_og_mou_9\n",
       "11    3489                  aon\n",
       "12      31           rech_day_9\n",
       "13   14676             vbc_3g_8\n",
       "14   13412     loc_og_t2t_mou_7\n",
       "15   18568     std_og_t2t_mou_7\n",
       "16     185   last_day_rch_amt_9\n",
       "17    2333     loc_og_t2c_mou_9\n",
       "18   17935     std_og_t2t_mou_9\n",
       "19   22066     loc_ic_t2m_mou_6\n",
       "20    8039        roam_og_mou_6\n",
       "21    5558         isd_ic_mou_9\n",
       "22   24337          onnet_mou_7\n",
       "23    5316        roam_ic_mou_8\n",
       "24    2305     total_rech_amt_6\n",
       "25      32           rech_day_8\n",
       "26   19787     std_og_t2m_mou_8\n",
       "27   25377         loc_og_mou_9\n",
       "28     217          og_others_8\n",
       "29   11267         std_ic_mou_9\n",
       "..     ...                  ...\n",
       "159      3     night_pck_user_7\n",
       "160   3052     std_ic_t2f_mou_8\n",
       "161  18292     std_og_t2t_mou_8\n",
       "162   2003          ic_others_7\n",
       "163      2  Data_user_goodPhase\n",
       "164   6640        roam_og_mou_7\n",
       "165   1019          og_others_6\n",
       "166   9305     std_ic_t2m_mou_8\n",
       "167  18245     std_og_t2t_mou_6\n",
       "168  13337     loc_og_t2t_mou_8\n",
       "169  30909         offnet_mou_8\n",
       "170     85         spl_ic_mou_6\n",
       "171   9465     std_ic_t2m_mou_7\n",
       "172   6482     std_ic_t2t_mou_7\n",
       "173   6587            arpu_2g_7\n",
       "174   7247            arpu_3g_7\n",
       "175    946   av_rech_amt_data_9\n",
       "176    213       max_rech_amt_8\n",
       "177    102     total_rech_num_6\n",
       "178  13773          vol_3g_mb_6\n",
       "179   5883        roam_og_mou_9\n",
       "180   7396     loc_ic_t2f_mou_7\n",
       "181   9309     std_ic_t2m_mou_6\n",
       "182  30078         offnet_mou_9\n",
       "183   3861     loc_og_t2f_mou_6\n",
       "184  13312             vbc_3g_6\n",
       "185   1924          ic_others_9\n",
       "186      2          Data_user_7\n",
       "187  99999        mobile_number\n",
       "188      3     night_pck_user_9\n",
       "\n",
       "[189 rows x 2 columns]"
      ]
     },
     "execution_count": 94,
     "metadata": {},
     "output_type": "execute_result"
    }
   ],
   "source": [
    "val_variance_estimator(telecom_df_base.drop(drop_col,axis=1))"
   ]
  },
  {
   "cell_type": "code",
   "execution_count": 95,
   "metadata": {},
   "outputs": [
    {
     "data": {
      "text/plain": [
       "['aon',\n",
       " 'arpu_2g_6',\n",
       " 'arpu_2g_7',\n",
       " 'arpu_2g_8',\n",
       " 'arpu_2g_9',\n",
       " 'arpu_3g_6',\n",
       " 'arpu_3g_7',\n",
       " 'arpu_3g_8',\n",
       " 'arpu_3g_9',\n",
       " 'arpu_6',\n",
       " 'arpu_7',\n",
       " 'arpu_8',\n",
       " 'arpu_9',\n",
       " 'av_rech_amt_data_6',\n",
       " 'av_rech_amt_data_7',\n",
       " 'av_rech_amt_data_8',\n",
       " 'av_rech_amt_data_9',\n",
       " 'circle_id',\n",
       " 'count_rech_2g_6',\n",
       " 'count_rech_2g_7',\n",
       " 'count_rech_2g_8',\n",
       " 'count_rech_2g_9',\n",
       " 'count_rech_3g_6',\n",
       " 'count_rech_3g_7',\n",
       " 'count_rech_3g_8',\n",
       " 'count_rech_3g_9',\n",
       " 'fb_user_6',\n",
       " 'fb_user_7',\n",
       " 'fb_user_8',\n",
       " 'fb_user_9',\n",
       " 'ic_others_6',\n",
       " 'ic_others_7',\n",
       " 'ic_others_8',\n",
       " 'ic_others_9',\n",
       " 'isd_ic_mou_6',\n",
       " 'isd_ic_mou_7',\n",
       " 'isd_ic_mou_8',\n",
       " 'isd_ic_mou_9',\n",
       " 'isd_og_mou_6',\n",
       " 'isd_og_mou_7',\n",
       " 'isd_og_mou_8',\n",
       " 'isd_og_mou_9',\n",
       " 'last_day_rch_amt_6',\n",
       " 'last_day_rch_amt_7',\n",
       " 'last_day_rch_amt_8',\n",
       " 'last_day_rch_amt_9',\n",
       " 'loc_ic_mou_6',\n",
       " 'loc_ic_mou_7',\n",
       " 'loc_ic_mou_8',\n",
       " 'loc_ic_mou_9',\n",
       " 'loc_ic_t2f_mou_6',\n",
       " 'loc_ic_t2f_mou_7',\n",
       " 'loc_ic_t2f_mou_8',\n",
       " 'loc_ic_t2f_mou_9',\n",
       " 'loc_ic_t2m_mou_6',\n",
       " 'loc_ic_t2m_mou_7',\n",
       " 'loc_ic_t2m_mou_8',\n",
       " 'loc_ic_t2m_mou_9',\n",
       " 'loc_ic_t2o_mou',\n",
       " 'loc_ic_t2t_mou_6',\n",
       " 'loc_ic_t2t_mou_7',\n",
       " 'loc_ic_t2t_mou_8',\n",
       " 'loc_ic_t2t_mou_9',\n",
       " 'loc_og_mou_6',\n",
       " 'loc_og_mou_7',\n",
       " 'loc_og_mou_8',\n",
       " 'loc_og_mou_9',\n",
       " 'loc_og_t2c_mou_6',\n",
       " 'loc_og_t2c_mou_7',\n",
       " 'loc_og_t2c_mou_8',\n",
       " 'loc_og_t2c_mou_9',\n",
       " 'loc_og_t2f_mou_6',\n",
       " 'loc_og_t2f_mou_7',\n",
       " 'loc_og_t2f_mou_8',\n",
       " 'loc_og_t2f_mou_9',\n",
       " 'loc_og_t2m_mou_6',\n",
       " 'loc_og_t2m_mou_7',\n",
       " 'loc_og_t2m_mou_8',\n",
       " 'loc_og_t2m_mou_9',\n",
       " 'loc_og_t2o_mou',\n",
       " 'loc_og_t2t_mou_6',\n",
       " 'loc_og_t2t_mou_7',\n",
       " 'loc_og_t2t_mou_8',\n",
       " 'loc_og_t2t_mou_9',\n",
       " 'max_rech_amt_6',\n",
       " 'max_rech_amt_7',\n",
       " 'max_rech_amt_8',\n",
       " 'max_rech_amt_9',\n",
       " 'max_rech_data_6',\n",
       " 'max_rech_data_7',\n",
       " 'max_rech_data_8',\n",
       " 'max_rech_data_9',\n",
       " 'mobile_number',\n",
       " 'monthly_2g_6',\n",
       " 'monthly_2g_7',\n",
       " 'monthly_2g_8',\n",
       " 'monthly_2g_9',\n",
       " 'monthly_3g_6',\n",
       " 'monthly_3g_7',\n",
       " 'monthly_3g_8',\n",
       " 'monthly_3g_9',\n",
       " 'night_pck_user_6',\n",
       " 'night_pck_user_7',\n",
       " 'night_pck_user_8',\n",
       " 'night_pck_user_9',\n",
       " 'offnet_mou_6',\n",
       " 'offnet_mou_7',\n",
       " 'offnet_mou_8',\n",
       " 'offnet_mou_9',\n",
       " 'og_others_6',\n",
       " 'og_others_7',\n",
       " 'og_others_8',\n",
       " 'og_others_9',\n",
       " 'onnet_mou_6',\n",
       " 'onnet_mou_7',\n",
       " 'onnet_mou_8',\n",
       " 'onnet_mou_9',\n",
       " 'roam_ic_mou_6',\n",
       " 'roam_ic_mou_7',\n",
       " 'roam_ic_mou_8',\n",
       " 'roam_ic_mou_9',\n",
       " 'roam_og_mou_6',\n",
       " 'roam_og_mou_7',\n",
       " 'roam_og_mou_8',\n",
       " 'roam_og_mou_9',\n",
       " 'sachet_2g_6',\n",
       " 'sachet_2g_7',\n",
       " 'sachet_2g_8',\n",
       " 'sachet_2g_9',\n",
       " 'sachet_3g_6',\n",
       " 'sachet_3g_7',\n",
       " 'sachet_3g_8',\n",
       " 'sachet_3g_9',\n",
       " 'spl_ic_mou_6',\n",
       " 'spl_ic_mou_7',\n",
       " 'spl_ic_mou_8',\n",
       " 'spl_ic_mou_9',\n",
       " 'spl_og_mou_6',\n",
       " 'spl_og_mou_7',\n",
       " 'spl_og_mou_8',\n",
       " 'spl_og_mou_9',\n",
       " 'std_ic_mou_6',\n",
       " 'std_ic_mou_7',\n",
       " 'std_ic_mou_8',\n",
       " 'std_ic_mou_9',\n",
       " 'std_ic_t2f_mou_6',\n",
       " 'std_ic_t2f_mou_7',\n",
       " 'std_ic_t2f_mou_8',\n",
       " 'std_ic_t2f_mou_9',\n",
       " 'std_ic_t2m_mou_6',\n",
       " 'std_ic_t2m_mou_7',\n",
       " 'std_ic_t2m_mou_8',\n",
       " 'std_ic_t2m_mou_9',\n",
       " 'std_ic_t2o_mou_6',\n",
       " 'std_ic_t2o_mou_7',\n",
       " 'std_ic_t2o_mou_8',\n",
       " 'std_ic_t2o_mou_9',\n",
       " 'std_ic_t2t_mou_6',\n",
       " 'std_ic_t2t_mou_7',\n",
       " 'std_ic_t2t_mou_8',\n",
       " 'std_ic_t2t_mou_9',\n",
       " 'std_og_mou_6',\n",
       " 'std_og_mou_7',\n",
       " 'std_og_mou_8',\n",
       " 'std_og_mou_9',\n",
       " 'std_og_t2c_mou_6',\n",
       " 'std_og_t2c_mou_7',\n",
       " 'std_og_t2c_mou_8',\n",
       " 'std_og_t2c_mou_9',\n",
       " 'std_og_t2f_mou_6',\n",
       " 'std_og_t2f_mou_7',\n",
       " 'std_og_t2f_mou_8',\n",
       " 'std_og_t2f_mou_9',\n",
       " 'std_og_t2m_mou_6',\n",
       " 'std_og_t2m_mou_7',\n",
       " 'std_og_t2m_mou_8',\n",
       " 'std_og_t2m_mou_9',\n",
       " 'std_og_t2o_mou',\n",
       " 'std_og_t2t_mou_6',\n",
       " 'std_og_t2t_mou_7',\n",
       " 'std_og_t2t_mou_8',\n",
       " 'std_og_t2t_mou_9',\n",
       " 'total_ic_mou_6',\n",
       " 'total_ic_mou_7',\n",
       " 'total_ic_mou_8',\n",
       " 'total_ic_mou_9',\n",
       " 'total_og_mou_6',\n",
       " 'total_og_mou_7',\n",
       " 'total_og_mou_8',\n",
       " 'total_og_mou_9',\n",
       " 'total_rech_amt_6',\n",
       " 'total_rech_amt_7',\n",
       " 'total_rech_amt_8',\n",
       " 'total_rech_amt_9',\n",
       " 'total_rech_data_6',\n",
       " 'total_rech_data_7',\n",
       " 'total_rech_data_8',\n",
       " 'total_rech_data_9',\n",
       " 'total_rech_num_6',\n",
       " 'total_rech_num_7',\n",
       " 'total_rech_num_8',\n",
       " 'total_rech_num_9',\n",
       " 'vbc_3g_6',\n",
       " 'vbc_3g_7',\n",
       " 'vbc_3g_8',\n",
       " 'vbc_3g_9',\n",
       " 'vol_2g_mb_6',\n",
       " 'vol_2g_mb_7',\n",
       " 'vol_2g_mb_8',\n",
       " 'vol_2g_mb_9',\n",
       " 'vol_3g_mb_6',\n",
       " 'vol_3g_mb_7',\n",
       " 'vol_3g_mb_8',\n",
       " 'vol_3g_mb_9']"
      ]
     },
     "execution_count": 95,
     "metadata": {},
     "output_type": "execute_result"
    }
   ],
   "source": [
    "num_col"
   ]
  },
  {
   "cell_type": "markdown",
   "metadata": {},
   "source": [
    "#### Average Revenue"
   ]
  },
  {
   "cell_type": "code",
   "execution_count": 96,
   "metadata": {},
   "outputs": [],
   "source": [
    "average_revenue_cols=['arpu_2g_6','arpu_3g_6','arpu_6',\n",
    "                      'arpu_2g_7','arpu_3g_7','arpu_7',\n",
    "                      'arpu_2g_8', 'arpu_3g_8','arpu_8',\n",
    "                      'arpu_2g_9', 'arpu_3g_9','arpu_9']"
   ]
  },
  {
   "cell_type": "code",
   "execution_count": 97,
   "metadata": {},
   "outputs": [
    {
     "name": "stdout",
     "output_type": "stream",
     "text": [
      "arpu_2g_6    74846\n",
      "arpu_3g_6    74846\n",
      "arpu_6           0\n",
      "arpu_2g_7    74428\n",
      "arpu_3g_7    74428\n",
      "arpu_7           0\n",
      "arpu_2g_8    73660\n",
      "arpu_3g_8    73660\n",
      "arpu_8           0\n",
      "arpu_2g_9    74077\n",
      "arpu_3g_9    74077\n",
      "arpu_9           0\n",
      "dtype: int64\n",
      "    arpu_2g_6  arpu_3g_6   arpu_6\n",
      "0      212.17     212.17  197.385\n",
      "4        0.00       0.00  261.636\n",
      "19       3.01       0.00  163.430\n",
      "30        NaN        NaN    0.700\n"
     ]
    }
   ],
   "source": [
    "print(telecom_df_base[average_revenue_cols].isnull().sum())\n",
    "print(telecom_df_base[['arpu_2g_6','arpu_3g_6','arpu_6']].iloc[[0,4,19,30]])\n",
    "## from below it is visible that average revenue column for each month doesn't adds up so we will impute the same.\n",
    "## as total_arpu_6=arpu_2g_6 + arpu_3g_6 +  arpu_6\n",
    "## for arpu_2g_6  arpu_3g_6   arpu_6 where NA we will impute it to 0 however imputing with median is also a feasible option"
   ]
  },
  {
   "cell_type": "code",
   "execution_count": 98,
   "metadata": {},
   "outputs": [
    {
     "name": "stdout",
     "output_type": "stream",
     "text": [
      "arpu_2g_6     10.830\n",
      "arpu_3g_6      0.480\n",
      "arpu_6       197.704\n",
      "arpu_2g_7      8.810\n",
      "arpu_3g_7      0.420\n",
      "arpu_7       191.640\n",
      "arpu_2g_8      9.270\n",
      "arpu_3g_8      0.880\n",
      "arpu_8       192.080\n",
      "arpu_2g_9     14.800\n",
      "arpu_3g_9      2.605\n",
      "arpu_9       176.849\n",
      "dtype: float64\n",
      "          arpu_2g_6     arpu_3g_6        arpu_6     arpu_2g_7     arpu_3g_7  \\\n",
      "count  25153.000000  25153.000000  99999.000000  25571.000000  25571.000000   \n",
      "mean      86.398003     89.555057    282.987358     85.914450     89.384120   \n",
      "std      172.767523    193.124653    328.439770    176.379871    195.893924   \n",
      "min      -35.830000    -30.820000  -2258.709000    -15.480000    -26.040000   \n",
      "25%        0.000000      0.000000     93.411500      0.000000      0.000000   \n",
      "50%       10.830000      0.480000    197.704000      8.810000      0.420000   \n",
      "75%      122.070000    122.070000    371.060000    122.070000    119.560000   \n",
      "max     6433.760000   6362.280000  27731.088000   4809.360000   4980.900000   \n",
      "\n",
      "             arpu_7     arpu_2g_8     arpu_3g_8        arpu_8     arpu_2g_9  \\\n",
      "count  99999.000000  26339.000000  26339.000000  99999.000000  25922.000000   \n",
      "mean     278.536648     86.599478     91.173849    279.154731     93.712026   \n",
      "std      338.156291    168.247852    188.180936    344.474791    171.384224   \n",
      "min    -2014.045000    -55.830000    -24.490000   -945.808000    -45.740000   \n",
      "25%       86.980500      0.000000      0.000000     84.126000      0.000000   \n",
      "50%      191.640000      9.270000      0.880000    192.080000     14.800000   \n",
      "75%      365.344500    122.070000    122.070000    369.370500    140.010000   \n",
      "max    35145.834000   3483.170000   3716.900000  33543.624000   3467.170000   \n",
      "\n",
      "          arpu_3g_9        arpu_9  \n",
      "count  25922.000000  99999.000000  \n",
      "mean     100.264116    261.645069  \n",
      "std      216.291992    341.998630  \n",
      "min      -71.090000  -1899.505000  \n",
      "25%        0.000000     62.685000  \n",
      "50%        2.605000    176.849000  \n",
      "75%      140.010000    353.466500  \n",
      "max    13884.310000  38805.617000  \n"
     ]
    }
   ],
   "source": [
    "print(telecom_df_base[average_revenue_cols].median())\n",
    "print(telecom_df_base[average_revenue_cols].describe())"
   ]
  },
  {
   "cell_type": "code",
   "execution_count": 99,
   "metadata": {},
   "outputs": [
    {
     "name": "stdout",
     "output_type": "stream",
     "text": [
      "   arpu_2g_6  arpu_3g_6   arpu_6  arpu_2g_7  arpu_3g_7   arpu_7  arpu_2g_8  \\\n",
      "0     212.17     212.17  197.385     212.17     212.17  214.816     212.17   \n",
      "1        NaN        NaN   34.047      28.61       0.00  355.074       7.60   \n",
      "2        NaN        NaN  167.690        NaN        NaN  189.058        NaN   \n",
      "3        NaN        NaN  221.338        NaN        NaN  251.102        NaN   \n",
      "4       0.00       0.00  261.636        NaN        NaN  309.876        NaN   \n",
      "\n",
      "   arpu_3g_8   arpu_8  arpu_2g_9  arpu_3g_9   arpu_9  churn  \n",
      "0     212.17  213.803        NaN        NaN   21.100      0  \n",
      "1       0.00  268.321        NaN        NaN   86.285      0  \n",
      "2        NaN  210.226        0.0       2.84  290.714      1  \n",
      "3        NaN  508.054        NaN        NaN  389.500      0  \n",
      "4        NaN  238.174        NaN        NaN  163.426      0  \n"
     ]
    }
   ],
   "source": [
    "average_revenue_cols.append('churn')\n",
    "avg_call_df=telecom_df_base[average_revenue_cols]\n",
    "print(avg_call_df.head())\n",
    "average_revenue_cols.remove('churn')\n",
    "#print(average_revenue_cols)"
   ]
  },
  {
   "cell_type": "code",
   "execution_count": 100,
   "metadata": {},
   "outputs": [
    {
     "name": "stderr",
     "output_type": "stream",
     "text": [
      "C:\\ProgramData\\Anaconda2\\envs\\DS_3_6\\lib\\site-packages\\pandas\\core\\generic.py:5434: SettingWithCopyWarning: \n",
      "A value is trying to be set on a copy of a slice from a DataFrame\n",
      "\n",
      "See the caveats in the documentation: http://pandas.pydata.org/pandas-docs/stable/indexing.html#indexing-view-versus-copy\n",
      "  self._update_inplace(new_data)\n",
      "C:\\ProgramData\\Anaconda2\\envs\\DS_3_6\\lib\\site-packages\\ipykernel_launcher.py:7: SettingWithCopyWarning: \n",
      "A value is trying to be set on a copy of a slice from a DataFrame.\n",
      "Try using .loc[row_indexer,col_indexer] = value instead\n",
      "\n",
      "See the caveats in the documentation: http://pandas.pydata.org/pandas-docs/stable/indexing.html#indexing-view-versus-copy\n",
      "  import sys\n"
     ]
    }
   ],
   "source": [
    "for i in np.array(average_revenue_cols).reshape(4,3):\n",
    "    col_name=i[0].split('_')[-1]\n",
    "    ## Filling value with median\n",
    "    avg_call_df[i[0]].fillna(avg_call_df[i[0]].median(),inplace=True)\n",
    "    avg_call_df[i[1]].fillna(avg_call_df[i[1]].median(),inplace=True)\n",
    "    avg_call_df[i[2]].fillna(avg_call_df[i[2]].median(),inplace=True)\n",
    "    avg_call_df['total_arpu_'+col_name]=avg_call_df[i[0]]+ avg_call_df[i[1]]+avg_call_df[i[2]]"
   ]
  },
  {
   "cell_type": "code",
   "execution_count": 112,
   "metadata": {},
   "outputs": [
    {
     "data": {
      "text/html": [
       "<div>\n",
       "<style scoped>\n",
       "    .dataframe tbody tr th:only-of-type {\n",
       "        vertical-align: middle;\n",
       "    }\n",
       "\n",
       "    .dataframe tbody tr th {\n",
       "        vertical-align: top;\n",
       "    }\n",
       "\n",
       "    .dataframe thead th {\n",
       "        text-align: right;\n",
       "    }\n",
       "</style>\n",
       "<table border=\"1\" class=\"dataframe\">\n",
       "  <thead>\n",
       "    <tr style=\"text-align: right;\">\n",
       "      <th></th>\n",
       "      <th>total_arpu_6</th>\n",
       "      <th>total_arpu_7</th>\n",
       "      <th>total_arpu_8</th>\n",
       "      <th>arpu_6</th>\n",
       "      <th>arpu_7</th>\n",
       "      <th>arpu_8</th>\n",
       "    </tr>\n",
       "    <tr>\n",
       "      <th>churn</th>\n",
       "      <th></th>\n",
       "      <th></th>\n",
       "      <th></th>\n",
       "      <th></th>\n",
       "      <th></th>\n",
       "      <th></th>\n",
       "    </tr>\n",
       "  </thead>\n",
       "  <tbody>\n",
       "    <tr>\n",
       "      <th>0</th>\n",
       "      <td>77614</td>\n",
       "      <td>77614</td>\n",
       "      <td>77614</td>\n",
       "      <td>77614</td>\n",
       "      <td>77614</td>\n",
       "      <td>77614</td>\n",
       "    </tr>\n",
       "    <tr>\n",
       "      <th>1</th>\n",
       "      <td>22385</td>\n",
       "      <td>22385</td>\n",
       "      <td>22385</td>\n",
       "      <td>22385</td>\n",
       "      <td>22385</td>\n",
       "      <td>22385</td>\n",
       "    </tr>\n",
       "  </tbody>\n",
       "</table>\n",
       "</div>"
      ],
      "text/plain": [
       "       total_arpu_6  total_arpu_7  total_arpu_8  arpu_6  arpu_7  arpu_8\n",
       "churn                                                                  \n",
       "0             77614         77614         77614   77614   77614   77614\n",
       "1             22385         22385         22385   22385   22385   22385"
      ]
     },
     "execution_count": 112,
     "metadata": {},
     "output_type": "execute_result"
    }
   ],
   "source": [
    "avg_call_df.groupby(['churn'])[['total_arpu_6','total_arpu_7','total_arpu_8','arpu_6','arpu_7','arpu_8']].count()"
   ]
  },
  {
   "cell_type": "code",
   "execution_count": 115,
   "metadata": {},
   "outputs": [
    {
     "name": "stdout",
     "output_type": "stream",
     "text": [
      "       arpu_6  arpu_7  arpu_8\n",
      "churn                        \n",
      "0       77614   77614   77614\n",
      "1       22385   22385   22385\n"
     ]
    }
   ],
   "source": [
    "##The pattern remain same so we can consdier dropping all the columns combining them in total_arpu_6\n",
    "#sns.countplot(data=avg_call_df,hue='churn',x='total_arpu_6')\n",
    "#sns.lmplot(data=avg_call_df,x='Attack',y='total_arpu_6', hue='churn', fit_reg=False)\n",
    "average_revenue_cols.append('churn')\n",
    "print(telecom_df_base[average_revenue_cols].groupby('churn')[['arpu_6','arpu_7','arpu_8']].count())\n",
    "average_revenue_cols.remove('churn')"
   ]
  },
  {
   "cell_type": "code",
   "execution_count": 118,
   "metadata": {},
   "outputs": [],
   "source": [
    "drop_col.extend(average_revenue_cols)\n",
    "telecom_df_base=pd.concat([telecom_df_base,avg_call_df[['total_arpu_6','total_arpu_7','total_arpu_8','total_arpu_9']]],axis=1)"
   ]
  },
  {
   "cell_type": "code",
   "execution_count": 126,
   "metadata": {},
   "outputs": [],
   "source": [
    "drop_col.append('mobile_number')"
   ]
  },
  {
   "cell_type": "code",
   "execution_count": 139,
   "metadata": {},
   "outputs": [],
   "source": [
    "#temp=telecom_df_base.drop(drop_col,axis=1)\n",
    "#temp.to_csv('telecom_churn_features_truncated.csv')"
   ]
  },
  {
   "cell_type": "code",
   "execution_count": 140,
   "metadata": {
    "scrolled": true
   },
   "outputs": [
    {
     "data": {
      "text/html": [
       "<div>\n",
       "<style scoped>\n",
       "    .dataframe tbody tr th:only-of-type {\n",
       "        vertical-align: middle;\n",
       "    }\n",
       "\n",
       "    .dataframe tbody tr th {\n",
       "        vertical-align: top;\n",
       "    }\n",
       "\n",
       "    .dataframe thead th {\n",
       "        text-align: right;\n",
       "    }\n",
       "</style>\n",
       "<table border=\"1\" class=\"dataframe\">\n",
       "  <thead>\n",
       "    <tr style=\"text-align: right;\">\n",
       "      <th></th>\n",
       "      <th>Month 6</th>\n",
       "      <th>Month 7</th>\n",
       "      <th>Month 8</th>\n",
       "      <th>Month 9</th>\n",
       "      <th>Common</th>\n",
       "      <th>Total</th>\n",
       "    </tr>\n",
       "  </thead>\n",
       "  <tbody>\n",
       "    <tr>\n",
       "      <th>Non-Numeric</th>\n",
       "      <td>0</td>\n",
       "      <td>0</td>\n",
       "      <td>0</td>\n",
       "      <td>0</td>\n",
       "      <td>0</td>\n",
       "      <td>0</td>\n",
       "    </tr>\n",
       "    <tr>\n",
       "      <th>Numeric</th>\n",
       "      <td>44</td>\n",
       "      <td>44</td>\n",
       "      <td>44</td>\n",
       "      <td>44</td>\n",
       "      <td>4</td>\n",
       "      <td>180</td>\n",
       "    </tr>\n",
       "  </tbody>\n",
       "</table>\n",
       "</div>"
      ],
      "text/plain": [
       "             Month 6  Month 7  Month 8  Month 9  Common  Total\n",
       "Non-Numeric        0        0        0        0       0      0\n",
       "Numeric           44       44       44       44       4    180"
      ]
     },
     "execution_count": 140,
     "metadata": {},
     "output_type": "execute_result"
    }
   ],
   "source": [
    "data_set_structure(temp)"
   ]
  },
  {
   "cell_type": "code",
   "execution_count": 129,
   "metadata": {},
   "outputs": [],
   "source": [
    "non_num_col,num_col,col_6,col_7,col_8,col_9=data_set_structure(temp,True)"
   ]
  },
  {
   "cell_type": "markdown",
   "metadata": {},
   "source": [
    "#### EDA Finished"
   ]
  },
  {
   "cell_type": "markdown",
   "metadata": {},
   "source": [
    "#### REmvoing all col with 9"
   ]
  },
  {
   "cell_type": "code",
   "execution_count": 189,
   "metadata": {},
   "outputs": [
    {
     "name": "stdout",
     "output_type": "stream",
     "text": [
      "PRE-Computation: analysis for na/null\n",
      " total_rech_amt_6     0\n",
      "total_rech_data_6    0\n",
      "total_rech_amt_7     0\n",
      "total_rech_data_7    0\n",
      "total_rech_amt_8     0\n",
      "total_rech_data_8    0\n",
      "total_rech_amt_9     0\n",
      "total_rech_data_9    0\n",
      "dtype: int64\n"
     ]
    }
   ],
   "source": [
    "#hv_filter_col=['total_rech_amt_6','av_rech_amt_data_6','total_rech_amt_7','av_rech_amt_data_7',\n",
    "#'total_rech_amt_8','av_rech_amt_data_8','total_rech_amt_9','av_rech_amt_data_9']\n",
    "\n",
    "hv_filter_col=['total_rech_amt_6','total_rech_data_6','total_rech_amt_7','total_rech_data_7',\n",
    "'total_rech_amt_8','total_rech_data_8','total_rech_amt_9','total_rech_data_9']\n",
    "#hv_filter_col=['total_rech_amt_6','total_rech_data_6','total_rech_num_6','total_rech_num_7','total_rech_amt_7','total_rech_data_7','total_rech_num_8','total_rech_amt_8','total_rech_data_8','total_rech_num_9','total_rech_amt_9','total_rech_data_9']\n",
    "print(\"PRE-Computation: analysis for na/null\\n\",temp[hv_filter_col].isnull().sum())"
   ]
  },
  {
   "cell_type": "code",
   "execution_count": 190,
   "metadata": {},
   "outputs": [],
   "source": [
    "telecom_df_base=temp.copy()"
   ]
  },
  {
   "cell_type": "markdown",
   "metadata": {},
   "source": [
    "#### Hi Shashi, I have confirmed that you have to follow the same approach as mentioned in my previous mail.\n",
    "\n",
    "To filter high-value customers, you need to consider the total recharge amount and to calculate the total recharge amount, you need to calculate the sum of total call recharge amount and total data recharge amount. In other words, total recharge amount = call recharge amount + data recharge amount."
   ]
  },
  {
   "cell_type": "code",
   "execution_count": 196,
   "metadata": {},
   "outputs": [
    {
     "name": "stdout",
     "output_type": "stream",
     "text": [
      "Filtering high value customers\n",
      "high value customer cut-off:  739.0\n",
      "Dimension of High value customer dataset:  (29991, 184)\n"
     ]
    }
   ],
   "source": [
    "print(\"Filtering high value customers\")\n",
    "telecom_df_base['total_month_rech_6']=telecom_df_base.loc[:,hv_filter_col[0]]+telecom_df_base.loc[:,hv_filter_col[1]]\n",
    "telecom_df_base['total_month_rech_7']=telecom_df_base.loc[:,hv_filter_col[2]]+telecom_df_base.loc[:,hv_filter_col[3]]\n",
    "telecom_df_base['total_month_rech_8']=telecom_df_base.loc[:,hv_filter_col[4]]+telecom_df_base.loc[:,hv_filter_col[5]]\n",
    "telecom_df_base['total_month_rech_9']=telecom_df_base.loc[:,hv_filter_col[6]]+telecom_df_base.loc[:,hv_filter_col[7]]\n",
    "\n",
    "hv_percentile=(telecom_df_base['total_month_rech_6']+telecom_df_base['total_month_rech_7']).quantile(.7)\n",
    "print(\"high value customer cut-off: \",hv_percentile)\n",
    "telecom_data_analysis=telecom_df_base[telecom_df_base.loc[:,'total_month_rech_6']+telecom_df_base.loc[:,'total_month_rech_7']>hv_percentile]\n",
    "\n",
    "print(\"Dimension of High value customer dataset: \",telecom_data_analysis.shape)"
   ]
  },
  {
   "cell_type": "code",
   "execution_count": 197,
   "metadata": {},
   "outputs": [
    {
     "data": {
      "text/html": [
       "<div>\n",
       "<style scoped>\n",
       "    .dataframe tbody tr th:only-of-type {\n",
       "        vertical-align: middle;\n",
       "    }\n",
       "\n",
       "    .dataframe tbody tr th {\n",
       "        vertical-align: top;\n",
       "    }\n",
       "\n",
       "    .dataframe thead th {\n",
       "        text-align: right;\n",
       "    }\n",
       "</style>\n",
       "<table border=\"1\" class=\"dataframe\">\n",
       "  <thead>\n",
       "    <tr style=\"text-align: right;\">\n",
       "      <th></th>\n",
       "      <th>Month 6</th>\n",
       "      <th>Month 7</th>\n",
       "      <th>Month 8</th>\n",
       "      <th>Month 9</th>\n",
       "      <th>Common</th>\n",
       "      <th>Total</th>\n",
       "    </tr>\n",
       "  </thead>\n",
       "  <tbody>\n",
       "    <tr>\n",
       "      <th>Non-Numeric</th>\n",
       "      <td>0</td>\n",
       "      <td>0</td>\n",
       "      <td>0</td>\n",
       "      <td>0</td>\n",
       "      <td>0</td>\n",
       "      <td>0</td>\n",
       "    </tr>\n",
       "    <tr>\n",
       "      <th>Numeric</th>\n",
       "      <td>45</td>\n",
       "      <td>45</td>\n",
       "      <td>45</td>\n",
       "      <td>45</td>\n",
       "      <td>4</td>\n",
       "      <td>184</td>\n",
       "    </tr>\n",
       "  </tbody>\n",
       "</table>\n",
       "</div>"
      ],
      "text/plain": [
       "             Month 6  Month 7  Month 8  Month 9  Common  Total\n",
       "Non-Numeric        0        0        0        0       0      0\n",
       "Numeric           45       45       45       45       4    184"
      ]
     },
     "execution_count": 197,
     "metadata": {},
     "output_type": "execute_result"
    }
   ],
   "source": [
    "data_set_structure(telecom_data_analysis)"
   ]
  },
  {
   "cell_type": "code",
   "execution_count": 198,
   "metadata": {},
   "outputs": [
    {
     "data": {
      "text/plain": [
       "total_ic_mou_9    0\n",
       "total_og_mou_9    0\n",
       "vol_2g_mb_9       0\n",
       "vol_3g_mb_9       0\n",
       "dtype: int64"
      ]
     },
     "execution_count": 198,
     "metadata": {},
     "output_type": "execute_result"
    }
   ],
   "source": [
    "telecom_data_analysis[['total_ic_mou_9','total_og_mou_9','vol_2g_mb_9','vol_3g_mb_9']].isnull().sum()"
   ]
  },
  {
   "cell_type": "code",
   "execution_count": 199,
   "metadata": {
    "scrolled": false
   },
   "outputs": [
    {
     "name": "stderr",
     "output_type": "stream",
     "text": [
      "C:\\ProgramData\\Anaconda2\\envs\\DS_3_6\\lib\\site-packages\\ipykernel_launcher.py:1: SettingWithCopyWarning: \n",
      "A value is trying to be set on a copy of a slice from a DataFrame.\n",
      "Try using .loc[row_indexer,col_indexer] = value instead\n",
      "\n",
      "See the caveats in the documentation: http://pandas.pydata.org/pandas-docs/stable/indexing.html#indexing-view-versus-copy\n",
      "  \"\"\"Entry point for launching an IPython kernel.\n",
      "C:\\ProgramData\\Anaconda2\\envs\\DS_3_6\\lib\\site-packages\\pandas\\core\\generic.py:5890: SettingWithCopyWarning: \n",
      "A value is trying to be set on a copy of a slice from a DataFrame\n",
      "\n",
      "See the caveats in the documentation: http://pandas.pydata.org/pandas-docs/stable/indexing.html#indexing-view-versus-copy\n",
      "  self._update_inplace(new_data)\n"
     ]
    }
   ],
   "source": [
    "telecom_data_analysis['churn']=((telecom_data_analysis['total_ic_mou_9']+telecom_data_analysis['total_og_mou_9']>0) & (telecom_data_analysis['vol_2g_mb_9']+telecom_data_analysis['vol_3g_mb_9'])>0)\n",
    "telecom_data_analysis.loc[:,'churn'].replace({True:1,False:0},inplace=True)"
   ]
  },
  {
   "cell_type": "code",
   "execution_count": 200,
   "metadata": {},
   "outputs": [
    {
     "data": {
      "text/plain": [
       "Text(0.5,1,'Telcom Churn Rate')"
      ]
     },
     "execution_count": 200,
     "metadata": {},
     "output_type": "execute_result"
    },
    {
     "data": {
      "image/png": "[encoded data removed]",
      "text/plain": [
       "<Figure size 432x288 with 1 Axes>"
      ]
     },
     "metadata": {},
     "output_type": "display_data"
    }
   ],
   "source": [
    "plt.pie(x=[len(telecom_data_analysis[telecom_data_analysis['churn']==1]),len(telecom_data_analysis[telecom_data_analysis['churn']==0])],labels=['Churned','Not Churned'],autopct='%1.1f%%',colors=['yellowgreen', 'lightcoral'],explode=(.1,0))\n",
    "plt.axis('equal')\n",
    "plt.title('Telcom Churn Rate',fontsize=18,fontweight='bold')"
   ]
  },
  {
   "cell_type": "code",
   "execution_count": 201,
   "metadata": {},
   "outputs": [],
   "source": [
    "non_num_col,num_col,col_6,col_7,col_8,col_9=data_set_structure(telecom_data_analysis,True)"
   ]
  },
  {
   "cell_type": "code",
   "execution_count": 203,
   "metadata": {},
   "outputs": [
    {
     "name": "stderr",
     "output_type": "stream",
     "text": [
      "C:\\ProgramData\\Anaconda2\\envs\\DS_3_6\\lib\\site-packages\\pandas\\core\\frame.py:3697: SettingWithCopyWarning: \n",
      "A value is trying to be set on a copy of a slice from a DataFrame\n",
      "\n",
      "See the caveats in the documentation: http://pandas.pydata.org/pandas-docs/stable/indexing.html#indexing-view-versus-copy\n",
      "  errors=errors)\n"
     ]
    }
   ],
   "source": [
    "telecom_data_analysis.drop(col_9,inplace=True,axis=1)"
   ]
  },
  {
   "cell_type": "code",
   "execution_count": 204,
   "metadata": {},
   "outputs": [
    {
     "data": {
      "text/html": [
       "<div>\n",
       "<style scoped>\n",
       "    .dataframe tbody tr th:only-of-type {\n",
       "        vertical-align: middle;\n",
       "    }\n",
       "\n",
       "    .dataframe tbody tr th {\n",
       "        vertical-align: top;\n",
       "    }\n",
       "\n",
       "    .dataframe thead th {\n",
       "        text-align: right;\n",
       "    }\n",
       "</style>\n",
       "<table border=\"1\" class=\"dataframe\">\n",
       "  <thead>\n",
       "    <tr style=\"text-align: right;\">\n",
       "      <th></th>\n",
       "      <th>Month 6</th>\n",
       "      <th>Month 7</th>\n",
       "      <th>Month 8</th>\n",
       "      <th>Month 9</th>\n",
       "      <th>Common</th>\n",
       "      <th>Total</th>\n",
       "    </tr>\n",
       "  </thead>\n",
       "  <tbody>\n",
       "    <tr>\n",
       "      <th>Non-Numeric</th>\n",
       "      <td>0</td>\n",
       "      <td>0</td>\n",
       "      <td>0</td>\n",
       "      <td>0</td>\n",
       "      <td>0</td>\n",
       "      <td>0</td>\n",
       "    </tr>\n",
       "    <tr>\n",
       "      <th>Numeric</th>\n",
       "      <td>45</td>\n",
       "      <td>45</td>\n",
       "      <td>45</td>\n",
       "      <td>0</td>\n",
       "      <td>4</td>\n",
       "      <td>139</td>\n",
       "    </tr>\n",
       "  </tbody>\n",
       "</table>\n",
       "</div>"
      ],
      "text/plain": [
       "             Month 6  Month 7  Month 8  Month 9  Common  Total\n",
       "Non-Numeric        0        0        0        0       0      0\n",
       "Numeric           45       45       45        0       4    139"
      ]
     },
     "execution_count": 204,
     "metadata": {},
     "output_type": "execute_result"
    }
   ],
   "source": [
    "data_set_structure(telecom_data_analysis)"
   ]
  },
  {
   "cell_type": "code",
   "execution_count": 206,
   "metadata": {},
   "outputs": [],
   "source": [
    "null_col=null_na_estimator_grph(telecom_data_analysis,limit_val=0.5)"
   ]
  },
  {
   "cell_type": "code",
   "execution_count": 219,
   "metadata": {},
   "outputs": [],
   "source": [
    "telecom_data_analysis=telecom_data_analysis.fillna(0,axis=0)"
   ]
  },
  {
   "cell_type": "markdown",
   "metadata": {},
   "source": [
    "#### Model Building"
   ]
  },
  {
   "cell_type": "code",
   "execution_count": 220,
   "metadata": {},
   "outputs": [],
   "source": [
    "\n",
    "X_reg = telecom_data_analysis.drop('churn',axis=1)\n",
    "y_reg = telecom_data_analysis.loc[:,'churn']"
   ]
  },
  {
   "cell_type": "code",
   "execution_count": 224,
   "metadata": {},
   "outputs": [],
   "source": [
    "from sklearn.model_selection import train_test_split\n",
    "import sklearn.metrics as metrics\n",
    "from sklearn.linear_model import LogisticRegression\n",
    "from sklearn.decomposition import PCA\n",
    "from sklearn.ensemble import RandomForestClassifier\n",
    "from sklearn.preprocessing import StandardScaler\n",
    "from sklearn.model_selection import GridSearchCV\n",
    "from sklearn.model_selection import KFold\n",
    "from sklearn.feature_selection import RFE\n",
    "\n",
    "X_train_reg, X_test_reg, y_train_reg, y_test_reg = train_test_split(X_reg,y_reg,train_size=0.7,test_size=0.3,random_state=100)"
   ]
  },
  {
   "cell_type": "code",
   "execution_count": 225,
   "metadata": {},
   "outputs": [],
   "source": [
    "pca = PCA(n_components=20)\n",
    "scaler = StandardScaler()\n",
    "\n",
    "X_train_reg = scaler.fit_transform(X_train_reg)\n",
    "X_test_reg = scaler.transform(X_test_reg)"
   ]
  },
  {
   "cell_type": "code",
   "execution_count": 226,
   "metadata": {},
   "outputs": [
    {
     "data": {
      "text/plain": [
       "LogisticRegression(C=1.0, class_weight=None, dual=False, fit_intercept=True,\n",
       "          intercept_scaling=1, max_iter=100, multi_class='ovr', n_jobs=1,\n",
       "          penalty='l2', random_state=None, solver='liblinear', tol=0.0001,\n",
       "          verbose=0, warm_start=False)"
      ]
     },
     "execution_count": 226,
     "metadata": {},
     "output_type": "execute_result"
    }
   ],
   "source": [
    "x_pca = pca.fit_transform(X_train_reg)\n",
    "lr = LogisticRegression()\n",
    "lr.fit(x_pca,y_train_reg)\n"
   ]
  },
  {
   "cell_type": "code",
   "execution_count": 227,
   "metadata": {},
   "outputs": [],
   "source": [
    "x_test_pca = pca.transform(X_test_reg)\n",
    "y_pred = lr.predict(x_test_pca)"
   ]
  },
  {
   "cell_type": "code",
   "execution_count": 228,
   "metadata": {},
   "outputs": [
    {
     "data": {
      "text/plain": [
       "array([[5544,  572],\n",
       "       [ 744, 2138]], dtype=int64)"
      ]
     },
     "execution_count": 228,
     "metadata": {},
     "output_type": "execute_result"
    }
   ],
   "source": [
    "metrics.confusion_matrix(y_test_reg,y_pred)"
   ]
  },
  {
   "cell_type": "code",
   "execution_count": 229,
   "metadata": {},
   "outputs": [
    {
     "data": {
      "image/png": "[encoded data removed]",
      "text/plain": [
       "<Figure size 1440x720 with 1 Axes>"
      ]
     },
     "metadata": {},
     "output_type": "display_data"
    }
   ],
   "source": [
    "plt.figure(figsize=(20,10))\n",
    "plt.xlabel('Components')\n",
    "plt.ylabel('Percentage Explained')\n",
    "plt.plot(np.cumsum(pca.explained_variance_))\n",
    "plt.plot(pca.explained_variance_)\n",
    "plt.show()"
   ]
  },
  {
   "cell_type": "code",
   "execution_count": 230,
   "metadata": {},
   "outputs": [
    {
     "data": {
      "image/png": "[encoded data removed]",
      "text/plain": [
       "<Figure size 432x288 with 1 Axes>"
      ]
     },
     "metadata": {},
     "output_type": "display_data"
    }
   ],
   "source": [
    "# ROC curve - Logistics\n",
    "logit_roc_auc = metrics.roc_auc_score(y_test_reg, y_pred)\n",
    "#fpr, tpr, thresholds = roc_curve(y_test, logreg.predict_proba(X_test)[:,1])\n",
    "fpr, tpr, thresholds = metrics.roc_curve(y_test_reg, y_pred)\n",
    "plt.figure()\n",
    "plt.plot(fpr, tpr, label='Logistic Regression (area = %0.2f)' % logit_roc_auc)\n",
    "plt.plot([0, 1], [0, 1],'r--')\n",
    "plt.xlim([0.0, 1.0])\n",
    "plt.ylim([0.0, 1.05])\n",
    "plt.xlabel('False Positive Rate')\n",
    "plt.ylabel('True Positive Rate')\n",
    "plt.title('Receiver operating characteristic')\n",
    "plt.legend(loc=\"lower right\")\n",
    "plt.show()"
   ]
  },
  {
   "cell_type": "code",
   "execution_count": 231,
   "metadata": {},
   "outputs": [
    {
     "ename": "KeyboardInterrupt",
     "evalue": "",
     "output_type": "error",
     "traceback": [
      "\u001b[1;31m---------------------------------------------------------------------------\u001b[0m",
      "\u001b[1;31mKeyboardInterrupt\u001b[0m                         Traceback (most recent call last)",
      "\u001b[1;32m<ipython-input-231-4fbc030ec4a3>\u001b[0m in \u001b[0;36m<module>\u001b[1;34m()\u001b[0m\n\u001b[0;32m      1\u001b[0m \u001b[0mlogRegression\u001b[0m \u001b[1;33m=\u001b[0m \u001b[0mLogisticRegression\u001b[0m\u001b[1;33m(\u001b[0m\u001b[1;33m)\u001b[0m\u001b[1;33m\u001b[0m\u001b[0m\n\u001b[0;32m      2\u001b[0m \u001b[0mrfe\u001b[0m \u001b[1;33m=\u001b[0m \u001b[0mRFE\u001b[0m\u001b[1;33m(\u001b[0m\u001b[0mlogRegression\u001b[0m\u001b[1;33m,\u001b[0m\u001b[1;36m20\u001b[0m\u001b[1;33m)\u001b[0m\u001b[1;33m\u001b[0m\u001b[0m\n\u001b[1;32m----> 3\u001b[1;33m \u001b[0mrfe\u001b[0m\u001b[1;33m.\u001b[0m\u001b[0mfit\u001b[0m\u001b[1;33m(\u001b[0m\u001b[0mX_train_reg\u001b[0m\u001b[1;33m,\u001b[0m\u001b[0my_train_reg\u001b[0m\u001b[1;33m)\u001b[0m\u001b[1;33m\u001b[0m\u001b[0m\n\u001b[0m",
      "\u001b[1;32mC:\\ProgramData\\Anaconda2\\envs\\DS_3_6\\lib\\site-packages\\sklearn\\feature_selection\\rfe.py\u001b[0m in \u001b[0;36mfit\u001b[1;34m(self, X, y)\u001b[0m\n\u001b[0;32m    132\u001b[0m             \u001b[0mThe\u001b[0m \u001b[0mtarget\u001b[0m \u001b[0mvalues\u001b[0m\u001b[1;33m.\u001b[0m\u001b[1;33m\u001b[0m\u001b[0m\n\u001b[0;32m    133\u001b[0m         \"\"\"\n\u001b[1;32m--> 134\u001b[1;33m         \u001b[1;32mreturn\u001b[0m \u001b[0mself\u001b[0m\u001b[1;33m.\u001b[0m\u001b[0m_fit\u001b[0m\u001b[1;33m(\u001b[0m\u001b[0mX\u001b[0m\u001b[1;33m,\u001b[0m \u001b[0my\u001b[0m\u001b[1;33m)\u001b[0m\u001b[1;33m\u001b[0m\u001b[0m\n\u001b[0m\u001b[0;32m    135\u001b[0m \u001b[1;33m\u001b[0m\u001b[0m\n\u001b[0;32m    136\u001b[0m     \u001b[1;32mdef\u001b[0m \u001b[0m_fit\u001b[0m\u001b[1;33m(\u001b[0m\u001b[0mself\u001b[0m\u001b[1;33m,\u001b[0m \u001b[0mX\u001b[0m\u001b[1;33m,\u001b[0m \u001b[0my\u001b[0m\u001b[1;33m,\u001b[0m \u001b[0mstep_score\u001b[0m\u001b[1;33m=\u001b[0m\u001b[1;32mNone\u001b[0m\u001b[1;33m)\u001b[0m\u001b[1;33m:\u001b[0m\u001b[1;33m\u001b[0m\u001b[0m\n",
      "\u001b[1;32mC:\\ProgramData\\Anaconda2\\envs\\DS_3_6\\lib\\site-packages\\sklearn\\feature_selection\\rfe.py\u001b[0m in \u001b[0;36m_fit\u001b[1;34m(self, X, y, step_score)\u001b[0m\n\u001b[0;32m    171\u001b[0m                 \u001b[0mprint\u001b[0m\u001b[1;33m(\u001b[0m\u001b[1;34m\"Fitting estimator with %d features.\"\u001b[0m \u001b[1;33m%\u001b[0m \u001b[0mnp\u001b[0m\u001b[1;33m.\u001b[0m\u001b[0msum\u001b[0m\u001b[1;33m(\u001b[0m\u001b[0msupport_\u001b[0m\u001b[1;33m)\u001b[0m\u001b[1;33m)\u001b[0m\u001b[1;33m\u001b[0m\u001b[0m\n\u001b[0;32m    172\u001b[0m \u001b[1;33m\u001b[0m\u001b[0m\n\u001b[1;32m--> 173\u001b[1;33m             \u001b[0mestimator\u001b[0m\u001b[1;33m.\u001b[0m\u001b[0mfit\u001b[0m\u001b[1;33m(\u001b[0m\u001b[0mX\u001b[0m\u001b[1;33m[\u001b[0m\u001b[1;33m:\u001b[0m\u001b[1;33m,\u001b[0m \u001b[0mfeatures\u001b[0m\u001b[1;33m]\u001b[0m\u001b[1;33m,\u001b[0m \u001b[0my\u001b[0m\u001b[1;33m)\u001b[0m\u001b[1;33m\u001b[0m\u001b[0m\n\u001b[0m\u001b[0;32m    174\u001b[0m \u001b[1;33m\u001b[0m\u001b[0m\n\u001b[0;32m    175\u001b[0m             \u001b[1;31m# Get coefs\u001b[0m\u001b[1;33m\u001b[0m\u001b[1;33m\u001b[0m\u001b[0m\n",
      "\u001b[1;32mC:\\ProgramData\\Anaconda2\\envs\\DS_3_6\\lib\\site-packages\\sklearn\\linear_model\\logistic.py\u001b[0m in \u001b[0;36mfit\u001b[1;34m(self, X, y, sample_weight)\u001b[0m\n\u001b[0;32m   1238\u001b[0m                 \u001b[0mself\u001b[0m\u001b[1;33m.\u001b[0m\u001b[0mclass_weight\u001b[0m\u001b[1;33m,\u001b[0m \u001b[0mself\u001b[0m\u001b[1;33m.\u001b[0m\u001b[0mpenalty\u001b[0m\u001b[1;33m,\u001b[0m \u001b[0mself\u001b[0m\u001b[1;33m.\u001b[0m\u001b[0mdual\u001b[0m\u001b[1;33m,\u001b[0m \u001b[0mself\u001b[0m\u001b[1;33m.\u001b[0m\u001b[0mverbose\u001b[0m\u001b[1;33m,\u001b[0m\u001b[1;33m\u001b[0m\u001b[0m\n\u001b[0;32m   1239\u001b[0m                 \u001b[0mself\u001b[0m\u001b[1;33m.\u001b[0m\u001b[0mmax_iter\u001b[0m\u001b[1;33m,\u001b[0m \u001b[0mself\u001b[0m\u001b[1;33m.\u001b[0m\u001b[0mtol\u001b[0m\u001b[1;33m,\u001b[0m \u001b[0mself\u001b[0m\u001b[1;33m.\u001b[0m\u001b[0mrandom_state\u001b[0m\u001b[1;33m,\u001b[0m\u001b[1;33m\u001b[0m\u001b[0m\n\u001b[1;32m-> 1240\u001b[1;33m                 sample_weight=sample_weight)\n\u001b[0m\u001b[0;32m   1241\u001b[0m             \u001b[0mself\u001b[0m\u001b[1;33m.\u001b[0m\u001b[0mn_iter_\u001b[0m \u001b[1;33m=\u001b[0m \u001b[0mnp\u001b[0m\u001b[1;33m.\u001b[0m\u001b[0marray\u001b[0m\u001b[1;33m(\u001b[0m\u001b[1;33m[\u001b[0m\u001b[0mn_iter_\u001b[0m\u001b[1;33m]\u001b[0m\u001b[1;33m)\u001b[0m\u001b[1;33m\u001b[0m\u001b[0m\n\u001b[0;32m   1242\u001b[0m             \u001b[1;32mreturn\u001b[0m \u001b[0mself\u001b[0m\u001b[1;33m\u001b[0m\u001b[0m\n",
      "\u001b[1;32mC:\\ProgramData\\Anaconda2\\envs\\DS_3_6\\lib\\site-packages\\sklearn\\svm\\base.py\u001b[0m in \u001b[0;36m_fit_liblinear\u001b[1;34m(X, y, C, fit_intercept, intercept_scaling, class_weight, penalty, dual, verbose, max_iter, tol, random_state, multi_class, loss, epsilon, sample_weight)\u001b[0m\n\u001b[0;32m    888\u001b[0m         \u001b[0mX\u001b[0m\u001b[1;33m,\u001b[0m \u001b[0my_ind\u001b[0m\u001b[1;33m,\u001b[0m \u001b[0msp\u001b[0m\u001b[1;33m.\u001b[0m\u001b[0misspmatrix\u001b[0m\u001b[1;33m(\u001b[0m\u001b[0mX\u001b[0m\u001b[1;33m)\u001b[0m\u001b[1;33m,\u001b[0m \u001b[0msolver_type\u001b[0m\u001b[1;33m,\u001b[0m \u001b[0mtol\u001b[0m\u001b[1;33m,\u001b[0m \u001b[0mbias\u001b[0m\u001b[1;33m,\u001b[0m \u001b[0mC\u001b[0m\u001b[1;33m,\u001b[0m\u001b[1;33m\u001b[0m\u001b[0m\n\u001b[0;32m    889\u001b[0m         \u001b[0mclass_weight_\u001b[0m\u001b[1;33m,\u001b[0m \u001b[0mmax_iter\u001b[0m\u001b[1;33m,\u001b[0m \u001b[0mrnd\u001b[0m\u001b[1;33m.\u001b[0m\u001b[0mrandint\u001b[0m\u001b[1;33m(\u001b[0m\u001b[0mnp\u001b[0m\u001b[1;33m.\u001b[0m\u001b[0miinfo\u001b[0m\u001b[1;33m(\u001b[0m\u001b[1;34m'i'\u001b[0m\u001b[1;33m)\u001b[0m\u001b[1;33m.\u001b[0m\u001b[0mmax\u001b[0m\u001b[1;33m)\u001b[0m\u001b[1;33m,\u001b[0m\u001b[1;33m\u001b[0m\u001b[0m\n\u001b[1;32m--> 890\u001b[1;33m         epsilon, sample_weight)\n\u001b[0m\u001b[0;32m    891\u001b[0m     \u001b[1;31m# Regarding rnd.randint(..) in the above signature:\u001b[0m\u001b[1;33m\u001b[0m\u001b[1;33m\u001b[0m\u001b[0m\n\u001b[0;32m    892\u001b[0m     \u001b[1;31m# seed for srand in range [0..INT_MAX); due to limitations in Numpy\u001b[0m\u001b[1;33m\u001b[0m\u001b[1;33m\u001b[0m\u001b[0m\n",
      "\u001b[1;31mKeyboardInterrupt\u001b[0m: "
     ]
    }
   ],
   "source": [
    "logRegression = LogisticRegression()\n",
    "rfe = RFE(logRegression,20)\n",
    "rfe.fit(X_train_reg,y_train_reg)"
   ]
  },
  {
   "cell_type": "code",
   "execution_count": null,
   "metadata": {},
   "outputs": [],
   "source": [
    "print(rfe.ranking_)\n",
    "print(rfe.estimator_)\n",
    "print(rfe.n_features_)\n",
    "print(rfe.support_)"
   ]
  },
  {
   "cell_type": "code",
   "execution_count": null,
   "metadata": {},
   "outputs": [],
   "source": [
    "telecom_data_analysis_rfe = X_reg.loc[:,rfe.support_]"
   ]
  },
  {
   "cell_type": "code",
   "execution_count": null,
   "metadata": {},
   "outputs": [],
   "source": [
    "telecom_data_analysis_rfe.columns"
   ]
  },
  {
   "cell_type": "code",
   "execution_count": null,
   "metadata": {},
   "outputs": [],
   "source": []
  }
 ],
 "metadata": {
  "kernelspec": {
   "display_name": "Python 3",
   "language": "python",
   "name": "python3"
  },
  "language_info": {
   "codemirror_mode": {
    "name": "ipython",
    "version": 3
   },
   "file_extension": ".py",
   "mimetype": "text/x-python",
   "name": "python",
   "nbconvert_exporter": "python",
   "pygments_lexer": "ipython3",
   "version": "3.5.5"
  }
 },
 "nbformat": 4,
 "nbformat_minor": 2
}
