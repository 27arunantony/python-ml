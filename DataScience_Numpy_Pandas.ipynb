{
 "cells": [
  {
   "cell_type": "markdown",
   "metadata": {},
   "source": [
    "# Numpy\n",
    "## we are going to see some details around numpy and various python data structures\n",
    "### Numpy array solve the scenario of doing calculations over entire arrays without explicit loopings"
   ]
  },
  {
   "cell_type": "code",
   "execution_count": 1,
   "metadata": {
    "collapsed": true
   },
   "outputs": [],
   "source": [
    "world={'afghanistan': 30.55, 'albania': 2.81,\n",
    "'algeria': 39.21, 'sealand': 2.7e-05}\n",
    "height = [1.73, 1.68, 1.71, 1.89, 1.79]\n",
    "weight = [65.4, 59.2, 63.6, 88.4, 68.7]"
   ]
  },
  {
   "cell_type": "markdown",
   "metadata": {},
   "source": [
    "# BMI is calculate by dividing weight by height square\n",
    "## traditional array doesn't support such operation\n",
    "### (weight / height *height) :TypeError: unsupported operand type(s) for (**): 'list' and 'int'"
   ]
  },
  {
   "cell_type": "code",
   "execution_count": 2,
   "metadata": {},
   "outputs": [
    {
     "name": "stdout",
     "output_type": "stream",
     "text": [
      "<class 'numpy.ndarray'>   <class 'numpy.ndarray'>\n",
      "<class 'numpy.ndarray'>\n",
      "[ 21.85171573  20.97505669  21.75028214  24.7473475   21.44127836]\n"
     ]
    }
   ],
   "source": [
    "import numpy as np\n",
    "#print(weight/height*height)\n",
    "\n",
    "#creating numpy array from python array\n",
    "np_height=np.array(height)\n",
    "np_weight=np.array(weight)\n",
    "print(type(np_height),\" \",type(np_weight))\n",
    "\n",
    "#with numpy array we can do above operation over entire data series\n",
    "bmi=np_weight/np_height**2\n",
    "print(type(bmi))\n",
    "print(bmi)"
   ]
  },
  {
   "cell_type": "markdown",
   "metadata": {},
   "source": [
    "### list vs numpy array"
   ]
  },
  {
   "cell_type": "code",
   "execution_count": 3,
   "metadata": {},
   "outputs": [
    {
     "name": "stdout",
     "output_type": "stream",
     "text": [
      "<class 'numpy.ndarray'> <class 'numpy.ndarray'> <class 'numpy.ndarray'>\n",
      "np_numarray  [1 2 3 4]\n",
      "np_mixvar  ['1' 'True' 'A']\n",
      "np_textarray  ['saurabh' 'jain']\n",
      "-- Different behaviour depending on elements type--\n",
      "[2 4 6 8]\n",
      "[ True False  True False False]\n",
      "[ True  True  True  True False]\n",
      "[ True False False False False]\n"
     ]
    }
   ],
   "source": [
    "#numpy array can only contains one type and operand behavior will differ from type to type\n",
    "np_numarray=np.array([1,2,3,4])\n",
    "np_textarray=np.array((\"saurabh\",\"jain\"))\n",
    "np_mixvar=np.array([1,True,\"A\"])\n",
    "print(str(type(np_numarray))+\" \" + str(type(np_textarray))+\" \"+str(type(np_mixvar)))\n",
    "print(\"np_numarray \", np_numarray)\n",
    "print(\"np_mixvar \", np_mixvar)\n",
    "print(\"np_textarray \", np_textarray)\n",
    "print(\"-- Different behaviour depending on elements type--\")\n",
    "print(np_numarray+np_numarray)\n",
    "#np_textarray+np_textarray\n",
    "# ERROR: TypeError: ufunc 'multiply' did not contain a loop with signature matching types dtype('<U7') dtype('<U7') dtype('<U7')\n",
    "np_boolarr=np.array([True,False,True,False,False])\n",
    "np_boolarr1=np.array([True,True,False,True,False])\n",
    "np_boolarr\n",
    "print(np_boolarr+np_boolarr)\n",
    "print(np_boolarr+np_boolarr1)\n",
    "print(np_boolarr&np_boolarr1)"
   ]
  },
  {
   "cell_type": "markdown",
   "metadata": {},
   "source": [
    "# Subsetting on numpy array"
   ]
  },
  {
   "cell_type": "code",
   "execution_count": 4,
   "metadata": {},
   "outputs": [
    {
     "name": "stdout",
     "output_type": "stream",
     "text": [
      "[ 21.85171573  20.97505669  21.75028214  24.7473475   21.44127836]\n",
      "[ 20.97505669  21.75028214  24.7473475 ]\n",
      "[False False False  True False]\n",
      "[ 24.7473475]\n"
     ]
    }
   ],
   "source": [
    "print(bmi)\n",
    "print(bmi[1:4])\n",
    "print(bmi>23)\n",
    "print(bmi[bmi>23])"
   ]
  },
  {
   "cell_type": "markdown",
   "metadata": {},
   "source": [
    "# muliti dimension numpy array"
   ]
  },
  {
   "cell_type": "code",
   "execution_count": 5,
   "metadata": {},
   "outputs": [
    {
     "name": "stdout",
     "output_type": "stream",
     "text": [
      "[ 1.73  1.68  1.71  1.89  1.79]\n",
      "1.71\n",
      "1.71\n",
      "[ 1.68  1.71]\n",
      "[[  1.68   1.71]\n",
      " [ 59.2   63.6 ]]\n",
      "(2, 5)\n"
     ]
    }
   ],
   "source": [
    "np_2d = np.array([[1.73, 1.68, 1.71, 1.89, 1.79],\n",
    "[65.4, 59.2, 63.6, 88.4, 68.7]])\n",
    "\n",
    "#subsetting\n",
    "print(np_2d[0])\n",
    "print(np_2d[0,2])\n",
    "print(np_2d[0][2])\n",
    "print(np_2d[0][1:3])\n",
    "print(np_2d[:,1:3])\n",
    "print(np_2d.shape)"
   ]
  },
  {
   "cell_type": "markdown",
   "metadata": {},
   "source": [
    "## some mathematical operation on numpy array"
   ]
  },
  {
   "cell_type": "code",
   "execution_count": 6,
   "metadata": {},
   "outputs": [
    {
     "name": "stdout",
     "output_type": "stream",
     "text": [
      "(6, 2)\n",
      "mean:  1.78333333333\n",
      "median:  1.825\n",
      "corrcoef:  [[ 1.          0.64924262]\n",
      " [ 0.64924262  1.        ]]\n",
      "Standard deviation:  0.260810701894\n",
      "Sum of column 1:  10.7\n",
      "Sorted column one [[  1.64  71.78]\n",
      " [  1.37  63.35]\n",
      " [  1.6   55.09]\n",
      " [  2.04  74.85]\n",
      " [  2.04  68.72]\n",
      " [  2.01  73.57]]\n",
      "[(b'Arthur',  1.8, 41) (b'Lancelot',  1.9, 38) (b'Galahad',  1.7, 38)]\n",
      "(3,)\n",
      "<class 'numpy.ndarray'>\n",
      "b'Arthur'\n",
      "[(b'Galahad',  1.7, 38) (b'Lancelot',  1.9, 38) (b'Arthur',  1.8, 41)]\n"
     ]
    }
   ],
   "source": [
    "np_city=np.array([[ 1.64, 71.78],\n",
    "[ 1.37, 63.35],\n",
    "[ 1.6 , 55.09],\n",
    "[ 2.04, 74.85],\n",
    "[ 2.04, 68.72],\n",
    "[ 2.01, 73.57]])\n",
    "print(np_city.shape)\n",
    "\n",
    "print(\"mean: \",np.mean(np_city[:,0]))\n",
    "print(\"median: \",np.median(np_city[:,0]))\n",
    "print(\"corrcoef: \",np.corrcoef(np_city[:,0],np_city[:,1]))\n",
    "print(\"Standard deviation: \",np.std(np_city[:,0]))\n",
    "print(\"Sum of column 1: \",np.sum(np_city[:,0]))\n",
    "print(\"Sorted column one\", np.sort(np_city))\n",
    "\n",
    "dtype = [('name', 'S10'), ('height', float), ('age', int)]\n",
    "values = [('Arthur', 1.8, 41),('Lancelot', 1.9, 38),('Galahad', 1.7, 38)]\n",
    "structured_arr = np.array(values, dtype=dtype)\n",
    "print(structured_arr)\n",
    "print(structured_arr.shape)\n",
    "print(type(structured_arr))\n",
    "print(structured_arr[0][0])\n",
    "print(np.sort(structured_arr,order=['age','height']))"
   ]
  },
  {
   "cell_type": "markdown",
   "metadata": {},
   "source": [
    "### generating sample data with numpy array"
   ]
  },
  {
   "cell_type": "code",
   "execution_count": 7,
   "metadata": {},
   "outputs": [
    {
     "name": "stdout",
     "output_type": "stream",
     "text": [
      "[ 14.44   8.04   0.19 ...,  14.91   3.45  10.84]\n"
     ]
    }
   ],
   "source": [
    "sample=np.round(np.random.normal(10,4,5000),2)\n",
    "print(sample)"
   ]
  },
  {
   "cell_type": "markdown",
   "metadata": {},
   "source": [
    "# Dataframe from Dictionary Pandas"
   ]
  },
  {
   "cell_type": "code",
   "execution_count": 8,
   "metadata": {},
   "outputs": [
    {
     "name": "stdout",
     "output_type": "stream",
     "text": [
      "     area    capital       country  population\n",
      "0   8.516   Brasilia        Brazil      200.40\n",
      "1  17.100     Moscow        Russia      143.50\n",
      "2   3.286  New Delhi         India     1252.00\n",
      "3   9.597    Beijing         China     1357.00\n",
      "4   1.221   Pretoria  South Africa       52.98\n",
      "      area    capital       country  population\n",
      "BR   8.516   Brasilia        Brazil      200.40\n",
      "RU  17.100     Moscow        Russia      143.50\n",
      "IN   3.286  New Delhi         India     1252.00\n",
      "CH   9.597    Beijing         China     1357.00\n",
      "SA   1.221   Pretoria  South Africa       52.98\n"
     ]
    }
   ],
   "source": [
    "dict = {\n",
    "\"country\":[\"Brazil\", \"Russia\", \"India\", \"China\", \"South Africa\"],\n",
    "\"capital\":[\"Brasilia\", \"Moscow\", \"New Delhi\", \"Beijing\", \"Pretoria\"],\n",
    "\"area\":[8.516, 17.10, 3.286, 9.597, 1.221],\n",
    "\"population\":[200.4, 143.5, 1252, 1357, 52.98] }\n",
    "\n",
    "import pandas as pd\n",
    "brics=pd.DataFrame(dict)\n",
    "\n",
    "print(brics)\n",
    "\n",
    "brics.index=['BR','RU','IN','CH','SA']\n",
    "print(brics)"
   ]
  },
  {
   "cell_type": "code",
   "execution_count": 10,
   "metadata": {},
   "outputs": [
    {
     "name": "stdout",
     "output_type": "stream",
     "text": [
      "  Unnamed: 0       country    capital    area  population\n",
      "0         BR        Brazil   Brasilia   8.516      200.40\n",
      "1         RU        Russia     Moscow  17.100      143.50\n",
      "2         IN         India  New Delhi   3.286     1252.00\n",
      "3         CH         China    Beijing   9.597     1357.00\n",
      "4         SA  South Africa   Pretoria   1.221       52.98\n",
      "         country    capital    area  population\n",
      "BR        Brazil   Brasilia   8.516      200.40\n",
      "RU        Russia     Moscow  17.100      143.50\n",
      "IN         India  New Delhi   3.286     1252.00\n",
      "CH         China    Beijing   9.597     1357.00\n",
      "SA  South Africa   Pretoria   1.221       52.98\n"
     ]
    }
   ],
   "source": [
    "#importing dataframe from csv\n",
    "brics_csv=pd.read_csv(\"C:\\Saurabh\\Tutorials\\DataScience\\pandas_brics.csv\")\n",
    "print(brics_csv)\n",
    "\n",
    "brics_csv=pd.read_csv(\"C:\\Saurabh\\Tutorials\\DataScience\\pandas_brics.csv\",index_col=0)\n",
    "print(brics_csv)"
   ]
  },
  {
   "cell_type": "code",
   "execution_count": 11,
   "metadata": {},
   "outputs": [
    {
     "name": "stdout",
     "output_type": "stream",
     "text": [
      "<class 'pandas.core.series.Series'>\n",
      "<class 'pandas.core.frame.DataFrame'>\n",
      "         country\n",
      "BR        Brazil\n",
      "RU        Russia\n",
      "IN         India\n",
      "CH         China\n",
      "SA  South Africa\n",
      "         country    capital\n",
      "BR        Brazil   Brasilia\n",
      "RU        Russia     Moscow\n",
      "IN         India  New Delhi\n",
      "CH         China    Beijing\n",
      "SA  South Africa   Pretoria\n",
      "      area    capital country  population\n",
      "BR   8.516   Brasilia  Brazil       200.4\n",
      "RU  17.100     Moscow  Russia       143.5\n",
      "IN   3.286  New Delhi   India      1252.0\n",
      "         country  population\n",
      "BR        Brazil      200.40\n",
      "RU        Russia      143.50\n",
      "IN         India     1252.00\n",
      "CH         China     1357.00\n",
      "SA  South Africa       52.98\n",
      "   country    capital\n",
      "RU  Russia     Moscow\n",
      "IN   India  New Delhi\n",
      "CH   China    Beijing\n",
      "         country    capital\n",
      "BR        Brazil   Brasilia\n",
      "RU        Russia     Moscow\n",
      "IN         India  New Delhi\n",
      "CH         China    Beijing\n",
      "SA  South Africa   Pretoria\n",
      "      capital       country  population\n",
      "BR   Brasilia        Brazil      200.40\n",
      "RU     Moscow        Russia      143.50\n",
      "IN  New Delhi         India     1252.00\n",
      "CH    Beijing         China     1357.00\n",
      "SA   Pretoria  South Africa       52.98\n"
     ]
    }
   ],
   "source": [
    "#subsetting dataframe using pandas\n",
    "# COLUMN ACCESS: [] -> Series [[ ]] -> DataFrame\n",
    "print(type(brics['country']))\n",
    "print(type(brics[['country']]))\n",
    "print(brics[['country']])\n",
    "print(brics[['country','capital']])\n",
    "\n",
    "#ROW ACCESS of PANDAS DataFrame\n",
    "print(brics[0:3])\n",
    "\n",
    "#row and column filtering\n",
    "print(brics[0:][['country','population']])\n",
    "#brics[1,0] #ERROR\n",
    "print(brics.loc[['RU','IN','CH'],['country','capital']]) #location based\n",
    "print(brics.loc[:,['country','capital']])\n",
    "\n",
    "print(brics.iloc[:,[1,2,3]])"
   ]
  },
  {
   "cell_type": "code",
   "execution_count": null,
   "metadata": {
    "collapsed": true
   },
   "outputs": [],
   "source": []
  }
 ],
 "metadata": {
  "kernelspec": {
   "display_name": "Python 3",
   "language": "python",
   "name": "python3"
  },
  "language_info": {
   "codemirror_mode": {
    "name": "ipython",
    "version": 3
   },
   "file_extension": ".py",
   "mimetype": "text/x-python",
   "name": "python",
   "nbconvert_exporter": "python",
   "pygments_lexer": "ipython3",
   "version": "3.6.1"
  }
 },
 "nbformat": 4,
 "nbformat_minor": 2
}
