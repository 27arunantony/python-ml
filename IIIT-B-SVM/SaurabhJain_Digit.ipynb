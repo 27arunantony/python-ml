{
 "cells": [
  {
   "cell_type": "code",
   "execution_count": 1,
   "metadata": {
    "collapsed": true
   },
   "outputs": [],
   "source": [
    "%config IPComplete.greedy=True"
   ]
  },
  {
   "cell_type": "code",
   "execution_count": 2,
   "metadata": {
    "collapsed": true
   },
   "outputs": [],
   "source": [
    "# libraries\n",
    "import pandas as pd\n",
    "from sklearn.svm import SVC\n",
    "import numpy as np\n",
    "from sklearn.model_selection import KFold\n",
    "from sklearn.model_selection import GridSearchCV\n",
    "import matplotlib.pyplot as plt\n",
    "import seaborn as sns"
   ]
  },
  {
   "cell_type": "code",
   "execution_count": 3,
   "metadata": {},
   "outputs": [],
   "source": [
    "# we are going to just read 15% i.e. 6300 of dataset and \n",
    "#skip rest of the training data set as it increases the computational cost\n",
    "digit_train=pd.read_csv('digittrain.csv',skipfooter=33700,engine='python').as_matrix()\n",
    "digit_test=pd.read_csv('digittest.csv',engine='python').as_matrix()"
   ]
  },
  {
   "cell_type": "code",
   "execution_count": 4,
   "metadata": {},
   "outputs": [
    {
     "name": "stdout",
     "output_type": "stream",
     "text": [
      "(8300, 785)\n",
      "(28000, 784)\n"
     ]
    }
   ],
   "source": [
    "print(digit_train.shape)\n",
    "print(digit_test.shape)"
   ]
  },
  {
   "cell_type": "code",
   "execution_count": 5,
   "metadata": {},
   "outputs": [
    {
     "data": {
      "text/plain": [
       "numpy.ndarray"
      ]
     },
     "execution_count": 5,
     "metadata": {},
     "output_type": "execute_result"
    }
   ],
   "source": [
    "type(digit_train)"
   ]
  },
  {
   "cell_type": "code",
   "execution_count": 6,
   "metadata": {},
   "outputs": [
    {
     "name": "stdout",
     "output_type": "stream",
     "text": [
      "0.36862745098\n",
      "0.525490196078\n"
     ]
    }
   ],
   "source": [
    "X=digit_train[:,1:]\n",
    "y=digit_train[:,0]\n",
    "X = X.astype(np.float)\n",
    "X=X/255.0\n",
    "print(X[0, 134])\n",
    "digit_test=digit_test.astype(np.float)\n",
    "digit_test=digit_test/255.0\n",
    "print(digit_test[0, 245])"
   ]
  },
  {
   "cell_type": "code",
   "execution_count": 7,
   "metadata": {},
   "outputs": [
    {
     "data": {
      "text/plain": [
       "<matplotlib.text.Text at 0xbae30b8>"
      ]
     },
     "execution_count": 7,
     "metadata": {},
     "output_type": "execute_result"
    },
    {
     "data": {
      "image/png": "[encoded data removed]",
      "text/plain": [
       "<matplotlib.figure.Figure at 0x25c5e748>"
      ]
     },
     "metadata": {},
     "output_type": "display_data"
    }
   ],
   "source": [
    "%matplotlib inline\n",
    "plt.subplot(321)\n",
    "plt.imshow(X[0].reshape(28,28), cmap=plt.get_cmap('gray'))\n",
    "plt.title(y[0])\n",
    "plt.subplot(322)\n",
    "plt.imshow(X[1].reshape(28,28), cmap=plt.get_cmap('gray'))\n",
    "plt.title(y[1])\n",
    "plt.subplot(323)\n",
    "plt.imshow(X[2].reshape(28,28), cmap=plt.get_cmap('gray'))\n",
    "plt.title(y[2])\n",
    "plt.subplot(324)\n",
    "plt.imshow(X[3].reshape(28,28), cmap=plt.get_cmap('gray'))\n",
    "plt.title(y[3])\n",
    "plt.subplot(325)\n",
    "plt.imshow(X[4].reshape(28,28), cmap=plt.get_cmap('gray'))\n",
    "plt.title(y[4])"
   ]
  },
  {
   "cell_type": "code",
   "execution_count": 8,
   "metadata": {},
   "outputs": [],
   "source": [
    "#folds = KFold(n_splits = 3, shuffle = True, random_state = 101)\n",
    "#hyper_params = [ {'gamma': [1e-2, 1e-3, 1e-4],'C': [1, 10, 100]}]\n",
    "#model = SVC(kernel=\"rbf\")\n",
    "#model_cv = GridSearchCV(estimator = model,param_grid = hyper_params,scoring= 'accuracy',cv = folds,verbose = 1,return_train_score=True)      \n",
    "#model_cv.fit(X, y) "
   ]
  },
  {
   "cell_type": "code",
   "execution_count": 9,
   "metadata": {
    "scrolled": true
   },
   "outputs": [],
   "source": [
    "#cv_results = pd.DataFrame(model_cv.cv_results_)\n",
    "#cv_results"
   ]
  },
  {
   "cell_type": "code",
   "execution_count": 10,
   "metadata": {},
   "outputs": [],
   "source": [
    "## Using Gamma=0.01 and C=100 as GridSearchCV showed the best result with that.\n",
    "##  \tmean_fit_time \tmean_score_time \tmean_test_score \tmean_train_score \tparam_C \tparam_gamma \tparams \trank_test_score \tsplit0_test_score\n",
    "## 9.654000 \t6.811333 \t0.957952 \t0.999759 \t10 \t0.01 \t{'C': 10, 'gamma': 0.01} \t1 \t0.959884 \t\n",
    "model = SVC(kernel=\"rbf\",gamma=0.01,C=100)\n",
    "model.fit(X, y)\n",
    "y_pred=model.predict(digit_test)"
   ]
  },
  {
   "cell_type": "code",
   "execution_count": 11,
   "metadata": {},
   "outputs": [
    {
     "data": {
      "text/plain": [
       "<matplotlib.text.Text at 0xc07e5f8>"
      ]
     },
     "execution_count": 11,
     "metadata": {},
     "output_type": "execute_result"
    },
    {
     "data": {
      "image/png": "[encoded data removed]",
      "text/plain": [
       "<matplotlib.figure.Figure at 0x25c4ea58>"
      ]
     },
     "metadata": {},
     "output_type": "display_data"
    }
   ],
   "source": [
    "%matplotlib inline\n",
    "\n",
    "plt.subplot(421)\n",
    "plt.tight_layout(pad=0.4, w_pad=0.5, h_pad=1.0)\n",
    "plt.imshow(digit_test[0].reshape(28,28), cmap=plt.get_cmap('gray'))\n",
    "plt.title(y_pred[0])\n",
    "plt.subplot(422)\n",
    "plt.imshow(digit_test[1].reshape(28,28), cmap=plt.get_cmap('gray'))\n",
    "plt.title(y_pred[1])\n",
    "plt.subplot(423)\n",
    "plt.imshow(digit_test[2].reshape(28,28), cmap=plt.get_cmap('gray'))\n",
    "plt.title(y_pred[2])\n",
    "plt.subplot(424)\n",
    "plt.imshow(digit_test[3].reshape(28,28), cmap=plt.get_cmap('gray'))\n",
    "plt.title(y_pred[3])\n",
    "plt.subplot(425)\n",
    "plt.imshow(digit_test[4].reshape(28,28), cmap=plt.get_cmap('gray'))\n",
    "plt.title(y_pred[4])\n",
    "plt.subplot(426)\n",
    "plt.imshow(digit_test[5].reshape(28,28), cmap=plt.get_cmap('gray'))\n",
    "plt.title(y_pred[5])\n",
    "plt.subplot(427)\n",
    "plt.imshow(digit_test[6].reshape(28,28), cmap=plt.get_cmap('gray'))\n",
    "plt.title(y_pred[6])"
   ]
  },
  {
   "cell_type": "code",
   "execution_count": 21,
   "metadata": {},
   "outputs": [],
   "source": [
    "ids=[x for x in range(1,28001,1)]\n",
    "result=pd.DataFrame({'Label':y_pred},index=ids)\n",
    "result.index.name='ImageId'\n",
    "result.to_csv('kaggleoutput.csv')"
   ]
  }
 ],
 "metadata": {
  "kernelspec": {
   "display_name": "Python 3",
   "language": "python",
   "name": "python3"
  },
  "language_info": {
   "codemirror_mode": {
    "name": "ipython",
    "version": 3
   },
   "file_extension": ".py",
   "mimetype": "text/x-python",
   "name": "python",
   "nbconvert_exporter": "python",
   "pygments_lexer": "ipython3",
   "version": "3.6.1"
  }
 },
 "nbformat": 4,
 "nbformat_minor": 2
}
