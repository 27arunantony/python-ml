{
 "cells": [
  {
   "cell_type": "code",
   "execution_count": null,
   "metadata": {
    "collapsed": true
   },
   "outputs": [],
   "source": [
    "import numpy as np\n",
    "import pandas as pd\n",
    "\n",
    "\n",
    "from sklearn import datasets, linear_model\n",
    "from sklearn.metrics import mean_squared_error, r2_score\n",
    "\n",
    "# read training data\n",
    "mtcars_train = pd.read_csv(\"mtcars_train.csv\")\n",
    "print(mtcars_train.head())\n",
    "\n",
    "# read test data\n",
    "mtcars_test = pd.read_csv(\"mtcars_test.csv\")\n",
    "print(mtcars_test.head())\n",
    "\n",
    "## WRITE YOUR CODE HERE ##\n",
    "\n",
    "# create linear regression object regr\n",
    "regr = linear_model.LinearRegression()\n",
    "\n",
    "\n",
    "# create x_train and y_train by subsetting mtcars_train\n",
    "x_train =mtcars_train.iloc[:,1:11]\n",
    "#x_train=(x_train - x_train.mean())/x_train.std()\n",
    "y_train = mtcars_train.iloc[:,0]\n",
    "\n",
    "# Fit the models using lr_object.fit()\n",
    "regr.fit(x_train, y_train)\n",
    "# make predictions using lr_object.predict()\n",
    "#print(mtcars_test.iloc[:,0:10])\n",
    "predictions = regr.predict(mtcars_test.iloc[:,0:10])\n",
    "\n",
    "\n",
    "# write columns id, predictions into the output file \n",
    "# code already written\n",
    "output = pd.DataFrame({'id': mtcars_test['id'], 'mpg_predicted': predictions})\n",
    "print(output.head())\n",
    "\n",
    "# # write the output (code already written)\n",
    "output.to_csv('/code/output/mpg_predictions.csv', sep=\",\")"
   ]
  }
 ],
 "metadata": {
  "kernelspec": {
   "display_name": "Python 3",
   "language": "python",
   "name": "python3"
  },
  "language_info": {
   "codemirror_mode": {
    "name": "ipython",
    "version": 3
   },
   "file_extension": ".py",
   "mimetype": "text/x-python",
   "name": "python",
   "nbconvert_exporter": "python",
   "pygments_lexer": "ipython3",
   "version": "3.6.1"
  }
 },
 "nbformat": 4,
 "nbformat_minor": 2
}
